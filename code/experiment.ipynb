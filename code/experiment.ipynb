{
 "cells": [
  {
   "cell_type": "code",
   "execution_count": null,
   "metadata": {},
   "outputs": [],
   "source": [
    "from lightning_model import LightningClassicGNN\n",
    "\n",
    "LightningClassicGNN.load_from_checkpoint(\"../training_artifacts/test-project/1djimtqv/checkpoints/epoch=0-step=29.ckpt\")"
   ]
  },
  {
   "cell_type": "code",
   "execution_count": 55,
   "metadata": {},
   "outputs": [
    {
     "name": "stdout",
     "output_type": "stream",
     "text": [
      "tensor([0.1192, 0.1192, 0.8808])\n"
     ]
    },
    {
     "data": {
      "text/plain": [
       "1.0"
      ]
     },
     "execution_count": 55,
     "metadata": {},
     "output_type": "execute_result"
    }
   ],
   "source": [
    "from sklearn.metrics import roc_auc_score\n",
    "import numpy as np\n",
    "import torch.nn.functional as F\n",
    "import torch\n",
    "\n",
    "\n",
    "\n",
    "y_true=torch.tensor([0,0,1])\n",
    "y_score=torch.tensor([[3,1],[3,1],[1,3]]).float()\n",
    "\n",
    "y_prob = F.softmax(input=y_score,dim=1)[:,1]\n",
    "\n",
    "print(y_prob)\n",
    "\n",
    "\n",
    "roc_auc_score(y_true=y_true, y_score=y_prob)\n"
   ]
  },
  {
   "cell_type": "code",
   "execution_count": null,
   "metadata": {},
   "outputs": [],
   "source": [
    "from datasets_classes import QM9Dataset\n",
    "\n",
    "dataset = QM9Dataset(root=\"../data/qm9/\")"
   ]
  },
  {
   "cell_type": "code",
   "execution_count": 46,
   "metadata": {},
   "outputs": [
    {
     "data": {
      "text/plain": [
       "0"
      ]
     },
     "execution_count": 46,
     "metadata": {},
     "output_type": "execute_result"
    }
   ],
   "source": [
    "import pandas as pd\n",
    "\n",
    "df = pd.read_csv(\"../data/bace/raw/bace.csv\")\n",
    "\n",
    "df.Class.isna().sum()"
   ]
  },
  {
   "cell_type": "code",
   "execution_count": null,
   "metadata": {},
   "outputs": [],
   "source": [
    "\n",
    "import torch\n",
    "torch.load(\"../data/bace/processed/aux_data.pt\")"
   ]
  },
  {
   "cell_type": "code",
   "execution_count": null,
   "metadata": {},
   "outputs": [],
   "source": [
    "from utils import download_dataset\n",
    "\n",
    "download_dataset(raw_dir=\"../data/freesolv/raw\", filename='freesolv.csv.gz',raw_url='https://deepchemdata.s3.us-west-1.amazonaws.com/datasets/freesolv.csv.gz', target_columns=[\"y\"], data_column_name=\"smiles\")"
   ]
  },
  {
   "cell_type": "code",
   "execution_count": 7,
   "metadata": {},
   "outputs": [
    {
     "data": {
      "text/plain": [
       "(Data(x=[98, 22], edge_index=[2, 9506], edge_attr=[9506, 3], y=[1, 2], pos=[98, 3], z=[98], name='Fc1cc(cc(F)c1)C[C@H](NC(=O)[C@@H](N1CC[C@](NC(=O)C)(CC(C)C)C1=O)CCc1ccccc1)[C@H](O)[C@@H]1[NH2+]C[C@H](OCCC)C1', idx=[1]),\n",
       " tensor([[1.0000, 8.8539]], dtype=torch.float64),\n",
       " tensor([1]))"
      ]
     },
     "execution_count": 7,
     "metadata": {},
     "output_type": "execute_result"
    }
   ],
   "source": [
    "from datasets_classes import BaceDataset\n",
    "\n",
    "dataset = BaceDataset(root=\"../data/bace/\", add_hydrogen=True)\n",
    "\n",
    "\n",
    "dataset[1], dataset[1].y, dataset[1].idx"
   ]
  },
  {
   "cell_type": "code",
   "execution_count": null,
   "metadata": {},
   "outputs": [],
   "source": [
    "import torch\n",
    "\n",
    "(data, slices) = torch.load(\"../data/bbbp/processed/BBBP.pt\")"
   ]
  },
  {
   "cell_type": "code",
   "execution_count": null,
   "metadata": {},
   "outputs": [],
   "source": [
    "slices"
   ]
  },
  {
   "cell_type": "code",
   "execution_count": 4,
   "metadata": {},
   "outputs": [
    {
     "data": {
      "text/plain": [
       "Data(x=[20, 5], edge_index=[2, 380], edge_attr=[380, 5], y=[1, 1], pos=[41, 3], z=[20], name='[Cl].CC(C)NCC(O)COc1cccc2ccccc12', idx=[1])"
      ]
     },
     "execution_count": 4,
     "metadata": {},
     "output_type": "execute_result"
    }
   ],
   "source": [
    "from datasets_classes import BBBPDataset\n",
    "\n",
    "dataset = BBBPDataset(root=\"../old_data/bbbp/\")\n",
    "\n",
    "dataset[0]"
   ]
  },
  {
   "cell_type": "code",
   "execution_count": null,
   "metadata": {},
   "outputs": [],
   "source": [
    "from datasets_classes import FreeSolvDataset\n",
    "\n",
    "dataset = FreeSolvDataset(root=\"../data/freesolv/\")\n",
    "\n",
    "dataset[0]"
   ]
  },
  {
   "cell_type": "code",
   "execution_count": 8,
   "metadata": {},
   "outputs": [
    {
     "data": {
      "text/plain": [
       "Data(x=[1, 5], edge_index=[2, 0], edge_attr=[0, 5], y=[1, 12], pos=[4, 3], z=[1], name='N', idx=1)"
      ]
     },
     "execution_count": 8,
     "metadata": {},
     "output_type": "execute_result"
    }
   ],
   "source": [
    "from datasets_classes import QM9Dataset\n",
    "\n",
    "dataset = QM9Dataset(root=\"../old_data/qm9/\")\n",
    "\n",
    "dataset[1]"
   ]
  },
  {
   "cell_type": "code",
   "execution_count": 15,
   "metadata": {},
   "outputs": [
    {
     "name": "stdout",
     "output_type": "stream",
     "text": [
      "tensor([[  0.0000,  13.2100,  -0.3877,   0.1171,   0.5048,  35.3641,   0.0447,\n",
      "         -40.4789, -40.4761, -40.4751, -40.4986,   6.4690]],\n",
      "       dtype=torch.float64)\n",
      "Data(x=[1, 5], edge_index=[2, 0], edge_attr=[0, 5], y=[1, 12], pos=[5, 3], z=[1], name='C', idx=0)\n",
      "Data(x=[1, 5], edge_index=[2, 0], edge_attr=[0, 5], y=[1, 1], pos=[5, 3], z=[1], name='C', idx=0)\n",
      "tensor([[0.]])\n",
      "tensor([[ 9.2180e-01,  7.1030e+01, -2.4210e-01,  4.1700e-02,  2.8390e-01,\n",
      "          1.4473e+03,  1.4597e-01, -3.0968e+02, -3.0967e+02, -3.0967e+02,\n",
      "         -3.0972e+02,  2.9903e+01]], dtype=torch.float64)\n",
      "Data(x=[7, 5], edge_index=[2, 42], edge_attr=[42, 5], y=[1, 12], pos=[17, 3], z=[7], name='CCC#CCOC', idx=2677)\n",
      "Data(x=[7, 5], edge_index=[2, 42], edge_attr=[42, 5], y=[1, 1], pos=[17, 3], z=[7], name='CCC#CCOC', idx=2677)\n",
      "tensor([[0.]])\n"
     ]
    }
   ],
   "source": [
    "import os.path as osp\n",
    "import torch\n",
    "\n",
    "for data_split_idx in range(2):\n",
    "\n",
    "    data_list = torch.load(osp.join(\"../old_data/qm9/processed/\",f\"qm9_{data_split_idx}.pt\"))\n",
    "    for i,data in enumerate(data_list):\n",
    "        if i == 0:\n",
    "            print(data.y)\n",
    "            print(data)\n",
    "            data.y = torch.tensor([0.0]).view(-1,1)\n",
    "            print(data)            \n",
    "            print(data.y)\n",
    "        "
   ]
  }
 ],
 "metadata": {
  "kernelspec": {
   "display_name": "Python 3.9.13 ('chem')",
   "language": "python",
   "name": "python3"
  },
  "language_info": {
   "codemirror_mode": {
    "name": "ipython",
    "version": 3
   },
   "file_extension": ".py",
   "mimetype": "text/x-python",
   "name": "python",
   "nbconvert_exporter": "python",
   "pygments_lexer": "ipython3",
   "version": "3.9.13"
  },
  "orig_nbformat": 4,
  "vscode": {
   "interpreter": {
    "hash": "7714f10ba7f32b0912814c8c283dbc5dfa6a42586c1e0dc83a479c0f665feca8"
   }
  }
 },
 "nbformat": 4,
 "nbformat_minor": 2
}
