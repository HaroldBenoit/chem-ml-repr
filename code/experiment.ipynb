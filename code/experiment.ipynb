{
 "cells": [
  {
   "cell_type": "code",
   "execution_count": null,
   "metadata": {},
   "outputs": [],
   "source": [
    "from lightning_model import LightningClassicGNN\n",
    "\n",
    "LightningClassicGNN.load_from_checkpoint(\"../training_artifacts/test-project/1djimtqv/checkpoints/epoch=0-step=29.ckpt\")"
   ]
  },
  {
   "cell_type": "code",
   "execution_count": 55,
   "metadata": {},
   "outputs": [
    {
     "name": "stdout",
     "output_type": "stream",
     "text": [
      "tensor([0.1192, 0.1192, 0.8808])\n"
     ]
    },
    {
     "data": {
      "text/plain": [
       "1.0"
      ]
     },
     "execution_count": 55,
     "metadata": {},
     "output_type": "execute_result"
    }
   ],
   "source": [
    "from sklearn.metrics import roc_auc_score\n",
    "import numpy as np\n",
    "import torch.nn.functional as F\n",
    "import torch\n",
    "\n",
    "\n",
    "\n",
    "y_true=torch.tensor([0,0,1])\n",
    "y_score=torch.tensor([[3,1],[3,1],[1,3]]).float()\n",
    "\n",
    "y_prob = F.softmax(input=y_score,dim=1)[:,1]\n",
    "\n",
    "print(y_prob)\n",
    "\n",
    "\n",
    "roc_auc_score(y_true=y_true, y_score=y_prob)\n"
   ]
  },
  {
   "cell_type": "code",
   "execution_count": 2,
   "metadata": {},
   "outputs": [],
   "source": [
    "from datasets_classes import QM9Dataset\n",
    "\n",
    "dataset = QM9Dataset(root=\"../old_data/qm9/\")"
   ]
  },
  {
   "cell_type": "code",
   "execution_count": 27,
   "metadata": {},
   "outputs": [
    {
     "data": {
      "text/plain": [
       "QM9Dataset(3)"
      ]
     },
     "execution_count": 27,
     "metadata": {},
     "output_type": "execute_result"
    }
   ],
   "source": [
    "from sklearn.model_selection import StratifiedShuffleSplit\n",
    "import numpy as np\n",
    "import torch\n",
    "\n",
    "idx = [0,100,50]\n",
    "\n",
    "dataset[idx]"
   ]
  },
  {
   "cell_type": "code",
   "execution_count": 45,
   "metadata": {},
   "outputs": [],
   "source": [
    "y1 = [data.y.numpy() for data in dataset[:2]]\n",
    "y2 = [data.y.numpy() for data in dataset[2:4]]"
   ]
  },
  {
   "cell_type": "code",
   "execution_count": 44,
   "metadata": {},
   "outputs": [
    {
     "data": {
      "text/plain": [
       "[array([  0.      ,  13.21    ,  -0.3877  ,   0.1171  ,   0.5048  ,\n",
       "         35.3641  ,   0.044749, -40.47893 , -40.476062, -40.475117,\n",
       "        -40.498597,   6.469   ]),\n",
       " array([ 1.6256000e+00,  9.4600000e+00, -2.5700000e-01,  8.2900000e-02,\n",
       "         3.3990000e-01,  2.6156300e+01,  3.4358000e-02, -5.6525887e+01,\n",
       "        -5.6523026e+01, -5.6522082e+01, -5.6544961e+01,  6.3160000e+00])]"
      ]
     },
     "execution_count": 44,
     "metadata": {},
     "output_type": "execute_result"
    }
   ],
   "source": [
    "y1"
   ]
  },
  {
   "cell_type": "code",
   "execution_count": 41,
   "metadata": {},
   "outputs": [
    {
     "data": {
      "text/plain": [
       "[array([[  0.      ,  13.21    ,  -0.3877  ,   0.1171  ,   0.5048  ,\n",
       "          35.3641  ,   0.044749, -40.47893 , -40.476062, -40.475117,\n",
       "         -40.498597,   6.469   ]]),\n",
       " array([[ 1.6256000e+00,  9.4600000e+00, -2.5700000e-01,  8.2900000e-02,\n",
       "          3.3990000e-01,  2.6156300e+01,  3.4358000e-02, -5.6525887e+01,\n",
       "         -5.6523026e+01, -5.6522082e+01, -5.6544961e+01,  6.3160000e+00]]),\n",
       " array([[ 1.8511000e+00,  6.3100000e+00, -2.9280000e-01,  6.8700000e-02,\n",
       "          3.6150000e-01,  1.9000200e+01,  2.1375000e-02, -7.6404702e+01,\n",
       "         -7.6401867e+01, -7.6400922e+01, -7.6422349e+01,  6.0020000e+00]]),\n",
       " array([[ 0.0000000e+00,  1.6280000e+01, -2.8450000e-01,  5.0600000e-02,\n",
       "          3.3510000e-01,  5.9524800e+01,  2.6841000e-02, -7.7308427e+01,\n",
       "         -7.7305527e+01, -7.7304583e+01, -7.7327429e+01,  8.5740000e+00]])]"
      ]
     },
     "execution_count": 41,
     "metadata": {},
     "output_type": "execute_result"
    }
   ],
   "source": [
    "y = []\n",
    "\n",
    "y + y1 + y2"
   ]
  },
  {
   "cell_type": "code",
   "execution_count": 39,
   "metadata": {},
   "outputs": [
    {
     "data": {
      "text/plain": [
       "[array([[  0.      ,  13.21    ,  -0.3877  ,   0.1171  ,   0.5048  ,\n",
       "          35.3641  ,   0.044749, -40.47893 , -40.476062, -40.475117,\n",
       "         -40.498597,   6.469   ]]),\n",
       " array([[ 1.6256000e+00,  9.4600000e+00, -2.5700000e-01,  8.2900000e-02,\n",
       "          3.3990000e-01,  2.6156300e+01,  3.4358000e-02, -5.6525887e+01,\n",
       "         -5.6523026e+01, -5.6522082e+01, -5.6544961e+01,  6.3160000e+00]])]"
      ]
     },
     "execution_count": 39,
     "metadata": {},
     "output_type": "execute_result"
    }
   ],
   "source": [
    "y1"
   ]
  },
  {
   "cell_type": "code",
   "execution_count": 46,
   "metadata": {},
   "outputs": [
    {
     "data": {
      "text/plain": [
       "0"
      ]
     },
     "execution_count": 46,
     "metadata": {},
     "output_type": "execute_result"
    }
   ],
   "source": [
    "import pandas as pd\n",
    "\n",
    "df = pd.read_csv(\"../data/bace/raw/bace.csv\")\n",
    "\n",
    "df.Class.isna().sum()"
   ]
  },
  {
   "cell_type": "code",
   "execution_count": null,
   "metadata": {},
   "outputs": [],
   "source": [
    "\n",
    "import torch\n",
    "torch.load(\"../data/bace/processed/aux_data.pt\")"
   ]
  },
  {
   "cell_type": "code",
   "execution_count": null,
   "metadata": {},
   "outputs": [],
   "source": [
    "from utils import download_dataset\n",
    "\n",
    "download_dataset(raw_dir=\"../data/freesolv/raw\", filename='freesolv.csv.gz',raw_url='https://deepchemdata.s3.us-west-1.amazonaws.com/datasets/freesolv.csv.gz', target_columns=[\"y\"], data_column_name=\"smiles\")"
   ]
  },
  {
   "cell_type": "code",
   "execution_count": 1,
   "metadata": {},
   "outputs": [
    {
     "name": "stderr",
     "output_type": "stream",
     "text": [
      "Downloading https://deepchemdata.s3-us-west-1.amazonaws.com/datasets/bace.csv\n",
      "Processing...\n",
      "\n",
      "KeyboardInterrupt\n",
      "\n"
     ]
    }
   ],
   "source": [
    "from datasets_classes import BaceDataset\n",
    "\n",
    "dataset = BaceDataset(root=\"../old_data/bace/\", add_hydrogen=True)\n",
    "\n",
    "\n",
    "dataset[1], dataset[1].y, dataset[1].idx"
   ]
  },
  {
   "cell_type": "code",
   "execution_count": null,
   "metadata": {},
   "outputs": [],
   "source": [
    "import torch\n",
    "\n",
    "(data, slices) = torch.load(\"../data/bbbp/processed/BBBP.pt\")"
   ]
  },
  {
   "cell_type": "code",
   "execution_count": 5,
   "metadata": {},
   "outputs": [],
   "source": [
    "import pandas as pd\n",
    "\n",
    "df = pd.read_csv(\"../old_data/bbbp/raw/BBBP.csv\",index_col=0, encoding=\"utf-8\")\n",
    "original_data = df.index\n",
    "target = torch.tensor(df.values)"
   ]
  },
  {
   "cell_type": "code",
   "execution_count": 25,
   "metadata": {},
   "outputs": [
    {
     "data": {
      "text/html": [
       "<div>\n",
       "<style scoped>\n",
       "    .dataframe tbody tr th:only-of-type {\n",
       "        vertical-align: middle;\n",
       "    }\n",
       "\n",
       "    .dataframe tbody tr th {\n",
       "        vertical-align: top;\n",
       "    }\n",
       "\n",
       "    .dataframe thead th {\n",
       "        text-align: right;\n",
       "    }\n",
       "</style>\n",
       "<table border=\"1\" class=\"dataframe\">\n",
       "  <thead>\n",
       "    <tr style=\"text-align: right;\">\n",
       "      <th></th>\n",
       "      <th>p_np</th>\n",
       "    </tr>\n",
       "    <tr>\n",
       "      <th>smiles</th>\n",
       "      <th></th>\n",
       "    </tr>\n",
       "  </thead>\n",
       "  <tbody>\n",
       "    <tr>\n",
       "      <th>[Cl].CC(C)NCC(O)COc1cccc2ccccc12</th>\n",
       "      <td>1</td>\n",
       "    </tr>\n",
       "    <tr>\n",
       "      <th>C(=O)(OC(C)(C)C)CCCc1ccc(cc1)N(CCCl)CCCl</th>\n",
       "      <td>1</td>\n",
       "    </tr>\n",
       "    <tr>\n",
       "      <th>c12c3c(N4CCN(C)CC4)c(F)cc1c(c(C(O)=O)cn2C(C)CO3)=O</th>\n",
       "      <td>1</td>\n",
       "    </tr>\n",
       "    <tr>\n",
       "      <th>C1CCN(CC1)Cc1cccc(c1)OCCCNC(=O)C</th>\n",
       "      <td>1</td>\n",
       "    </tr>\n",
       "    <tr>\n",
       "      <th>Cc1onc(c2ccccc2Cl)c1C(=O)N[C@H]3[C@H]4SC(C)(C)[C@@H](N4C3=O)C(O)=O</th>\n",
       "      <td>1</td>\n",
       "    </tr>\n",
       "    <tr>\n",
       "      <th>...</th>\n",
       "      <td>...</td>\n",
       "    </tr>\n",
       "    <tr>\n",
       "      <th>C1=C(Cl)C(=C(C2=C1NC(=O)C(N2)=O)[N+](=O)[O-])Cl</th>\n",
       "      <td>1</td>\n",
       "    </tr>\n",
       "    <tr>\n",
       "      <th>[C@H]3([N]2C1=C(C(=NC=N1)N)N=C2)[C@@H]([C@@H]([C@H](O3)C[S+](CC[C@@H](C([O-])=O)N)C)O)O</th>\n",
       "      <td>1</td>\n",
       "    </tr>\n",
       "    <tr>\n",
       "      <th>[O+]1=N[N](C=C1[N-]C(NC2=CC=CC=C2)=O)C(CC3=CC=CC=C3)C</th>\n",
       "      <td>1</td>\n",
       "    </tr>\n",
       "    <tr>\n",
       "      <th>C1=C(OC)C(=CC2=C1C(=[N+](C(=C2CC)C)[NH-])C3=CC=C(C(=C3)OC)OC)OC</th>\n",
       "      <td>1</td>\n",
       "    </tr>\n",
       "    <tr>\n",
       "      <th>[N+](=NCC(=O)N[C@@H]([C@H](O)C1=CC=C([N+]([O-])=O)C=C1)CO)=[N-]</th>\n",
       "      <td>1</td>\n",
       "    </tr>\n",
       "  </tbody>\n",
       "</table>\n",
       "<p>2050 rows × 1 columns</p>\n",
       "</div>"
      ],
      "text/plain": [
       "                                                    p_np\n",
       "smiles                                                  \n",
       "[Cl].CC(C)NCC(O)COc1cccc2ccccc12                       1\n",
       "C(=O)(OC(C)(C)C)CCCc1ccc(cc1)N(CCCl)CCCl               1\n",
       "c12c3c(N4CCN(C)CC4)c(F)cc1c(c(C(O)=O)cn2C(C)CO3)=O     1\n",
       "C1CCN(CC1)Cc1cccc(c1)OCCCNC(=O)C                       1\n",
       "Cc1onc(c2ccccc2Cl)c1C(=O)N[C@H]3[C@H]4SC(C)(C)[...     1\n",
       "...                                                  ...\n",
       "C1=C(Cl)C(=C(C2=C1NC(=O)C(N2)=O)[N+](=O)[O-])Cl        1\n",
       "[C@H]3([N]2C1=C(C(=NC=N1)N)N=C2)[C@@H]([C@@H]([...     1\n",
       "[O+]1=N[N](C=C1[N-]C(NC2=CC=CC=C2)=O)C(CC3=CC=C...     1\n",
       "C1=C(OC)C(=CC2=C1C(=[N+](C(=C2CC)C)[NH-])C3=CC=...     1\n",
       "[N+](=NCC(=O)N[C@@H]([C@H](O)C1=CC=C([N+]([O-])...     1\n",
       "\n",
       "[2050 rows x 1 columns]"
      ]
     },
     "execution_count": 25,
     "metadata": {},
     "output_type": "execute_result"
    }
   ],
   "source": [
    "df"
   ]
  },
  {
   "cell_type": "code",
   "execution_count": 30,
   "metadata": {},
   "outputs": [],
   "source": [
    "from datasets_classes import FreeSolvDataset, BBBPDataset, BaceDataset\n",
    "import torch\n",
    "import os.path as osp\n",
    "\n",
    "dataset = FreeSolvDataset(root=\"../old_data/freesolv\")\n",
    "dataset = BBBPDataset(root=\"../data/bbbp/\")\n",
    "dataset = BaceDataset(root=\"../data/bace/\", add_hydrogen=True)"
   ]
  },
  {
   "cell_type": "code",
   "execution_count": 35,
   "metadata": {},
   "outputs": [
    {
     "data": {
      "text/plain": [
       "torch.Size([1513])"
      ]
     },
     "execution_count": 35,
     "metadata": {},
     "output_type": "execute_result"
    }
   ],
   "source": [
    "from pymatgen.core import Structure\n",
    "\n",
    "Structure.distance_matrix"
   ]
  },
  {
   "cell_type": "code",
   "execution_count": 10,
   "metadata": {},
   "outputs": [
    {
     "name": "stderr",
     "output_type": "stream",
     "text": [
      "Global seed set to 42\n",
      "/tmp/ipykernel_12487/1078495735.py:7: FutureWarning: The input object of type 'Tensor' is an array-like implementing one of the corresponding protocols (`__array__`, `__array_interface__` or `__array_struct__`); but not a sequence (or 0-D). In the future, this object will be coerced as if it was first converted using `np.array(obj)`. To retain the old behaviour, you have to either modify the type 'Tensor', or assign to an empty array created with `np.empty(correct_shape, dtype=object)`.\n",
      "  train_y = np.array([data.y for data in data_module.train_data])\n",
      "/tmp/ipykernel_12487/1078495735.py:7: VisibleDeprecationWarning: Creating an ndarray from ragged nested sequences (which is a list-or-tuple of lists-or-tuples-or ndarrays with different lengths or shapes) is deprecated. If you meant to do this, you must specify 'dtype=object' when creating the ndarray.\n",
      "  train_y = np.array([data.y for data in data_module.train_data])\n",
      "/tmp/ipykernel_12487/1078495735.py:8: FutureWarning: The input object of type 'Tensor' is an array-like implementing one of the corresponding protocols (`__array__`, `__array_interface__` or `__array_struct__`); but not a sequence (or 0-D). In the future, this object will be coerced as if it was first converted using `np.array(obj)`. To retain the old behaviour, you have to either modify the type 'Tensor', or assign to an empty array created with `np.empty(correct_shape, dtype=object)`.\n",
      "  valid_y = np.array([data.y for data in data_module.valid_data])\n",
      "/tmp/ipykernel_12487/1078495735.py:8: VisibleDeprecationWarning: Creating an ndarray from ragged nested sequences (which is a list-or-tuple of lists-or-tuples-or ndarrays with different lengths or shapes) is deprecated. If you meant to do this, you must specify 'dtype=object' when creating the ndarray.\n",
      "  valid_y = np.array([data.y for data in data_module.valid_data])\n"
     ]
    },
    {
     "data": {
      "text/plain": [
       "(tensor([[0.7651]]), tensor([[0.7635]]))"
      ]
     },
     "execution_count": 10,
     "metadata": {},
     "output_type": "execute_result"
    }
   ],
   "source": [
    "from ucr_lightning_data_module import UcrDataModule\n",
    "import numpy as np\n",
    "\n",
    "\n",
    "data_module = UcrDataModule(dataset=dataset, seed=42, stratified=True)\n",
    "\n",
    "train_y = np.array([data.y for data in data_module.train_data])\n",
    "valid_y = np.array([data.y for data in data_module.valid_data])\n",
    "\n",
    "train_y.sum() / train_y.shape[0], valid_y.sum() / valid_y.shape[0], train_y.sum() / train_y.shape[0], "
   ]
  },
  {
   "cell_type": "code",
   "execution_count": 2,
   "metadata": {},
   "outputs": [],
   "source": [
    "from sklearn.model_selection import StratifiedShuffleSplit\n",
    "import numpy as np\n",
    "y= dataset.y.numpy()\n",
    "\n",
    "x = np.arange(y.shape[0])\n",
    "\n",
    "sss = StratifiedShuffleSplit(n_splits=1, test_size=0.4, random_state=42)\n",
    "\n",
    "train_index , test_index = [i for i in sss.split(x,y)][0]\n",
    "\n"
   ]
  },
  {
   "cell_type": "code",
   "execution_count": 22,
   "metadata": {},
   "outputs": [
    {
     "data": {
      "text/plain": [
       "(array([1764, 1612,   53, ..., 1288,  943, 1085]),\n",
       " array([ 600, 1787, 1490, 1964, 1831,  874,  110,   97, 1211, 1131, 1226,\n",
       "        1822,  202,  101, 1527,  139,  162, 1844,  963,  111, 1216, 1466,\n",
       "         472,  318, 1316, 1939,  532,  916,  245, 1213,  503,  251,  586,\n",
       "         155,  190,  295, 1177, 1941, 2036,  217,  870,  612,  977, 1305,\n",
       "         589, 1899, 1928, 1867,  203,  939, 1126, 1994,  981,  750,   41,\n",
       "         727, 1052, 1683,  623, 1390, 1841,   15, 1192,  598, 1602, 1670,\n",
       "         264, 1858,  408, 1329, 1866,  840, 2017, 1207, 1425,  189, 1380,\n",
       "        1863, 1625, 1745, 1830, 1103,  390,  558, 1967,  260,  392,  802,\n",
       "        1897,   94,  263,  667,  685, 1301, 1105,  854, 1160, 2034, 1646,\n",
       "        1692, 1396,  122,  456,  421,  180, 1575, 1597, 1624, 1397,  996,\n",
       "           0,  776, 1886,  289, 1666, 1528,  516, 1437, 1398, 1711, 1699,\n",
       "        1619, 1278, 1331, 1684,  659, 1651, 1706, 1893,  787, 1671,  932,\n",
       "         924, 1981, 1613, 1705, 1572,  784,  832, 1095,  651,  909,  130,\n",
       "         593,  703, 1794, 1015, 1193,  171, 1020,  688, 1634,  271,  219,\n",
       "        1057, 1789, 1083,  328,   24,  994,  492, 1948, 1664, 1240, 1541,\n",
       "         386,  565,  546, 1724,    7,  956,  496,  807, 1702,  509, 1811,\n",
       "         306, 1203,  112, 1514, 1204,   84,  691,  429,  275, 1299,   51,\n",
       "        1141, 1601,  591,  458, 1785, 1510,  853,  152, 1245,  362,  865,\n",
       "        1952,  113, 1387, 1803,  135, 1307, 1696,  341,  481,  800,  129,\n",
       "         534,  869, 1878,  699, 1363,  133, 1237, 1965,  441, 1770,  715,\n",
       "         736,  322, 1079, 1413, 1829, 1725, 1487, 1233, 1304,  200, 1635,\n",
       "         805,  757,  535,  786,  633, 1383, 2010, 1321, 1735,  749, 1389,\n",
       "         781, 1073, 1775, 1896,   43,  770, 1074, 1056, 1318,  760, 2020,\n",
       "         907,  373, 1934, 1176,  186,  352,  695,  830, 1450, 1145, 1500,\n",
       "        1840,   39,   13,   63, 1653, 1680, 1754, 1218,  204, 1277,  587,\n",
       "          68,  548, 1647, 1369, 2016,  763, 1359,  624, 1132,  952,  896,\n",
       "         756, 1577, 1196,  114, 1351, 1704,  488, 1024, 1169,  461,  721,\n",
       "        1969, 1676,   12,  336, 1880, 1136,   37, 1751,  213,  772,  815,\n",
       "         585,  267,  647, 1449,  445, 1322, 1254,  265,  147,  419, 1190,\n",
       "         102, 1544, 1361, 1478, 1323,  210,  709,  517, 1032,  427,  538,\n",
       "         634, 1475, 1429,   58, 1102, 1249,   11,   69, 1503,  765,  625,\n",
       "         975,  923, 1029,  742,  982, 1968,  609, 1026, 1961,  682, 1804,\n",
       "         631,  561, 1377,  153, 1195,  596, 2024,  821,  452,  730,  887,\n",
       "        1755, 1284, 1801, 1958, 1860,  433, 1174, 1197, 1124, 1247,   27,\n",
       "        1170,  178,  288,  239,  594,  698,   45, 1320, 1275, 1436, 1697,\n",
       "        1410,  309, 1807, 1665, 1783,  474,  842, 1293, 1326,  305,  411,\n",
       "        1567,  485, 1914, 1491, 1161, 1558, 1937, 1729,  499, 1350, 1607,\n",
       "         626, 1146, 1717, 1919,  238, 1576,  710, 1957, 1985, 1094, 1471,\n",
       "        1354, 1306,  157,  904, 1239,  873, 1936, 1907,  298,  616,  156,\n",
       "        1548,  894, 1167, 1756, 1228, 1000,   55,  816, 1290,  918, 2029,\n",
       "         556,  334,  601, 1921,  420, 1517, 1448,  915,  567,  422,  614,\n",
       "         829, 1935, 1210,    4, 1302, 1407,  752, 1553, 1263, 1741, 1638,\n",
       "         844, 1364, 1518, 1347,  177,  106, 1929,  801,  949,  529,   52,\n",
       "        1154,   74, 1282, 1468, 1927,  357,  712,  938, 1494, 1667,  794,\n",
       "        1793,  378,  707, 1966, 1922, 1691,  321, 1280, 1214, 1960, 1276,\n",
       "        1715, 1112, 1663, 1037,  577, 1739,   30,  880,  792,   47, 1963,\n",
       "          76, 1571, 1366,  704,  892, 1330, 1645,  693,   91, 1144,  250,\n",
       "         862,  123,  109, 1462,  285,  745, 1123, 1545,  299,   88, 1456,\n",
       "         415,  991,  713, 1713,   38, 1707,  490, 1694, 1138,  740, 1519,\n",
       "        1435, 1053, 1355,  430, 1698, 1628,  460,  317, 1082,  551, 1753,\n",
       "        1345, 1232,  367, 1374,  724, 1580, 1848,  486,  783,  396, 1205,\n",
       "        1847, 1733,  387, 1718,   86, 1813, 1740,  995, 1525,   31, 1262,\n",
       "        1446, 1839, 1682, 1869,  796, 1168,  928, 1977,  917,  469,  897,\n",
       "        1143,  143,  483,  640,  463, 1904,  766, 1113, 1652,  277, 1163,\n",
       "         188,  867,  343, 1887,  940, 1217, 1827, 1779, 1255,    9, 1325,\n",
       "         315, 1608,  716,  134, 1833,  564, 1871,  536, 1230, 1732, 1747,\n",
       "         181, 2000, 1757,  487,  733, 1688, 1391,   79,  141, 1432, 1636,\n",
       "        1505,  214, 1004, 1018,  692, 1484, 1722, 1150, 1873,  182, 1587,\n",
       "         980, 1842, 2012,  813,  935, 1270, 1378,  701, 1499, 1657,  785,\n",
       "         159, 1312,  846,  845,  173,  900,  359,  989, 1574,  635,  966,\n",
       "        1047,  380,  895,  515,  657, 1556, 1623, 1511,  539, 1498,  954,\n",
       "        1401, 1134, 1701, 1772,  946,  375,  648, 1155, 1101, 1010,   83,\n",
       "        1990, 1426, 2028, 1742,  407, 1202, 1091, 1021,  970, 1906, 1337,\n",
       "         423,  885,  440,  242,  370, 1709, 1560,  579,  388,  324, 1826,\n",
       "         136,  107,  103,  379,  146,  714, 1719, 1521,  233,  266,  629,\n",
       "         543,  720, 1343, 1744, 1289, 1012,  413,  137,  196, 1273,  610,\n",
       "         641, 1703,  575, 1314, 1782,  384, 1412, 1913,  366,  451, 1283,\n",
       "        1327, 1693,  642,  218, 1376, 1828, 1911,  823,  194,   89,  559,\n",
       "        1791, 1002,  174, 1993,  820, 1621, 1520, 1187,  510, 1746,  437,\n",
       "         272, 1749, 1485, 1229,  674, 1242,   22, 1987, 1507,  371,    5,\n",
       "         806,  199,  179,  350,  176, 1884, 1781, 1542,  276,  418, 1373,\n",
       "         717, 1140, 1309, 1731, 1117,  978,  726, 1272, 1028,  216, 1241,\n",
       "        1509,  669, 2021,  256,  739, 1403, 1604,    3, 1946, 1659,   61,\n",
       "        1076,  912,  244,  671,  338, 1686, 1066, 1761, 1152,  983, 1424,\n",
       "          67]))"
      ]
     },
     "execution_count": 22,
     "metadata": {},
     "output_type": "execute_result"
    }
   ],
   "source": [
    "list(sss.split(x,y))[0]"
   ]
  },
  {
   "cell_type": "code",
   "execution_count": 9,
   "metadata": {},
   "outputs": [
    {
     "data": {
      "text/plain": [
       "array([   0,    1,    2, ..., 2034, 2035, 2036])"
      ]
     },
     "execution_count": 9,
     "metadata": {},
     "output_type": "execute_result"
    }
   ],
   "source": []
  },
  {
   "cell_type": "code",
   "execution_count": 7,
   "metadata": {},
   "outputs": [
    {
     "data": {
      "text/plain": [
       "tensor([False, False, False,  ..., False, False, False])"
      ]
     },
     "execution_count": 7,
     "metadata": {},
     "output_type": "execute_result"
    }
   ],
   "source": [
    "dataset.y == torch.tensor(df.values)"
   ]
  },
  {
   "cell_type": "code",
   "execution_count": null,
   "metadata": {},
   "outputs": [],
   "source": [
    "from datasets_classes import FreeSolvDataset\n",
    "\n",
    "dataset = FreeSolvDataset(root=\"../data/freesolv/\")\n",
    "\n",
    "dataset[0]"
   ]
  },
  {
   "cell_type": "code",
   "execution_count": 8,
   "metadata": {},
   "outputs": [
    {
     "data": {
      "text/plain": [
       "Data(x=[1, 5], edge_index=[2, 0], edge_attr=[0, 5], y=[1, 12], pos=[4, 3], z=[1], name='N', idx=1)"
      ]
     },
     "execution_count": 8,
     "metadata": {},
     "output_type": "execute_result"
    }
   ],
   "source": [
    "from datasets_classes import QM9Dataset\n",
    "\n",
    "dataset = QM9Dataset(root=\"../old_data/qm9/\")\n",
    "\n",
    "dataset[1]"
   ]
  },
  {
   "cell_type": "code",
   "execution_count": null,
   "metadata": {},
   "outputs": [
    {
     "name": "stdout",
     "output_type": "stream",
     "text": [
      "tensor([[  0.0000,  13.2100,  -0.3877,   0.1171,   0.5048,  35.3641,   0.0447,\n",
      "         -40.4789, -40.4761, -40.4751, -40.4986,   6.4690]],\n",
      "       dtype=torch.float64)\n",
      "Data(x=[1, 5], edge_index=[2, 0], edge_attr=[0, 5], y=[1, 12], pos=[5, 3], z=[1], name='C', idx=0)\n",
      "Data(x=[1, 5], edge_index=[2, 0], edge_attr=[0, 5], y=[1, 1], pos=[5, 3], z=[1], name='C', idx=0)\n",
      "tensor([[0.]])\n",
      "tensor([[ 9.2180e-01,  7.1030e+01, -2.4210e-01,  4.1700e-02,  2.8390e-01,\n",
      "          1.4473e+03,  1.4597e-01, -3.0968e+02, -3.0967e+02, -3.0967e+02,\n",
      "         -3.0972e+02,  2.9903e+01]], dtype=torch.float64)\n",
      "Data(x=[7, 5], edge_index=[2, 42], edge_attr=[42, 5], y=[1, 12], pos=[17, 3], z=[7], name='CCC#CCOC', idx=2677)\n",
      "Data(x=[7, 5], edge_index=[2, 42], edge_attr=[42, 5], y=[1, 1], pos=[17, 3], z=[7], name='CCC#CCOC', idx=2677)\n",
      "tensor([[0.]])\n"
     ]
    }
   ],
   "source": [
    "import os.path as osp\n",
    "import torch\n",
    "\n",
    "for data_split_idx in range(2):\n",
    "\n",
    "    data_list = torch.load(osp.join(\"../data/matbench/mp_is_metal\",f\"mp_is_metal.json_{data_split_idx}.pt\"))\n",
    "    for i,data in enumerate(data_list):\n",
    "        if i == 0:\n",
    "            print(data.y)\n",
    "            print(data)\n",
    "            data.y = torch.tensor([0.0]).view(-1,1)\n",
    "            print(data)            \n",
    "            print(data.y)\n",
    "        "
   ]
  }
 ],
 "metadata": {
  "kernelspec": {
   "display_name": "Python 3.9.13 ('chem')",
   "language": "python",
   "name": "python3"
  },
  "language_info": {
   "codemirror_mode": {
    "name": "ipython",
    "version": 3
   },
   "file_extension": ".py",
   "mimetype": "text/x-python",
   "name": "python",
   "nbconvert_exporter": "python",
   "pygments_lexer": "ipython3",
   "version": "3.9.13"
  },
  "orig_nbformat": 4,
  "vscode": {
   "interpreter": {
    "hash": "7714f10ba7f32b0912814c8c283dbc5dfa6a42586c1e0dc83a479c0f665feca8"
   }
  }
 },
 "nbformat": 4,
 "nbformat_minor": 2
}
