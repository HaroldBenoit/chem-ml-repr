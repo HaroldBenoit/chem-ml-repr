{
 "cells": [
  {
   "cell_type": "code",
   "execution_count": 1,
   "metadata": {},
   "outputs": [],
   "source": [
    "from torch_geometric.data import Data\n",
    "\n",
    "import torch\n",
    "\n"
   ]
  },
  {
   "cell_type": "code",
   "execution_count": 10,
   "metadata": {},
   "outputs": [],
   "source": [
    "l = [Data(x=[i]) for i in range(5)]\n",
    "p=\"./list.pt\"\n",
    "torch.save(l,p)\n",
    "\n",
    "p2 = \"./dict.pt\"\n",
    "d = {\"data_len\":10, 0:\"raw_0.pt\"}\n",
    "torch.save(d, p2)"
   ]
  },
  {
   "cell_type": "code",
   "execution_count": 9,
   "metadata": {},
   "outputs": [
    {
     "data": {
      "text/plain": [
       "Data(x=[1])"
      ]
     },
     "execution_count": 9,
     "metadata": {},
     "output_type": "execute_result"
    }
   ],
   "source": [
    "torch.load(p)[0]"
   ]
  },
  {
   "cell_type": "code",
   "execution_count": 1,
   "metadata": {},
   "outputs": [],
   "source": [
    "from datasets_classes import QM9Dataset\n",
    "\n",
    "data = QM9Dataset(root=\"../data/qm9/\")"
   ]
  },
  {
   "cell_type": "code",
   "execution_count": 6,
   "metadata": {},
   "outputs": [
    {
     "name": "stdout",
     "output_type": "stream",
     "text": [
      "b00\n"
     ]
    }
   ],
   "source": [
    "class Example():\n",
    "    \n",
    "    target=\"b00\"\n",
    "    \n",
    "    def __init__(self) -> None:\n",
    "        pass\n",
    "    \n",
    "    def print():\n",
    "        print(Example.target)\n",
    "        \n",
    "        \n",
    "Example.print()"
   ]
  },
  {
   "cell_type": "code",
   "execution_count": 16,
   "metadata": {},
   "outputs": [
    {
     "data": {
      "text/plain": [
       "Data(x=[9, 5], edge_index=[2, 72], edge_attr=[72, 5], y=[1, 12], pos=[20, 3], z=[9], name='COCCC#CC1CN1', idx=121542)"
      ]
     },
     "execution_count": 16,
     "metadata": {},
     "output_type": "execute_result"
    }
   ],
   "source": [
    "data.get(110000)"
   ]
  },
  {
   "cell_type": "code",
   "execution_count": 11,
   "metadata": {},
   "outputs": [],
   "source": [
    "aux_data = torch.load(osp.join(\"../data/qm9/processed/\", \"aux_data.pt\"))\n",
    "\n",
    "torch.save(aux_data, osp.join(\"../data/qm9/processed/\", \"aux_data_1.pt\"))"
   ]
  },
  {
   "cell_type": "code",
   "execution_count": 12,
   "metadata": {},
   "outputs": [],
   "source": [
    "\n",
    "import torch\n",
    "import os.path as osp\n",
    "\n",
    "aux_data = torch.load(osp.join(\"../data/qm9/processed/\", \"aux_data.pt\"))\n",
    "\n",
    "step = aux_data[\"step\"]\n",
    "split_factor=50\n",
    "\n",
    "for i in range(split_factor):\n",
    "    curr_end = aux_data[i][\"end\"]\n",
    "    if i == 0:\n",
    "        aux_data[0] = {\"begin\": 0, \"end\": curr_end}\n",
    "    elif i > 0 and i < split_factor -1:\n",
    "        last_end = aux_data[i-1][\"end\"]\n",
    "        aux_data[i] = {\"begin\": last_end, \"end\": last_end + curr_end}\n",
    "    elif i == split_factor-1:\n",
    "        last_end = aux_data[i-1][\"end\"]\n",
    "        # possibly bigger chunk for last dataset\n",
    "        aux_data[i] = {\"begin\": last_end, \"end\": last_end + curr_end}\n",
    "        \n",
    "torch.save(aux_data, osp.join(\"../data/qm9/processed/\", \"aux_data.pt\"))"
   ]
  }
 ],
 "metadata": {
  "kernelspec": {
   "display_name": "Python 3.9.13 ('chem')",
   "language": "python",
   "name": "python3"
  },
  "language_info": {
   "codemirror_mode": {
    "name": "ipython",
    "version": 3
   },
   "file_extension": ".py",
   "mimetype": "text/x-python",
   "name": "python",
   "nbconvert_exporter": "python",
   "pygments_lexer": "ipython3",
   "version": "3.9.13"
  },
  "orig_nbformat": 4,
  "vscode": {
   "interpreter": {
    "hash": "7714f10ba7f32b0912814c8c283dbc5dfa6a42586c1e0dc83a479c0f665feca8"
   }
  }
 },
 "nbformat": 4,
 "nbformat_minor": 2
}
