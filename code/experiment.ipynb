{
 "cells": [
  {
   "cell_type": "code",
   "execution_count": null,
   "metadata": {},
   "outputs": [],
   "source": [
    "from lightning_model import LightningClassicGNN\n",
    "\n",
    "LightningClassicGNN.load_from_checkpoint(\"../training_artifacts/test-project/1djimtqv/checkpoints/epoch=0-step=29.ckpt\")"
   ]
  },
  {
   "cell_type": "code",
   "execution_count": 55,
   "metadata": {},
   "outputs": [
    {
     "name": "stdout",
     "output_type": "stream",
     "text": [
      "tensor([0.1192, 0.1192, 0.8808])\n"
     ]
    },
    {
     "data": {
      "text/plain": [
       "1.0"
      ]
     },
     "execution_count": 55,
     "metadata": {},
     "output_type": "execute_result"
    }
   ],
   "source": [
    "from sklearn.metrics import roc_auc_score\n",
    "import numpy as np\n",
    "import torch.nn.functional as F\n",
    "import torch\n",
    "\n",
    "\n",
    "\n",
    "y_true=torch.tensor([0,0,1])\n",
    "y_score=torch.tensor([[3,1],[3,1],[1,3]]).float()\n",
    "\n",
    "y_prob = F.softmax(input=y_score,dim=1)[:,1]\n",
    "\n",
    "print(y_prob)\n",
    "\n",
    "\n",
    "roc_auc_score(y_true=y_true, y_score=y_prob)\n"
   ]
  },
  {
   "cell_type": "code",
   "execution_count": 2,
   "metadata": {},
   "outputs": [],
   "source": [
    "from datasets_classes import QM9Dataset\n",
    "\n",
    "dataset = QM9Dataset(root=\"../old_data/qm9/\")"
   ]
  },
  {
   "cell_type": "code",
   "execution_count": 27,
   "metadata": {},
   "outputs": [
    {
     "data": {
      "text/plain": [
       "QM9Dataset(3)"
      ]
     },
     "execution_count": 27,
     "metadata": {},
     "output_type": "execute_result"
    }
   ],
   "source": [
    "from sklearn.model_selection import StratifiedShuffleSplit\n",
    "import numpy as np\n",
    "import torch\n",
    "\n",
    "idx = [0,100,50]\n",
    "\n",
    "dataset[idx]"
   ]
  },
  {
   "cell_type": "code",
   "execution_count": 45,
   "metadata": {},
   "outputs": [],
   "source": [
    "y1 = [data.y.numpy() for data in dataset[:2]]\n",
    "y2 = [data.y.numpy() for data in dataset[2:4]]"
   ]
  },
  {
   "cell_type": "code",
   "execution_count": 44,
   "metadata": {},
   "outputs": [
    {
     "data": {
      "text/plain": [
       "[array([  0.      ,  13.21    ,  -0.3877  ,   0.1171  ,   0.5048  ,\n",
       "         35.3641  ,   0.044749, -40.47893 , -40.476062, -40.475117,\n",
       "        -40.498597,   6.469   ]),\n",
       " array([ 1.6256000e+00,  9.4600000e+00, -2.5700000e-01,  8.2900000e-02,\n",
       "         3.3990000e-01,  2.6156300e+01,  3.4358000e-02, -5.6525887e+01,\n",
       "        -5.6523026e+01, -5.6522082e+01, -5.6544961e+01,  6.3160000e+00])]"
      ]
     },
     "execution_count": 44,
     "metadata": {},
     "output_type": "execute_result"
    }
   ],
   "source": [
    "y1"
   ]
  },
  {
   "cell_type": "code",
   "execution_count": 41,
   "metadata": {},
   "outputs": [
    {
     "data": {
      "text/plain": [
       "[array([[  0.      ,  13.21    ,  -0.3877  ,   0.1171  ,   0.5048  ,\n",
       "          35.3641  ,   0.044749, -40.47893 , -40.476062, -40.475117,\n",
       "         -40.498597,   6.469   ]]),\n",
       " array([[ 1.6256000e+00,  9.4600000e+00, -2.5700000e-01,  8.2900000e-02,\n",
       "          3.3990000e-01,  2.6156300e+01,  3.4358000e-02, -5.6525887e+01,\n",
       "         -5.6523026e+01, -5.6522082e+01, -5.6544961e+01,  6.3160000e+00]]),\n",
       " array([[ 1.8511000e+00,  6.3100000e+00, -2.9280000e-01,  6.8700000e-02,\n",
       "          3.6150000e-01,  1.9000200e+01,  2.1375000e-02, -7.6404702e+01,\n",
       "         -7.6401867e+01, -7.6400922e+01, -7.6422349e+01,  6.0020000e+00]]),\n",
       " array([[ 0.0000000e+00,  1.6280000e+01, -2.8450000e-01,  5.0600000e-02,\n",
       "          3.3510000e-01,  5.9524800e+01,  2.6841000e-02, -7.7308427e+01,\n",
       "         -7.7305527e+01, -7.7304583e+01, -7.7327429e+01,  8.5740000e+00]])]"
      ]
     },
     "execution_count": 41,
     "metadata": {},
     "output_type": "execute_result"
    }
   ],
   "source": [
    "y = []\n",
    "\n",
    "y + y1 + y2"
   ]
  },
  {
   "cell_type": "code",
   "execution_count": 39,
   "metadata": {},
   "outputs": [
    {
     "data": {
      "text/plain": [
       "[array([[  0.      ,  13.21    ,  -0.3877  ,   0.1171  ,   0.5048  ,\n",
       "          35.3641  ,   0.044749, -40.47893 , -40.476062, -40.475117,\n",
       "         -40.498597,   6.469   ]]),\n",
       " array([[ 1.6256000e+00,  9.4600000e+00, -2.5700000e-01,  8.2900000e-02,\n",
       "          3.3990000e-01,  2.6156300e+01,  3.4358000e-02, -5.6525887e+01,\n",
       "         -5.6523026e+01, -5.6522082e+01, -5.6544961e+01,  6.3160000e+00]])]"
      ]
     },
     "execution_count": 39,
     "metadata": {},
     "output_type": "execute_result"
    }
   ],
   "source": [
    "y1"
   ]
  },
  {
   "cell_type": "code",
   "execution_count": 46,
   "metadata": {},
   "outputs": [
    {
     "data": {
      "text/plain": [
       "0"
      ]
     },
     "execution_count": 46,
     "metadata": {},
     "output_type": "execute_result"
    }
   ],
   "source": [
    "import pandas as pd\n",
    "\n",
    "df = pd.read_csv(\"../data/bace/raw/bace.csv\")\n",
    "\n",
    "df.Class.isna().sum()"
   ]
  },
  {
   "cell_type": "code",
   "execution_count": null,
   "metadata": {},
   "outputs": [],
   "source": [
    "\n",
    "import torch\n",
    "torch.load(\"../data/bace/processed/aux_data.pt\")"
   ]
  },
  {
   "cell_type": "code",
   "execution_count": null,
   "metadata": {},
   "outputs": [],
   "source": [
    "from utils import download_dataset\n",
    "\n",
    "download_dataset(raw_dir=\"../data/freesolv/raw\", filename='freesolv.csv.gz',raw_url='https://deepchemdata.s3.us-west-1.amazonaws.com/datasets/freesolv.csv.gz', target_columns=[\"y\"], data_column_name=\"smiles\")"
   ]
  },
  {
   "cell_type": "code",
   "execution_count": 1,
   "metadata": {},
   "outputs": [
    {
     "name": "stderr",
     "output_type": "stream",
     "text": [
      "Downloading https://deepchemdata.s3-us-west-1.amazonaws.com/datasets/bace.csv\n",
      "Processing...\n",
      "\n",
      "KeyboardInterrupt\n",
      "\n"
     ]
    }
   ],
   "source": [
    "from datasets_classes import BaceDataset\n",
    "\n",
    "dataset = BaceDataset(root=\"../old_data/bace/\", add_hydrogen=True)\n",
    "\n",
    "\n",
    "dataset[1], dataset[1].y, dataset[1].idx"
   ]
  },
  {
   "cell_type": "code",
   "execution_count": null,
   "metadata": {},
   "outputs": [],
   "source": [
    "import torch\n",
    "\n",
    "(data, slices) = torch.load(\"../data/bbbp/processed/BBBP.pt\")"
   ]
  },
  {
   "cell_type": "code",
   "execution_count": 5,
   "metadata": {},
   "outputs": [],
   "source": [
    "import pandas as pd\n",
    "\n",
    "df = pd.read_csv(\"../old_data/bbbp/raw/BBBP.csv\",index_col=0, encoding=\"utf-8\")\n",
    "original_data = df.index\n",
    "target = torch.tensor(df.values)"
   ]
  },
  {
   "cell_type": "code",
   "execution_count": 25,
   "metadata": {},
   "outputs": [
    {
     "data": {
      "text/html": [
       "<div>\n",
       "<style scoped>\n",
       "    .dataframe tbody tr th:only-of-type {\n",
       "        vertical-align: middle;\n",
       "    }\n",
       "\n",
       "    .dataframe tbody tr th {\n",
       "        vertical-align: top;\n",
       "    }\n",
       "\n",
       "    .dataframe thead th {\n",
       "        text-align: right;\n",
       "    }\n",
       "</style>\n",
       "<table border=\"1\" class=\"dataframe\">\n",
       "  <thead>\n",
       "    <tr style=\"text-align: right;\">\n",
       "      <th></th>\n",
       "      <th>p_np</th>\n",
       "    </tr>\n",
       "    <tr>\n",
       "      <th>smiles</th>\n",
       "      <th></th>\n",
       "    </tr>\n",
       "  </thead>\n",
       "  <tbody>\n",
       "    <tr>\n",
       "      <th>[Cl].CC(C)NCC(O)COc1cccc2ccccc12</th>\n",
       "      <td>1</td>\n",
       "    </tr>\n",
       "    <tr>\n",
       "      <th>C(=O)(OC(C)(C)C)CCCc1ccc(cc1)N(CCCl)CCCl</th>\n",
       "      <td>1</td>\n",
       "    </tr>\n",
       "    <tr>\n",
       "      <th>c12c3c(N4CCN(C)CC4)c(F)cc1c(c(C(O)=O)cn2C(C)CO3)=O</th>\n",
       "      <td>1</td>\n",
       "    </tr>\n",
       "    <tr>\n",
       "      <th>C1CCN(CC1)Cc1cccc(c1)OCCCNC(=O)C</th>\n",
       "      <td>1</td>\n",
       "    </tr>\n",
       "    <tr>\n",
       "      <th>Cc1onc(c2ccccc2Cl)c1C(=O)N[C@H]3[C@H]4SC(C)(C)[C@@H](N4C3=O)C(O)=O</th>\n",
       "      <td>1</td>\n",
       "    </tr>\n",
       "    <tr>\n",
       "      <th>...</th>\n",
       "      <td>...</td>\n",
       "    </tr>\n",
       "    <tr>\n",
       "      <th>C1=C(Cl)C(=C(C2=C1NC(=O)C(N2)=O)[N+](=O)[O-])Cl</th>\n",
       "      <td>1</td>\n",
       "    </tr>\n",
       "    <tr>\n",
       "      <th>[C@H]3([N]2C1=C(C(=NC=N1)N)N=C2)[C@@H]([C@@H]([C@H](O3)C[S+](CC[C@@H](C([O-])=O)N)C)O)O</th>\n",
       "      <td>1</td>\n",
       "    </tr>\n",
       "    <tr>\n",
       "      <th>[O+]1=N[N](C=C1[N-]C(NC2=CC=CC=C2)=O)C(CC3=CC=CC=C3)C</th>\n",
       "      <td>1</td>\n",
       "    </tr>\n",
       "    <tr>\n",
       "      <th>C1=C(OC)C(=CC2=C1C(=[N+](C(=C2CC)C)[NH-])C3=CC=C(C(=C3)OC)OC)OC</th>\n",
       "      <td>1</td>\n",
       "    </tr>\n",
       "    <tr>\n",
       "      <th>[N+](=NCC(=O)N[C@@H]([C@H](O)C1=CC=C([N+]([O-])=O)C=C1)CO)=[N-]</th>\n",
       "      <td>1</td>\n",
       "    </tr>\n",
       "  </tbody>\n",
       "</table>\n",
       "<p>2050 rows × 1 columns</p>\n",
       "</div>"
      ],
      "text/plain": [
       "                                                    p_np\n",
       "smiles                                                  \n",
       "[Cl].CC(C)NCC(O)COc1cccc2ccccc12                       1\n",
       "C(=O)(OC(C)(C)C)CCCc1ccc(cc1)N(CCCl)CCCl               1\n",
       "c12c3c(N4CCN(C)CC4)c(F)cc1c(c(C(O)=O)cn2C(C)CO3)=O     1\n",
       "C1CCN(CC1)Cc1cccc(c1)OCCCNC(=O)C                       1\n",
       "Cc1onc(c2ccccc2Cl)c1C(=O)N[C@H]3[C@H]4SC(C)(C)[...     1\n",
       "...                                                  ...\n",
       "C1=C(Cl)C(=C(C2=C1NC(=O)C(N2)=O)[N+](=O)[O-])Cl        1\n",
       "[C@H]3([N]2C1=C(C(=NC=N1)N)N=C2)[C@@H]([C@@H]([...     1\n",
       "[O+]1=N[N](C=C1[N-]C(NC2=CC=CC=C2)=O)C(CC3=CC=C...     1\n",
       "C1=C(OC)C(=CC2=C1C(=[N+](C(=C2CC)C)[NH-])C3=CC=...     1\n",
       "[N+](=NCC(=O)N[C@@H]([C@H](O)C1=CC=C([N+]([O-])...     1\n",
       "\n",
       "[2050 rows x 1 columns]"
      ]
     },
     "execution_count": 25,
     "metadata": {},
     "output_type": "execute_result"
    }
   ],
   "source": [
    "df"
   ]
  },
  {
   "cell_type": "code",
   "execution_count": 1,
   "metadata": {},
   "outputs": [],
   "source": [
    "from datasets_classes import FreeSolvDataset, BBBPDataset\n",
    "import torch\n",
    "import os.path as osp\n",
    "\n",
    "dataset = FreeSolvDataset(root=\"../old_data/freesolv\")\n",
    "dataset = BBBPDataset(root=\"../data/bbbp/\")"
   ]
  },
  {
   "cell_type": "code",
   "execution_count": 7,
   "metadata": {},
   "outputs": [
    {
     "data": {
      "text/plain": [
       "tensor([False, False, False,  ..., False, False, False])"
      ]
     },
     "execution_count": 7,
     "metadata": {},
     "output_type": "execute_result"
    }
   ],
   "source": [
    "dataset.y == torch.tensor(df.values)"
   ]
  },
  {
   "cell_type": "code",
   "execution_count": null,
   "metadata": {},
   "outputs": [],
   "source": [
    "from datasets_classes import FreeSolvDataset\n",
    "\n",
    "dataset = FreeSolvDataset(root=\"../data/freesolv/\")\n",
    "\n",
    "dataset[0]"
   ]
  },
  {
   "cell_type": "code",
   "execution_count": 8,
   "metadata": {},
   "outputs": [
    {
     "data": {
      "text/plain": [
       "Data(x=[1, 5], edge_index=[2, 0], edge_attr=[0, 5], y=[1, 12], pos=[4, 3], z=[1], name='N', idx=1)"
      ]
     },
     "execution_count": 8,
     "metadata": {},
     "output_type": "execute_result"
    }
   ],
   "source": [
    "from datasets_classes import QM9Dataset\n",
    "\n",
    "dataset = QM9Dataset(root=\"../old_data/qm9/\")\n",
    "\n",
    "dataset[1]"
   ]
  },
  {
   "cell_type": "code",
   "execution_count": null,
   "metadata": {},
   "outputs": [
    {
     "name": "stdout",
     "output_type": "stream",
     "text": [
      "tensor([[  0.0000,  13.2100,  -0.3877,   0.1171,   0.5048,  35.3641,   0.0447,\n",
      "         -40.4789, -40.4761, -40.4751, -40.4986,   6.4690]],\n",
      "       dtype=torch.float64)\n",
      "Data(x=[1, 5], edge_index=[2, 0], edge_attr=[0, 5], y=[1, 12], pos=[5, 3], z=[1], name='C', idx=0)\n",
      "Data(x=[1, 5], edge_index=[2, 0], edge_attr=[0, 5], y=[1, 1], pos=[5, 3], z=[1], name='C', idx=0)\n",
      "tensor([[0.]])\n",
      "tensor([[ 9.2180e-01,  7.1030e+01, -2.4210e-01,  4.1700e-02,  2.8390e-01,\n",
      "          1.4473e+03,  1.4597e-01, -3.0968e+02, -3.0967e+02, -3.0967e+02,\n",
      "         -3.0972e+02,  2.9903e+01]], dtype=torch.float64)\n",
      "Data(x=[7, 5], edge_index=[2, 42], edge_attr=[42, 5], y=[1, 12], pos=[17, 3], z=[7], name='CCC#CCOC', idx=2677)\n",
      "Data(x=[7, 5], edge_index=[2, 42], edge_attr=[42, 5], y=[1, 1], pos=[17, 3], z=[7], name='CCC#CCOC', idx=2677)\n",
      "tensor([[0.]])\n"
     ]
    }
   ],
   "source": [
    "import os.path as osp\n",
    "import torch\n",
    "\n",
    "for data_split_idx in range(2):\n",
    "\n",
    "    data_list = torch.load(osp.join(\"../data/matbench/mp_is_metal\",f\"mp_is_metal.json_{data_split_idx}.pt\"))\n",
    "    for i,data in enumerate(data_list):\n",
    "        if i == 0:\n",
    "            print(data.y)\n",
    "            print(data)\n",
    "            data.y = torch.tensor([0.0]).view(-1,1)\n",
    "            print(data)            \n",
    "            print(data.y)\n",
    "        "
   ]
  }
 ],
 "metadata": {
  "kernelspec": {
   "display_name": "Python 3.9.13 ('chem')",
   "language": "python",
   "name": "python3"
  },
  "language_info": {
   "codemirror_mode": {
    "name": "ipython",
    "version": 3
   },
   "file_extension": ".py",
   "mimetype": "text/x-python",
   "name": "python",
   "nbconvert_exporter": "python",
   "pygments_lexer": "ipython3",
   "version": "3.9.13"
  },
  "orig_nbformat": 4,
  "vscode": {
   "interpreter": {
    "hash": "7714f10ba7f32b0912814c8c283dbc5dfa6a42586c1e0dc83a479c0f665feca8"
   }
  }
 },
 "nbformat": 4,
 "nbformat_minor": 2
}
