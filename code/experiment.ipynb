{
 "cells": [
  {
   "cell_type": "code",
   "execution_count": null,
   "metadata": {},
   "outputs": [],
   "source": [
    "from lightning_model import LightningClassicGNN\n",
    "\n",
    "LightningClassicGNN.load_from_checkpoint(\"../training_artifacts/test-project/1djimtqv/checkpoints/epoch=0-step=29.ckpt\")"
   ]
  },
  {
   "cell_type": "code",
   "execution_count": 55,
   "metadata": {},
   "outputs": [
    {
     "name": "stdout",
     "output_type": "stream",
     "text": [
      "tensor([0.1192, 0.1192, 0.8808])\n"
     ]
    },
    {
     "data": {
      "text/plain": [
       "1.0"
      ]
     },
     "execution_count": 55,
     "metadata": {},
     "output_type": "execute_result"
    }
   ],
   "source": [
    "from sklearn.metrics import roc_auc_score\n",
    "import numpy as np\n",
    "import torch.nn.functional as F\n",
    "import torch\n",
    "\n",
    "\n",
    "\n",
    "y_true=torch.tensor([0,0,1])\n",
    "y_score=torch.tensor([[3,1],[3,1],[1,3]]).float()\n",
    "\n",
    "y_prob = F.softmax(input=y_score,dim=1)[:,1]\n",
    "\n",
    "print(y_prob)\n",
    "\n",
    "\n",
    "roc_auc_score(y_true=y_true, y_score=y_prob)\n"
   ]
  },
  {
   "cell_type": "code",
   "execution_count": null,
   "metadata": {},
   "outputs": [],
   "source": [
    "from datasets_classes import QM9Dataset\n",
    "\n",
    "dataset = QM9Dataset(root=\"../data/qm9/\")"
   ]
  },
  {
   "cell_type": "code",
   "execution_count": 46,
   "metadata": {},
   "outputs": [
    {
     "data": {
      "text/plain": [
       "0"
      ]
     },
     "execution_count": 46,
     "metadata": {},
     "output_type": "execute_result"
    }
   ],
   "source": [
    "import pandas as pd\n",
    "\n",
    "df = pd.read_csv(\"../data/bace/raw/bace.csv\")\n",
    "\n",
    "df.Class.isna().sum()"
   ]
  },
  {
   "cell_type": "code",
   "execution_count": null,
   "metadata": {},
   "outputs": [],
   "source": [
    "\n",
    "import torch\n",
    "torch.load(\"../data/bace/processed/aux_data.pt\")"
   ]
  },
  {
   "cell_type": "code",
   "execution_count": null,
   "metadata": {},
   "outputs": [],
   "source": [
    "from utils import download_dataset\n",
    "\n",
    "download_dataset(raw_dir=\"../data/freesolv/raw\", filename='freesolv.csv.gz',raw_url='https://deepchemdata.s3.us-west-1.amazonaws.com/datasets/freesolv.csv.gz', target_columns=[\"y\"], smiles_column_name=\"smiles\")"
   ]
  },
  {
   "cell_type": "code",
   "execution_count": null,
   "metadata": {},
   "outputs": [],
   "source": [
    "from datasets_classes import BaceDataset\n",
    "\n",
    "dataset = BaceDataset(root=\"../data/bace/\")\n"
   ]
  },
  {
   "cell_type": "code",
   "execution_count": null,
   "metadata": {},
   "outputs": [],
   "source": [
    "import torch\n",
    "\n",
    "(data, slices) = torch.load(\"../data/bbbp/processed/BBBP.pt\")"
   ]
  },
  {
   "cell_type": "code",
   "execution_count": null,
   "metadata": {},
   "outputs": [],
   "source": [
    "slices"
   ]
  },
  {
   "cell_type": "code",
   "execution_count": null,
   "metadata": {},
   "outputs": [],
   "source": [
    "from datasets_classes import BBBPDataset\n",
    "\n",
    "dataset = BBBPDataset(root=\"../data/bbbp/\")\n",
    "\n",
    "dataset[0]"
   ]
  },
  {
   "cell_type": "code",
   "execution_count": null,
   "metadata": {},
   "outputs": [],
   "source": [
    "from datasets_classes import FreeSolvDataset\n",
    "\n",
    "dataset = FreeSolvDataset(root=\"../data/freesolv/\")\n",
    "\n",
    "dataset[0]"
   ]
  },
  {
   "cell_type": "code",
   "execution_count": null,
   "metadata": {},
   "outputs": [],
   "source": [
    "from datasets_classes import QM9Dataset\n",
    "\n",
    "dataset = QM9Dataset(root=\"../data/qm9/\")\n",
    "\n",
    "dataset[1]"
   ]
  }
 ],
 "metadata": {
  "kernelspec": {
   "display_name": "Python 3.9.13 ('chem')",
   "language": "python",
   "name": "python3"
  },
  "language_info": {
   "codemirror_mode": {
    "name": "ipython",
    "version": 3
   },
   "file_extension": ".py",
   "mimetype": "text/x-python",
   "name": "python",
   "nbconvert_exporter": "python",
   "pygments_lexer": "ipython3",
   "version": "3.9.13"
  },
  "orig_nbformat": 4,
  "vscode": {
   "interpreter": {
    "hash": "7714f10ba7f32b0912814c8c283dbc5dfa6a42586c1e0dc83a479c0f665feca8"
   }
  }
 },
 "nbformat": 4,
 "nbformat_minor": 2
}
