{
 "cells": [
  {
   "cell_type": "code",
   "execution_count": 1,
   "metadata": {},
   "outputs": [
    {
     "name": "stdout",
     "output_type": "stream",
     "text": [
      "Name: C0 Coords:[ 1.42818766 -0.14813806  0.08477478]\n",
      "Name: C1 Coords:[-0.03701396 -0.03146544  0.41758567]\n",
      "Name: C2 Coords:[-0.78503034 -1.08658259 -0.35578434]\n",
      "Name: C3 Coords:[-0.61566472  1.30330658  0.07065338]\n",
      "Name: H4 Coords:[2.07037515 0.49551914 0.71512974]\n",
      "Name: H5 Coords:[ 1.71660132 -1.20892847  0.29642142]\n",
      "Name: H6 Coords:[ 1.6178553   0.02771058 -1.00275004]\n",
      "Name: H7 Coords:[-0.12895147 -0.17315105  1.5196666 ]\n",
      "Name: H8 Coords:[-1.27395018 -1.75945163  0.39039957]\n",
      "Name: H9 Coords:[-1.57245633 -0.67905774 -1.0048914 ]\n",
      "Name: H10 Coords:[-0.11544116 -1.70273711 -0.9906863 ]\n",
      "Name: H11 Coords:[-1.41616048  1.60261002  0.79153569]\n",
      "Name: H12 Coords:[-1.0294526   1.24483837 -0.96890214]\n",
      "Name: H13 Coords:[0.14110181 2.11552741 0.03684737]\n",
      "Name: C0 Coords:[0. 0. 0.]\n",
      "Name: C1 Coords:[-1.46520162  0.11667262  0.33281089]\n",
      "Name: C2 Coords:[-2.213218   -0.93844453 -0.44055912]\n",
      "Name: C3 Coords:[-2.04385239  1.45144464 -0.0141214 ]\n",
      "Name: H4 Coords:[0.64218748 0.6436572  0.63035495]\n",
      "Name: H5 Coords:[ 0.28841366 -1.06079041  0.21164664]\n",
      "Name: H6 Coords:[ 0.18966764  0.17584864 -1.08752482]\n",
      "Name: H7 Coords:[-1.55713913 -0.02501299  1.43489182]\n",
      "Name: H8 Coords:[-2.70213784 -1.61131357  0.30562479]\n",
      "Name: H9 Coords:[-3.00064399 -0.53091968 -1.08966618]\n",
      "Name: H10 Coords:[-1.54362882 -1.55459905 -1.07546108]\n",
      "Name: H11 Coords:[-2.84434815  1.75074808  0.70676091]\n",
      "Name: H12 Coords:[-2.45764026  1.39297643 -1.05367693]\n",
      "Name: H13 Coords:[-1.28708586  2.26366547 -0.04792741]\n"
     ]
    }
   ],
   "source": [
    "from rdkit import Chem\n",
    "from rdkit.Chem import AllChem\n",
    "from rdkit.Chem import rdDistGeom\n",
    "from typing import List, Tuple\n",
    "import numpy as np\n",
    "import rdkit\n",
    "import pandas as pd\n",
    "\n",
    "\n",
    "def get_3d_coords_from_smiles(smiles:str, add_hydrogen:bool=True, seed=0xf00d):\n",
    "\n",
    "    m = Chem.MolFromSmiles(smiles)\n",
    "    # necessary to add hydrogen for consistent conformer generation\n",
    "    m = Chem.AddHs(m)\n",
    "\n",
    "    ## 3D conformer generation\n",
    "    ps = rdDistGeom.ETKDGv3()\n",
    "    ps.randomSeed = seed\n",
    "    #ps.coordMap = coordMap = {0:[0,0,0]}\n",
    "    AllChem.EmbedMolecule(m,ps)\n",
    "\n",
    "\n",
    "    conf = m.GetConformer()\n",
    "\n",
    "    ## if we dont want hydrogen, we need to rebuild a molecule without explicit hydrogens\n",
    "    if not(add_hydrogen):\n",
    "        m = Chem.MolFromSmiles(smiles)\n",
    "    \n",
    "    sub = m.GetSubstructMatch(m)\n",
    "\n",
    "    ## intiliazing properties dictionary with the 3d coordinates of each atom\n",
    "    properties = {i:{\"atom_name\":m.GetAtoms()[s].GetSymbol(), \"coordinates\":np.array(conf.GetAtomPosition(s)), \"bond_adjacency_list\":[]} for i,s in enumerate(sub)}\n",
    "\n",
    "    ## creating adjacency list for bonds \n",
    "    for bond in m.GetBonds():\n",
    "        properties[bond.GetBeginAtomIdx()][\"bond_adjacency_list\"].append((bond.GetEndAtomIdx(), str(bond.GetBondType())))\n",
    "\n",
    "    return properties\n",
    "\n",
    "\n",
    "#\n",
    "def translate_properties(properties):\n",
    "    \"\"\"Translate all 3d coordinates such that the first atom has coordinates (0,0,0)\n",
    "\n",
    "    Args:\n",
    "        properties (_type_): _description_\n",
    "\n",
    "    Returns:\n",
    "        _type_: _description_\n",
    "    \"\"\"\n",
    "    from copy import deepcopy\n",
    "\n",
    "    first_atom_coordinates = properties[0][\"coordinates\"]\n",
    "    normalized_properties = deepcopy(properties)\n",
    "\n",
    "    for k in properties:\n",
    "        normalized_properties[k][\"coordinates\"] = normalized_properties[k][\"coordinates\"] - first_atom_coordinates\n",
    "\n",
    "    return normalized_properties\n",
    "\n",
    "\n",
    "\n",
    "def print_coordinates(properties):\n",
    "    \"\"\"Print 3D coordinates of each atom of a molecule\n",
    "    \"\"\"\n",
    "\n",
    "    for k in properties:\n",
    "        print(f\"Name: {properties[k]['atom_name']}{k} Coords:{properties[k]['coordinates']}\")\n",
    "\n",
    "\n",
    "smiles = 'CC(C)C'\n",
    "\n",
    "properties = get_3d_coords_from_smiles(smiles=smiles, seed=3, add_hydrogen=True)\n",
    "\n",
    "print_coordinates(properties=properties)\n",
    "\n",
    "normalized_properties = translate_properties(properties=properties)\n",
    "\n",
    "print_coordinates(normalized_properties)\n"
   ]
  },
  {
   "cell_type": "code",
   "execution_count": 6,
   "metadata": {},
   "outputs": [
    {
     "name": "stdout",
     "output_type": "stream",
     "text": [
      "0\n"
     ]
    }
   ],
   "source": [
    "from rdkit import Chem\n",
    "from rdkit.Chem import AllChem\n",
    "from rdkit.Chem import rdDistGeom\n",
    "from typing import List, Tuple\n",
    "import numpy as np\n",
    "import rdkit\n",
    "import pandas as pd\n",
    "from pymatgen.core import Structure, Lattice, Molecule, Element\n",
    "\n",
    "\n",
    "from utils import from_structure_to_molecule\n",
    "from pymatgen.io.babel import BabelMolAdaptor\n",
    "\n",
    "from pymatgen.core.lattice import Lattice\n",
    "\n",
    "\n",
    "%load_ext autoreload\n",
    "%autoreload 2\n",
    "\n",
    "\n",
    "smiles = 'CC(C)C'\n",
    "\n",
    "m = Chem.MolFromSmiles(smiles, sanitize = False)\n",
    "# necessary to add hydrogen for consistent conformer generation\n",
    "\n",
    "problems = Chem.DetectChemistryProblems(m)\n",
    "print(len(problems))\n",
    "\n",
    "\n",
    "\n",
    "struct = Structure(\n",
    "    Lattice.cubic(4.2),\n",
    "    [\"Na\", \"K\", \"K\"],\n",
    "    [[0, 0, 0], [0.5, 0.5, 0.5], [0,0,0.5]],\n",
    "    site_properties={\"magmom\": [-2, 2,2]},\n",
    ")\n",
    "\n",
    "\n",
    "\n"
   ]
  },
  {
   "cell_type": "code",
   "execution_count": 11,
   "metadata": {},
   "outputs": [],
   "source": [
    "import json\n",
    "import gzip\n",
    "from pymatgen.core.structure import Structure, Molecule\n",
    "\n",
    "from utils import download_url\n",
    "\n",
    "#raw_url= \"https://ml.materialsproject.org/projects/matbench_mp_is_metal.json.gz\"\n",
    "#raw_dir= \"../data/matbench/mp_is_metal\"\n",
    "#download_url(raw_url, raw_dir)\n",
    "\n",
    "\n",
    "json_filename = \"../old_data/matbench/mp_is_metal/raw/matbench_mp_is_metal.json.gz\"\n",
    "\n",
    "\n",
    "with gzip.open(json_filename, 'r') as fin:        # 4. gzip\n",
    "    json_bytes = fin.read()                      # 3. bytes (i.e. UTF-8)\n",
    "\n",
    "json_str = json_bytes.decode('utf-8')            # 2. string (i.e. JSON)\n",
    "data = json.loads(json_str) \n"
   ]
  },
  {
   "cell_type": "code",
   "execution_count": 25,
   "metadata": {},
   "outputs": [
    {
     "name": "stderr",
     "output_type": "stream",
     "text": [
      "==============================\n",
      "*** Open Babel Warning  in PerceiveBondOrders\n",
      "  Failed to kekulize aromatic bonds in OBMol::PerceiveBondOrders\n",
      "\n",
      "==============================\n",
      "*** Open Babel Warning  in PerceiveBondOrders\n",
      "  Failed to kekulize aromatic bonds in OBMol::PerceiveBondOrders\n",
      "\n",
      "==============================\n",
      "*** Open Babel Warning  in PerceiveBondOrders\n",
      "  Failed to kekulize aromatic bonds in OBMol::PerceiveBondOrders\n",
      "\n",
      "==============================\n",
      "*** Open Babel Error  in TetStereoToWedgeHash\n",
      "  Failed to set stereochemistry as unable to find an available bond\n"
     ]
    },
    {
     "name": "stdout",
     "output_type": "stream",
     "text": [
      "index 85, problems (<rdkit.Chem.rdchem._cppAtomValenceException object at 0x7f78cb501120>, <rdkit.Chem.rdchem._cppAtomValenceException object at 0x7f78cb501430>, <rdkit.Chem.rdchem._cppAtomValenceException object at 0x7f78cb501040>, <rdkit.Chem.rdchem._cppAtomValenceException object at 0x7f78cb5014a0>)\n",
      "index 88, problems (<rdkit.Chem.rdchem._cppAtomValenceException object at 0x7f78cb5014a0>, <rdkit.Chem.rdchem._cppAtomValenceException object at 0x7f78cb5012e0>, <rdkit.Chem.rdchem._cppAtomValenceException object at 0x7f78cb5010b0>, <rdkit.Chem.rdchem._cppAtomValenceException object at 0x7f78cb501740>)\n",
      "index 136, problems (<rdkit.Chem.rdchem._cppAtomValenceException object at 0x7f78cb501430>, <rdkit.Chem.rdchem._cppAtomValenceException object at 0x7f78cb501040>, <rdkit.Chem.rdchem._cppAtomValenceException object at 0x7f78cb5016d0>, <rdkit.Chem.rdchem._cppAtomValenceException object at 0x7f78cb501350>, <rdkit.Chem.rdchem._cppAtomValenceException object at 0x7f78cb5013c0>, <rdkit.Chem.rdchem._cppAtomValenceException object at 0x7f78cb501510>, <rdkit.Chem.rdchem._cppAtomValenceException object at 0x7f78cb501820>, <rdkit.Chem.rdchem._cppAtomValenceException object at 0x7f78cb5017b0>)\n",
      "index 139, problems (<rdkit.Chem.rdchem._cppAtomValenceException object at 0x7f78cb501430>, <rdkit.Chem.rdchem._cppAtomValenceException object at 0x7f78cb501040>)\n",
      "index 142, problems (<rdkit.Chem.rdchem._cppAtomValenceException object at 0x7f78cb5016d0>, <rdkit.Chem.rdchem._cppAtomValenceException object at 0x7f78cb501350>, <rdkit.Chem.rdchem._cppAtomValenceException object at 0x7f78cb5013c0>, <rdkit.Chem.rdchem._cppAtomValenceException object at 0x7f78cb501510>)\n",
      "index 144, problems (<rdkit.Chem.rdchem._cppAtomValenceException object at 0x7f78cb5016d0>, <rdkit.Chem.rdchem._cppAtomValenceException object at 0x7f78cb501350>)\n"
     ]
    },
    {
     "name": "stderr",
     "output_type": "stream",
     "text": [
      "==============================\n",
      "*** Open Babel Error  in TetStereoToWedgeHash\n",
      "  Failed to set stereochemistry as unable to find an available bond\n",
      "==============================\n",
      "*** Open Babel Error  in TetStereoToWedgeHash\n",
      "  Failed to set stereochemistry as unable to find an available bond\n"
     ]
    },
    {
     "name": "stdout",
     "output_type": "stream",
     "text": [
      "index 158, problems (<rdkit.Chem.rdchem._cppAtomValenceException object at 0x7f78cb5e0b30>,)\n",
      "index 171, problems (<rdkit.Chem.rdchem._cppAtomValenceException object at 0x7f78cb5013c0>, <rdkit.Chem.rdchem._cppAtomValenceException object at 0x7f78cb501510>, <rdkit.Chem.rdchem._cppAtomValenceException object at 0x7f78cb501430>, <rdkit.Chem.rdchem._cppAtomValenceException object at 0x7f78cb501040>)\n",
      "index 184, problems (<rdkit.Chem.rdchem._cppAtomValenceException object at 0x7f78cb5013c0>, <rdkit.Chem.rdchem._cppAtomValenceException object at 0x7f78cb501510>)\n",
      "index 201, problems (<rdkit.Chem.rdchem._cppAtomValenceException object at 0x7f78cb5013c0>, <rdkit.Chem.rdchem._cppAtomValenceException object at 0x7f78cb501510>)\n",
      "index 202, problems (<rdkit.Chem.rdchem._cppAtomValenceException object at 0x7f78cb5013c0>, <rdkit.Chem.rdchem._cppAtomValenceException object at 0x7f78cb501510>)\n",
      "index 203, problems (<rdkit.Chem.rdchem._cppAtomValenceException object at 0x7f78cb5013c0>, <rdkit.Chem.rdchem._cppAtomValenceException object at 0x7f78cb501510>, <rdkit.Chem.rdchem._cppAtomValenceException object at 0x7f78cb501350>, <rdkit.Chem.rdchem._cppAtomValenceException object at 0x7f78cb501820>, <rdkit.Chem.rdchem._cppAtomValenceException object at 0x7f78cb5017b0>)\n",
      "index 204, problems (<rdkit.Chem.rdchem._cppAtomValenceException object at 0x7f78cb5013c0>, <rdkit.Chem.rdchem._cppAtomValenceException object at 0x7f78cb501510>, <rdkit.Chem.rdchem._cppAtomValenceException object at 0x7f78cb501350>, <rdkit.Chem.rdchem._cppAtomValenceException object at 0x7f78cb501820>, <rdkit.Chem.rdchem._cppAtomValenceException object at 0x7f78cb5017b0>, <rdkit.Chem.rdchem._cppAtomValenceException object at 0x7f78cb501a50>, <rdkit.Chem.rdchem._cppAtomValenceException object at 0x7f78cb501ac0>, <rdkit.Chem.rdchem._cppAtomValenceException object at 0x7f78cb5019e0>, <rdkit.Chem.rdchem._cppAtomValenceException object at 0x7f78cb501b30>, <rdkit.Chem.rdchem._cppAtomValenceException object at 0x7f78cb501ba0>, <rdkit.Chem.rdchem._cppAtomValenceException object at 0x7f78cb501cf0>, <rdkit.Chem.rdchem._cppAtomValenceException object at 0x7f78cb501c10>)\n",
      "index 217, problems (<rdkit.Chem.rdchem._cppAtomValenceException object at 0x7f78cb501350>, <rdkit.Chem.rdchem._cppAtomValenceException object at 0x7f78cb501820>, <rdkit.Chem.rdchem._cppAtomValenceException object at 0x7f78cb5017b0>, <rdkit.Chem.rdchem._cppAtomValenceException object at 0x7f78cb501a50>)\n"
     ]
    },
    {
     "name": "stderr",
     "output_type": "stream",
     "text": [
      "==============================\n",
      "*** Open Babel Error  in TetStereoToWedgeHash\n",
      "  Failed to set stereochemistry as unable to find an available bond\n",
      "==============================\n",
      "*** Open Babel Error  in TetStereoToWedgeHash\n",
      "  Failed to set stereochemistry as unable to find an available bond\n",
      "==============================\n",
      "*** Open Babel Error  in TetStereoToWedgeHash\n",
      "  Failed to set stereochemistry as unable to find an available bond\n",
      "==============================\n",
      "*** Open Babel Error  in TetStereoToWedgeHash\n",
      "  Failed to set stereochemistry as unable to find an available bond\n",
      "==============================\n",
      "*** Open Babel Error  in TetStereoToWedgeHash\n",
      "  Failed to set stereochemistry as unable to find an available bond\n",
      "==============================\n",
      "*** Open Babel Error  in TetStereoToWedgeHash\n",
      "  Failed to set stereochemistry as unable to find an available bond\n",
      "==============================\n",
      "*** Open Babel Error  in TetStereoToWedgeHash\n",
      "  Failed to set stereochemistry as unable to find an available bond\n",
      "==============================\n",
      "*** Open Babel Warning  in PerceiveBondOrders\n",
      "  Failed to kekulize aromatic bonds in OBMol::PerceiveBondOrders\n",
      "\n",
      "==============================\n",
      "*** Open Babel Warning  in PerceiveBondOrders\n",
      "  Failed to kekulize aromatic bonds in OBMol::PerceiveBondOrders\n",
      "\n",
      "==============================\n",
      "*** Open Babel Warning  in PerceiveBondOrders\n",
      "  Failed to kekulize aromatic bonds in OBMol::PerceiveBondOrders\n",
      "\n",
      "==============================\n",
      "*** Open Babel Warning  in PerceiveBondOrders\n",
      "  Failed to kekulize aromatic bonds in OBMol::PerceiveBondOrders\n",
      "\n",
      "==============================\n",
      "*** Open Babel Warning  in PerceiveBondOrders\n",
      "  Failed to kekulize aromatic bonds in OBMol::PerceiveBondOrders\n",
      "\n",
      "==============================\n",
      "*** Open Babel Warning  in PerceiveBondOrders\n",
      "  Failed to kekulize aromatic bonds in OBMol::PerceiveBondOrders\n",
      "\n",
      "==============================\n",
      "*** Open Babel Warning  in PerceiveBondOrders\n",
      "  Failed to kekulize aromatic bonds in OBMol::PerceiveBondOrders\n",
      "\n",
      "==============================\n",
      "*** Open Babel Error  in TetStereoToWedgeHash\n",
      "  Failed to set stereochemistry as unable to find an available bond\n",
      "==============================\n",
      "*** Open Babel Error  in TetStereoToWedgeHash\n",
      "  Failed to set stereochemistry as unable to find an available bond\n",
      "==============================\n",
      "*** Open Babel Error  in TetStereoToWedgeHash\n",
      "  Failed to set stereochemistry as unable to find an available bond\n",
      "==============================\n",
      "*** Open Babel Error  in TetStereoToWedgeHash\n",
      "  Failed to set stereochemistry as unable to find an available bond\n"
     ]
    },
    {
     "name": "stdout",
     "output_type": "stream",
     "text": [
      "index 543, problems (<rdkit.Chem.rdchem._cppAtomValenceException object at 0x7f78cb501820>, <rdkit.Chem.rdchem._cppAtomValenceException object at 0x7f78cb5017b0>)\n",
      "index 596, problems (<rdkit.Chem.rdchem._cppAtomValenceException object at 0x7f78cb5e0c10>,)\n",
      "index 630, problems (<rdkit.Chem.rdchem._cppAtomValenceException object at 0x7f78cb5e0dd0>,)\n",
      "index 638, problems (<rdkit.Chem.rdchem._cppAtomValenceException object at 0x7f78cb5e0c10>, <rdkit.Chem.rdchem._cppAtomValenceException object at 0x7f78cb501820>)\n",
      "index 693, problems (<rdkit.Chem.rdchem._cppAtomValenceException object at 0x7f78cb5e0dd0>, <rdkit.Chem.rdchem._cppAtomValenceException object at 0x7f78cb5e0ba0>)\n",
      "index 694, problems (<rdkit.Chem.rdchem._cppAtomValenceException object at 0x7f78cb5e0dd0>, <rdkit.Chem.rdchem._cppAtomValenceException object at 0x7f78cb5e0ba0>)\n",
      "index 696, problems (<rdkit.Chem.rdchem._cppAtomValenceException object at 0x7f78cb501a50>, <rdkit.Chem.rdchem._cppAtomValenceException object at 0x7f78cb5013c0>, <rdkit.Chem.rdchem._cppAtomValenceException object at 0x7f78cb501510>, <rdkit.Chem.rdchem._cppAtomValenceException object at 0x7f78cb501ac0>, <rdkit.Chem.rdchem._cppAtomValenceException object at 0x7f78cb5019e0>, <rdkit.Chem.rdchem._cppAtomValenceException object at 0x7f78cb501b30>)\n",
      "index 698, problems (<rdkit.Chem.rdchem._cppAtomValenceException object at 0x7f78cb501b30>, <rdkit.Chem.rdchem._cppAtomValenceException object at 0x7f78cb501820>, <rdkit.Chem.rdchem._cppAtomValenceException object at 0x7f78cb501350>, <rdkit.Chem.rdchem._cppAtomValenceException object at 0x7f78cb5017b0>, <rdkit.Chem.rdchem._cppAtomValenceException object at 0x7f78cb501ba0>, <rdkit.Chem.rdchem._cppAtomValenceException object at 0x7f78cb501cf0>, <rdkit.Chem.rdchem._cppAtomValenceException object at 0x7f78cb501c10>, <rdkit.Chem.rdchem._cppAtomValenceException object at 0x7f78cb501430>)\n",
      "index 700, problems (<rdkit.Chem.rdchem._cppAtomValenceException object at 0x7f78cb5e0b30>, <rdkit.Chem.rdchem._cppAtomValenceException object at 0x7f78cb501b30>)\n",
      "index 703, problems (<rdkit.Chem.rdchem._cppAtomValenceException object at 0x7f78cb501820>, <rdkit.Chem.rdchem._cppAtomValenceException object at 0x7f78cb501350>, <rdkit.Chem.rdchem._cppAtomValenceException object at 0x7f78cb5017b0>, <rdkit.Chem.rdchem._cppAtomValenceException object at 0x7f78cb501ba0>)\n",
      "index 704, problems (<rdkit.Chem.rdchem._cppAtomValenceException object at 0x7f78cb5e0ba0>, <rdkit.Chem.rdchem._cppAtomValenceException object at 0x7f78cb501820>)\n",
      "index 705, problems (<rdkit.Chem.rdchem._cppAtomValenceException object at 0x7f78cb5e0ba0>, <rdkit.Chem.rdchem._cppAtomValenceException object at 0x7f78cb501820>)\n",
      "index 706, problems (<rdkit.Chem.rdchem._cppAtomValenceException object at 0x7f78cb5e0ba0>, <rdkit.Chem.rdchem._cppAtomValenceException object at 0x7f78cb501820>, <rdkit.Chem.rdchem._cppAtomValenceException object at 0x7f78cb501200>, <rdkit.Chem.rdchem._cppAtomValenceException object at 0x7f78cb501c80>, <rdkit.Chem.rdchem._cppAtomValenceException object at 0x7f78cb501d60>, <rdkit.Chem.rdchem._cppAtomValenceException object at 0x7f78cb501dd0>, <rdkit.Chem.rdchem._cppAtomValenceException object at 0x7f78cb501eb0>, <rdkit.Chem.rdchem._cppAtomValenceException object at 0x7f78cb501e40>, <rdkit.Chem.rdchem._cppAtomValenceException object at 0x7f78cb501f20>, <rdkit.Chem.rdchem._cppAtomValenceException object at 0x7f78cb501f90>, <rdkit.Chem.rdchem._cppAtomValenceException object at 0x7f78cb4ed040>, <rdkit.Chem.rdchem._cppAtomValenceException object at 0x7f78cb4ed0b0>, <rdkit.Chem.rdchem._cppAtomValenceException object at 0x7f78cb4ed120>, <rdkit.Chem.rdchem._cppAtomValenceException object at 0x7f78cb4ed190>, <rdkit.Chem.rdchem._cppAtomValenceException object at 0x7f78cb4ed200>, <rdkit.Chem.rdchem._cppAtomValenceException object at 0x7f78cb4ed270>, <rdkit.Chem.rdchem._cppAtomValenceException object at 0x7f78cb4ed2e0>, <rdkit.Chem.rdchem._cppAtomValenceException object at 0x7f78cb4ed350>, <rdkit.Chem.rdchem._cppAtomValenceException object at 0x7f78cb4ed3c0>, <rdkit.Chem.rdchem._cppAtomValenceException object at 0x7f78cb4ed430>, <rdkit.Chem.rdchem._cppAtomValenceException object at 0x7f78cb4ed4a0>, <rdkit.Chem.rdchem._cppAtomValenceException object at 0x7f78cb4ed510>)\n",
      "index 711, problems (<rdkit.Chem.rdchem._cppAtomValenceException object at 0x7f78cb501c80>, <rdkit.Chem.rdchem._cppAtomValenceException object at 0x7f78cb501d60>, <rdkit.Chem.rdchem._cppAtomValenceException object at 0x7f78cb501dd0>, <rdkit.Chem.rdchem._cppAtomValenceException object at 0x7f78cb501eb0>)\n",
      "index 715, problems (<rdkit.Chem.rdchem._cppAtomValenceException object at 0x7f78cb501820>, <rdkit.Chem.rdchem._cppAtomValenceException object at 0x7f78cb501200>, <rdkit.Chem.rdchem._cppAtomValenceException object at 0x7f78cb501e40>, <rdkit.Chem.rdchem._cppAtomValenceException object at 0x7f78cb501f20>, <rdkit.Chem.rdchem._cppAtomValenceException object at 0x7f78cb501f90>, <rdkit.Chem.rdchem._cppAtomValenceException object at 0x7f78cb501350>)\n",
      "index 717, problems (<rdkit.Chem.rdchem._cppAtomValenceException object at 0x7f78cb501e40>, <rdkit.Chem.rdchem._cppAtomValenceException object at 0x7f78cb501f20>, <rdkit.Chem.rdchem._cppAtomValenceException object at 0x7f78cb501f90>, <rdkit.Chem.rdchem._cppAtomValenceException object at 0x7f78cb501350>)\n"
     ]
    },
    {
     "name": "stderr",
     "output_type": "stream",
     "text": [
      "==============================\n",
      "*** Open Babel Error  in TetStereoToWedgeHash\n",
      "  Failed to set stereochemistry as unable to find an available bond\n",
      "==============================\n",
      "*** Open Babel Warning  in PerceiveBondOrders\n",
      "  Failed to kekulize aromatic bonds in OBMol::PerceiveBondOrders\n",
      "\n"
     ]
    },
    {
     "name": "stdout",
     "output_type": "stream",
     "text": [
      "index 728, problems (<rdkit.Chem.rdchem._cppAtomValenceException object at 0x7f78cb5e0dd0>, <rdkit.Chem.rdchem._cppAtomValenceException object at 0x7f78cb501e40>)\n",
      "index 732, problems (<rdkit.Chem.rdchem._cppAtomValenceException object at 0x7f78cb501c10>, <rdkit.Chem.rdchem._cppAtomValenceException object at 0x7f78cb501430>, <rdkit.Chem.rdchem._cppAtomValenceException object at 0x7f78cb501a50>, <rdkit.Chem.rdchem._cppAtomValenceException object at 0x7f78cb5013c0>, <rdkit.Chem.rdchem._cppAtomValenceException object at 0x7f78cb501510>, <rdkit.Chem.rdchem._cppAtomValenceException object at 0x7f78cb501ac0>, <rdkit.Chem.rdchem._cppAtomValenceException object at 0x7f78cb5019e0>, <rdkit.Chem.rdchem._cppAtomValenceException object at 0x7f78cb501040>, <rdkit.Chem.rdchem._cppAtomValenceException object at 0x7f78cb5016d0>, <rdkit.Chem.rdchem._cppAtomValenceException object at 0x7f78cb5015f0>, <rdkit.Chem.rdchem._cppAtomValenceException object at 0x7f78cb5014a0>, <rdkit.Chem.rdchem._cppAtomValenceException object at 0x7f78cb5012e0>, <rdkit.Chem.rdchem._cppAtomValenceException object at 0x7f78cb5010b0>, <rdkit.Chem.rdchem._cppAtomValenceException object at 0x7f78cb501740>, <rdkit.Chem.rdchem._cppAtomValenceException object at 0x7f78cb501120>, <rdkit.Chem.rdchem._cppAtomValenceException object at 0x7f78cb4f9040>)\n",
      "index 734, problems (<rdkit.Chem.rdchem._cppAtomValenceException object at 0x7f78cb501510>, <rdkit.Chem.rdchem._cppAtomValenceException object at 0x7f78cb501ac0>, <rdkit.Chem.rdchem._cppAtomValenceException object at 0x7f78cb5019e0>, <rdkit.Chem.rdchem._cppAtomValenceException object at 0x7f78cb501040>, <rdkit.Chem.rdchem._cppAtomValenceException object at 0x7f78cb5016d0>, <rdkit.Chem.rdchem._cppAtomValenceException object at 0x7f78cb5015f0>)\n",
      "index 736, problems (<rdkit.Chem.rdchem._cppAtomValenceException object at 0x7f78cb501510>, <rdkit.Chem.rdchem._cppAtomValenceException object at 0x7f78cb501ac0>)\n",
      "index 738, problems (<rdkit.Chem.rdchem._cppAtomValenceException object at 0x7f78cb501510>, <rdkit.Chem.rdchem._cppAtomValenceException object at 0x7f78cb501ac0>)\n",
      "index 743, problems (<rdkit.Chem.rdchem._cppAtomValenceException object at 0x7f78cb501ac0>, <rdkit.Chem.rdchem._cppAtomValenceException object at 0x7f78cb5019e0>, <rdkit.Chem.rdchem._cppAtomValenceException object at 0x7f78cb501040>, <rdkit.Chem.rdchem._cppAtomValenceException object at 0x7f78cb5016d0>)\n",
      "index 746, problems (<rdkit.Chem.rdchem._cppAtomValenceException object at 0x7f78cb5016d0>, <rdkit.Chem.rdchem._cppAtomValenceException object at 0x7f78cb501510>, <rdkit.Chem.rdchem._cppAtomValenceException object at 0x7f78cb5015f0>, <rdkit.Chem.rdchem._cppAtomValenceException object at 0x7f78cb501c10>, <rdkit.Chem.rdchem._cppAtomValenceException object at 0x7f78cb501430>, <rdkit.Chem.rdchem._cppAtomValenceException object at 0x7f78cb501a50>)\n",
      "index 749, problems (<rdkit.Chem.rdchem._cppAtomValenceException object at 0x7f78cb5019e0>, <rdkit.Chem.rdchem._cppAtomValenceException object at 0x7f78cb501040>, <rdkit.Chem.rdchem._cppAtomValenceException object at 0x7f78cb5013c0>, <rdkit.Chem.rdchem._cppAtomValenceException object at 0x7f78cb5014a0>, <rdkit.Chem.rdchem._cppAtomValenceException object at 0x7f78cb5012e0>, <rdkit.Chem.rdchem._cppAtomValenceException object at 0x7f78cb5010b0>, <rdkit.Chem.rdchem._cppAtomValenceException object at 0x7f78cb501740>, <rdkit.Chem.rdchem._cppAtomValenceException object at 0x7f78cb501120>, <rdkit.Chem.rdchem._cppAtomValenceException object at 0x7f78cb501e40>, <rdkit.Chem.rdchem._cppAtomValenceException object at 0x7f78cb501f20>)\n",
      "index 750, problems (<rdkit.Chem.rdchem._cppAtomValenceException object at 0x7f78cb5019e0>, <rdkit.Chem.rdchem._cppAtomValenceException object at 0x7f78cb501040>, <rdkit.Chem.rdchem._cppAtomValenceException object at 0x7f78cb5013c0>, <rdkit.Chem.rdchem._cppAtomValenceException object at 0x7f78cb5014a0>, <rdkit.Chem.rdchem._cppAtomValenceException object at 0x7f78cb5012e0>, <rdkit.Chem.rdchem._cppAtomValenceException object at 0x7f78cb5010b0>, <rdkit.Chem.rdchem._cppAtomValenceException object at 0x7f78cb501740>, <rdkit.Chem.rdchem._cppAtomValenceException object at 0x7f78cb501120>, <rdkit.Chem.rdchem._cppAtomValenceException object at 0x7f78cb501e40>, <rdkit.Chem.rdchem._cppAtomValenceException object at 0x7f78cb501f20>, <rdkit.Chem.rdchem._cppAtomValenceException object at 0x7f78cb9cc4a0>, <rdkit.Chem.rdchem._cppAtomValenceException object at 0x7f78cb9cc510>, <rdkit.Chem.rdchem._cppAtomValenceException object at 0x7f78cb9cc580>, <rdkit.Chem.rdchem._cppAtomValenceException object at 0x7f78cb9cc5f0>, <rdkit.Chem.rdchem._cppAtomValenceException object at 0x7f78cb9cc660>, <rdkit.Chem.rdchem._cppAtomValenceException object at 0x7f78cb9cc6d0>, <rdkit.Chem.rdchem._cppAtomValenceException object at 0x7f78cb9cc740>, <rdkit.Chem.rdchem._cppAtomValenceException object at 0x7f78cb9cc7b0>, <rdkit.Chem.rdchem._cppAtomValenceException object at 0x7f78cb9cc820>, <rdkit.Chem.rdchem._cppAtomValenceException object at 0x7f78cb9cc890>, <rdkit.Chem.rdchem._cppAtomValenceException object at 0x7f78cb9cc900>, <rdkit.Chem.rdchem._cppAtomValenceException object at 0x7f78cb9cc970>, <rdkit.Chem.rdchem._cppAtomValenceException object at 0x7f78cb9cc9e0>, <rdkit.Chem.rdchem._cppAtomValenceException object at 0x7f78cb9cca50>, <rdkit.Chem.rdchem._cppAtomValenceException object at 0x7f78cb9ccac0>, <rdkit.Chem.rdchem._cppAtomValenceException object at 0x7f78cb9ccb30>, <rdkit.Chem.rdchem._cppAtomValenceException object at 0x7f78cb9ccba0>, <rdkit.Chem.rdchem._cppAtomValenceException object at 0x7f78cb9ccc10>, <rdkit.Chem.rdchem._cppAtomValenceException object at 0x7f78cb9ccc80>, <rdkit.Chem.rdchem._cppAtomValenceException object at 0x7f78cb9cccf0>, <rdkit.Chem.rdchem._cppAtomValenceException object at 0x7f78cb9ccd60>, <rdkit.Chem.rdchem._cppAtomValenceException object at 0x7f78cb9ccdd0>)\n",
      "index 754, problems (<rdkit.Chem.rdchem._cppAtomValenceException object at 0x7f78cb5013c0>, <rdkit.Chem.rdchem._cppAtomValenceException object at 0x7f78cb5014a0>, <rdkit.Chem.rdchem._cppAtomValenceException object at 0x7f78cb5012e0>, <rdkit.Chem.rdchem._cppAtomValenceException object at 0x7f78cb5010b0>)\n"
     ]
    },
    {
     "name": "stderr",
     "output_type": "stream",
     "text": [
      "==============================\n",
      "*** Open Babel Error  in TetStereoToWedgeHash\n",
      "  Failed to set stereochemistry as unable to find an available bond\n"
     ]
    },
    {
     "name": "stdout",
     "output_type": "stream",
     "text": [
      "index 756, problems (<rdkit.Chem.rdchem._cppAtomValenceException object at 0x7f78cb501c80>, <rdkit.Chem.rdchem._cppAtomValenceException object at 0x7f78cb501d60>, <rdkit.Chem.rdchem._cppAtomValenceException object at 0x7f78cb501dd0>, <rdkit.Chem.rdchem._cppAtomValenceException object at 0x7f78cb501eb0>, <rdkit.Chem.rdchem._cppAtomValenceException object at 0x7f78cb5017b0>, <rdkit.Chem.rdchem._cppAtomValenceException object at 0x7f78cb501ba0>, <rdkit.Chem.rdchem._cppAtomValenceException object at 0x7f78cb501b30>, <rdkit.Chem.rdchem._cppAtomValenceException object at 0x7f78cb501cf0>, <rdkit.Chem.rdchem._cppAtomValenceException object at 0x7f78cb50e040>, <rdkit.Chem.rdchem._cppAtomValenceException object at 0x7f78cb50e0b0>, <rdkit.Chem.rdchem._cppAtomValenceException object at 0x7f78cb50e120>, <rdkit.Chem.rdchem._cppAtomValenceException object at 0x7f78cb50e190>, <rdkit.Chem.rdchem._cppAtomValenceException object at 0x7f78cb50e200>, <rdkit.Chem.rdchem._cppAtomValenceException object at 0x7f78cb50e270>, <rdkit.Chem.rdchem._cppAtomValenceException object at 0x7f78cb50e2e0>, <rdkit.Chem.rdchem._cppAtomValenceException object at 0x7f78cb50e350>, <rdkit.Chem.rdchem._cppAtomValenceException object at 0x7f78cb50e3c0>, <rdkit.Chem.rdchem._cppAtomValenceException object at 0x7f78cb50e430>, <rdkit.Chem.rdchem._cppAtomValenceException object at 0x7f78cb50e4a0>, <rdkit.Chem.rdchem._cppAtomValenceException object at 0x7f78cb50e510>, <rdkit.Chem.rdchem._cppAtomValenceException object at 0x7f78cb50e580>, <rdkit.Chem.rdchem._cppAtomValenceException object at 0x7f78cb50e5f0>, <rdkit.Chem.rdchem._cppAtomValenceException object at 0x7f78cb50e660>, <rdkit.Chem.rdchem._cppAtomValenceException object at 0x7f78cb50e6d0>)\n",
      "index 757, problems (<rdkit.Chem.rdchem._cppAtomValenceException object at 0x7f78cb501c80>, <rdkit.Chem.rdchem._cppAtomValenceException object at 0x7f78cb501d60>, <rdkit.Chem.rdchem._cppAtomValenceException object at 0x7f78cb501dd0>, <rdkit.Chem.rdchem._cppAtomValenceException object at 0x7f78cb501eb0>)\n",
      "index 760, problems (<rdkit.Chem.rdchem._cppAtomValenceException object at 0x7f78cb501b30>, <rdkit.Chem.rdchem._cppAtomValenceException object at 0x7f78cb501cf0>, <rdkit.Chem.rdchem._cppAtomValenceException object at 0x7f78cb5012e0>, <rdkit.Chem.rdchem._cppAtomValenceException object at 0x7f78cb5010b0>, <rdkit.Chem.rdchem._cppAtomValenceException object at 0x7f78cb5019e0>, <rdkit.Chem.rdchem._cppAtomValenceException object at 0x7f78cb501040>, <rdkit.Chem.rdchem._cppAtomValenceException object at 0x7f78cb501740>, <rdkit.Chem.rdchem._cppAtomValenceException object at 0x7f78cb501120>, <rdkit.Chem.rdchem._cppAtomValenceException object at 0x7f78cb501e40>, <rdkit.Chem.rdchem._cppAtomValenceException object at 0x7f78cb501f20>)\n",
      "index 761, problems (<rdkit.Chem.rdchem._cppAtomValenceException object at 0x7f78cb501b30>, <rdkit.Chem.rdchem._cppAtomValenceException object at 0x7f78cb501cf0>, <rdkit.Chem.rdchem._cppAtomValenceException object at 0x7f78cb5012e0>, <rdkit.Chem.rdchem._cppAtomValenceException object at 0x7f78cb5010b0>, <rdkit.Chem.rdchem._cppAtomValenceException object at 0x7f78cb5019e0>, <rdkit.Chem.rdchem._cppAtomValenceException object at 0x7f78cb501040>)\n",
      "index 763, problems (<rdkit.Chem.rdchem._cppAtomValenceException object at 0x7f78cb5012e0>, <rdkit.Chem.rdchem._cppAtomValenceException object at 0x7f78cb5010b0>, <rdkit.Chem.rdchem._cppAtomValenceException object at 0x7f78cb5019e0>, <rdkit.Chem.rdchem._cppAtomValenceException object at 0x7f78cb501040>)\n",
      "index 796, problems (<rdkit.Chem.rdchem._cppAtomValenceException object at 0x7f78cb5e0dd0>,)\n"
     ]
    },
    {
     "name": "stderr",
     "output_type": "stream",
     "text": [
      "==============================\n",
      "*** Open Babel Warning  in PerceiveBondOrders\n",
      "  Failed to kekulize aromatic bonds in OBMol::PerceiveBondOrders\n",
      "\n",
      "==============================\n",
      "*** Open Babel Warning  in PerceiveBondOrders\n",
      "  Failed to kekulize aromatic bonds in OBMol::PerceiveBondOrders\n",
      "\n",
      "==============================\n",
      "*** Open Babel Error  in TetStereoToWedgeHash\n",
      "  Failed to set stereochemistry as unable to find an available bond\n",
      "==============================\n",
      "*** Open Babel Error  in TetStereoToWedgeHash\n",
      "  Failed to set stereochemistry as unable to find an available bond\n",
      "==============================\n",
      "*** Open Babel Error  in TetStereoToWedgeHash\n",
      "  Failed to set stereochemistry as unable to find an available bond\n"
     ]
    },
    {
     "name": "stdout",
     "output_type": "stream",
     "text": [
      "index 817, problems (<rdkit.Chem.rdchem._cppAtomValenceException object at 0x7f78cb5e0c10>, <rdkit.Chem.rdchem._cppAtomValenceException object at 0x7f78cb5012e0>)\n"
     ]
    },
    {
     "name": "stderr",
     "output_type": "stream",
     "text": [
      "==============================\n",
      "*** Open Babel Error  in TetStereoToWedgeHash\n",
      "  Failed to set stereochemistry as unable to find an available bond\n",
      "==============================\n",
      "*** Open Babel Error  in TetStereoToWedgeHash\n",
      "  Failed to set stereochemistry as unable to find an available bond\n",
      "==============================\n",
      "*** Open Babel Error  in TetStereoToWedgeHash\n",
      "  Failed to set stereochemistry as unable to find an available bond\n",
      "==============================\n",
      "*** Open Babel Error  in TetStereoToWedgeHash\n",
      "  Failed to set stereochemistry as unable to find an available bond\n"
     ]
    },
    {
     "name": "stdout",
     "output_type": "stream",
     "text": [
      "index 915, problems (<rdkit.Chem.rdchem._cppAtomValenceException object at 0x7f78cb5e0c10>, <rdkit.Chem.rdchem._cppAtomValenceException object at 0x7f78cb5010b0>)\n",
      "index 925, problems (<rdkit.Chem.rdchem._cppAtomValenceException object at 0x7f78cb5e0c10>,)\n",
      "index 929, problems (<rdkit.Chem.rdchem._cppAtomValenceException object at 0x7f78cb5e0b30>,)\n",
      "index 946, problems (<rdkit.Chem.rdchem._cppAtomValenceException object at 0x7f78cb5e0b30>,)\n",
      "index 965, problems (<rdkit.Chem.rdchem._cppAtomValenceException object at 0x7f78cb5012e0>,)\n",
      "index 967, problems (<rdkit.Chem.rdchem._cppAtomValenceException object at 0x7f78cb5e0b30>,)\n",
      "index 973, problems (<rdkit.Chem.rdchem._cppAtomValenceException object at 0x7f78cb5012e0>, <rdkit.Chem.rdchem._cppAtomValenceException object at 0x7f78cb5010b0>)\n",
      "index 979, problems (<rdkit.Chem.rdchem._cppAtomValenceException object at 0x7f78cb5010b0>, <rdkit.Chem.rdchem._cppAtomValenceException object at 0x7f78cb5019e0>, <rdkit.Chem.rdchem._cppAtomValenceException object at 0x7f78cb501040>)\n"
     ]
    },
    {
     "name": "stderr",
     "output_type": "stream",
     "text": [
      "==============================\n",
      "*** Open Babel Error  in TetStereoToWedgeHash\n",
      "  Failed to set stereochemistry as unable to find an available bond\n",
      "==============================\n",
      "*** Open Babel Error  in TetStereoToWedgeHash\n",
      "  Failed to set stereochemistry as unable to find an available bond\n"
     ]
    },
    {
     "name": "stdout",
     "output_type": "stream",
     "text": [
      "index 1002, problems (<rdkit.Chem.rdchem._cppAtomValenceException object at 0x7f78cb5010b0>,)\n",
      "index 1004, problems (<rdkit.Chem.rdchem._cppAtomValenceException object at 0x7f78cb501b30>, <rdkit.Chem.rdchem._cppAtomValenceException object at 0x7f78cb501cf0>, <rdkit.Chem.rdchem._cppAtomValenceException object at 0x7f78cb501c80>, <rdkit.Chem.rdchem._cppAtomValenceException object at 0x7f78cb501d60>, <rdkit.Chem.rdchem._cppAtomValenceException object at 0x7f78cb501dd0>, <rdkit.Chem.rdchem._cppAtomValenceException object at 0x7f78cb501eb0>)\n",
      "index 1031, problems (<rdkit.Chem.rdchem._cppAtomValenceException object at 0x7f78cb5e0dd0>, <rdkit.Chem.rdchem._cppAtomValenceException object at 0x7f78cb501b30>)\n",
      "index 1039, problems (<rdkit.Chem.rdchem._cppAtomValenceException object at 0x7f78cb501b30>, <rdkit.Chem.rdchem._cppAtomValenceException object at 0x7f78cb501cf0>)\n",
      "index 1045, problems (<rdkit.Chem.rdchem._cppAtomValenceException object at 0x7f78cb501b30>, <rdkit.Chem.rdchem._cppAtomValenceException object at 0x7f78cb501cf0>)\n",
      "index 1047, problems (<rdkit.Chem.rdchem._cppAtomValenceException object at 0x7f78cb501dd0>, <rdkit.Chem.rdchem._cppAtomValenceException object at 0x7f78cb501eb0>, <rdkit.Chem.rdchem._cppAtomValenceException object at 0x7f78cb5010b0>, <rdkit.Chem.rdchem._cppAtomValenceException object at 0x7f78cb5019e0>, <rdkit.Chem.rdchem._cppAtomValenceException object at 0x7f78cb501040>, <rdkit.Chem.rdchem._cppAtomValenceException object at 0x7f78cb5012e0>)\n",
      "index 1048, problems (<rdkit.Chem.rdchem._cppAtomValenceException object at 0x7f78cb501dd0>, <rdkit.Chem.rdchem._cppAtomValenceException object at 0x7f78cb501eb0>, <rdkit.Chem.rdchem._cppAtomValenceException object at 0x7f78cb5010b0>, <rdkit.Chem.rdchem._cppAtomValenceException object at 0x7f78cb5019e0>, <rdkit.Chem.rdchem._cppAtomValenceException object at 0x7f78cb501040>, <rdkit.Chem.rdchem._cppAtomValenceException object at 0x7f78cb5012e0>, <rdkit.Chem.rdchem._cppAtomValenceException object at 0x7f78cb4d45f0>, <rdkit.Chem.rdchem._cppAtomValenceException object at 0x7f78cb4d4660>, <rdkit.Chem.rdchem._cppAtomValenceException object at 0x7f78cb4d46d0>, <rdkit.Chem.rdchem._cppAtomValenceException object at 0x7f78cb4d4740>, <rdkit.Chem.rdchem._cppAtomValenceException object at 0x7f78cb4d47b0>, <rdkit.Chem.rdchem._cppAtomValenceException object at 0x7f78cb4d4820>, <rdkit.Chem.rdchem._cppAtomValenceException object at 0x7f78cb4d4890>, <rdkit.Chem.rdchem._cppAtomValenceException object at 0x7f78cb4d4900>, <rdkit.Chem.rdchem._cppAtomValenceException object at 0x7f78cb4d4970>, <rdkit.Chem.rdchem._cppAtomValenceException object at 0x7f78cb4d49e0>, <rdkit.Chem.rdchem._cppAtomValenceException object at 0x7f78cb4d4a50>, <rdkit.Chem.rdchem._cppAtomValenceException object at 0x7f78cb4d4ac0>, <rdkit.Chem.rdchem._cppAtomValenceException object at 0x7f78cb4d4b30>, <rdkit.Chem.rdchem._cppAtomValenceException object at 0x7f78cb4d4ba0>, <rdkit.Chem.rdchem._cppAtomValenceException object at 0x7f78cb4d4c10>, <rdkit.Chem.rdchem._cppAtomValenceException object at 0x7f78cb4d4c80>, <rdkit.Chem.rdchem._cppAtomValenceException object at 0x7f78cb4d4cf0>, <rdkit.Chem.rdchem._cppAtomValenceException object at 0x7f78cb4d4d60>, <rdkit.Chem.rdchem._cppAtomValenceException object at 0x7f78cb4d4dd0>, <rdkit.Chem.rdchem._cppAtomValenceException object at 0x7f78cb4d4e40>, <rdkit.Chem.rdchem._cppAtomValenceException object at 0x7f78cb4d4eb0>, <rdkit.Chem.rdchem._cppAtomValenceException object at 0x7f78cb4d4f20>, <rdkit.Chem.rdchem._cppAtomValenceException object at 0x7f78cb4d4f90>, <rdkit.Chem.rdchem._cppAtomValenceException object at 0x7f78cb4f5040>, <rdkit.Chem.rdchem._cppAtomValenceException object at 0x7f78cb4f50b0>, <rdkit.Chem.rdchem._cppAtomValenceException object at 0x7f78cb4f5120>, <rdkit.Chem.rdchem._cppAtomValenceException object at 0x7f78cb4f5190>, <rdkit.Chem.rdchem._cppAtomValenceException object at 0x7f78cb4f5200>, <rdkit.Chem.rdchem._cppAtomValenceException object at 0x7f78cb4f5270>, <rdkit.Chem.rdchem._cppAtomValenceException object at 0x7f78cb4f52e0>, <rdkit.Chem.rdchem._cppAtomValenceException object at 0x7f78cb4f5350>, <rdkit.Chem.rdchem._cppAtomValenceException object at 0x7f78cb4f53c0>)\n"
     ]
    },
    {
     "name": "stderr",
     "output_type": "stream",
     "text": [
      "==============================\n",
      "*** Open Babel Error  in TetStereoToWedgeHash\n",
      "  Failed to set stereochemistry as unable to find an available bond\n",
      "==============================\n",
      "*** Open Babel Error  in TetStereoToWedgeHash\n",
      "  Failed to set stereochemistry as unable to find an available bond\n",
      "==============================\n",
      "*** Open Babel Warning  in PerceiveBondOrders\n",
      "  Failed to kekulize aromatic bonds in OBMol::PerceiveBondOrders\n",
      "\n",
      "==============================\n",
      "*** Open Babel Error  in TetStereoToWedgeHash\n",
      "  Failed to set stereochemistry as unable to find an available bond\n"
     ]
    },
    {
     "name": "stdout",
     "output_type": "stream",
     "text": [
      "index 1106, problems (<rdkit.Chem.rdchem._cppAtomValenceException object at 0x7f78cb5012e0>, <rdkit.Chem.rdchem._cppAtomValenceException object at 0x7f78cb501b30>, <rdkit.Chem.rdchem._cppAtomValenceException object at 0x7f78cb501cf0>, <rdkit.Chem.rdchem._cppAtomValenceException object at 0x7f78cb501c80>, <rdkit.Chem.rdchem._cppAtomValenceException object at 0x7f78cb501d60>, <rdkit.Chem.rdchem._cppAtomValenceException object at 0x7f78cb501740>, <rdkit.Chem.rdchem._cppAtomValenceException object at 0x7f78cb501120>, <rdkit.Chem.rdchem._cppAtomValenceException object at 0x7f78cb501e40>)\n",
      "index 1110, problems (<rdkit.Chem.rdchem._cppAtomValenceException object at 0x7f78cb5e0c10>,)\n",
      "index 1114, problems (<rdkit.Chem.rdchem._cppAtomValenceException object at 0x7f78cb501cf0>, <rdkit.Chem.rdchem._cppAtomValenceException object at 0x7f78cb501c80>, <rdkit.Chem.rdchem._cppAtomValenceException object at 0x7f78cb501d60>, <rdkit.Chem.rdchem._cppAtomValenceException object at 0x7f78cb501740>)\n",
      "index 1120, problems (<rdkit.Chem.rdchem._cppAtomValenceException object at 0x7f78cb5012e0>, <rdkit.Chem.rdchem._cppAtomValenceException object at 0x7f78cb501b30>, <rdkit.Chem.rdchem._cppAtomValenceException object at 0x7f78cb501120>, <rdkit.Chem.rdchem._cppAtomValenceException object at 0x7f78cb501e40>, <rdkit.Chem.rdchem._cppAtomValenceException object at 0x7f78cb501dd0>, <rdkit.Chem.rdchem._cppAtomValenceException object at 0x7f78cb501eb0>)\n",
      "index 1122, problems (<rdkit.Chem.rdchem._cppAtomValenceException object at 0x7f78cb5012e0>, <rdkit.Chem.rdchem._cppAtomValenceException object at 0x7f78cb501b30>)\n",
      "index 1132, problems (<rdkit.Chem.rdchem._cppAtomValenceException object at 0x7f78cb5e0ba0>,)\n",
      "index 1135, problems (<rdkit.Chem.rdchem._cppAtomValenceException object at 0x7f78cb501b30>, <rdkit.Chem.rdchem._cppAtomValenceException object at 0x7f78cb501120>, <rdkit.Chem.rdchem._cppAtomValenceException object at 0x7f78cb501e40>, <rdkit.Chem.rdchem._cppAtomValenceException object at 0x7f78cb501dd0>)\n",
      "index 1161, problems (<rdkit.Chem.rdchem._cppAtomValenceException object at 0x7f78cb5e0dd0>,)\n"
     ]
    },
    {
     "name": "stderr",
     "output_type": "stream",
     "text": [
      "==============================\n",
      "*** Open Babel Warning  in PerceiveBondOrders\n",
      "  Failed to kekulize aromatic bonds in OBMol::PerceiveBondOrders\n",
      "\n",
      "==============================\n",
      "*** Open Babel Warning  in PerceiveBondOrders\n",
      "  Failed to kekulize aromatic bonds in OBMol::PerceiveBondOrders\n",
      "\n",
      "==============================\n",
      "*** Open Babel Warning  in PerceiveBondOrders\n",
      "  Failed to kekulize aromatic bonds in OBMol::PerceiveBondOrders\n",
      "\n",
      "==============================\n",
      "*** Open Babel Warning  in PerceiveBondOrders\n",
      "  Failed to kekulize aromatic bonds in OBMol::PerceiveBondOrders\n",
      "\n",
      "==============================\n",
      "*** Open Babel Warning  in PerceiveBondOrders\n",
      "  Failed to kekulize aromatic bonds in OBMol::PerceiveBondOrders\n",
      "\n",
      "==============================\n",
      "*** Open Babel Warning  in PerceiveBondOrders\n",
      "  Failed to kekulize aromatic bonds in OBMol::PerceiveBondOrders\n",
      "\n",
      "==============================\n",
      "*** Open Babel Warning  in PerceiveBondOrders\n",
      "  Failed to kekulize aromatic bonds in OBMol::PerceiveBondOrders\n",
      "\n",
      "==============================\n",
      "*** Open Babel Warning  in PerceiveBondOrders\n",
      "  Failed to kekulize aromatic bonds in OBMol::PerceiveBondOrders\n",
      "\n",
      "==============================\n",
      "*** Open Babel Warning  in PerceiveBondOrders\n",
      "  Failed to kekulize aromatic bonds in OBMol::PerceiveBondOrders\n",
      "\n",
      "==============================\n",
      "*** Open Babel Warning  in PerceiveBondOrders\n",
      "  Failed to kekulize aromatic bonds in OBMol::PerceiveBondOrders\n",
      "\n",
      "==============================\n",
      "*** Open Babel Warning  in PerceiveBondOrders\n",
      "  Failed to kekulize aromatic bonds in OBMol::PerceiveBondOrders\n",
      "\n",
      "==============================\n",
      "*** Open Babel Warning  in PerceiveBondOrders\n",
      "  Failed to kekulize aromatic bonds in OBMol::PerceiveBondOrders\n",
      "\n",
      "==============================\n",
      "*** Open Babel Warning  in PerceiveBondOrders\n",
      "  Failed to kekulize aromatic bonds in OBMol::PerceiveBondOrders\n",
      "\n",
      "==============================\n",
      "*** Open Babel Warning  in PerceiveBondOrders\n",
      "  Failed to kekulize aromatic bonds in OBMol::PerceiveBondOrders\n",
      "\n",
      "==============================\n",
      "*** Open Babel Warning  in PerceiveBondOrders\n",
      "  Failed to kekulize aromatic bonds in OBMol::PerceiveBondOrders\n",
      "\n",
      "==============================\n",
      "*** Open Babel Warning  in PerceiveBondOrders\n",
      "  Failed to kekulize aromatic bonds in OBMol::PerceiveBondOrders\n",
      "\n"
     ]
    },
    {
     "name": "stdout",
     "output_type": "stream",
     "text": [
      "index 1397, problems (<rdkit.Chem.rdchem._cppAtomValenceException object at 0x7f78cb5e0c10>,)\n"
     ]
    },
    {
     "name": "stderr",
     "output_type": "stream",
     "text": [
      "==============================\n",
      "*** Open Babel Error  in TetStereoToWedgeHash\n",
      "  Failed to set stereochemistry as unable to find an available bond\n",
      "==============================\n",
      "*** Open Babel Warning  in PerceiveBondOrders\n",
      "  Failed to kekulize aromatic bonds in OBMol::PerceiveBondOrders\n",
      "\n",
      "==============================\n",
      "*** Open Babel Warning  in PerceiveBondOrders\n",
      "  Failed to kekulize aromatic bonds in OBMol::PerceiveBondOrders\n",
      "\n",
      "==============================\n",
      "*** Open Babel Error  in TetStereoToWedgeHash\n",
      "  Failed to set stereochemistry as unable to find an available bond\n",
      "==============================\n",
      "*** Open Babel Error  in TetStereoToWedgeHash\n",
      "  Failed to set stereochemistry as unable to find an available bond\n",
      "==============================\n",
      "*** Open Babel Error  in TetStereoToWedgeHash\n",
      "  Failed to set stereochemistry as unable to find an available bond\n"
     ]
    },
    {
     "name": "stdout",
     "output_type": "stream",
     "text": [
      "index 1552, problems (<rdkit.Chem.rdchem._cppAtomValenceException object at 0x7f78cb501dd0>, <rdkit.Chem.rdchem._cppAtomValenceException object at 0x7f78cb5012e0>, <rdkit.Chem.rdchem._cppAtomValenceException object at 0x7f78cb501eb0>, <rdkit.Chem.rdchem._cppAtomValenceException object at 0x7f78cb501cf0>)\n",
      "index 1554, problems (<rdkit.Chem.rdchem._cppAtomValenceException object at 0x7f78cb501b30>, <rdkit.Chem.rdchem._cppAtomValenceException object at 0x7f78cb501120>, <rdkit.Chem.rdchem._cppAtomValenceException object at 0x7f78cb501e40>, <rdkit.Chem.rdchem._cppAtomValenceException object at 0x7f78cb501c80>)\n",
      "index 1613, problems (<rdkit.Chem.rdchem._cppAtomValenceException object at 0x7f78cb5e0c10>, <rdkit.Chem.rdchem._cppAtomValenceException object at 0x7f78cb501b30>)\n"
     ]
    },
    {
     "name": "stderr",
     "output_type": "stream",
     "text": [
      "==============================\n",
      "*** Open Babel Error  in TetStereoToWedgeHash\n",
      "  Failed to set stereochemistry as unable to find an available bond\n",
      "==============================\n",
      "*** Open Babel Error  in TetStereoToWedgeHash\n",
      "  Failed to set stereochemistry as unable to find an available bond\n",
      "==============================\n",
      "*** Open Babel Error  in TetStereoToWedgeHash\n",
      "  Failed to set stereochemistry as unable to find an available bond\n",
      "==============================\n",
      "*** Open Babel Error  in TetStereoToWedgeHash\n",
      "  Failed to set stereochemistry as unable to find an available bond\n"
     ]
    },
    {
     "name": "stdout",
     "output_type": "stream",
     "text": [
      "index 1692, problems (<rdkit.Chem.rdchem._cppAtomValenceException object at 0x7f78cb5e0dd0>, <rdkit.Chem.rdchem._cppAtomValenceException object at 0x7f78cb501b30>)\n",
      "index 1698, problems (<rdkit.Chem.rdchem._cppAtomValenceException object at 0x7f78cb501d60>, <rdkit.Chem.rdchem._cppAtomValenceException object at 0x7f78cb501740>, <rdkit.Chem.rdchem._cppAtomValenceException object at 0x7f78cb5010b0>, <rdkit.Chem.rdchem._cppAtomValenceException object at 0x7f78cb5019e0>, <rdkit.Chem.rdchem._cppAtomValenceException object at 0x7f78cb501040>, <rdkit.Chem.rdchem._cppAtomValenceException object at 0x7f78cb501f20>, <rdkit.Chem.rdchem._cppAtomValenceException object at 0x7f78cb5013c0>, <rdkit.Chem.rdchem._cppAtomValenceException object at 0x7f78cb5014a0>, <rdkit.Chem.rdchem._cppAtomValenceException object at 0x7f78cb5017b0>, <rdkit.Chem.rdchem._cppAtomValenceException object at 0x7f78cb501ba0>)\n",
      "index 1700, problems (<rdkit.Chem.rdchem._cppAtomValenceException object at 0x7f78cb5e0ba0>,)\n",
      "index 1702, problems (<rdkit.Chem.rdchem._cppAtomValenceException object at 0x7f78cb501d60>, <rdkit.Chem.rdchem._cppAtomValenceException object at 0x7f78cb501740>)\n",
      "index 1705, problems (<rdkit.Chem.rdchem._cppAtomValenceException object at 0x7f78cb5017b0>, <rdkit.Chem.rdchem._cppAtomValenceException object at 0x7f78cb501ba0>, <rdkit.Chem.rdchem._cppAtomValenceException object at 0x7f78cb501b30>, <rdkit.Chem.rdchem._cppAtomValenceException object at 0x7f78cb501120>, <rdkit.Chem.rdchem._cppAtomValenceException object at 0x7f78cb501e40>, <rdkit.Chem.rdchem._cppAtomValenceException object at 0x7f78cb501c80>, <rdkit.Chem.rdchem._cppAtomValenceException object at 0x7f78cb501dd0>, <rdkit.Chem.rdchem._cppAtomValenceException object at 0x7f78cb5012e0>, <rdkit.Chem.rdchem._cppAtomValenceException object at 0x7f78cb501eb0>, <rdkit.Chem.rdchem._cppAtomValenceException object at 0x7f78cb501cf0>)\n",
      "index 1713, problems (<rdkit.Chem.rdchem._cppAtomValenceException object at 0x7f78cb5e0dd0>, <rdkit.Chem.rdchem._cppAtomValenceException object at 0x7f78cb5017b0>)\n",
      "index 1716, problems (<rdkit.Chem.rdchem._cppAtomValenceException object at 0x7f78cb501d60>, <rdkit.Chem.rdchem._cppAtomValenceException object at 0x7f78cb501740>, <rdkit.Chem.rdchem._cppAtomValenceException object at 0x7f78cb5010b0>, <rdkit.Chem.rdchem._cppAtomValenceException object at 0x7f78cb5019e0>, <rdkit.Chem.rdchem._cppAtomValenceException object at 0x7f78cb501040>, <rdkit.Chem.rdchem._cppAtomValenceException object at 0x7f78cb501f20>, <rdkit.Chem.rdchem._cppAtomValenceException object at 0x7f78cb5013c0>, <rdkit.Chem.rdchem._cppAtomValenceException object at 0x7f78cb5014a0>, <rdkit.Chem.rdchem._cppAtomValenceException object at 0x7f78cb5016d0>, <rdkit.Chem.rdchem._cppAtomValenceException object at 0x7f78cb501510>, <rdkit.Chem.rdchem._cppAtomValenceException object at 0x7f78cb5015f0>, <rdkit.Chem.rdchem._cppAtomValenceException object at 0x7f78cb501c10>, <rdkit.Chem.rdchem._cppAtomValenceException object at 0x7f78cb501430>, <rdkit.Chem.rdchem._cppAtomValenceException object at 0x7f78cb501a50>)\n",
      "index 1724, problems (<rdkit.Chem.rdchem._cppAtomValenceException object at 0x7f78cb5010b0>, <rdkit.Chem.rdchem._cppAtomValenceException object at 0x7f78cb5019e0>, <rdkit.Chem.rdchem._cppAtomValenceException object at 0x7f78cb501040>, <rdkit.Chem.rdchem._cppAtomValenceException object at 0x7f78cb501f20>, <rdkit.Chem.rdchem._cppAtomValenceException object at 0x7f78cb5013c0>, <rdkit.Chem.rdchem._cppAtomValenceException object at 0x7f78cb5014a0>)\n",
      "index 1726, problems (<rdkit.Chem.rdchem._cppAtomValenceException object at 0x7f78cb501c10>, <rdkit.Chem.rdchem._cppAtomValenceException object at 0x7f78cb501430>, <rdkit.Chem.rdchem._cppAtomValenceException object at 0x7f78cb501a50>, <rdkit.Chem.rdchem._cppAtomValenceException object at 0x7f78cb5017b0>, <rdkit.Chem.rdchem._cppAtomValenceException object at 0x7f78cb501ba0>, <rdkit.Chem.rdchem._cppAtomValenceException object at 0x7f78cb501b30>, <rdkit.Chem.rdchem._cppAtomValenceException object at 0x7f78cb501120>, <rdkit.Chem.rdchem._cppAtomValenceException object at 0x7f78cb501e40>, <rdkit.Chem.rdchem._cppAtomValenceException object at 0x7f78cb501c80>, <rdkit.Chem.rdchem._cppAtomValenceException object at 0x7f78cb501dd0>, <rdkit.Chem.rdchem._cppAtomValenceException object at 0x7f78cb5012e0>, <rdkit.Chem.rdchem._cppAtomValenceException object at 0x7f78cb501eb0>, <rdkit.Chem.rdchem._cppAtomValenceException object at 0x7f78cb501cf0>, <rdkit.Chem.rdchem._cppAtomValenceException object at 0x7f78cb501ac0>)\n",
      "index 1728, problems (<rdkit.Chem.rdchem._cppAtomValenceException object at 0x7f78cb5017b0>, <rdkit.Chem.rdchem._cppAtomValenceException object at 0x7f78cb501ba0>, <rdkit.Chem.rdchem._cppAtomValenceException object at 0x7f78cb501b30>, <rdkit.Chem.rdchem._cppAtomValenceException object at 0x7f78cb501120>, <rdkit.Chem.rdchem._cppAtomValenceException object at 0x7f78cb501e40>, <rdkit.Chem.rdchem._cppAtomValenceException object at 0x7f78cb501c80>)\n",
      "index 1729, problems (<rdkit.Chem.rdchem._cppAtomValenceException object at 0x7f78cb5017b0>, <rdkit.Chem.rdchem._cppAtomValenceException object at 0x7f78cb501ba0>, <rdkit.Chem.rdchem._cppAtomValenceException object at 0x7f78cb501b30>, <rdkit.Chem.rdchem._cppAtomValenceException object at 0x7f78cb501120>, <rdkit.Chem.rdchem._cppAtomValenceException object at 0x7f78cb501e40>, <rdkit.Chem.rdchem._cppAtomValenceException object at 0x7f78cb501c80>, <rdkit.Chem.rdchem._cppAtomValenceException object at 0x7f78cb5014a0>, <rdkit.Chem.rdchem._cppAtomValenceException object at 0x7f78cb501d60>, <rdkit.Chem.rdchem._cppAtomValenceException object at 0x7f78cb501740>, <rdkit.Chem.rdchem._cppAtomValenceException object at 0x7f78cb5016d0>, <rdkit.Chem.rdchem._cppAtomValenceException object at 0x7f78cb501510>, <rdkit.Chem.rdchem._cppAtomValenceException object at 0x7f78cb5015f0>, <rdkit.Chem.rdchem._cppAtomValenceException object at 0x7f78cb501f90>, <rdkit.Chem.rdchem._cppAtomValenceException object at 0x7f78cb501350>, <rdkit.Chem.rdchem._cppAtomValenceException object at 0x7f78cb501820>, <rdkit.Chem.rdchem._cppAtomValenceException object at 0x7f78cb501200>)\n",
      "index 1732, problems (<rdkit.Chem.rdchem._cppAtomValenceException object at 0x7f78cb5e0ba0>,)\n",
      "index 1747, problems (<rdkit.Chem.rdchem._cppAtomValenceException object at 0x7f78cb5017b0>, <rdkit.Chem.rdchem._cppAtomValenceException object at 0x7f78cb501ba0>)\n",
      "index 1753, problems (<rdkit.Chem.rdchem._cppAtomValenceException object at 0x7f78cb501b30>, <rdkit.Chem.rdchem._cppAtomValenceException object at 0x7f78cb501120>, <rdkit.Chem.rdchem._cppAtomValenceException object at 0x7f78cb501e40>, <rdkit.Chem.rdchem._cppAtomValenceException object at 0x7f78cb501c80>)\n",
      "index 1756, problems (<rdkit.Chem.rdchem._cppAtomValenceException object at 0x7f78cb501e40>, <rdkit.Chem.rdchem._cppAtomValenceException object at 0x7f78cb501c80>, <rdkit.Chem.rdchem._cppAtomValenceException object at 0x7f78cb5017b0>, <rdkit.Chem.rdchem._cppAtomValenceException object at 0x7f78cb501ba0>)\n",
      "index 1757, problems (<rdkit.Chem.rdchem._cppAtomValenceException object at 0x7f78cb501e40>, <rdkit.Chem.rdchem._cppAtomValenceException object at 0x7f78cb501c80>, <rdkit.Chem.rdchem._cppAtomValenceException object at 0x7f78cb5017b0>, <rdkit.Chem.rdchem._cppAtomValenceException object at 0x7f78cb501ba0>, <rdkit.Chem.rdchem._cppAtomValenceException object at 0x7f78cb501510>, <rdkit.Chem.rdchem._cppAtomValenceException object at 0x7f78cb5015f0>, <rdkit.Chem.rdchem._cppAtomValenceException object at 0x7f78cb501f90>, <rdkit.Chem.rdchem._cppAtomValenceException object at 0x7f78cb501350>)\n"
     ]
    },
    {
     "name": "stderr",
     "output_type": "stream",
     "text": [
      "==============================\n",
      "*** Open Babel Warning  in PerceiveBondOrders\n",
      "  Failed to kekulize aromatic bonds in OBMol::PerceiveBondOrders\n",
      "\n"
     ]
    },
    {
     "name": "stdout",
     "output_type": "stream",
     "text": [
      "index 1762, problems (<rdkit.Chem.rdchem._cppAtomValenceException object at 0x7f78cb501c80>, <rdkit.Chem.rdchem._cppAtomValenceException object at 0x7f78cb5017b0>, <rdkit.Chem.rdchem._cppAtomValenceException object at 0x7f78cb501ba0>, <rdkit.Chem.rdchem._cppAtomValenceException object at 0x7f78cb501510>)\n",
      "index 1763, problems (<rdkit.Chem.rdchem._cppAtomValenceException object at 0x7f78cb501c80>, <rdkit.Chem.rdchem._cppAtomValenceException object at 0x7f78cb5017b0>, <rdkit.Chem.rdchem._cppAtomValenceException object at 0x7f78cb501ba0>, <rdkit.Chem.rdchem._cppAtomValenceException object at 0x7f78cb501510>)\n",
      "index 1766, problems (<rdkit.Chem.rdchem._cppAtomValenceException object at 0x7f78cb501ba0>, <rdkit.Chem.rdchem._cppAtomValenceException object at 0x7f78cb501510>, <rdkit.Chem.rdchem._cppAtomValenceException object at 0x7f78cb501e40>, <rdkit.Chem.rdchem._cppAtomValenceException object at 0x7f78cb5015f0>)\n",
      "index 1777, problems (<rdkit.Chem.rdchem._cppAtomValenceException object at 0x7f78cb501510>, <rdkit.Chem.rdchem._cppAtomValenceException object at 0x7f78cb501e40>, <rdkit.Chem.rdchem._cppAtomValenceException object at 0x7f78cb5015f0>, <rdkit.Chem.rdchem._cppAtomValenceException object at 0x7f78cb501c80>)\n"
     ]
    },
    {
     "name": "stderr",
     "output_type": "stream",
     "text": [
      "==============================\n",
      "*** Open Babel Warning  in PerceiveBondOrders\n",
      "  Failed to kekulize aromatic bonds in OBMol::PerceiveBondOrders\n",
      "\n",
      "==============================\n",
      "*** Open Babel Warning  in PerceiveBondOrders\n",
      "  Failed to kekulize aromatic bonds in OBMol::PerceiveBondOrders\n",
      "\n",
      "==============================\n",
      "*** Open Babel Error  in TetStereoToWedgeHash\n",
      "  Failed to set stereochemistry as unable to find an available bond\n",
      "==============================\n",
      "*** Open Babel Warning  in PerceiveBondOrders\n",
      "  Failed to kekulize aromatic bonds in OBMol::PerceiveBondOrders\n",
      "\n",
      "==============================\n",
      "*** Open Babel Warning  in PerceiveBondOrders\n",
      "  Failed to kekulize aromatic bonds in OBMol::PerceiveBondOrders\n",
      "\n",
      "==============================\n",
      "*** Open Babel Warning  in PerceiveBondOrders\n",
      "  Failed to kekulize aromatic bonds in OBMol::PerceiveBondOrders\n",
      "\n"
     ]
    },
    {
     "name": "stdout",
     "output_type": "stream",
     "text": [
      "index 1810, problems (<rdkit.Chem.rdchem._cppAtomValenceException object at 0x7f78cb5e0c10>, <rdkit.Chem.rdchem._cppAtomValenceException object at 0x7f78cb501510>)\n",
      "index 1823, problems (<rdkit.Chem.rdchem._cppAtomValenceException object at 0x7f78cb5e0dd0>,)\n",
      "index 1844, problems (<rdkit.Chem.rdchem._cppAtomValenceException object at 0x7f78cb501e40>, <rdkit.Chem.rdchem._cppAtomValenceException object at 0x7f78cb5015f0>, <rdkit.Chem.rdchem._cppAtomValenceException object at 0x7f78cb501c80>)\n"
     ]
    },
    {
     "name": "stderr",
     "output_type": "stream",
     "text": [
      "==============================\n",
      "*** Open Babel Warning  in PerceiveBondOrders\n",
      "  Failed to kekulize aromatic bonds in OBMol::PerceiveBondOrders\n",
      "\n",
      "==============================\n",
      "*** Open Babel Error  in TetStereoToWedgeHash\n",
      "  Failed to set stereochemistry as unable to find an available bond\n",
      "==============================\n",
      "*** Open Babel Error  in TetStereoToWedgeHash\n",
      "  Failed to set stereochemistry as unable to find an available bond\n",
      "==============================\n",
      "*** Open Babel Error  in TetStereoToWedgeHash\n",
      "  Failed to set stereochemistry as unable to find an available bond\n",
      "==============================\n",
      "*** Open Babel Error  in TetStereoToWedgeHash\n",
      "  Failed to set stereochemistry as unable to find an available bond\n",
      "==============================\n",
      "*** Open Babel Error  in TetStereoToWedgeHash\n",
      "  Failed to set stereochemistry as unable to find an available bond\n",
      "==============================\n",
      "*** Open Babel Error  in TetStereoToWedgeHash\n",
      "  Failed to set stereochemistry as unable to find an available bond\n"
     ]
    },
    {
     "name": "stdout",
     "output_type": "stream",
     "text": [
      "index 1867, problems (<rdkit.Chem.rdchem._cppAtomValenceException object at 0x7f78cb501e40>,)\n",
      "index 1931, problems (<rdkit.Chem.rdchem._cppAtomValenceException object at 0x7f78cb5e0dd0>,)\n",
      "index 1938, problems (<rdkit.Chem.rdchem._cppAtomValenceException object at 0x7f78cb501c80>, <rdkit.Chem.rdchem._cppAtomValenceException object at 0x7f78cb501510>, <rdkit.Chem.rdchem._cppAtomValenceException object at 0x7f78cb501ba0>, <rdkit.Chem.rdchem._cppAtomValenceException object at 0x7f78cb5017b0>)\n"
     ]
    },
    {
     "name": "stderr",
     "output_type": "stream",
     "text": [
      "==============================\n",
      "*** Open Babel Error  in TetStereoToWedgeHash\n",
      "  Failed to set stereochemistry as unable to find an available bond\n",
      "==============================\n",
      "*** Open Babel Error  in TetStereoToWedgeHash\n",
      "  Failed to set stereochemistry as unable to find an available bond\n",
      "==============================\n",
      "*** Open Babel Warning  in PerceiveBondOrders\n",
      "  Failed to kekulize aromatic bonds in OBMol::PerceiveBondOrders\n",
      "\n",
      "==============================\n",
      "*** Open Babel Error  in TetStereoToWedgeHash\n",
      "  Failed to set stereochemistry as unable to find an available bond\n"
     ]
    },
    {
     "name": "stdout",
     "output_type": "stream",
     "text": [
      "index 1959, problems (<rdkit.Chem.rdchem._cppAtomValenceException object at 0x7f78cb5e0c10>,)\n",
      "index 1974, problems (<rdkit.Chem.rdchem._cppAtomValenceException object at 0x7f78cb501740>, <rdkit.Chem.rdchem._cppAtomValenceException object at 0x7f78cb5016d0>, <rdkit.Chem.rdchem._cppAtomValenceException object at 0x7f78cb501820>, <rdkit.Chem.rdchem._cppAtomValenceException object at 0x7f78cb501200>, <rdkit.Chem.rdchem._cppAtomValenceException object at 0x7f78cb501c10>, <rdkit.Chem.rdchem._cppAtomValenceException object at 0x7f78cb501430>, <rdkit.Chem.rdchem._cppAtomValenceException object at 0x7f78cb501a50>, <rdkit.Chem.rdchem._cppAtomValenceException object at 0x7f78cb501dd0>, <rdkit.Chem.rdchem._cppAtomValenceException object at 0x7f78cb5012e0>, <rdkit.Chem.rdchem._cppAtomValenceException object at 0x7f78cb501eb0>, <rdkit.Chem.rdchem._cppAtomValenceException object at 0x7f78cb501cf0>, <rdkit.Chem.rdchem._cppAtomValenceException object at 0x7f78cb501ac0>, <rdkit.Chem.rdchem._cppAtomValenceException object at 0x7f78cb5010b0>, <rdkit.Chem.rdchem._cppAtomValenceException object at 0x7f78cb5019e0>)\n",
      "index 2014, problems (<rdkit.Chem.rdchem._cppAtomValenceException object at 0x7f78cb501740>, <rdkit.Chem.rdchem._cppAtomValenceException object at 0x7f78cb5016d0>)\n"
     ]
    },
    {
     "name": "stderr",
     "output_type": "stream",
     "text": [
      "==============================\n",
      "*** Open Babel Error  in TetStereoToWedgeHash\n",
      "  Failed to set stereochemistry as unable to find an available bond\n",
      "==============================\n",
      "*** Open Babel Error  in TetStereoToWedgeHash\n",
      "  Failed to set stereochemistry as unable to find an available bond\n",
      "==============================\n",
      "*** Open Babel Error  in TetStereoToWedgeHash\n",
      "  Failed to set stereochemistry as unable to find an available bond\n"
     ]
    },
    {
     "name": "stdout",
     "output_type": "stream",
     "text": [
      "index 2021, problems (<rdkit.Chem.rdchem._cppAtomValenceException object at 0x7f78cb501740>,)\n",
      "index 2031, problems (<rdkit.Chem.rdchem._cppAtomValenceException object at 0x7f78cb5e0b30>,)\n",
      "index 2050, problems (<rdkit.Chem.rdchem._cppAtomValenceException object at 0x7f78cb501a50>, <rdkit.Chem.rdchem._cppAtomValenceException object at 0x7f78cb501dd0>, <rdkit.Chem.rdchem._cppAtomValenceException object at 0x7f78cb5012e0>, <rdkit.Chem.rdchem._cppAtomValenceException object at 0x7f78cb501eb0>, <rdkit.Chem.rdchem._cppAtomValenceException object at 0x7f78cb501cf0>, <rdkit.Chem.rdchem._cppAtomValenceException object at 0x7f78cb501ac0>, <rdkit.Chem.rdchem._cppAtomValenceException object at 0x7f78cb5010b0>, <rdkit.Chem.rdchem._cppAtomValenceException object at 0x7f78cb5019e0>)\n",
      "index 2054, problems (<rdkit.Chem.rdchem._cppAtomValenceException object at 0x7f78cb5012e0>, <rdkit.Chem.rdchem._cppAtomValenceException object at 0x7f78cb501eb0>, <rdkit.Chem.rdchem._cppAtomValenceException object at 0x7f78cb501cf0>, <rdkit.Chem.rdchem._cppAtomValenceException object at 0x7f78cb501ac0>)\n"
     ]
    },
    {
     "name": "stderr",
     "output_type": "stream",
     "text": [
      "==============================\n",
      "*** Open Babel Error  in TetStereoToWedgeHash\n",
      "  Failed to set stereochemistry as unable to find an available bond\n",
      "==============================\n",
      "*** Open Babel Error  in TetStereoToWedgeHash\n",
      "  Failed to set stereochemistry as unable to find an available bond\n"
     ]
    },
    {
     "name": "stdout",
     "output_type": "stream",
     "text": [
      "index 2060, problems (<rdkit.Chem.rdchem._cppAtomValenceException object at 0x7f78cb5e0c10>,)\n",
      "index 2068, problems (<rdkit.Chem.rdchem._cppAtomValenceException object at 0x7f78cb5012e0>, <rdkit.Chem.rdchem._cppAtomValenceException object at 0x7f78cb501eb0>)\n",
      "index 2072, problems (<rdkit.Chem.rdchem._cppAtomValenceException object at 0x7f78cb501820>, <rdkit.Chem.rdchem._cppAtomValenceException object at 0x7f78cb501200>, <rdkit.Chem.rdchem._cppAtomValenceException object at 0x7f78cb501c10>, <rdkit.Chem.rdchem._cppAtomValenceException object at 0x7f78cb501430>, <rdkit.Chem.rdchem._cppAtomValenceException object at 0x7f78cb501c80>, <rdkit.Chem.rdchem._cppAtomValenceException object at 0x7f78cb501510>, <rdkit.Chem.rdchem._cppAtomValenceException object at 0x7f78cb501ba0>, <rdkit.Chem.rdchem._cppAtomValenceException object at 0x7f78cb5017b0>, <rdkit.Chem.rdchem._cppAtomValenceException object at 0x7f78cb501e40>, <rdkit.Chem.rdchem._cppAtomValenceException object at 0x7f78cb5015f0>, <rdkit.Chem.rdchem._cppAtomValenceException object at 0x7f78cb501f90>, <rdkit.Chem.rdchem._cppAtomValenceException object at 0x7f78cb501350>)\n",
      "index 2085, problems (<rdkit.Chem.rdchem._cppAtomValenceException object at 0x7f78cb501820>, <rdkit.Chem.rdchem._cppAtomValenceException object at 0x7f78cb501200>)\n",
      "index 2117, problems (<rdkit.Chem.rdchem._cppAtomValenceException object at 0x7f78cb501e40>, <rdkit.Chem.rdchem._cppAtomValenceException object at 0x7f78cb5015f0>, <rdkit.Chem.rdchem._cppAtomValenceException object at 0x7f78cb501f90>, <rdkit.Chem.rdchem._cppAtomValenceException object at 0x7f78cb501350>, <rdkit.Chem.rdchem._cppAtomValenceException object at 0x7f78cb5012e0>, <rdkit.Chem.rdchem._cppAtomValenceException object at 0x7f78cb501eb0>, <rdkit.Chem.rdchem._cppAtomValenceException object at 0x7f78cb501cf0>, <rdkit.Chem.rdchem._cppAtomValenceException object at 0x7f78cb501ac0>, <rdkit.Chem.rdchem._cppAtomValenceException object at 0x7f78cb501a50>, <rdkit.Chem.rdchem._cppAtomValenceException object at 0x7f78cb501dd0>, <rdkit.Chem.rdchem._cppAtomValenceException object at 0x7f78cb5010b0>, <rdkit.Chem.rdchem._cppAtomValenceException object at 0x7f78cb5019e0>)\n",
      "index 2128, problems (<rdkit.Chem.rdchem._cppAtomValenceException object at 0x7f78cb501a50>, <rdkit.Chem.rdchem._cppAtomValenceException object at 0x7f78cb501dd0>, <rdkit.Chem.rdchem._cppAtomValenceException object at 0x7f78cb5010b0>, <rdkit.Chem.rdchem._cppAtomValenceException object at 0x7f78cb5019e0>, <rdkit.Chem.rdchem._cppAtomValenceException object at 0x7f78cb501820>, <rdkit.Chem.rdchem._cppAtomValenceException object at 0x7f78cb501200>, <rdkit.Chem.rdchem._cppAtomValenceException object at 0x7f78cb501c10>, <rdkit.Chem.rdchem._cppAtomValenceException object at 0x7f78cb501430>, <rdkit.Chem.rdchem._cppAtomValenceException object at 0x7f78cb501c80>, <rdkit.Chem.rdchem._cppAtomValenceException object at 0x7f78cb501510>)\n",
      "index 2135, problems (<rdkit.Chem.rdchem._cppAtomValenceException object at 0x7f78cb5010b0>, <rdkit.Chem.rdchem._cppAtomValenceException object at 0x7f78cb5019e0>, <rdkit.Chem.rdchem._cppAtomValenceException object at 0x7f78cb501820>, <rdkit.Chem.rdchem._cppAtomValenceException object at 0x7f78cb501200>)\n"
     ]
    },
    {
     "name": "stderr",
     "output_type": "stream",
     "text": [
      "==============================\n",
      "*** Open Babel Error  in TetStereoToWedgeHash\n",
      "  Failed to set stereochemistry as unable to find an available bond\n",
      "==============================\n",
      "*** Open Babel Error  in TetStereoToWedgeHash\n",
      "  Failed to set stereochemistry as unable to find an available bond\n"
     ]
    },
    {
     "name": "stdout",
     "output_type": "stream",
     "text": [
      "index 2141, problems (<rdkit.Chem.rdchem._cppAtomValenceException object at 0x7f78cb501e40>, <rdkit.Chem.rdchem._cppAtomValenceException object at 0x7f78cb5015f0>, <rdkit.Chem.rdchem._cppAtomValenceException object at 0x7f78cb501f90>, <rdkit.Chem.rdchem._cppAtomValenceException object at 0x7f78cb501350>, <rdkit.Chem.rdchem._cppAtomValenceException object at 0x7f78cb5012e0>, <rdkit.Chem.rdchem._cppAtomValenceException object at 0x7f78cb501eb0>, <rdkit.Chem.rdchem._cppAtomValenceException object at 0x7f78cb501cf0>, <rdkit.Chem.rdchem._cppAtomValenceException object at 0x7f78cb501ac0>, <rdkit.Chem.rdchem._cppAtomValenceException object at 0x7f78cb501ba0>, <rdkit.Chem.rdchem._cppAtomValenceException object at 0x7f78cb5017b0>, <rdkit.Chem.rdchem._cppAtomValenceException object at 0x7f78cb501740>, <rdkit.Chem.rdchem._cppAtomValenceException object at 0x7f78cb5016d0>, <rdkit.Chem.rdchem._cppAtomValenceException object at 0x7f78cb501b30>, <rdkit.Chem.rdchem._cppAtomValenceException object at 0x7f78cb501120>)\n",
      "index 2204, problems (<rdkit.Chem.rdchem._cppAtomValenceException object at 0x7f78cb501eb0>, <rdkit.Chem.rdchem._cppAtomValenceException object at 0x7f78cb501cf0>, <rdkit.Chem.rdchem._cppAtomValenceException object at 0x7f78cb501ac0>, <rdkit.Chem.rdchem._cppAtomValenceException object at 0x7f78cb501ba0>, <rdkit.Chem.rdchem._cppAtomValenceException object at 0x7f78cb5017b0>, <rdkit.Chem.rdchem._cppAtomValenceException object at 0x7f78cb501740>, <rdkit.Chem.rdchem._cppAtomValenceException object at 0x7f78cb5016d0>, <rdkit.Chem.rdchem._cppAtomValenceException object at 0x7f78cb501b30>)\n",
      "index 2208, problems (<rdkit.Chem.rdchem._cppAtomValenceException object at 0x7f78cb501ba0>, <rdkit.Chem.rdchem._cppAtomValenceException object at 0x7f78cb5017b0>, <rdkit.Chem.rdchem._cppAtomValenceException object at 0x7f78cb501740>, <rdkit.Chem.rdchem._cppAtomValenceException object at 0x7f78cb5016d0>, <rdkit.Chem.rdchem._cppAtomValenceException object at 0x7f78cb501b30>, <rdkit.Chem.rdchem._cppAtomValenceException object at 0x7f78cb501e40>)\n"
     ]
    },
    {
     "name": "stderr",
     "output_type": "stream",
     "text": [
      "==============================\n",
      "*** Open Babel Warning  in PerceiveBondOrders\n",
      "  Failed to kekulize aromatic bonds in OBMol::PerceiveBondOrders\n",
      "\n",
      "==============================\n",
      "*** Open Babel Warning  in PerceiveBondOrders\n",
      "  Failed to kekulize aromatic bonds in OBMol::PerceiveBondOrders\n",
      "\n",
      "==============================\n",
      "*** Open Babel Warning  in PerceiveBondOrders\n",
      "  Failed to kekulize aromatic bonds in OBMol::PerceiveBondOrders\n",
      "\n",
      "==============================\n",
      "*** Open Babel Warning  in PerceiveBondOrders\n",
      "  Failed to kekulize aromatic bonds in OBMol::PerceiveBondOrders\n",
      "\n",
      "==============================\n",
      "*** Open Babel Warning  in PerceiveBondOrders\n",
      "  Failed to kekulize aromatic bonds in OBMol::PerceiveBondOrders\n",
      "\n",
      "==============================\n",
      "*** Open Babel Warning  in PerceiveBondOrders\n",
      "  Failed to kekulize aromatic bonds in OBMol::PerceiveBondOrders\n",
      "\n",
      "==============================\n",
      "*** Open Babel Warning  in PerceiveBondOrders\n",
      "  Failed to kekulize aromatic bonds in OBMol::PerceiveBondOrders\n",
      "\n",
      "==============================\n",
      "*** Open Babel Warning  in PerceiveBondOrders\n",
      "  Failed to kekulize aromatic bonds in OBMol::PerceiveBondOrders\n",
      "\n",
      "==============================\n",
      "*** Open Babel Warning  in PerceiveBondOrders\n",
      "  Failed to kekulize aromatic bonds in OBMol::PerceiveBondOrders\n",
      "\n",
      "==============================\n",
      "*** Open Babel Warning  in PerceiveBondOrders\n",
      "  Failed to kekulize aromatic bonds in OBMol::PerceiveBondOrders\n",
      "\n",
      "==============================\n",
      "*** Open Babel Error  in TetStereoToWedgeHash\n",
      "  Failed to set stereochemistry as unable to find an available bond\n",
      "==============================\n",
      "*** Open Babel Warning  in PerceiveBondOrders\n",
      "  Failed to kekulize aromatic bonds in OBMol::PerceiveBondOrders\n",
      "\n",
      "==============================\n",
      "*** Open Babel Warning  in PerceiveBondOrders\n",
      "  Failed to kekulize aromatic bonds in OBMol::PerceiveBondOrders\n",
      "\n",
      "==============================\n",
      "*** Open Babel Warning  in PerceiveBondOrders\n",
      "  Failed to kekulize aromatic bonds in OBMol::PerceiveBondOrders\n",
      "\n",
      "==============================\n",
      "*** Open Babel Warning  in PerceiveBondOrders\n",
      "  Failed to kekulize aromatic bonds in OBMol::PerceiveBondOrders\n",
      "\n",
      "==============================\n",
      "*** Open Babel Warning  in PerceiveBondOrders\n",
      "  Failed to kekulize aromatic bonds in OBMol::PerceiveBondOrders\n",
      "\n",
      "==============================\n",
      "*** Open Babel Warning  in PerceiveBondOrders\n",
      "  Failed to kekulize aromatic bonds in OBMol::PerceiveBondOrders\n",
      "\n",
      "==============================\n",
      "*** Open Babel Error  in TetStereoToWedgeHash\n",
      "  Failed to set stereochemistry as unable to find an available bond\n",
      "==============================\n",
      "*** Open Babel Error  in TetStereoToWedgeHash\n",
      "  Failed to set stereochemistry as unable to find an available bond\n"
     ]
    },
    {
     "name": "stdout",
     "output_type": "stream",
     "text": [
      "index 2569, problems (<rdkit.Chem.rdchem._cppAtomValenceException object at 0x7f78cb5016d0>, <rdkit.Chem.rdchem._cppAtomValenceException object at 0x7f78cb501b30>, <rdkit.Chem.rdchem._cppAtomValenceException object at 0x7f78cb501e40>, <rdkit.Chem.rdchem._cppAtomValenceException object at 0x7f78cb501eb0>)\n",
      "index 2572, problems (<rdkit.Chem.rdchem._cppAtomValenceException object at 0x7f78cb501e40>, <rdkit.Chem.rdchem._cppAtomValenceException object at 0x7f78cb501eb0>, <rdkit.Chem.rdchem._cppAtomValenceException object at 0x7f78cb501740>, <rdkit.Chem.rdchem._cppAtomValenceException object at 0x7f78cb501cf0>, <rdkit.Chem.rdchem._cppAtomValenceException object at 0x7f78cb501ac0>, <rdkit.Chem.rdchem._cppAtomValenceException object at 0x7f78cb5015f0>)\n",
      "index 2615, problems (<rdkit.Chem.rdchem._cppAtomValenceException object at 0x7f78cb5e0ba0>,)\n"
     ]
    },
    {
     "name": "stderr",
     "output_type": "stream",
     "text": [
      "==============================\n",
      "*** Open Babel Error  in TetStereoToWedgeHash\n",
      "  Failed to set stereochemistry as unable to find an available bond\n",
      "==============================\n",
      "*** Open Babel Error  in TetStereoToWedgeHash\n",
      "  Failed to set stereochemistry as unable to find an available bond\n",
      "==============================\n",
      "*** Open Babel Error  in TetStereoToWedgeHash\n",
      "  Failed to set stereochemistry as unable to find an available bond\n",
      "==============================\n",
      "*** Open Babel Error  in TetStereoToWedgeHash\n",
      "  Failed to set stereochemistry as unable to find an available bond\n"
     ]
    },
    {
     "name": "stdout",
     "output_type": "stream",
     "text": [
      "index 2708, problems (<rdkit.Chem.rdchem._cppAtomValenceException object at 0x7f78cb5e0b30>, <rdkit.Chem.rdchem._cppAtomValenceException object at 0x7f78cb501ba0>)\n",
      "index 2728, problems (<rdkit.Chem.rdchem._cppAtomValenceException object at 0x7f78cb501ba0>, <rdkit.Chem.rdchem._cppAtomValenceException object at 0x7f78cb501e40>)\n",
      "index 2735, problems (<rdkit.Chem.rdchem._cppAtomValenceException object at 0x7f78cb501ba0>, <rdkit.Chem.rdchem._cppAtomValenceException object at 0x7f78cb501e40>)\n"
     ]
    },
    {
     "name": "stderr",
     "output_type": "stream",
     "text": [
      "==============================\n",
      "*** Open Babel Error  in TetStereoToWedgeHash\n",
      "  Failed to set stereochemistry as unable to find an available bond\n"
     ]
    },
    {
     "name": "stdout",
     "output_type": "stream",
     "text": [
      "index 2744, problems (<rdkit.Chem.rdchem._cppAtomValenceException object at 0x7f78cb501ba0>, <rdkit.Chem.rdchem._cppAtomValenceException object at 0x7f78cb501e40>, <rdkit.Chem.rdchem._cppAtomValenceException object at 0x7f78cb501eb0>)\n",
      "index 2753, problems (<rdkit.Chem.rdchem._cppAtomValenceException object at 0x7f78cb468580>, <rdkit.Chem.rdchem._cppAtomValenceException object at 0x7f78cb4685f0>, <rdkit.Chem.rdchem._cppAtomValenceException object at 0x7f78cb468660>, <rdkit.Chem.rdchem._cppAtomValenceException object at 0x7f78cb4686d0>, <rdkit.Chem.rdchem._cppAtomValenceException object at 0x7f78cb468740>, <rdkit.Chem.rdchem._cppAtomValenceException object at 0x7f78cb4687b0>, <rdkit.Chem.rdchem._cppAtomValenceException object at 0x7f78cb468820>, <rdkit.Chem.rdchem._cppAtomValenceException object at 0x7f78cb468890>, <rdkit.Chem.rdchem._cppAtomValenceException object at 0x7f78cb468900>, <rdkit.Chem.rdchem._cppAtomValenceException object at 0x7f78cb468970>, <rdkit.Chem.rdchem._cppAtomValenceException object at 0x7f78cb4689e0>, <rdkit.Chem.rdchem._cppAtomValenceException object at 0x7f78cb468a50>, <rdkit.Chem.rdchem._cppAtomValenceException object at 0x7f78cb468ac0>, <rdkit.Chem.rdchem._cppAtomValenceException object at 0x7f78cb468b30>, <rdkit.Chem.rdchem._cppAtomValenceException object at 0x7f78cb468ba0>, <rdkit.Chem.rdchem._cppAtomValenceException object at 0x7f78cb468c10>, <rdkit.Chem.rdchem._cppAtomValenceException object at 0x7f78cb468c80>, <rdkit.Chem.rdchem._cppAtomValenceException object at 0x7f78cb468cf0>, <rdkit.Chem.rdchem._cppAtomValenceException object at 0x7f78cb468d60>, <rdkit.Chem.rdchem._cppAtomValenceException object at 0x7f78cb468dd0>, <rdkit.Chem.rdchem._cppAtomValenceException object at 0x7f78cb468e40>, <rdkit.Chem.rdchem._cppAtomValenceException object at 0x7f78cb468eb0>, <rdkit.Chem.rdchem._cppAtomValenceException object at 0x7f78cb468f20>, <rdkit.Chem.rdchem._cppAtomValenceException object at 0x7f78cb468f90>, <rdkit.Chem.rdchem._cppAtomValenceException object at 0x7f78cb484040>, <rdkit.Chem.rdchem._cppAtomValenceException object at 0x7f78cb4840b0>, <rdkit.Chem.rdchem._cppAtomValenceException object at 0x7f78cb484120>, <rdkit.Chem.rdchem._cppAtomValenceException object at 0x7f78cb484190>, <rdkit.Chem.rdchem._cppAtomValenceException object at 0x7f78cb484200>, <rdkit.Chem.rdchem._cppAtomValenceException object at 0x7f78cb484270>, <rdkit.Chem.rdchem._cppAtomValenceException object at 0x7f78cb4842e0>, <rdkit.Chem.rdchem._cppAtomValenceException object at 0x7f78cb484350>, <rdkit.Chem.rdchem._cppAtomValenceException object at 0x7f78cb4843c0>, <rdkit.Chem.rdchem._cppAtomValenceException object at 0x7f78cb484430>, <rdkit.Chem.rdchem._cppAtomValenceException object at 0x7f78cb4844a0>, <rdkit.Chem.rdchem._cppAtomValenceException object at 0x7f78cb484510>, <rdkit.Chem.rdchem._cppAtomValenceException object at 0x7f78cb484580>, <rdkit.Chem.rdchem._cppAtomValenceException object at 0x7f78cb4845f0>, <rdkit.Chem.rdchem._cppAtomValenceException object at 0x7f78cb484660>, <rdkit.Chem.rdchem._cppAtomValenceException object at 0x7f78cb4846d0>, <rdkit.Chem.rdchem._cppAtomValenceException object at 0x7f78cb484740>, <rdkit.Chem.rdchem._cppAtomValenceException object at 0x7f78cb4847b0>, <rdkit.Chem.rdchem._cppAtomValenceException object at 0x7f78cb484820>, <rdkit.Chem.rdchem._cppAtomValenceException object at 0x7f78cb484890>)\n",
      "index 2760, problems (<rdkit.Chem.rdchem._cppAtomValenceException object at 0x7f78cb501e40>, <rdkit.Chem.rdchem._cppAtomValenceException object at 0x7f78cb501eb0>, <rdkit.Chem.rdchem._cppAtomValenceException object at 0x7f78cb501740>, <rdkit.Chem.rdchem._cppAtomValenceException object at 0x7f78cb501cf0>)\n",
      "index 2764, problems (<rdkit.Chem.rdchem._cppAtomValenceException object at 0x7f78cb5e0b30>, <rdkit.Chem.rdchem._cppAtomValenceException object at 0x7f78cb5e0ba0>)\n",
      "index 2765, problems (<rdkit.Chem.rdchem._cppAtomValenceException object at 0x7f78cb5e0b30>, <rdkit.Chem.rdchem._cppAtomValenceException object at 0x7f78cb5e0ba0>, <rdkit.Chem.rdchem._cppAtomValenceException object at 0x7f78cb501510>, <rdkit.Chem.rdchem._cppAtomValenceException object at 0x7f78cb5014a0>, <rdkit.Chem.rdchem._cppAtomValenceException object at 0x7f78cb501d60>, <rdkit.Chem.rdchem._cppAtomValenceException object at 0x7f78cb501040>, <rdkit.Chem.rdchem._cppAtomValenceException object at 0x7f78cb501f20>, <rdkit.Chem.rdchem._cppAtomValenceException object at 0x7f78cb5013c0>, <rdkit.Chem.rdchem._cppAtomValenceException object at 0x7f78cb4cc040>, <rdkit.Chem.rdchem._cppAtomValenceException object at 0x7f78cb4cc0b0>, <rdkit.Chem.rdchem._cppAtomValenceException object at 0x7f78cb4cc120>, <rdkit.Chem.rdchem._cppAtomValenceException object at 0x7f78cb4cc190>, <rdkit.Chem.rdchem._cppAtomValenceException object at 0x7f78cb4cc200>, <rdkit.Chem.rdchem._cppAtomValenceException object at 0x7f78cb4cc270>, <rdkit.Chem.rdchem._cppAtomValenceException object at 0x7f78cb4cc2e0>, <rdkit.Chem.rdchem._cppAtomValenceException object at 0x7f78cb4cc350>, <rdkit.Chem.rdchem._cppAtomValenceException object at 0x7f78cb4cc3c0>, <rdkit.Chem.rdchem._cppAtomValenceException object at 0x7f78cb4cc430>, <rdkit.Chem.rdchem._cppAtomValenceException object at 0x7f78cb4cc4a0>, <rdkit.Chem.rdchem._cppAtomValenceException object at 0x7f78cb4cc510>, <rdkit.Chem.rdchem._cppAtomValenceException object at 0x7f78cb4cc580>, <rdkit.Chem.rdchem._cppAtomValenceException object at 0x7f78cb4cc5f0>, <rdkit.Chem.rdchem._cppAtomValenceException object at 0x7f78cb4cc660>, <rdkit.Chem.rdchem._cppAtomValenceException object at 0x7f78cb4cc6d0>)\n",
      "index 2769, problems (<rdkit.Chem.rdchem._cppAtomValenceException object at 0x7f78cb5013c0>, <rdkit.Chem.rdchem._cppAtomValenceException object at 0x7f78cb501e40>, <rdkit.Chem.rdchem._cppAtomValenceException object at 0x7f78cb501eb0>, <rdkit.Chem.rdchem._cppAtomValenceException object at 0x7f78cb501740>, <rdkit.Chem.rdchem._cppAtomValenceException object at 0x7f78cb501cf0>, <rdkit.Chem.rdchem._cppAtomValenceException object at 0x7f78cb501ba0>, <rdkit.Chem.rdchem._cppAtomValenceException object at 0x7f78cb501ac0>, <rdkit.Chem.rdchem._cppAtomValenceException object at 0x7f78cb5015f0>)\n",
      "index 2774, problems (<rdkit.Chem.rdchem._cppAtomValenceException object at 0x7f78cb5e0c10>, <rdkit.Chem.rdchem._cppAtomValenceException object at 0x7f78cb5013c0>)\n",
      "index 2777, problems (<rdkit.Chem.rdchem._cppAtomValenceException object at 0x7f78cb5e0ba0>, <rdkit.Chem.rdchem._cppAtomValenceException object at 0x7f78cb5013c0>)\n",
      "index 2779, problems (<rdkit.Chem.rdchem._cppAtomValenceException object at 0x7f78cb5013c0>, <rdkit.Chem.rdchem._cppAtomValenceException object at 0x7f78cb501e40>)\n",
      "index 2780, problems (<rdkit.Chem.rdchem._cppAtomValenceException object at 0x7f78cb5013c0>, <rdkit.Chem.rdchem._cppAtomValenceException object at 0x7f78cb501e40>)\n",
      "index 2781, problems (<rdkit.Chem.rdchem._cppAtomValenceException object at 0x7f78cb5013c0>, <rdkit.Chem.rdchem._cppAtomValenceException object at 0x7f78cb501e40>, <rdkit.Chem.rdchem._cppAtomValenceException object at 0x7f78cb501510>, <rdkit.Chem.rdchem._cppAtomValenceException object at 0x7f78cb5014a0>, <rdkit.Chem.rdchem._cppAtomValenceException object at 0x7f78cb501d60>, <rdkit.Chem.rdchem._cppAtomValenceException object at 0x7f78cb501040>, <rdkit.Chem.rdchem._cppAtomValenceException object at 0x7f78cb501f20>, <rdkit.Chem.rdchem._cppAtomValenceException object at 0x7f78cb5017b0>)\n",
      "index 2783, problems (<rdkit.Chem.rdchem._cppAtomValenceException object at 0x7f78cb501eb0>, <rdkit.Chem.rdchem._cppAtomValenceException object at 0x7f78cb501740>, <rdkit.Chem.rdchem._cppAtomValenceException object at 0x7f78cb501cf0>, <rdkit.Chem.rdchem._cppAtomValenceException object at 0x7f78cb501ba0>, <rdkit.Chem.rdchem._cppAtomValenceException object at 0x7f78cb501ac0>, <rdkit.Chem.rdchem._cppAtomValenceException object at 0x7f78cb5015f0>, <rdkit.Chem.rdchem._cppAtomValenceException object at 0x7f78cb5016d0>, <rdkit.Chem.rdchem._cppAtomValenceException object at 0x7f78cb501b30>, <rdkit.Chem.rdchem._cppAtomValenceException object at 0x7f78cb501f90>, <rdkit.Chem.rdchem._cppAtomValenceException object at 0x7f78cb501350>)\n",
      "index 2784, problems (<rdkit.Chem.rdchem._cppAtomValenceException object at 0x7f78cb501eb0>, <rdkit.Chem.rdchem._cppAtomValenceException object at 0x7f78cb501740>)\n",
      "index 2786, problems (<rdkit.Chem.rdchem._cppAtomValenceException object at 0x7f78cb5016d0>, <rdkit.Chem.rdchem._cppAtomValenceException object at 0x7f78cb501b30>, <rdkit.Chem.rdchem._cppAtomValenceException object at 0x7f78cb501f90>, <rdkit.Chem.rdchem._cppAtomValenceException object at 0x7f78cb501350>, <rdkit.Chem.rdchem._cppAtomValenceException object at 0x7f78cb5013c0>, <rdkit.Chem.rdchem._cppAtomValenceException object at 0x7f78cb501e40>, <rdkit.Chem.rdchem._cppAtomValenceException object at 0x7f78cb501510>, <rdkit.Chem.rdchem._cppAtomValenceException object at 0x7f78cb5014a0>)\n"
     ]
    },
    {
     "name": "stderr",
     "output_type": "stream",
     "text": [
      "==============================\n",
      "*** Open Babel Error  in TetStereoToWedgeHash\n",
      "  Failed to set stereochemistry as unable to find an available bond\n",
      "==============================\n",
      "*** Open Babel Error  in TetStereoToWedgeHash\n",
      "  Failed to set stereochemistry as unable to find an available bond\n",
      "==============================\n",
      "*** Open Babel Error  in TetStereoToWedgeHash\n",
      "  Failed to set stereochemistry as unable to find an available bond\n",
      "==============================\n",
      "*** Open Babel Error  in TetStereoToWedgeHash\n",
      "  Failed to set stereochemistry as unable to find an available bond\n"
     ]
    },
    {
     "name": "stdout",
     "output_type": "stream",
     "text": [
      "index 2789, problems (<rdkit.Chem.rdchem._cppAtomValenceException object at 0x7f78cb501350>, <rdkit.Chem.rdchem._cppAtomValenceException object at 0x7f78cb5013c0>, <rdkit.Chem.rdchem._cppAtomValenceException object at 0x7f78cb501e40>, <rdkit.Chem.rdchem._cppAtomValenceException object at 0x7f78cb501510>, <rdkit.Chem.rdchem._cppAtomValenceException object at 0x7f78cb5014a0>, <rdkit.Chem.rdchem._cppAtomValenceException object at 0x7f78cb501eb0>)\n",
      "index 2823, problems (<rdkit.Chem.rdchem._cppAtomValenceException object at 0x7f78cb5013c0>, <rdkit.Chem.rdchem._cppAtomValenceException object at 0x7f78cb501e40>, <rdkit.Chem.rdchem._cppAtomValenceException object at 0x7f78cb501510>, <rdkit.Chem.rdchem._cppAtomValenceException object at 0x7f78cb5014a0>)\n",
      "index 2825, problems (<rdkit.Chem.rdchem._cppAtomValenceException object at 0x7f78cb5e0b30>, <rdkit.Chem.rdchem._cppAtomValenceException object at 0x7f78cb5013c0>)\n",
      "index 2831, problems (<rdkit.Chem.rdchem._cppAtomValenceException object at 0x7f78cb5e0ba0>,)\n"
     ]
    },
    {
     "name": "stderr",
     "output_type": "stream",
     "text": [
      "==============================\n",
      "*** Open Babel Warning  in PerceiveBondOrders\n",
      "  Failed to kekulize aromatic bonds in OBMol::PerceiveBondOrders\n",
      "\n",
      "==============================\n",
      "*** Open Babel Error  in TetStereoToWedgeHash\n",
      "  Failed to set stereochemistry as unable to find an available bond\n",
      "==============================\n",
      "*** Open Babel Error  in TetStereoToWedgeHash\n",
      "  Failed to set stereochemistry as unable to find an available bond\n",
      "==============================\n",
      "*** Open Babel Error  in TetStereoToWedgeHash\n",
      "  Failed to set stereochemistry as unable to find an available bond\n"
     ]
    },
    {
     "name": "stdout",
     "output_type": "stream",
     "text": [
      "index 2832, problems (<rdkit.Chem.rdchem._cppAtomValenceException object at 0x7f78cb5e0ba0>, <rdkit.Chem.rdchem._cppAtomValenceException object at 0x7f78cb501f20>, <rdkit.Chem.rdchem._cppAtomValenceException object at 0x7f78cb5017b0>, <rdkit.Chem.rdchem._cppAtomValenceException object at 0x7f78cb5012e0>, <rdkit.Chem.rdchem._cppAtomValenceException object at 0x7f78cb501120>, <rdkit.Chem.rdchem._cppAtomValenceException object at 0x7f78cb5010b0>, <rdkit.Chem.rdchem._cppAtomValenceException object at 0x7f78cb5019e0>, <rdkit.Chem.rdchem._cppAtomValenceException object at 0x7f78cb501820>, <rdkit.Chem.rdchem._cppAtomValenceException object at 0x7f78cb501200>, <rdkit.Chem.rdchem._cppAtomValenceException object at 0x7f78cb501a50>, <rdkit.Chem.rdchem._cppAtomValenceException object at 0x7f78cb501dd0>, <rdkit.Chem.rdchem._cppAtomValenceException object at 0x7f78cb501c10>, <rdkit.Chem.rdchem._cppAtomValenceException object at 0x7f78cb501430>, <rdkit.Chem.rdchem._cppAtomValenceException object at 0x7f78cb501c80>, <rdkit.Chem.rdchem._cppAtomValenceException object at 0x7f78cb9c3040>, <rdkit.Chem.rdchem._cppAtomValenceException object at 0x7f78cb9c30b0>, <rdkit.Chem.rdchem._cppAtomValenceException object at 0x7f78cb9c3120>, <rdkit.Chem.rdchem._cppAtomValenceException object at 0x7f78cb9c3190>)\n",
      "index 2834, problems (<rdkit.Chem.rdchem._cppAtomValenceException object at 0x7f78cb5e0c10>,)\n",
      "index 2835, problems (<rdkit.Chem.rdchem._cppAtomValenceException object at 0x7f78cb5e0c10>, <rdkit.Chem.rdchem._cppAtomValenceException object at 0x7f78cb5017b0>)\n",
      "index 2852, problems (<rdkit.Chem.rdchem._cppAtomValenceException object at 0x7f78cb5017b0>, <rdkit.Chem.rdchem._cppAtomValenceException object at 0x7f78cb501f20>)\n"
     ]
    },
    {
     "name": "stderr",
     "output_type": "stream",
     "text": [
      "==============================\n",
      "*** Open Babel Error  in TetStereoToWedgeHash\n",
      "  Failed to set stereochemistry as unable to find an available bond\n",
      "==============================\n",
      "*** Open Babel Error  in TetStereoToWedgeHash\n",
      "  Failed to set stereochemistry as unable to find an available bond\n",
      "==============================\n",
      "*** Open Babel Error  in TetStereoToWedgeHash\n",
      "  Failed to set stereochemistry as unable to find an available bond\n",
      "==============================\n",
      "*** Open Babel Error  in TetStereoToWedgeHash\n",
      "  Failed to set stereochemistry as unable to find an available bond\n"
     ]
    },
    {
     "name": "stdout",
     "output_type": "stream",
     "text": [
      "index 2909, problems (<rdkit.Chem.rdchem._cppAtomValenceException object at 0x7f78cb5012e0>, <rdkit.Chem.rdchem._cppAtomValenceException object at 0x7f78cb501120>, <rdkit.Chem.rdchem._cppAtomValenceException object at 0x7f78cb5010b0>, <rdkit.Chem.rdchem._cppAtomValenceException object at 0x7f78cb5019e0>, <rdkit.Chem.rdchem._cppAtomValenceException object at 0x7f78cb501820>)\n",
      "index 2910, problems (<rdkit.Chem.rdchem._cppAtomValenceException object at 0x7f78cb5e0c10>, <rdkit.Chem.rdchem._cppAtomValenceException object at 0x7f78cb5012e0>)\n",
      "index 2946, problems (<rdkit.Chem.rdchem._cppAtomValenceException object at 0x7f78cb501820>, <rdkit.Chem.rdchem._cppAtomValenceException object at 0x7f78cb5017b0>, <rdkit.Chem.rdchem._cppAtomValenceException object at 0x7f78cb501f20>, <rdkit.Chem.rdchem._cppAtomValenceException object at 0x7f78cb501200>, <rdkit.Chem.rdchem._cppAtomValenceException object at 0x7f78cb501a50>, <rdkit.Chem.rdchem._cppAtomValenceException object at 0x7f78cb501dd0>)\n",
      "index 2982, problems (<rdkit.Chem.rdchem._cppAtomValenceException object at 0x7f78cb501c10>, <rdkit.Chem.rdchem._cppAtomValenceException object at 0x7f78cb501430>, <rdkit.Chem.rdchem._cppAtomValenceException object at 0x7f78cb501c80>, <rdkit.Chem.rdchem._cppAtomValenceException object at 0x7f78cb5013c0>, <rdkit.Chem.rdchem._cppAtomValenceException object at 0x7f78cb501e40>, <rdkit.Chem.rdchem._cppAtomValenceException object at 0x7f78cb501510>, <rdkit.Chem.rdchem._cppAtomValenceException object at 0x7f78cb5014a0>, <rdkit.Chem.rdchem._cppAtomValenceException object at 0x7f78cb501350>, <rdkit.Chem.rdchem._cppAtomValenceException object at 0x7f78cb501eb0>, <rdkit.Chem.rdchem._cppAtomValenceException object at 0x7f78cb5016d0>, <rdkit.Chem.rdchem._cppAtomValenceException object at 0x7f78cb501b30>, <rdkit.Chem.rdchem._cppAtomValenceException object at 0x7f78cb501f90>)\n"
     ]
    },
    {
     "name": "stderr",
     "output_type": "stream",
     "text": [
      "==============================\n",
      "*** Open Babel Error  in TetStereoToWedgeHash\n",
      "  Failed to set stereochemistry as unable to find an available bond\n",
      "==============================\n",
      "*** Open Babel Error  in TetStereoToWedgeHash\n",
      "  Failed to set stereochemistry as unable to find an available bond\n",
      "==============================\n",
      "*** Open Babel Error  in TetStereoToWedgeHash\n",
      "  Failed to set stereochemistry as unable to find an available bond\n"
     ]
    },
    {
     "name": "stdout",
     "output_type": "stream",
     "text": [
      "index 2987, problems (<rdkit.Chem.rdchem._cppAtomValenceException object at 0x7f78cb501430>, <rdkit.Chem.rdchem._cppAtomValenceException object at 0x7f78cb501c80>)\n",
      "index 3015, problems (<rdkit.Chem.rdchem._cppAtomValenceException object at 0x7f78cb5e0ba0>,)\n",
      "index 3029, problems (<rdkit.Chem.rdchem._cppAtomValenceException object at 0x7f78cb501430>, <rdkit.Chem.rdchem._cppAtomValenceException object at 0x7f78cb501c80>, <rdkit.Chem.rdchem._cppAtomValenceException object at 0x7f78cb501c10>)\n",
      "index 3030, problems (<rdkit.Chem.rdchem._cppAtomValenceException object at 0x7f78cb501430>, <rdkit.Chem.rdchem._cppAtomValenceException object at 0x7f78cb501c80>, <rdkit.Chem.rdchem._cppAtomValenceException object at 0x7f78cb501c10>, <rdkit.Chem.rdchem._cppAtomValenceException object at 0x7f78cb501eb0>, <rdkit.Chem.rdchem._cppAtomValenceException object at 0x7f78cb5016d0>, <rdkit.Chem.rdchem._cppAtomValenceException object at 0x7f78cb501b30>, <rdkit.Chem.rdchem._cppAtomValenceException object at 0x7f78cb501f90>, <rdkit.Chem.rdchem._cppAtomValenceException object at 0x7f78cb501820>)\n"
     ]
    },
    {
     "name": "stderr",
     "output_type": "stream",
     "text": [
      "==============================\n",
      "*** Open Babel Error  in TetStereoToWedgeHash\n",
      "  Failed to set stereochemistry as unable to find an available bond\n"
     ]
    },
    {
     "name": "stdout",
     "output_type": "stream",
     "text": [
      "index 3058, problems (<rdkit.Chem.rdchem._cppAtomValenceException object at 0x7f78cb5e0b30>, <rdkit.Chem.rdchem._cppAtomValenceException object at 0x7f78cb501430>)\n",
      "index 3062, problems (<rdkit.Chem.rdchem._cppAtomValenceException object at 0x7f78cb501c80>, <rdkit.Chem.rdchem._cppAtomValenceException object at 0x7f78cb501c10>, <rdkit.Chem.rdchem._cppAtomValenceException object at 0x7f78cb501eb0>)\n",
      "index 3073, problems (<rdkit.Chem.rdchem._cppAtomValenceException object at 0x7f78cb5e0dd0>,)\n"
     ]
    },
    {
     "name": "stderr",
     "output_type": "stream",
     "text": [
      "==============================\n",
      "*** Open Babel Error  in TetStereoToWedgeHash\n",
      "  Failed to set stereochemistry as unable to find an available bond\n",
      "==============================\n",
      "*** Open Babel Error  in TetStereoToWedgeHash\n",
      "  Failed to set stereochemistry as unable to find an available bond\n"
     ]
    },
    {
     "name": "stdout",
     "output_type": "stream",
     "text": [
      "index 3102, problems (<rdkit.Chem.rdchem._cppAtomValenceException object at 0x7f78cb5e0b30>, <rdkit.Chem.rdchem._cppAtomValenceException object at 0x7f78cb501c80>, <rdkit.Chem.rdchem._cppAtomValenceException object at 0x7f78cb501c10>)\n",
      "index 3103, problems (<rdkit.Chem.rdchem._cppAtomValenceException object at 0x7f78cb5e0b30>,)\n",
      "index 3115, problems (<rdkit.Chem.rdchem._cppAtomValenceException object at 0x7f78cb501b30>, <rdkit.Chem.rdchem._cppAtomValenceException object at 0x7f78cb501f90>, <rdkit.Chem.rdchem._cppAtomValenceException object at 0x7f78cb501820>, <rdkit.Chem.rdchem._cppAtomValenceException object at 0x7f78cb5013c0>, <rdkit.Chem.rdchem._cppAtomValenceException object at 0x7f78cb501e40>, <rdkit.Chem.rdchem._cppAtomValenceException object at 0x7f78cb501510>, <rdkit.Chem.rdchem._cppAtomValenceException object at 0x7f78cb5014a0>, <rdkit.Chem.rdchem._cppAtomValenceException object at 0x7f78cb501350>)\n",
      "index 3116, problems (<rdkit.Chem.rdchem._cppAtomValenceException object at 0x7f78cb501b30>, <rdkit.Chem.rdchem._cppAtomValenceException object at 0x7f78cb501f90>, <rdkit.Chem.rdchem._cppAtomValenceException object at 0x7f78cb501820>, <rdkit.Chem.rdchem._cppAtomValenceException object at 0x7f78cb5013c0>, <rdkit.Chem.rdchem._cppAtomValenceException object at 0x7f78cb501e40>, <rdkit.Chem.rdchem._cppAtomValenceException object at 0x7f78cb501510>, <rdkit.Chem.rdchem._cppAtomValenceException object at 0x7f78cb5014a0>, <rdkit.Chem.rdchem._cppAtomValenceException object at 0x7f78cb501350>, <rdkit.Chem.rdchem._cppAtomValenceException object at 0x7f78cb5019e0>, <rdkit.Chem.rdchem._cppAtomValenceException object at 0x7f78cb501740>, <rdkit.Chem.rdchem._cppAtomValenceException object at 0x7f78cb501cf0>, <rdkit.Chem.rdchem._cppAtomValenceException object at 0x7f78cb501ba0>, <rdkit.Chem.rdchem._cppAtomValenceException object at 0x7f78cb501ac0>, <rdkit.Chem.rdchem._cppAtomValenceException object at 0x7f78cb5015f0>, <rdkit.Chem.rdchem._cppAtomValenceException object at 0x7f78cb501d60>, <rdkit.Chem.rdchem._cppAtomValenceException object at 0x7f78cb501040>)\n",
      "index 3117, problems (<rdkit.Chem.rdchem._cppAtomValenceException object at 0x7f78cb5e0c10>, <rdkit.Chem.rdchem._cppAtomValenceException object at 0x7f78cb501b30>)\n",
      "index 3123, problems (<rdkit.Chem.rdchem._cppAtomValenceException object at 0x7f78cb5e0dd0>, <rdkit.Chem.rdchem._cppAtomValenceException object at 0x7f78cb501b30>)\n",
      "index 3125, problems (<rdkit.Chem.rdchem._cppAtomValenceException object at 0x7f78cb5e0b30>, <rdkit.Chem.rdchem._cppAtomValenceException object at 0x7f78cb501b30>)\n",
      "index 3126, problems (<rdkit.Chem.rdchem._cppAtomValenceException object at 0x7f78cb5e0b30>, <rdkit.Chem.rdchem._cppAtomValenceException object at 0x7f78cb501b30>, <rdkit.Chem.rdchem._cppAtomValenceException object at 0x7f78cb501350>, <rdkit.Chem.rdchem._cppAtomValenceException object at 0x7f78cb5019e0>, <rdkit.Chem.rdchem._cppAtomValenceException object at 0x7f78cb501740>, <rdkit.Chem.rdchem._cppAtomValenceException object at 0x7f78cb501cf0>, <rdkit.Chem.rdchem._cppAtomValenceException object at 0x7f78cb501ba0>, <rdkit.Chem.rdchem._cppAtomValenceException object at 0x7f78cb501ac0>)\n"
     ]
    },
    {
     "name": "stderr",
     "output_type": "stream",
     "text": [
      "==============================\n",
      "*** Open Babel Error  in TetStereoToWedgeHash\n",
      "  Failed to set stereochemistry as unable to find an available bond\n"
     ]
    },
    {
     "name": "stdout",
     "output_type": "stream",
     "text": [
      "index 3338, problems (<rdkit.Chem.rdchem._cppAtomValenceException object at 0x7f78cb5e0dd0>, <rdkit.Chem.rdchem._cppAtomValenceException object at 0x7f78cb5e0c10>)\n"
     ]
    },
    {
     "name": "stderr",
     "output_type": "stream",
     "text": [
      "==============================\n",
      "*** Open Babel Warning  in PerceiveBondOrders\n",
      "  Failed to kekulize aromatic bonds in OBMol::PerceiveBondOrders\n",
      "\n",
      "==============================\n",
      "*** Open Babel Warning  in PerceiveBondOrders\n",
      "  Failed to kekulize aromatic bonds in OBMol::PerceiveBondOrders\n",
      "\n",
      "==============================\n",
      "*** Open Babel Warning  in PerceiveBondOrders\n",
      "  Failed to kekulize aromatic bonds in OBMol::PerceiveBondOrders\n",
      "\n",
      "==============================\n",
      "*** Open Babel Warning  in PerceiveBondOrders\n",
      "  Failed to kekulize aromatic bonds in OBMol::PerceiveBondOrders\n",
      "\n",
      "==============================\n",
      "*** Open Babel Warning  in PerceiveBondOrders\n",
      "  Failed to kekulize aromatic bonds in OBMol::PerceiveBondOrders\n",
      "\n",
      "==============================\n",
      "*** Open Babel Warning  in PerceiveBondOrders\n",
      "  Failed to kekulize aromatic bonds in OBMol::PerceiveBondOrders\n",
      "\n",
      "==============================\n",
      "*** Open Babel Warning  in PerceiveBondOrders\n",
      "  Failed to kekulize aromatic bonds in OBMol::PerceiveBondOrders\n",
      "\n",
      "==============================\n",
      "*** Open Babel Warning  in PerceiveBondOrders\n",
      "  Failed to kekulize aromatic bonds in OBMol::PerceiveBondOrders\n",
      "\n",
      "==============================\n",
      "*** Open Babel Warning  in PerceiveBondOrders\n",
      "  Failed to kekulize aromatic bonds in OBMol::PerceiveBondOrders\n",
      "\n",
      "==============================\n",
      "*** Open Babel Warning  in PerceiveBondOrders\n",
      "  Failed to kekulize aromatic bonds in OBMol::PerceiveBondOrders\n",
      "\n",
      "==============================\n",
      "*** Open Babel Warning  in PerceiveBondOrders\n",
      "  Failed to kekulize aromatic bonds in OBMol::PerceiveBondOrders\n",
      "\n",
      "==============================\n",
      "*** Open Babel Warning  in PerceiveBondOrders\n",
      "  Failed to kekulize aromatic bonds in OBMol::PerceiveBondOrders\n",
      "\n",
      "==============================\n",
      "*** Open Babel Warning  in PerceiveBondOrders\n",
      "  Failed to kekulize aromatic bonds in OBMol::PerceiveBondOrders\n",
      "\n",
      "==============================\n",
      "*** Open Babel Warning  in PerceiveBondOrders\n",
      "  Failed to kekulize aromatic bonds in OBMol::PerceiveBondOrders\n",
      "\n",
      "==============================\n",
      "*** Open Babel Warning  in PerceiveBondOrders\n",
      "  Failed to kekulize aromatic bonds in OBMol::PerceiveBondOrders\n",
      "\n",
      "==============================\n",
      "*** Open Babel Warning  in PerceiveBondOrders\n",
      "  Failed to kekulize aromatic bonds in OBMol::PerceiveBondOrders\n",
      "\n",
      "==============================\n",
      "*** Open Babel Warning  in PerceiveBondOrders\n",
      "  Failed to kekulize aromatic bonds in OBMol::PerceiveBondOrders\n",
      "\n",
      "==============================\n",
      "*** Open Babel Warning  in PerceiveBondOrders\n",
      "  Failed to kekulize aromatic bonds in OBMol::PerceiveBondOrders\n",
      "\n",
      "==============================\n",
      "*** Open Babel Warning  in PerceiveBondOrders\n",
      "  Failed to kekulize aromatic bonds in OBMol::PerceiveBondOrders\n",
      "\n",
      "==============================\n",
      "*** Open Babel Warning  in PerceiveBondOrders\n",
      "  Failed to kekulize aromatic bonds in OBMol::PerceiveBondOrders\n",
      "\n",
      "==============================\n",
      "*** Open Babel Warning  in PerceiveBondOrders\n",
      "  Failed to kekulize aromatic bonds in OBMol::PerceiveBondOrders\n",
      "\n",
      "==============================\n",
      "*** Open Babel Error  in TetStereoToWedgeHash\n",
      "  Failed to set stereochemistry as unable to find an available bond\n",
      "==============================\n",
      "*** Open Babel Error  in TetStereoToWedgeHash\n",
      "  Failed to set stereochemistry as unable to find an available bond\n"
     ]
    },
    {
     "name": "stdout",
     "output_type": "stream",
     "text": [
      "index 3695, problems (<rdkit.Chem.rdchem._cppAtomValenceException object at 0x7f78cb5e0c10>, <rdkit.Chem.rdchem._cppAtomValenceException object at 0x7f78cb501b30>)\n",
      "index 3713, problems (<rdkit.Chem.rdchem._cppAtomValenceException object at 0x7f78cb501350>, <rdkit.Chem.rdchem._cppAtomValenceException object at 0x7f78cb5019e0>, <rdkit.Chem.rdchem._cppAtomValenceException object at 0x7f78cb501740>)\n",
      "index 3714, problems (<rdkit.Chem.rdchem._cppAtomValenceException object at 0x7f78cb501350>, <rdkit.Chem.rdchem._cppAtomValenceException object at 0x7f78cb5019e0>, <rdkit.Chem.rdchem._cppAtomValenceException object at 0x7f78cb501740>, <rdkit.Chem.rdchem._cppAtomValenceException object at 0x7f78cb5013c0>, <rdkit.Chem.rdchem._cppAtomValenceException object at 0x7f78cb501e40>, <rdkit.Chem.rdchem._cppAtomValenceException object at 0x7f78cb501510>, <rdkit.Chem.rdchem._cppAtomValenceException object at 0x7f78cb5014a0>, <rdkit.Chem.rdchem._cppAtomValenceException object at 0x7f78cb5015f0>)\n",
      "index 3719, problems (<rdkit.Chem.rdchem._cppAtomValenceException object at 0x7f78cb501e40>, <rdkit.Chem.rdchem._cppAtomValenceException object at 0x7f78cb501510>, <rdkit.Chem.rdchem._cppAtomValenceException object at 0x7f78cb5014a0>, <rdkit.Chem.rdchem._cppAtomValenceException object at 0x7f78cb5015f0>, <rdkit.Chem.rdchem._cppAtomValenceException object at 0x7f78cb501b30>, <rdkit.Chem.rdchem._cppAtomValenceException object at 0x7f78cb501cf0>)\n"
     ]
    },
    {
     "name": "stderr",
     "output_type": "stream",
     "text": [
      "==============================\n",
      "*** Open Babel Error  in TetStereoToWedgeHash\n",
      "  Failed to set stereochemistry as unable to find an available bond\n",
      "==============================\n",
      "*** Open Babel Error  in TetStereoToWedgeHash\n",
      "  Failed to set stereochemistry as unable to find an available bond\n"
     ]
    },
    {
     "name": "stdout",
     "output_type": "stream",
     "text": [
      "index 3732, problems (<rdkit.Chem.rdchem._cppAtomValenceException object at 0x7f78cb5019e0>, <rdkit.Chem.rdchem._cppAtomValenceException object at 0x7f78cb501740>, <rdkit.Chem.rdchem._cppAtomValenceException object at 0x7f78cb5013c0>, <rdkit.Chem.rdchem._cppAtomValenceException object at 0x7f78cb501ba0>, <rdkit.Chem.rdchem._cppAtomValenceException object at 0x7f78cb501ac0>, <rdkit.Chem.rdchem._cppAtomValenceException object at 0x7f78cb501f90>, <rdkit.Chem.rdchem._cppAtomValenceException object at 0x7f78cb501820>, <rdkit.Chem.rdchem._cppAtomValenceException object at 0x7f78cb501d60>, <rdkit.Chem.rdchem._cppAtomValenceException object at 0x7f78cb501040>, <rdkit.Chem.rdchem._cppAtomValenceException object at 0x7f78cb501c80>)\n",
      "index 3733, problems (<rdkit.Chem.rdchem._cppAtomValenceException object at 0x7f78cb5019e0>, <rdkit.Chem.rdchem._cppAtomValenceException object at 0x7f78cb501740>, <rdkit.Chem.rdchem._cppAtomValenceException object at 0x7f78cb5013c0>, <rdkit.Chem.rdchem._cppAtomValenceException object at 0x7f78cb501ba0>, <rdkit.Chem.rdchem._cppAtomValenceException object at 0x7f78cb501ac0>, <rdkit.Chem.rdchem._cppAtomValenceException object at 0x7f78cb501f90>, <rdkit.Chem.rdchem._cppAtomValenceException object at 0x7f78cb501820>, <rdkit.Chem.rdchem._cppAtomValenceException object at 0x7f78cb501d60>)\n",
      "index 3734, problems (<rdkit.Chem.rdchem._cppAtomValenceException object at 0x7f78cb5019e0>, <rdkit.Chem.rdchem._cppAtomValenceException object at 0x7f78cb501740>, <rdkit.Chem.rdchem._cppAtomValenceException object at 0x7f78cb5013c0>, <rdkit.Chem.rdchem._cppAtomValenceException object at 0x7f78cb501ba0>, <rdkit.Chem.rdchem._cppAtomValenceException object at 0x7f78cb501ac0>, <rdkit.Chem.rdchem._cppAtomValenceException object at 0x7f78cb501f90>)\n",
      "index 3738, problems (<rdkit.Chem.rdchem._cppAtomValenceException object at 0x7f78cb501e40>, <rdkit.Chem.rdchem._cppAtomValenceException object at 0x7f78cb501510>, <rdkit.Chem.rdchem._cppAtomValenceException object at 0x7f78cb5014a0>, <rdkit.Chem.rdchem._cppAtomValenceException object at 0x7f78cb5015f0>, <rdkit.Chem.rdchem._cppAtomValenceException object at 0x7f78cb501820>, <rdkit.Chem.rdchem._cppAtomValenceException object at 0x7f78cb501d60>, <rdkit.Chem.rdchem._cppAtomValenceException object at 0x7f78cb501b30>, <rdkit.Chem.rdchem._cppAtomValenceException object at 0x7f78cb501cf0>)\n",
      "index 3741, problems (<rdkit.Chem.rdchem._cppAtomValenceException object at 0x7f78cb5014a0>, <rdkit.Chem.rdchem._cppAtomValenceException object at 0x7f78cb5015f0>, <rdkit.Chem.rdchem._cppAtomValenceException object at 0x7f78cb501820>, <rdkit.Chem.rdchem._cppAtomValenceException object at 0x7f78cb501d60>)\n",
      "index 3743, problems (<rdkit.Chem.rdchem._cppAtomValenceException object at 0x7f78cb501200>, <rdkit.Chem.rdchem._cppAtomValenceException object at 0x7f78cb501a50>, <rdkit.Chem.rdchem._cppAtomValenceException object at 0x7f78cb501dd0>, <rdkit.Chem.rdchem._cppAtomValenceException object at 0x7f78cb501120>, <rdkit.Chem.rdchem._cppAtomValenceException object at 0x7f78cb5012e0>, <rdkit.Chem.rdchem._cppAtomValenceException object at 0x7f78cb5010b0>, <rdkit.Chem.rdchem._cppAtomValenceException object at 0x7f78cb4cf040>, <rdkit.Chem.rdchem._cppAtomValenceException object at 0x7f78cb4cf0b0>, <rdkit.Chem.rdchem._cppAtomValenceException object at 0x7f78cb4cf120>, <rdkit.Chem.rdchem._cppAtomValenceException object at 0x7f78cb4cf190>, <rdkit.Chem.rdchem._cppAtomValenceException object at 0x7f78cb4cf200>, <rdkit.Chem.rdchem._cppAtomValenceException object at 0x7f78cb4cf270>, <rdkit.Chem.rdchem._cppAtomValenceException object at 0x7f78cb4cf2e0>, <rdkit.Chem.rdchem._cppAtomValenceException object at 0x7f78cb4cf350>, <rdkit.Chem.rdchem._cppAtomValenceException object at 0x7f78cb4cf3c0>, <rdkit.Chem.rdchem._cppAtomValenceException object at 0x7f78cb4cf430>, <rdkit.Chem.rdchem._cppAtomValenceException object at 0x7f78cb4cf4a0>, <rdkit.Chem.rdchem._cppAtomValenceException object at 0x7f78cb4cf510>, <rdkit.Chem.rdchem._cppAtomValenceException object at 0x7f78cb4cf580>, <rdkit.Chem.rdchem._cppAtomValenceException object at 0x7f78cb4cf5f0>, <rdkit.Chem.rdchem._cppAtomValenceException object at 0x7f78cb4cf660>, <rdkit.Chem.rdchem._cppAtomValenceException object at 0x7f78cb4cf6d0>, <rdkit.Chem.rdchem._cppAtomValenceException object at 0x7f78cb4cf740>, <rdkit.Chem.rdchem._cppAtomValenceException object at 0x7f78cb4cf7b0>, <rdkit.Chem.rdchem._cppAtomValenceException object at 0x7f78cb4cf820>)\n",
      "index 3745, problems (<rdkit.Chem.rdchem._cppAtomValenceException object at 0x7f78cb501200>, <rdkit.Chem.rdchem._cppAtomValenceException object at 0x7f78cb501a50>)\n"
     ]
    },
    {
     "name": "stderr",
     "output_type": "stream",
     "text": [
      "==============================\n",
      "*** Open Babel Error  in TetStereoToWedgeHash\n",
      "  Failed to set stereochemistry as unable to find an available bond\n",
      "==============================\n",
      "*** Open Babel Error  in TetStereoToWedgeHash\n",
      "  Failed to set stereochemistry as unable to find an available bond\n",
      "==============================\n",
      "*** Open Babel Error  in TetStereoToWedgeHash\n",
      "  Failed to set stereochemistry as unable to find an available bond\n"
     ]
    },
    {
     "name": "stdout",
     "output_type": "stream",
     "text": [
      "index 3759, problems (<rdkit.Chem.rdchem._cppAtomValenceException object at 0x7f78cb5015f0>, <rdkit.Chem.rdchem._cppAtomValenceException object at 0x7f78cb501820>, <rdkit.Chem.rdchem._cppAtomValenceException object at 0x7f78cb501d60>, <rdkit.Chem.rdchem._cppAtomValenceException object at 0x7f78cb501e40>, <rdkit.Chem.rdchem._cppAtomValenceException object at 0x7f78cb501510>, <rdkit.Chem.rdchem._cppAtomValenceException object at 0x7f78cb501b30>, <rdkit.Chem.rdchem._cppAtomValenceException object at 0x7f78cb501cf0>, <rdkit.Chem.rdchem._cppAtomValenceException object at 0x7f78cb5019e0>, <rdkit.Chem.rdchem._cppAtomValenceException object at 0x7f78cb501740>, <rdkit.Chem.rdchem._cppAtomValenceException object at 0x7f78cb5013c0>)\n",
      "index 3760, problems (<rdkit.Chem.rdchem._cppAtomValenceException object at 0x7f78cb5015f0>, <rdkit.Chem.rdchem._cppAtomValenceException object at 0x7f78cb501820>)\n",
      "index 3764, problems (<rdkit.Chem.rdchem._cppAtomValenceException object at 0x7f78cb5015f0>, <rdkit.Chem.rdchem._cppAtomValenceException object at 0x7f78cb501820>)\n",
      "index 3767, problems (<rdkit.Chem.rdchem._cppAtomValenceException object at 0x7f78cb501d60>, <rdkit.Chem.rdchem._cppAtomValenceException object at 0x7f78cb501e40>, <rdkit.Chem.rdchem._cppAtomValenceException object at 0x7f78cb501510>, <rdkit.Chem.rdchem._cppAtomValenceException object at 0x7f78cb501b30>)\n",
      "index 3769, problems (<rdkit.Chem.rdchem._cppAtomValenceException object at 0x7f78cb501200>, <rdkit.Chem.rdchem._cppAtomValenceException object at 0x7f78cb501a50>, <rdkit.Chem.rdchem._cppAtomValenceException object at 0x7f78cb501dd0>, <rdkit.Chem.rdchem._cppAtomValenceException object at 0x7f78cb501120>, <rdkit.Chem.rdchem._cppAtomValenceException object at 0x7f78cb5012e0>, <rdkit.Chem.rdchem._cppAtomValenceException object at 0x7f78cb5010b0>, <rdkit.Chem.rdchem._cppAtomValenceException object at 0x7f78cb5014a0>, <rdkit.Chem.rdchem._cppAtomValenceException object at 0x7f78cb501ba0>, <rdkit.Chem.rdchem._cppAtomValenceException object at 0x7f78cb501ac0>, <rdkit.Chem.rdchem._cppAtomValenceException object at 0x7f78cb501f90>, <rdkit.Chem.rdchem._cppAtomValenceException object at 0x7f78cb501040>, <rdkit.Chem.rdchem._cppAtomValenceException object at 0x7f78cb501c80>)\n",
      "index 3771, problems (<rdkit.Chem.rdchem._cppAtomValenceException object at 0x7f78cb501dd0>, <rdkit.Chem.rdchem._cppAtomValenceException object at 0x7f78cb501120>, <rdkit.Chem.rdchem._cppAtomValenceException object at 0x7f78cb5012e0>, <rdkit.Chem.rdchem._cppAtomValenceException object at 0x7f78cb5010b0>)\n",
      "index 3773, problems (<rdkit.Chem.rdchem._cppAtomValenceException object at 0x7f78cb5012e0>, <rdkit.Chem.rdchem._cppAtomValenceException object at 0x7f78cb5010b0>, <rdkit.Chem.rdchem._cppAtomValenceException object at 0x7f78cb501200>, <rdkit.Chem.rdchem._cppAtomValenceException object at 0x7f78cb501a50>)\n",
      "index 3774, problems (<rdkit.Chem.rdchem._cppAtomValenceException object at 0x7f78cb5012e0>, <rdkit.Chem.rdchem._cppAtomValenceException object at 0x7f78cb5010b0>, <rdkit.Chem.rdchem._cppAtomValenceException object at 0x7f78cb501200>, <rdkit.Chem.rdchem._cppAtomValenceException object at 0x7f78cb501a50>, <rdkit.Chem.rdchem._cppAtomValenceException object at 0x7f78cb501040>, <rdkit.Chem.rdchem._cppAtomValenceException object at 0x7f78cb501c80>, <rdkit.Chem.rdchem._cppAtomValenceException object at 0x7f78cb501d60>, <rdkit.Chem.rdchem._cppAtomValenceException object at 0x7f78cb501e40>)\n",
      "index 3775, problems (<rdkit.Chem.rdchem._cppAtomValenceException object at 0x7f78cb5012e0>, <rdkit.Chem.rdchem._cppAtomValenceException object at 0x7f78cb5010b0>)\n",
      "index 3776, problems (<rdkit.Chem.rdchem._cppAtomValenceException object at 0x7f78cb5012e0>, <rdkit.Chem.rdchem._cppAtomValenceException object at 0x7f78cb5010b0>, <rdkit.Chem.rdchem._cppAtomValenceException object at 0x7f78cb501d60>, <rdkit.Chem.rdchem._cppAtomValenceException object at 0x7f78cb501e40>, <rdkit.Chem.rdchem._cppAtomValenceException object at 0x7f78cb501dd0>, <rdkit.Chem.rdchem._cppAtomValenceException object at 0x7f78cb501120>)\n"
     ]
    },
    {
     "name": "stderr",
     "output_type": "stream",
     "text": [
      "==============================\n",
      "*** Open Babel Error  in TetStereoToWedgeHash\n",
      "  Failed to set stereochemistry as unable to find an available bond\n",
      "==============================\n",
      "*** Open Babel Error  in TetStereoToWedgeHash\n",
      "  Failed to set stereochemistry as unable to find an available bond\n",
      "==============================\n",
      "*** Open Babel Error  in TetStereoToWedgeHash\n",
      "  Failed to set stereochemistry as unable to find an available bond\n",
      "==============================\n",
      "*** Open Babel Error  in TetStereoToWedgeHash\n",
      "  Failed to set stereochemistry as unable to find an available bond\n",
      "==============================\n",
      "*** Open Babel Error  in TetStereoToWedgeHash\n",
      "  Failed to set stereochemistry as unable to find an available bond\n"
     ]
    },
    {
     "name": "stdout",
     "output_type": "stream",
     "text": [
      "index 3835, problems (<rdkit.Chem.rdchem._cppAtomValenceException object at 0x7f78cb5e0b30>,)\n",
      "index 3844, problems (<rdkit.Chem.rdchem._cppAtomValenceException object at 0x7f78cb501d60>, <rdkit.Chem.rdchem._cppAtomValenceException object at 0x7f78cb501e40>, <rdkit.Chem.rdchem._cppAtomValenceException object at 0x7f78cb501dd0>, <rdkit.Chem.rdchem._cppAtomValenceException object at 0x7f78cb501120>)\n",
      "index 3868, problems (<rdkit.Chem.rdchem._cppAtomValenceException object at 0x7f78cb5e0dd0>,)\n",
      "index 3907, problems (<rdkit.Chem.rdchem._cppAtomValenceException object at 0x7f78cb501120>, <rdkit.Chem.rdchem._cppAtomValenceException object at 0x7f78cb5012e0>, <rdkit.Chem.rdchem._cppAtomValenceException object at 0x7f78cb5010b0>, <rdkit.Chem.rdchem._cppAtomValenceException object at 0x7f78cb501200>, <rdkit.Chem.rdchem._cppAtomValenceException object at 0x7f78cb501a50>, <rdkit.Chem.rdchem._cppAtomValenceException object at 0x7f78cb501040>)\n"
     ]
    },
    {
     "name": "stderr",
     "output_type": "stream",
     "text": [
      "==============================\n",
      "*** Open Babel Error  in TetStereoToWedgeHash\n",
      "  Failed to set stereochemistry as unable to find an available bond\n",
      "==============================\n",
      "*** Open Babel Error  in TetStereoToWedgeHash\n",
      "  Failed to set stereochemistry as unable to find an available bond\n",
      "==============================\n",
      "*** Open Babel Error  in TetStereoToWedgeHash\n",
      "  Failed to set stereochemistry as unable to find an available bond\n",
      "==============================\n",
      "*** Open Babel Error  in TetStereoToWedgeHash\n",
      "  Failed to set stereochemistry as unable to find an available bond\n"
     ]
    },
    {
     "name": "stdout",
     "output_type": "stream",
     "text": [
      "index 3927, problems (<rdkit.Chem.rdchem._cppAtomValenceException object at 0x7f78cb5012e0>, <rdkit.Chem.rdchem._cppAtomValenceException object at 0x7f78cb5010b0>, <rdkit.Chem.rdchem._cppAtomValenceException object at 0x7f78cb501200>, <rdkit.Chem.rdchem._cppAtomValenceException object at 0x7f78cb501a50>)\n",
      "index 3956, problems (<rdkit.Chem.rdchem._cppAtomValenceException object at 0x7f78cb5e0ba0>,)\n",
      "index 3959, problems (<rdkit.Chem.rdchem._cppAtomValenceException object at 0x7f78cb501a50>, <rdkit.Chem.rdchem._cppAtomValenceException object at 0x7f78cb501120>, <rdkit.Chem.rdchem._cppAtomValenceException object at 0x7f78cb501040>, <rdkit.Chem.rdchem._cppAtomValenceException object at 0x7f78cb501d60>, <rdkit.Chem.rdchem._cppAtomValenceException object at 0x7f78cb501e40>)\n"
     ]
    },
    {
     "name": "stderr",
     "output_type": "stream",
     "text": [
      "==============================\n",
      "*** Open Babel Error  in TetStereoToWedgeHash\n",
      "  Failed to set stereochemistry as unable to find an available bond\n"
     ]
    },
    {
     "name": "stdout",
     "output_type": "stream",
     "text": [
      "index 4002, problems (<rdkit.Chem.rdchem._cppAtomValenceException object at 0x7f78cb5e0c10>, <rdkit.Chem.rdchem._cppAtomValenceException object at 0x7f78cb501a50>)\n",
      "index 4006, problems (<rdkit.Chem.rdchem._cppAtomValenceException object at 0x7f78cb5010b0>, <rdkit.Chem.rdchem._cppAtomValenceException object at 0x7f78cb501200>, <rdkit.Chem.rdchem._cppAtomValenceException object at 0x7f78cb501dd0>, <rdkit.Chem.rdchem._cppAtomValenceException object at 0x7f78cb501c80>, <rdkit.Chem.rdchem._cppAtomValenceException object at 0x7f78cb5014a0>, <rdkit.Chem.rdchem._cppAtomValenceException object at 0x7f78cb501ba0>, <rdkit.Chem.rdchem._cppAtomValenceException object at 0x7f78cb501ac0>, <rdkit.Chem.rdchem._cppAtomValenceException object at 0x7f78cb501f90>)\n",
      "index 4010, problems (<rdkit.Chem.rdchem._cppAtomValenceException object at 0x7f78cb501dd0>, <rdkit.Chem.rdchem._cppAtomValenceException object at 0x7f78cb501c80>, <rdkit.Chem.rdchem._cppAtomValenceException object at 0x7f78cb5014a0>, <rdkit.Chem.rdchem._cppAtomValenceException object at 0x7f78cb501ba0>)\n"
     ]
    },
    {
     "name": "stderr",
     "output_type": "stream",
     "text": [
      "==============================\n",
      "*** Open Babel Error  in TetStereoToWedgeHash\n",
      "  Failed to set stereochemistry as unable to find an available bond\n",
      "==============================\n",
      "*** Open Babel Error  in TetStereoToWedgeHash\n",
      "  Failed to set stereochemistry as unable to find an available bond\n"
     ]
    },
    {
     "name": "stdout",
     "output_type": "stream",
     "text": [
      "index 4059, problems (<rdkit.Chem.rdchem._cppAtomValenceException object at 0x7f78cb501dd0>, <rdkit.Chem.rdchem._cppAtomValenceException object at 0x7f78cb501c80>, <rdkit.Chem.rdchem._cppAtomValenceException object at 0x7f78cb5014a0>)\n",
      "index 4072, problems (<rdkit.Chem.rdchem._cppAtomValenceException object at 0x7f78cb5014a0>, <rdkit.Chem.rdchem._cppAtomValenceException object at 0x7f78cb501ba0>, <rdkit.Chem.rdchem._cppAtomValenceException object at 0x7f78cb5010b0>, <rdkit.Chem.rdchem._cppAtomValenceException object at 0x7f78cb501200>)\n",
      "index 4079, problems (<rdkit.Chem.rdchem._cppAtomValenceException object at 0x7f78cb5014a0>, <rdkit.Chem.rdchem._cppAtomValenceException object at 0x7f78cb501ba0>)\n",
      "index 4086, problems (<rdkit.Chem.rdchem._cppAtomValenceException object at 0x7f78cb4d0660>, <rdkit.Chem.rdchem._cppAtomValenceException object at 0x7f78cb4d06d0>, <rdkit.Chem.rdchem._cppAtomValenceException object at 0x7f78cb4d0740>, <rdkit.Chem.rdchem._cppAtomValenceException object at 0x7f78cb4d07b0>, <rdkit.Chem.rdchem._cppAtomValenceException object at 0x7f78cb4d0820>, <rdkit.Chem.rdchem._cppAtomValenceException object at 0x7f78cb4d0890>, <rdkit.Chem.rdchem._cppAtomValenceException object at 0x7f78cb4d0900>, <rdkit.Chem.rdchem._cppAtomValenceException object at 0x7f78cb4d0970>, <rdkit.Chem.rdchem._cppAtomValenceException object at 0x7f78cb4d09e0>, <rdkit.Chem.rdchem._cppAtomValenceException object at 0x7f78cb4d0a50>, <rdkit.Chem.rdchem._cppAtomValenceException object at 0x7f78cb4d0ac0>, <rdkit.Chem.rdchem._cppAtomValenceException object at 0x7f78cb4d0b30>, <rdkit.Chem.rdchem._cppAtomValenceException object at 0x7f78cb4d0ba0>, <rdkit.Chem.rdchem._cppAtomValenceException object at 0x7f78cb4d0c10>, <rdkit.Chem.rdchem._cppAtomValenceException object at 0x7f78cb4d0c80>, <rdkit.Chem.rdchem._cppAtomValenceException object at 0x7f78cb4d0cf0>, <rdkit.Chem.rdchem._cppAtomValenceException object at 0x7f78cb4d0d60>, <rdkit.Chem.rdchem._cppAtomValenceException object at 0x7f78cb4d0dd0>, <rdkit.Chem.rdchem._cppAtomValenceException object at 0x7f78cb4d0e40>, <rdkit.Chem.rdchem._cppAtomValenceException object at 0x7f78cb4d0eb0>, <rdkit.Chem.rdchem._cppAtomValenceException object at 0x7f78cb4d0f20>, <rdkit.Chem.rdchem._cppAtomValenceException object at 0x7f78cb4d0f90>, <rdkit.Chem.rdchem._cppAtomValenceException object at 0x7f78cb4ae040>, <rdkit.Chem.rdchem._cppAtomValenceException object at 0x7f78cb4ae0b0>, <rdkit.Chem.rdchem._cppAtomValenceException object at 0x7f78cb4ae120>, <rdkit.Chem.rdchem._cppAtomValenceException object at 0x7f78cb4ae190>, <rdkit.Chem.rdchem._cppAtomValenceException object at 0x7f78cb4ae200>, <rdkit.Chem.rdchem._cppAtomValenceException object at 0x7f78cb4ae270>, <rdkit.Chem.rdchem._cppAtomValenceException object at 0x7f78cb4ae2e0>, <rdkit.Chem.rdchem._cppAtomValenceException object at 0x7f78cb4ae350>, <rdkit.Chem.rdchem._cppAtomValenceException object at 0x7f78cb4ae3c0>, <rdkit.Chem.rdchem._cppAtomValenceException object at 0x7f78cb4ae430>, <rdkit.Chem.rdchem._cppAtomValenceException object at 0x7f78cb4ae4a0>, <rdkit.Chem.rdchem._cppAtomValenceException object at 0x7f78cb4ae510>, <rdkit.Chem.rdchem._cppAtomValenceException object at 0x7f78cb4ae580>, <rdkit.Chem.rdchem._cppAtomValenceException object at 0x7f78cb4ae5f0>, <rdkit.Chem.rdchem._cppAtomValenceException object at 0x7f78cb4ae660>, <rdkit.Chem.rdchem._cppAtomValenceException object at 0x7f78cb4ae6d0>, <rdkit.Chem.rdchem._cppAtomValenceException object at 0x7f78cb4ae740>, <rdkit.Chem.rdchem._cppAtomValenceException object at 0x7f78cb4ae7b0>, <rdkit.Chem.rdchem._cppAtomValenceException object at 0x7f78cb4ae820>, <rdkit.Chem.rdchem._cppAtomValenceException object at 0x7f78cb4ae890>, <rdkit.Chem.rdchem._cppAtomValenceException object at 0x7f78cb4ae900>, <rdkit.Chem.rdchem._cppAtomValenceException object at 0x7f78cb4ae970>, <rdkit.Chem.rdchem._cppAtomValenceException object at 0x7f78cb4ae9e0>, <rdkit.Chem.rdchem._cppAtomValenceException object at 0x7f78cb4aea50>)\n"
     ]
    },
    {
     "name": "stderr",
     "output_type": "stream",
     "text": [
      "==============================\n",
      "*** Open Babel Error  in TetStereoToWedgeHash\n",
      "  Failed to set stereochemistry as unable to find an available bond\n"
     ]
    },
    {
     "name": "stdout",
     "output_type": "stream",
     "text": [
      "index 4092, problems (<rdkit.Chem.rdchem._cppAtomValenceException object at 0x7f78cb501ba0>, <rdkit.Chem.rdchem._cppAtomValenceException object at 0x7f78cb5010b0>, <rdkit.Chem.rdchem._cppAtomValenceException object at 0x7f78cb501200>, <rdkit.Chem.rdchem._cppAtomValenceException object at 0x7f78cb501dd0>)\n",
      "index 4093, problems (<rdkit.Chem.rdchem._cppAtomValenceException object at 0x7f78cb501ba0>, <rdkit.Chem.rdchem._cppAtomValenceException object at 0x7f78cb5010b0>, <rdkit.Chem.rdchem._cppAtomValenceException object at 0x7f78cb501200>, <rdkit.Chem.rdchem._cppAtomValenceException object at 0x7f78cb501dd0>)\n",
      "index 4102, problems (<rdkit.Chem.rdchem._cppAtomValenceException object at 0x7f78cb501ba0>, <rdkit.Chem.rdchem._cppAtomValenceException object at 0x7f78cb5010b0>)\n"
     ]
    },
    {
     "name": "stderr",
     "output_type": "stream",
     "text": [
      "==============================\n",
      "*** Open Babel Error  in TetStereoToWedgeHash\n",
      "  Failed to set stereochemistry as unable to find an available bond\n"
     ]
    },
    {
     "name": "stdout",
     "output_type": "stream",
     "text": [
      "index 4263, problems (<rdkit.Chem.rdchem._cppAtomValenceException object at 0x7f78cb501dd0>, <rdkit.Chem.rdchem._cppAtomValenceException object at 0x7f78cb5014a0>, <rdkit.Chem.rdchem._cppAtomValenceException object at 0x7f78cb501c80>, <rdkit.Chem.rdchem._cppAtomValenceException object at 0x7f78cb501ac0>, <rdkit.Chem.rdchem._cppAtomValenceException object at 0x7f78cb501f90>, <rdkit.Chem.rdchem._cppAtomValenceException object at 0x7f78cb501a50>, <rdkit.Chem.rdchem._cppAtomValenceException object at 0x7f78cb501120>)\n",
      "index 4264, problems (<rdkit.Chem.rdchem._cppAtomValenceException object at 0x7f78cb501dd0>,)\n",
      "index 4342, problems (<rdkit.Chem.rdchem._cppAtomValenceException object at 0x7f78cb501a50>, <rdkit.Chem.rdchem._cppAtomValenceException object at 0x7f78cb501120>, <rdkit.Chem.rdchem._cppAtomValenceException object at 0x7f78cb501ba0>, <rdkit.Chem.rdchem._cppAtomValenceException object at 0x7f78cb5010b0>, <rdkit.Chem.rdchem._cppAtomValenceException object at 0x7f78cb501200>, <rdkit.Chem.rdchem._cppAtomValenceException object at 0x7f78cb501040>, <rdkit.Chem.rdchem._cppAtomValenceException object at 0x7f78cb501d60>)\n"
     ]
    },
    {
     "name": "stderr",
     "output_type": "stream",
     "text": [
      "==============================\n",
      "*** Open Babel Error  in TetStereoToWedgeHash\n",
      "  Failed to set stereochemistry as unable to find an available bond\n",
      "==============================\n",
      "*** Open Babel Warning  in PerceiveBondOrders\n",
      "  Failed to kekulize aromatic bonds in OBMol::PerceiveBondOrders\n",
      "\n",
      "==============================\n",
      "*** Open Babel Warning  in PerceiveBondOrders\n",
      "  Failed to kekulize aromatic bonds in OBMol::PerceiveBondOrders\n",
      "\n",
      "==============================\n",
      "*** Open Babel Warning  in PerceiveBondOrders\n",
      "  Failed to kekulize aromatic bonds in OBMol::PerceiveBondOrders\n",
      "\n",
      "==============================\n",
      "*** Open Babel Warning  in PerceiveBondOrders\n",
      "  Failed to kekulize aromatic bonds in OBMol::PerceiveBondOrders\n",
      "\n",
      "==============================\n",
      "*** Open Babel Warning  in PerceiveBondOrders\n",
      "  Failed to kekulize aromatic bonds in OBMol::PerceiveBondOrders\n",
      "\n",
      "==============================\n",
      "*** Open Babel Warning  in PerceiveBondOrders\n",
      "  Failed to kekulize aromatic bonds in OBMol::PerceiveBondOrders\n",
      "\n",
      "==============================\n",
      "*** Open Babel Warning  in PerceiveBondOrders\n",
      "  Failed to kekulize aromatic bonds in OBMol::PerceiveBondOrders\n",
      "\n",
      "==============================\n",
      "*** Open Babel Warning  in PerceiveBondOrders\n",
      "  Failed to kekulize aromatic bonds in OBMol::PerceiveBondOrders\n",
      "\n",
      "==============================\n",
      "*** Open Babel Warning  in PerceiveBondOrders\n",
      "  Failed to kekulize aromatic bonds in OBMol::PerceiveBondOrders\n",
      "\n",
      "==============================\n",
      "*** Open Babel Warning  in PerceiveBondOrders\n",
      "  Failed to kekulize aromatic bonds in OBMol::PerceiveBondOrders\n",
      "\n",
      "==============================\n",
      "*** Open Babel Warning  in PerceiveBondOrders\n",
      "  Failed to kekulize aromatic bonds in OBMol::PerceiveBondOrders\n",
      "\n",
      "==============================\n",
      "*** Open Babel Warning  in PerceiveBondOrders\n",
      "  Failed to kekulize aromatic bonds in OBMol::PerceiveBondOrders\n",
      "\n",
      "==============================\n",
      "*** Open Babel Error  in TetStereoToWedgeHash\n",
      "  Failed to set stereochemistry as unable to find an available bond\n",
      "==============================\n",
      "*** Open Babel Error  in TetStereoToWedgeHash\n",
      "  Failed to set stereochemistry as unable to find an available bond\n",
      "==============================\n",
      "*** Open Babel Error  in TetStereoToWedgeHash\n",
      "  Failed to set stereochemistry as unable to find an available bond\n"
     ]
    },
    {
     "name": "stdout",
     "output_type": "stream",
     "text": [
      "index 4497, problems (<rdkit.Chem.rdchem._cppAtomValenceException object at 0x7f78cb5010b0>, <rdkit.Chem.rdchem._cppAtomValenceException object at 0x7f78cb501200>, <rdkit.Chem.rdchem._cppAtomValenceException object at 0x7f78cb501040>, <rdkit.Chem.rdchem._cppAtomValenceException object at 0x7f78cb501d60>, <rdkit.Chem.rdchem._cppAtomValenceException object at 0x7f78cb5014a0>, <rdkit.Chem.rdchem._cppAtomValenceException object at 0x7f78cb501dd0>)\n",
      "index 4500, problems (<rdkit.Chem.rdchem._cppAtomValenceException object at 0x7f78cb501dd0>, <rdkit.Chem.rdchem._cppAtomValenceException object at 0x7f78cb501a50>, <rdkit.Chem.rdchem._cppAtomValenceException object at 0x7f78cb501120>, <rdkit.Chem.rdchem._cppAtomValenceException object at 0x7f78cb501ba0>, <rdkit.Chem.rdchem._cppAtomValenceException object at 0x7f78cb501c80>, <rdkit.Chem.rdchem._cppAtomValenceException object at 0x7f78cb501ac0>, <rdkit.Chem.rdchem._cppAtomValenceException object at 0x7f78cb501f90>)\n",
      "index 4548, problems (<rdkit.Chem.rdchem._cppAtomValenceException object at 0x7f78cb501a50>, <rdkit.Chem.rdchem._cppAtomValenceException object at 0x7f78cb501dd0>)\n"
     ]
    },
    {
     "name": "stderr",
     "output_type": "stream",
     "text": [
      "==============================\n",
      "*** Open Babel Error  in TetStereoToWedgeHash\n",
      "  Failed to set stereochemistry as unable to find an available bond\n",
      "==============================\n",
      "*** Open Babel Error  in TetStereoToWedgeHash\n",
      "  Failed to set stereochemistry as unable to find an available bond\n"
     ]
    },
    {
     "name": "stdout",
     "output_type": "stream",
     "text": [
      "index 4682, problems (<rdkit.Chem.rdchem._cppAtomValenceException object at 0x7f78cb501a50>, <rdkit.Chem.rdchem._cppAtomValenceException object at 0x7f78cb501dd0>, <rdkit.Chem.rdchem._cppAtomValenceException object at 0x7f78cb501120>, <rdkit.Chem.rdchem._cppAtomValenceException object at 0x7f78cb501ba0>)\n",
      "index 4748, problems (<rdkit.Chem.rdchem._cppAtomValenceException object at 0x7f78cb501a50>, <rdkit.Chem.rdchem._cppAtomValenceException object at 0x7f78cb501dd0>)\n",
      "index 4750, problems (<rdkit.Chem.rdchem._cppAtomValenceException object at 0x7f78cb9d1890>, <rdkit.Chem.rdchem._cppAtomValenceException object at 0x7f78cb9d1900>, <rdkit.Chem.rdchem._cppAtomValenceException object at 0x7f78cb9d1970>, <rdkit.Chem.rdchem._cppAtomValenceException object at 0x7f78cb9d19e0>, <rdkit.Chem.rdchem._cppAtomValenceException object at 0x7f78cb9d1a50>, <rdkit.Chem.rdchem._cppAtomValenceException object at 0x7f78cb9d1ac0>, <rdkit.Chem.rdchem._cppAtomValenceException object at 0x7f78cb9d1b30>, <rdkit.Chem.rdchem._cppAtomValenceException object at 0x7f78cb9d1ba0>, <rdkit.Chem.rdchem._cppAtomValenceException object at 0x7f78cb9d1c10>, <rdkit.Chem.rdchem._cppAtomValenceException object at 0x7f78cb9d1c80>, <rdkit.Chem.rdchem._cppAtomValenceException object at 0x7f78cb9d1cf0>, <rdkit.Chem.rdchem._cppAtomValenceException object at 0x7f78cb9d1d60>, <rdkit.Chem.rdchem._cppAtomValenceException object at 0x7f78cb9d1dd0>, <rdkit.Chem.rdchem._cppAtomValenceException object at 0x7f78cb9d1e40>, <rdkit.Chem.rdchem._cppAtomValenceException object at 0x7f78cb9d1eb0>, <rdkit.Chem.rdchem._cppAtomValenceException object at 0x7f78cb9d1f20>, <rdkit.Chem.rdchem._cppAtomValenceException object at 0x7f78cb9d1f90>, <rdkit.Chem.rdchem._cppAtomValenceException object at 0x7f78cb9c3040>, <rdkit.Chem.rdchem._cppAtomValenceException object at 0x7f78cb9c30b0>, <rdkit.Chem.rdchem._cppAtomValenceException object at 0x7f78cb9c3120>, <rdkit.Chem.rdchem._cppAtomValenceException object at 0x7f78cb9c3190>, <rdkit.Chem.rdchem._cppAtomValenceException object at 0x7f78cb9c3200>, <rdkit.Chem.rdchem._cppAtomValenceException object at 0x7f78cb9c3270>, <rdkit.Chem.rdchem._cppAtomValenceException object at 0x7f78cb9c32e0>, <rdkit.Chem.rdchem._cppAtomValenceException object at 0x7f78cb9c3350>, <rdkit.Chem.rdchem._cppAtomValenceException object at 0x7f78cb9c33c0>, <rdkit.Chem.rdchem._cppAtomValenceException object at 0x7f78cb9c3430>, <rdkit.Chem.rdchem._cppAtomValenceException object at 0x7f78cb9c34a0>, <rdkit.Chem.rdchem._cppAtomValenceException object at 0x7f78cb9c3510>, <rdkit.Chem.rdchem._cppAtomValenceException object at 0x7f78cb9c3580>, <rdkit.Chem.rdchem._cppAtomValenceException object at 0x7f78cb9c35f0>, <rdkit.Chem.rdchem._cppAtomValenceException object at 0x7f78cb9c3660>, <rdkit.Chem.rdchem._cppAtomValenceException object at 0x7f78cb9c36d0>, <rdkit.Chem.rdchem._cppAtomValenceException object at 0x7f78cb9c3740>, <rdkit.Chem.rdchem._cppAtomValenceException object at 0x7f78cb9c37b0>, <rdkit.Chem.rdchem._cppAtomValenceException object at 0x7f78cb9c3820>, <rdkit.Chem.rdchem._cppAtomValenceException object at 0x7f78cb9c3890>, <rdkit.Chem.rdchem._cppAtomValenceException object at 0x7f78cb9c3900>, <rdkit.Chem.rdchem._cppAtomValenceException object at 0x7f78cb9c3970>, <rdkit.Chem.rdchem._cppAtomValenceException object at 0x7f78cb9c39e0>, <rdkit.Chem.rdchem._cppAtomValenceException object at 0x7f78cb9c3a50>, <rdkit.Chem.rdchem._cppAtomValenceException object at 0x7f78cb9c3ac0>, <rdkit.Chem.rdchem._cppAtomValenceException object at 0x7f78cb9c3b30>, <rdkit.Chem.rdchem._cppAtomValenceException object at 0x7f78cb9c3ba0>, <rdkit.Chem.rdchem._cppAtomValenceException object at 0x7f78cb9c3c10>, <rdkit.Chem.rdchem._cppAtomValenceException object at 0x7f78cb9c3c80>, <rdkit.Chem.rdchem._cppAtomValenceException object at 0x7f78cb9c3cf0>, <rdkit.Chem.rdchem._cppAtomValenceException object at 0x7f78cb9c3d60>, <rdkit.Chem.rdchem._cppAtomValenceException object at 0x7f78cb9c3dd0>, <rdkit.Chem.rdchem._cppAtomValenceException object at 0x7f78cb9c3e40>)\n",
      "index 4752, problems (<rdkit.Chem.rdchem._cppAtomValenceException object at 0x7f78cb501dd0>, <rdkit.Chem.rdchem._cppAtomValenceException object at 0x7f78cb501120>, <rdkit.Chem.rdchem._cppAtomValenceException object at 0x7f78cb501ba0>)\n"
     ]
    },
    {
     "name": "stderr",
     "output_type": "stream",
     "text": [
      "==============================\n",
      "*** Open Babel Error  in TetStereoToWedgeHash\n",
      "  Failed to set stereochemistry as unable to find an available bond\n",
      "==============================\n",
      "*** Open Babel Error  in TetStereoToWedgeHash\n",
      "  Failed to set stereochemistry as unable to find an available bond\n"
     ]
    },
    {
     "name": "stdout",
     "output_type": "stream",
     "text": [
      "index 4757, problems (<rdkit.Chem.rdchem._cppAtomValenceException object at 0x7f78cb5e0c10>, <rdkit.Chem.rdchem._cppAtomValenceException object at 0x7f78cb5e0dd0>)\n",
      "index 4759, problems (<rdkit.Chem.rdchem._cppAtomValenceException object at 0x7f78cb5e0b30>, <rdkit.Chem.rdchem._cppAtomValenceException object at 0x7f78cb501dd0>)\n",
      "index 4760, problems (<rdkit.Chem.rdchem._cppAtomValenceException object at 0x7f78cb5e0b30>, <rdkit.Chem.rdchem._cppAtomValenceException object at 0x7f78cb501dd0>, <rdkit.Chem.rdchem._cppAtomValenceException object at 0x7f78cb9c7040>, <rdkit.Chem.rdchem._cppAtomValenceException object at 0x7f78cb9c70b0>, <rdkit.Chem.rdchem._cppAtomValenceException object at 0x7f78cb9c7120>, <rdkit.Chem.rdchem._cppAtomValenceException object at 0x7f78cb9c7190>, <rdkit.Chem.rdchem._cppAtomValenceException object at 0x7f78cb9c7200>, <rdkit.Chem.rdchem._cppAtomValenceException object at 0x7f78cb9c7270>, <rdkit.Chem.rdchem._cppAtomValenceException object at 0x7f78cb9c72e0>, <rdkit.Chem.rdchem._cppAtomValenceException object at 0x7f78cb9c7350>, <rdkit.Chem.rdchem._cppAtomValenceException object at 0x7f78cb9c73c0>, <rdkit.Chem.rdchem._cppAtomValenceException object at 0x7f78cb9c7430>, <rdkit.Chem.rdchem._cppAtomValenceException object at 0x7f78cb9c74a0>, <rdkit.Chem.rdchem._cppAtomValenceException object at 0x7f78cb9c7510>, <rdkit.Chem.rdchem._cppAtomValenceException object at 0x7f78cb9c7580>, <rdkit.Chem.rdchem._cppAtomValenceException object at 0x7f78cb9c75f0>, <rdkit.Chem.rdchem._cppAtomValenceException object at 0x7f78cb9c7660>, <rdkit.Chem.rdchem._cppAtomValenceException object at 0x7f78cb9c76d0>, <rdkit.Chem.rdchem._cppAtomValenceException object at 0x7f78cb9c7740>, <rdkit.Chem.rdchem._cppAtomValenceException object at 0x7f78cb9c77b0>, <rdkit.Chem.rdchem._cppAtomValenceException object at 0x7f78cb9c7820>, <rdkit.Chem.rdchem._cppAtomValenceException object at 0x7f78cb9c7890>, <rdkit.Chem.rdchem._cppAtomValenceException object at 0x7f78cb9c7900>, <rdkit.Chem.rdchem._cppAtomValenceException object at 0x7f78cb9c7970>, <rdkit.Chem.rdchem._cppAtomValenceException object at 0x7f78cb9c79e0>, <rdkit.Chem.rdchem._cppAtomValenceException object at 0x7f78cb9c7a50>, <rdkit.Chem.rdchem._cppAtomValenceException object at 0x7f78cb9c7ac0>, <rdkit.Chem.rdchem._cppAtomValenceException object at 0x7f78cb9c7b30>, <rdkit.Chem.rdchem._cppAtomValenceException object at 0x7f78cb9c7ba0>, <rdkit.Chem.rdchem._cppAtomValenceException object at 0x7f78cb9c7c10>)\n",
      "index 4761, problems (<rdkit.Chem.rdchem._cppAtomValenceException object at 0x7f78cb5e0b30>, <rdkit.Chem.rdchem._cppAtomValenceException object at 0x7f78cb501dd0>, <rdkit.Chem.rdchem._cppAtomValenceException object at 0x7f78cb501ac0>, <rdkit.Chem.rdchem._cppAtomValenceException object at 0x7f78cb501f90>, <rdkit.Chem.rdchem._cppAtomValenceException object at 0x7f78cb5010b0>, <rdkit.Chem.rdchem._cppAtomValenceException object at 0x7f78cb501200>)\n",
      "index 4763, problems (<rdkit.Chem.rdchem._cppAtomValenceException object at 0x7f78cb5014a0>, <rdkit.Chem.rdchem._cppAtomValenceException object at 0x7f78cb501e40>, <rdkit.Chem.rdchem._cppAtomValenceException object at 0x7f78cb5012e0>, <rdkit.Chem.rdchem._cppAtomValenceException object at 0x7f78cb501510>, <rdkit.Chem.rdchem._cppAtomValenceException object at 0x7f78cb501b30>, <rdkit.Chem.rdchem._cppAtomValenceException object at 0x7f78cb5015f0>, <rdkit.Chem.rdchem._cppAtomValenceException object at 0x7f78cb501820>, <rdkit.Chem.rdchem._cppAtomValenceException object at 0x7f78cb501cf0>, <rdkit.Chem.rdchem._cppAtomValenceException object at 0x7f78cb5019e0>, <rdkit.Chem.rdchem._cppAtomValenceException object at 0x7f78cb501740>, <rdkit.Chem.rdchem._cppAtomValenceException object at 0x7f78cb5013c0>, <rdkit.Chem.rdchem._cppAtomValenceException object at 0x7f78cb501350>, <rdkit.Chem.rdchem._cppAtomValenceException object at 0x7f78cb501c10>, <rdkit.Chem.rdchem._cppAtomValenceException object at 0x7f78cb501eb0>)\n",
      "index 4765, problems (<rdkit.Chem.rdchem._cppAtomValenceException object at 0x7f78cb9c1270>, <rdkit.Chem.rdchem._cppAtomValenceException object at 0x7f78cb9c12e0>, <rdkit.Chem.rdchem._cppAtomValenceException object at 0x7f78cb9c1350>, <rdkit.Chem.rdchem._cppAtomValenceException object at 0x7f78cb9c13c0>, <rdkit.Chem.rdchem._cppAtomValenceException object at 0x7f78cb9c1430>, <rdkit.Chem.rdchem._cppAtomValenceException object at 0x7f78cb9c14a0>, <rdkit.Chem.rdchem._cppAtomValenceException object at 0x7f78cb9c1510>, <rdkit.Chem.rdchem._cppAtomValenceException object at 0x7f78cb9c1580>, <rdkit.Chem.rdchem._cppAtomValenceException object at 0x7f78cb9c15f0>, <rdkit.Chem.rdchem._cppAtomValenceException object at 0x7f78cb9c1660>, <rdkit.Chem.rdchem._cppAtomValenceException object at 0x7f78cb9c16d0>, <rdkit.Chem.rdchem._cppAtomValenceException object at 0x7f78cb9c1740>, <rdkit.Chem.rdchem._cppAtomValenceException object at 0x7f78cb9c17b0>, <rdkit.Chem.rdchem._cppAtomValenceException object at 0x7f78cb9c1820>, <rdkit.Chem.rdchem._cppAtomValenceException object at 0x7f78cb9c1890>, <rdkit.Chem.rdchem._cppAtomValenceException object at 0x7f78cb9c1900>, <rdkit.Chem.rdchem._cppAtomValenceException object at 0x7f78cb9c1970>, <rdkit.Chem.rdchem._cppAtomValenceException object at 0x7f78cb9c19e0>, <rdkit.Chem.rdchem._cppAtomValenceException object at 0x7f78cb9c1a50>, <rdkit.Chem.rdchem._cppAtomValenceException object at 0x7f78cb9c1ac0>, <rdkit.Chem.rdchem._cppAtomValenceException object at 0x7f78cb9c1b30>, <rdkit.Chem.rdchem._cppAtomValenceException object at 0x7f78cb9c1ba0>, <rdkit.Chem.rdchem._cppAtomValenceException object at 0x7f78cb9c1c10>, <rdkit.Chem.rdchem._cppAtomValenceException object at 0x7f78cb9c1c80>, <rdkit.Chem.rdchem._cppAtomValenceException object at 0x7f78cb9c1cf0>, <rdkit.Chem.rdchem._cppAtomValenceException object at 0x7f78cb9c1d60>, <rdkit.Chem.rdchem._cppAtomValenceException object at 0x7f78cb9c1dd0>, <rdkit.Chem.rdchem._cppAtomValenceException object at 0x7f78cb9c1e40>, <rdkit.Chem.rdchem._cppAtomValenceException object at 0x7f78cb9c1eb0>, <rdkit.Chem.rdchem._cppAtomValenceException object at 0x7f78cb9c1f20>, <rdkit.Chem.rdchem._cppAtomValenceException object at 0x7f78cb9c1f90>, <rdkit.Chem.rdchem._cppAtomValenceException object at 0x7f78cb9bc040>, <rdkit.Chem.rdchem._cppAtomValenceException object at 0x7f78cb9bc0b0>, <rdkit.Chem.rdchem._cppAtomValenceException object at 0x7f78cb9bc120>, <rdkit.Chem.rdchem._cppAtomValenceException object at 0x7f78cb9bc190>, <rdkit.Chem.rdchem._cppAtomValenceException object at 0x7f78cb9bc200>, <rdkit.Chem.rdchem._cppAtomValenceException object at 0x7f78cb9bc270>)\n",
      "index 4768, problems (<rdkit.Chem.rdchem._cppAtomValenceException object at 0x7f78cb5015f0>, <rdkit.Chem.rdchem._cppAtomValenceException object at 0x7f78cb501820>, <rdkit.Chem.rdchem._cppAtomValenceException object at 0x7f78cb501cf0>, <rdkit.Chem.rdchem._cppAtomValenceException object at 0x7f78cb5019e0>, <rdkit.Chem.rdchem._cppAtomValenceException object at 0x7f78cb501740>, <rdkit.Chem.rdchem._cppAtomValenceException object at 0x7f78cb5013c0>, <rdkit.Chem.rdchem._cppAtomValenceException object at 0x7f78cb501350>, <rdkit.Chem.rdchem._cppAtomValenceException object at 0x7f78cb501c10>)\n",
      "index 4769, problems (<rdkit.Chem.rdchem._cppAtomValenceException object at 0x7f78cb5015f0>, <rdkit.Chem.rdchem._cppAtomValenceException object at 0x7f78cb501820>, <rdkit.Chem.rdchem._cppAtomValenceException object at 0x7f78cb501cf0>, <rdkit.Chem.rdchem._cppAtomValenceException object at 0x7f78cb5019e0>, <rdkit.Chem.rdchem._cppAtomValenceException object at 0x7f78cb501740>, <rdkit.Chem.rdchem._cppAtomValenceException object at 0x7f78cb5013c0>, <rdkit.Chem.rdchem._cppAtomValenceException object at 0x7f78cb501350>, <rdkit.Chem.rdchem._cppAtomValenceException object at 0x7f78cb501c10>, <rdkit.Chem.rdchem._cppAtomValenceException object at 0x7f78cb501ac0>, <rdkit.Chem.rdchem._cppAtomValenceException object at 0x7f78cb501f90>)\n",
      "index 4775, problems (<rdkit.Chem.rdchem._cppAtomValenceException object at 0x7f78cb5015f0>, <rdkit.Chem.rdchem._cppAtomValenceException object at 0x7f78cb501820>)\n",
      "index 4776, problems (<rdkit.Chem.rdchem._cppAtomValenceException object at 0x7f78cb5015f0>, <rdkit.Chem.rdchem._cppAtomValenceException object at 0x7f78cb501820>, <rdkit.Chem.rdchem._cppAtomValenceException object at 0x7f78cb501dd0>, <rdkit.Chem.rdchem._cppAtomValenceException object at 0x7f78cb5010b0>, <rdkit.Chem.rdchem._cppAtomValenceException object at 0x7f78cb501200>, <rdkit.Chem.rdchem._cppAtomValenceException object at 0x7f78cb501120>, <rdkit.Chem.rdchem._cppAtomValenceException object at 0x7f78cb501ba0>, <rdkit.Chem.rdchem._cppAtomValenceException object at 0x7f78cb501a50>, <rdkit.Chem.rdchem._cppAtomValenceException object at 0x7f78cb501c80>, <rdkit.Chem.rdchem._cppAtomValenceException object at 0x7f78cb501040>, <rdkit.Chem.rdchem._cppAtomValenceException object at 0x7f78cb501d60>, <rdkit.Chem.rdchem._cppAtomValenceException object at 0x7f78cb501430>, <rdkit.Chem.rdchem._cppAtomValenceException object at 0x7f78cb5016d0>, <rdkit.Chem.rdchem._cppAtomValenceException object at 0x7f78cb5017b0>, <rdkit.Chem.rdchem._cppAtomValenceException object at 0x7f78cb501f20>, <rdkit.Chem.rdchem._cppAtomValenceException object at 0x7f78cb9c3040>)\n"
     ]
    },
    {
     "name": "stderr",
     "output_type": "stream",
     "text": [
      "==============================\n",
      "*** Open Babel Error  in TetStereoToWedgeHash\n",
      "  Failed to set stereochemistry as unable to find an available bond\n",
      "==============================\n",
      "*** Open Babel Error  in TetStereoToWedgeHash\n",
      "  Failed to set stereochemistry as unable to find an available bond\n"
     ]
    },
    {
     "name": "stdout",
     "output_type": "stream",
     "text": [
      "index 4781, problems (<rdkit.Chem.rdchem._cppAtomValenceException object at 0x7f78cb501a50>, <rdkit.Chem.rdchem._cppAtomValenceException object at 0x7f78cb501c80>, <rdkit.Chem.rdchem._cppAtomValenceException object at 0x7f78cb501040>, <rdkit.Chem.rdchem._cppAtomValenceException object at 0x7f78cb501d60>, <rdkit.Chem.rdchem._cppAtomValenceException object at 0x7f78cb501430>, <rdkit.Chem.rdchem._cppAtomValenceException object at 0x7f78cb5016d0>, <rdkit.Chem.rdchem._cppAtomValenceException object at 0x7f78cb5017b0>, <rdkit.Chem.rdchem._cppAtomValenceException object at 0x7f78cb501f20>, <rdkit.Chem.rdchem._cppAtomValenceException object at 0x7f78cb501cf0>, <rdkit.Chem.rdchem._cppAtomValenceException object at 0x7f78cb5019e0>)\n",
      "index 4784, problems (<rdkit.Chem.rdchem._cppAtomValenceException object at 0x7f78cb501a50>, <rdkit.Chem.rdchem._cppAtomValenceException object at 0x7f78cb501c80>)\n",
      "index 4790, problems (<rdkit.Chem.rdchem._cppAtomValenceException object at 0x7f78cb501040>, <rdkit.Chem.rdchem._cppAtomValenceException object at 0x7f78cb501d60>, <rdkit.Chem.rdchem._cppAtomValenceException object at 0x7f78cb501430>, <rdkit.Chem.rdchem._cppAtomValenceException object at 0x7f78cb5016d0>)\n",
      "index 4791, problems (<rdkit.Chem.rdchem._cppAtomValenceException object at 0x7f78cb5e0dd0>, <rdkit.Chem.rdchem._cppAtomValenceException object at 0x7f78cb501040>)\n"
     ]
    },
    {
     "name": "stderr",
     "output_type": "stream",
     "text": [
      "==============================\n",
      "*** Open Babel Error  in TetStereoToWedgeHash\n",
      "  Failed to set stereochemistry as unable to find an available bond\n",
      "==============================\n",
      "*** Open Babel Error  in TetStereoToWedgeHash\n",
      "  Failed to set stereochemistry as unable to find an available bond\n",
      "==============================\n",
      "*** Open Babel Error  in TetStereoToWedgeHash\n",
      "  Failed to set stereochemistry as unable to find an available bond\n",
      "==============================\n",
      "*** Open Babel Error  in TetStereoToWedgeHash\n",
      "  Failed to set stereochemistry as unable to find an available bond\n",
      "==============================\n",
      "*** Open Babel Error  in TetStereoToWedgeHash\n",
      "  Failed to set stereochemistry as unable to find an available bond\n"
     ]
    },
    {
     "name": "stdout",
     "output_type": "stream",
     "text": [
      "index 4825, problems (<rdkit.Chem.rdchem._cppAtomValenceException object at 0x7f78cb501040>,)\n",
      "index 4861, problems (<rdkit.Chem.rdchem._cppAtomValenceException object at 0x7f78cb501d60>, <rdkit.Chem.rdchem._cppAtomValenceException object at 0x7f78cb501430>, <rdkit.Chem.rdchem._cppAtomValenceException object at 0x7f78cb5016d0>, <rdkit.Chem.rdchem._cppAtomValenceException object at 0x7f78cb501a50>)\n"
     ]
    },
    {
     "name": "stderr",
     "output_type": "stream",
     "text": [
      "==============================\n",
      "*** Open Babel Error  in TetStereoToWedgeHash\n",
      "  Failed to set stereochemistry as unable to find an available bond\n",
      "==============================\n",
      "*** Open Babel Error  in TetStereoToWedgeHash\n",
      "  Failed to set stereochemistry as unable to find an available bond\n",
      "==============================\n",
      "*** Open Babel Error  in TetStereoToWedgeHash\n",
      "  Failed to set stereochemistry as unable to find an available bond\n",
      "==============================\n",
      "*** Open Babel Error  in TetStereoToWedgeHash\n",
      "  Failed to set stereochemistry as unable to find an available bond\n",
      "==============================\n",
      "*** Open Babel Error  in TetStereoToWedgeHash\n",
      "  Failed to set stereochemistry as unable to find an available bond\n",
      "==============================\n",
      "*** Open Babel Error  in TetStereoToWedgeHash\n",
      "  Failed to set stereochemistry as unable to find an available bond\n"
     ]
    },
    {
     "name": "stdout",
     "output_type": "stream",
     "text": [
      "index 4880, problems (<rdkit.Chem.rdchem._cppAtomValenceException object at 0x7f78cb501430>, <rdkit.Chem.rdchem._cppAtomValenceException object at 0x7f78cb5016d0>)\n",
      "index 4917, problems (<rdkit.Chem.rdchem._cppAtomValenceException object at 0x7f78cb5e0b30>,)\n",
      "index 4939, problems (<rdkit.Chem.rdchem._cppAtomValenceException object at 0x7f78cb501430>,)\n",
      "index 4968, problems (<rdkit.Chem.rdchem._cppAtomValenceException object at 0x7f78cb501d60>, <rdkit.Chem.rdchem._cppAtomValenceException object at 0x7f78cb501a50>, <rdkit.Chem.rdchem._cppAtomValenceException object at 0x7f78cb501040>, <rdkit.Chem.rdchem._cppAtomValenceException object at 0x7f78cb501c80>, <rdkit.Chem.rdchem._cppAtomValenceException object at 0x7f78cb5017b0>, <rdkit.Chem.rdchem._cppAtomValenceException object at 0x7f78cb501f20>)\n",
      "index 4988, problems (<rdkit.Chem.rdchem._cppAtomValenceException object at 0x7f78cb5016d0>, <rdkit.Chem.rdchem._cppAtomValenceException object at 0x7f78cb501cf0>, <rdkit.Chem.rdchem._cppAtomValenceException object at 0x7f78cb5019e0>, <rdkit.Chem.rdchem._cppAtomValenceException object at 0x7f78cb5015f0>, <rdkit.Chem.rdchem._cppAtomValenceException object at 0x7f78cb501820>, <rdkit.Chem.rdchem._cppAtomValenceException object at 0x7f78cb501dd0>, <rdkit.Chem.rdchem._cppAtomValenceException object at 0x7f78cb5010b0>, <rdkit.Chem.rdchem._cppAtomValenceException object at 0x7f78cb501200>, <rdkit.Chem.rdchem._cppAtomValenceException object at 0x7f78cb501120>, <rdkit.Chem.rdchem._cppAtomValenceException object at 0x7f78cb501ba0>)\n",
      "index 4990, problems (<rdkit.Chem.rdchem._cppAtomValenceException object at 0x7f78cb501120>, <rdkit.Chem.rdchem._cppAtomValenceException object at 0x7f78cb501ba0>, <rdkit.Chem.rdchem._cppAtomValenceException object at 0x7f78cb501d60>, <rdkit.Chem.rdchem._cppAtomValenceException object at 0x7f78cb501a50>, <rdkit.Chem.rdchem._cppAtomValenceException object at 0x7f78cb501040>, <rdkit.Chem.rdchem._cppAtomValenceException object at 0x7f78cb501c80>, <rdkit.Chem.rdchem._cppAtomValenceException object at 0x7f78cb5017b0>, <rdkit.Chem.rdchem._cppAtomValenceException object at 0x7f78cb501f20>, <rdkit.Chem.rdchem._cppAtomValenceException object at 0x7f78cb501430>, <rdkit.Chem.rdchem._cppAtomValenceException object at 0x7f78cb501740>)\n",
      "index 4995, problems (<rdkit.Chem.rdchem._cppAtomValenceException object at 0x7f78cb501120>, <rdkit.Chem.rdchem._cppAtomValenceException object at 0x7f78cb501ba0>)\n",
      "index 5004, problems (<rdkit.Chem.rdchem._cppAtomValenceException object at 0x7f78cb501120>, <rdkit.Chem.rdchem._cppAtomValenceException object at 0x7f78cb501ba0>)\n",
      "index 5008, problems (<rdkit.Chem.rdchem._cppAtomValenceException object at 0x7f78cb501120>, <rdkit.Chem.rdchem._cppAtomValenceException object at 0x7f78cb501ba0>)\n",
      "index 5018, problems (<rdkit.Chem.rdchem._cppAtomValenceException object at 0x7f78cb5017b0>, <rdkit.Chem.rdchem._cppAtomValenceException object at 0x7f78cb501f20>, <rdkit.Chem.rdchem._cppAtomValenceException object at 0x7f78cb501430>, <rdkit.Chem.rdchem._cppAtomValenceException object at 0x7f78cb501740>, <rdkit.Chem.rdchem._cppAtomValenceException object at 0x7f78cb5016d0>, <rdkit.Chem.rdchem._cppAtomValenceException object at 0x7f78cb501cf0>, <rdkit.Chem.rdchem._cppAtomValenceException object at 0x7f78cb5019e0>, <rdkit.Chem.rdchem._cppAtomValenceException object at 0x7f78cb5015f0>)\n"
     ]
    },
    {
     "name": "stderr",
     "output_type": "stream",
     "text": [
      "==============================\n",
      "*** Open Babel Error  in TetStereoToWedgeHash\n",
      "  Failed to set stereochemistry as unable to find an available bond\n",
      "==============================\n",
      "*** Open Babel Warning  in PerceiveBondOrders\n",
      "  Failed to kekulize aromatic bonds in OBMol::PerceiveBondOrders\n",
      "\n",
      "==============================\n",
      "*** Open Babel Error  in TetStereoToWedgeHash\n",
      "  Failed to set stereochemistry as unable to find an available bond\n"
     ]
    },
    {
     "name": "stdout",
     "output_type": "stream",
     "text": [
      "index 5024, problems (<rdkit.Chem.rdchem._cppAtomValenceException object at 0x7f78cb5e0c10>, <rdkit.Chem.rdchem._cppAtomValenceException object at 0x7f78cb5017b0>)\n",
      "index 5028, problems (<rdkit.Chem.rdchem._cppAtomValenceException object at 0x7f78cb501430>, <rdkit.Chem.rdchem._cppAtomValenceException object at 0x7f78cb501740>, <rdkit.Chem.rdchem._cppAtomValenceException object at 0x7f78cb5016d0>, <rdkit.Chem.rdchem._cppAtomValenceException object at 0x7f78cb501cf0>)\n",
      "index 5029, problems (<rdkit.Chem.rdchem._cppAtomValenceException object at 0x7f78cb5e0dd0>, <rdkit.Chem.rdchem._cppAtomValenceException object at 0x7f78cb501430>)\n",
      "index 5033, problems (<rdkit.Chem.rdchem._cppAtomValenceException object at 0x7f78cb501740>, <rdkit.Chem.rdchem._cppAtomValenceException object at 0x7f78cb5016d0>, <rdkit.Chem.rdchem._cppAtomValenceException object at 0x7f78cb501cf0>, <rdkit.Chem.rdchem._cppAtomValenceException object at 0x7f78cb5017b0>)\n",
      "index 5037, problems (<rdkit.Chem.rdchem._cppAtomValenceException object at 0x7f78cb5e0c10>, <rdkit.Chem.rdchem._cppAtomValenceException object at 0x7f78cb501740>)\n",
      "index 5043, problems (<rdkit.Chem.rdchem._cppAtomValenceException object at 0x7f78cb5e0b30>, <rdkit.Chem.rdchem._cppAtomValenceException object at 0x7f78cb501740>)\n"
     ]
    },
    {
     "name": "stderr",
     "output_type": "stream",
     "text": [
      "==============================\n",
      "*** Open Babel Error  in TetStereoToWedgeHash\n",
      "  Failed to set stereochemistry as unable to find an available bond\n"
     ]
    },
    {
     "name": "stdout",
     "output_type": "stream",
     "text": [
      "index 5074, problems (<rdkit.Chem.rdchem._cppAtomValenceException object at 0x7f78cb501740>, <rdkit.Chem.rdchem._cppAtomValenceException object at 0x7f78cb501cf0>, <rdkit.Chem.rdchem._cppAtomValenceException object at 0x7f78cb5017b0>, <rdkit.Chem.rdchem._cppAtomValenceException object at 0x7f78cb501430>)\n",
      "index 5077, problems (<rdkit.Chem.rdchem._cppAtomValenceException object at 0x7f78cb501740>, <rdkit.Chem.rdchem._cppAtomValenceException object at 0x7f78cb501cf0>)\n",
      "index 5079, problems (<rdkit.Chem.rdchem._cppAtomValenceException object at 0x7f78cb5017b0>, <rdkit.Chem.rdchem._cppAtomValenceException object at 0x7f78cb501430>, <rdkit.Chem.rdchem._cppAtomValenceException object at 0x7f78cb5016d0>, <rdkit.Chem.rdchem._cppAtomValenceException object at 0x7f78cb501f20>)\n",
      "index 5093, problems (<rdkit.Chem.rdchem._cppAtomValenceException object at 0x7f78cb501430>, <rdkit.Chem.rdchem._cppAtomValenceException object at 0x7f78cb5016d0>, <rdkit.Chem.rdchem._cppAtomValenceException object at 0x7f78cb501f20>, <rdkit.Chem.rdchem._cppAtomValenceException object at 0x7f78cb501740>)\n",
      "index 5095, problems (<rdkit.Chem.rdchem._cppAtomValenceException object at 0x7f78cb5016d0>, <rdkit.Chem.rdchem._cppAtomValenceException object at 0x7f78cb501f20>, <rdkit.Chem.rdchem._cppAtomValenceException object at 0x7f78cb501740>, <rdkit.Chem.rdchem._cppAtomValenceException object at 0x7f78cb5017b0>)\n",
      "index 5098, problems (<rdkit.Chem.rdchem._cppAtomValenceException object at 0x7f78cb5e0c10>,)\n",
      "index 5099, problems (<rdkit.Chem.rdchem._cppAtomValenceException object at 0x7f78cb5e0c10>, <rdkit.Chem.rdchem._cppAtomValenceException object at 0x7f78cb4c10b0>, <rdkit.Chem.rdchem._cppAtomValenceException object at 0x7f78cb4c1120>, <rdkit.Chem.rdchem._cppAtomValenceException object at 0x7f78cb4c1190>, <rdkit.Chem.rdchem._cppAtomValenceException object at 0x7f78cb4c1200>, <rdkit.Chem.rdchem._cppAtomValenceException object at 0x7f78cb4c1270>, <rdkit.Chem.rdchem._cppAtomValenceException object at 0x7f78cb4c12e0>, <rdkit.Chem.rdchem._cppAtomValenceException object at 0x7f78cb4c1350>, <rdkit.Chem.rdchem._cppAtomValenceException object at 0x7f78cb4c13c0>, <rdkit.Chem.rdchem._cppAtomValenceException object at 0x7f78cb4c1430>, <rdkit.Chem.rdchem._cppAtomValenceException object at 0x7f78cb4c14a0>, <rdkit.Chem.rdchem._cppAtomValenceException object at 0x7f78cb4c1510>, <rdkit.Chem.rdchem._cppAtomValenceException object at 0x7f78cb4c1580>, <rdkit.Chem.rdchem._cppAtomValenceException object at 0x7f78cb4c15f0>, <rdkit.Chem.rdchem._cppAtomValenceException object at 0x7f78cb4c1660>, <rdkit.Chem.rdchem._cppAtomValenceException object at 0x7f78cb4c16d0>, <rdkit.Chem.rdchem._cppAtomValenceException object at 0x7f78cb4c1740>, <rdkit.Chem.rdchem._cppAtomValenceException object at 0x7f78cb4c17b0>, <rdkit.Chem.rdchem._cppAtomValenceException object at 0x7f78cb4c1820>, <rdkit.Chem.rdchem._cppAtomValenceException object at 0x7f78cb4c1890>, <rdkit.Chem.rdchem._cppAtomValenceException object at 0x7f78cb4c1900>, <rdkit.Chem.rdchem._cppAtomValenceException object at 0x7f78cb4c1970>, <rdkit.Chem.rdchem._cppAtomValenceException object at 0x7f78cb4c19e0>, <rdkit.Chem.rdchem._cppAtomValenceException object at 0x7f78cb4c1a50>, <rdkit.Chem.rdchem._cppAtomValenceException object at 0x7f78cb4c1ac0>, <rdkit.Chem.rdchem._cppAtomValenceException object at 0x7f78cb4c1b30>, <rdkit.Chem.rdchem._cppAtomValenceException object at 0x7f78cb4c1ba0>, <rdkit.Chem.rdchem._cppAtomValenceException object at 0x7f78cb4c1c10>, <rdkit.Chem.rdchem._cppAtomValenceException object at 0x7f78cb4c1c80>, <rdkit.Chem.rdchem._cppAtomValenceException object at 0x7f78cb4c1cf0>, <rdkit.Chem.rdchem._cppAtomValenceException object at 0x7f78cb4c1d60>, <rdkit.Chem.rdchem._cppAtomValenceException object at 0x7f78cb4c1dd0>)\n"
     ]
    },
    {
     "name": "stderr",
     "output_type": "stream",
     "text": [
      "==============================\n",
      "*** Open Babel Error  in TetStereoToWedgeHash\n",
      "  Failed to set stereochemistry as unable to find an available bond\n"
     ]
    },
    {
     "name": "stdout",
     "output_type": "stream",
     "text": [
      "index 5183, problems (<rdkit.Chem.rdchem._cppAtomValenceException object at 0x7f78cb5016d0>, <rdkit.Chem.rdchem._cppAtomValenceException object at 0x7f78cb501f20>, <rdkit.Chem.rdchem._cppAtomValenceException object at 0x7f78cb501740>, <rdkit.Chem.rdchem._cppAtomValenceException object at 0x7f78cb5017b0>)\n"
     ]
    },
    {
     "name": "stderr",
     "output_type": "stream",
     "text": [
      "==============================\n",
      "*** Open Babel Warning  in PerceiveBondOrders\n",
      "  Failed to kekulize aromatic bonds in OBMol::PerceiveBondOrders\n",
      "\n",
      "==============================\n",
      "*** Open Babel Warning  in PerceiveBondOrders\n",
      "  Failed to kekulize aromatic bonds in OBMol::PerceiveBondOrders\n",
      "\n",
      "==============================\n",
      "*** Open Babel Warning  in PerceiveBondOrders\n",
      "  Failed to kekulize aromatic bonds in OBMol::PerceiveBondOrders\n",
      "\n",
      "==============================\n",
      "*** Open Babel Warning  in PerceiveBondOrders\n",
      "  Failed to kekulize aromatic bonds in OBMol::PerceiveBondOrders\n",
      "\n",
      "==============================\n",
      "*** Open Babel Warning  in PerceiveBondOrders\n",
      "  Failed to kekulize aromatic bonds in OBMol::PerceiveBondOrders\n",
      "\n",
      "==============================\n",
      "*** Open Babel Warning  in PerceiveBondOrders\n",
      "  Failed to kekulize aromatic bonds in OBMol::PerceiveBondOrders\n",
      "\n"
     ]
    },
    {
     "name": "stdout",
     "output_type": "stream",
     "text": [
      "index 5348, problems (<rdkit.Chem.rdchem._cppAtomValenceException object at 0x7f78cb5e0dd0>,)\n",
      "index 5457, problems (<rdkit.Chem.rdchem._cppAtomValenceException object at 0x7f78cb5e0c10>, <rdkit.Chem.rdchem._cppAtomValenceException object at 0x7f78cb5e0ba0>)\n",
      "index 5498, problems (<rdkit.Chem.rdchem._cppAtomValenceException object at 0x7f78cb501f20>, <rdkit.Chem.rdchem._cppAtomValenceException object at 0x7f78cb501740>)\n",
      "index 5503, problems (<rdkit.Chem.rdchem._cppAtomValenceException object at 0x7f78cb501f20>,)\n"
     ]
    },
    {
     "name": "stderr",
     "output_type": "stream",
     "text": [
      "==============================\n",
      "*** Open Babel Error  in TetStereoToWedgeHash\n",
      "  Failed to set stereochemistry as unable to find an available bond\n"
     ]
    },
    {
     "name": "stdout",
     "output_type": "stream",
     "text": [
      "index 5640, problems (<rdkit.Chem.rdchem._cppAtomValenceException object at 0x7f78cb5e0c10>,)\n",
      "index 5705, problems (<rdkit.Chem.rdchem._cppAtomValenceException object at 0x7f78cb5016d0>, <rdkit.Chem.rdchem._cppAtomValenceException object at 0x7f78cb5017b0>, <rdkit.Chem.rdchem._cppAtomValenceException object at 0x7f78cb501430>, <rdkit.Chem.rdchem._cppAtomValenceException object at 0x7f78cb501cf0>)\n",
      "index 5706, problems (<rdkit.Chem.rdchem._cppAtomValenceException object at 0x7f78cb5016d0>, <rdkit.Chem.rdchem._cppAtomValenceException object at 0x7f78cb5017b0>)\n",
      "index 5707, problems (<rdkit.Chem.rdchem._cppAtomValenceException object at 0x7f78cb5016d0>, <rdkit.Chem.rdchem._cppAtomValenceException object at 0x7f78cb5017b0>, <rdkit.Chem.rdchem._cppAtomValenceException object at 0x7f78cb501f20>, <rdkit.Chem.rdchem._cppAtomValenceException object at 0x7f78cb501740>)\n"
     ]
    },
    {
     "name": "stderr",
     "output_type": "stream",
     "text": [
      "==============================\n",
      "*** Open Babel Error  in TetStereoToWedgeHash\n",
      "  Failed to set stereochemistry as unable to find an available bond\n",
      "==============================\n",
      "*** Open Babel Error  in TetStereoToWedgeHash\n",
      "  Failed to set stereochemistry as unable to find an available bond\n",
      "==============================\n",
      "*** Open Babel Error  in TetStereoToWedgeHash\n",
      "  Failed to set stereochemistry as unable to find an available bond\n",
      "==============================\n",
      "*** Open Babel Error  in TetStereoToWedgeHash\n",
      "  Failed to set stereochemistry as unable to find an available bond\n",
      "==============================\n",
      "*** Open Babel Error  in TetStereoToWedgeHash\n",
      "  Failed to set stereochemistry as unable to find an available bond\n",
      "==============================\n",
      "*** Open Babel Error  in TetStereoToWedgeHash\n",
      "  Failed to set stereochemistry as unable to find an available bond\n"
     ]
    },
    {
     "name": "stdout",
     "output_type": "stream",
     "text": [
      "index 5710, problems (<rdkit.Chem.rdchem._cppAtomValenceException object at 0x7f78cb5017b0>, <rdkit.Chem.rdchem._cppAtomValenceException object at 0x7f78cb501f20>, <rdkit.Chem.rdchem._cppAtomValenceException object at 0x7f78cb501740>, <rdkit.Chem.rdchem._cppAtomValenceException object at 0x7f78cb501430>)\n",
      "index 5718, problems (<rdkit.Chem.rdchem._cppAtomValenceException object at 0x7f78cb501740>, <rdkit.Chem.rdchem._cppAtomValenceException object at 0x7f78cb501430>, <rdkit.Chem.rdchem._cppAtomValenceException object at 0x7f78cb5016d0>, <rdkit.Chem.rdchem._cppAtomValenceException object at 0x7f78cb501cf0>)\n",
      "index 5720, problems (<rdkit.Chem.rdchem._cppAtomValenceException object at 0x7f78cb501430>, <rdkit.Chem.rdchem._cppAtomValenceException object at 0x7f78cb5016d0>, <rdkit.Chem.rdchem._cppAtomValenceException object at 0x7f78cb501cf0>, <rdkit.Chem.rdchem._cppAtomValenceException object at 0x7f78cb5017b0>)\n",
      "index 5726, problems (<rdkit.Chem.rdchem._cppAtomValenceException object at 0x7f78cb5e0ba0>, <rdkit.Chem.rdchem._cppAtomValenceException object at 0x7f78cb501430>)\n",
      "index 5733, problems (<rdkit.Chem.rdchem._cppAtomValenceException object at 0x7f78cb501430>, <rdkit.Chem.rdchem._cppAtomValenceException object at 0x7f78cb5016d0>)\n"
     ]
    },
    {
     "name": "stderr",
     "output_type": "stream",
     "text": [
      "==============================\n",
      "*** Open Babel Error  in TetStereoToWedgeHash\n",
      "  Failed to set stereochemistry as unable to find an available bond\n",
      "==============================\n",
      "*** Open Babel Error  in TetStereoToWedgeHash\n",
      "  Failed to set stereochemistry as unable to find an available bond\n",
      "==============================\n",
      "*** Open Babel Error  in TetStereoToWedgeHash\n",
      "  Failed to set stereochemistry as unable to find an available bond\n"
     ]
    },
    {
     "name": "stdout",
     "output_type": "stream",
     "text": [
      "index 5734, problems (<rdkit.Chem.rdchem._cppAtomValenceException object at 0x7f78cb501430>, <rdkit.Chem.rdchem._cppAtomValenceException object at 0x7f78cb5016d0>, <rdkit.Chem.rdchem._cppAtomValenceException object at 0x7f78cb5017b0>, <rdkit.Chem.rdchem._cppAtomValenceException object at 0x7f78cb501740>)\n",
      "index 5738, problems (<rdkit.Chem.rdchem._cppAtomValenceException object at 0x7f78cb501120>, <rdkit.Chem.rdchem._cppAtomValenceException object at 0x7f78cb501ba0>, <rdkit.Chem.rdchem._cppAtomValenceException object at 0x7f78cb501d60>, <rdkit.Chem.rdchem._cppAtomValenceException object at 0x7f78cb501a50>, <rdkit.Chem.rdchem._cppAtomValenceException object at 0x7f78cb501040>, <rdkit.Chem.rdchem._cppAtomValenceException object at 0x7f78cb501c80>, <rdkit.Chem.rdchem._cppAtomValenceException object at 0x7f78cb501820>, <rdkit.Chem.rdchem._cppAtomValenceException object at 0x7f78cb501dd0>, <rdkit.Chem.rdchem._cppAtomValenceException object at 0x7f78cb5010b0>, <rdkit.Chem.rdchem._cppAtomValenceException object at 0x7f78cb501200>)\n",
      "index 5740, problems (<rdkit.Chem.rdchem._cppAtomValenceException object at 0x7f78cb501d60>, <rdkit.Chem.rdchem._cppAtomValenceException object at 0x7f78cb501a50>, <rdkit.Chem.rdchem._cppAtomValenceException object at 0x7f78cb501040>, <rdkit.Chem.rdchem._cppAtomValenceException object at 0x7f78cb501c80>)\n",
      "index 5741, problems (<rdkit.Chem.rdchem._cppAtomValenceException object at 0x7f78cb501d60>, <rdkit.Chem.rdchem._cppAtomValenceException object at 0x7f78cb501a50>, <rdkit.Chem.rdchem._cppAtomValenceException object at 0x7f78cb501040>, <rdkit.Chem.rdchem._cppAtomValenceException object at 0x7f78cb501c80>, <rdkit.Chem.rdchem._cppAtomValenceException object at 0x7f78cb5010b0>, <rdkit.Chem.rdchem._cppAtomValenceException object at 0x7f78cb501200>)\n",
      "index 5746, problems (<rdkit.Chem.rdchem._cppAtomValenceException object at 0x7f78cb501040>, <rdkit.Chem.rdchem._cppAtomValenceException object at 0x7f78cb501c80>, <rdkit.Chem.rdchem._cppAtomValenceException object at 0x7f78cb5010b0>, <rdkit.Chem.rdchem._cppAtomValenceException object at 0x7f78cb501200>)\n",
      "index 5749, problems (<rdkit.Chem.rdchem._cppAtomValenceException object at 0x7f78cb501040>, <rdkit.Chem.rdchem._cppAtomValenceException object at 0x7f78cb501c80>)\n",
      "index 5764, problems (<rdkit.Chem.rdchem._cppAtomValenceException object at 0x7f78cb5010b0>, <rdkit.Chem.rdchem._cppAtomValenceException object at 0x7f78cb501200>, <rdkit.Chem.rdchem._cppAtomValenceException object at 0x7f78cb501d60>, <rdkit.Chem.rdchem._cppAtomValenceException object at 0x7f78cb501a50>)\n"
     ]
    },
    {
     "name": "stderr",
     "output_type": "stream",
     "text": [
      "==============================\n",
      "*** Open Babel Error  in TetStereoToWedgeHash\n",
      "  Failed to set stereochemistry as unable to find an available bond\n",
      "==============================\n",
      "*** Open Babel Error  in TetStereoToWedgeHash\n",
      "  Failed to set stereochemistry as unable to find an available bond\n"
     ]
    },
    {
     "name": "stdout",
     "output_type": "stream",
     "text": [
      "index 5794, problems (<rdkit.Chem.rdchem._cppAtomValenceException object at 0x7f78cb5e0ba0>,)\n",
      "index 5799, problems (<rdkit.Chem.rdchem._cppAtomValenceException object at 0x7f78cb501040>, <rdkit.Chem.rdchem._cppAtomValenceException object at 0x7f78cb501c80>, <rdkit.Chem.rdchem._cppAtomValenceException object at 0x7f78cb501120>, <rdkit.Chem.rdchem._cppAtomValenceException object at 0x7f78cb501ba0>, <rdkit.Chem.rdchem._cppAtomValenceException object at 0x7f78cb501820>, <rdkit.Chem.rdchem._cppAtomValenceException object at 0x7f78cb501dd0>)\n",
      "index 5828, problems (<rdkit.Chem.rdchem._cppAtomValenceException object at 0x7f78cb5e0c10>,)\n",
      "index 5891, problems (<rdkit.Chem.rdchem._cppAtomValenceException object at 0x7f78cb5e0c10>, <rdkit.Chem.rdchem._cppAtomValenceException object at 0x7f78cb5e0b30>)\n",
      "index 5909, problems (<rdkit.Chem.rdchem._cppAtomValenceException object at 0x7f78cb501c80>, <rdkit.Chem.rdchem._cppAtomValenceException object at 0x7f78cb501120>, <rdkit.Chem.rdchem._cppAtomValenceException object at 0x7f78cb501ba0>, <rdkit.Chem.rdchem._cppAtomValenceException object at 0x7f78cb501820>)\n",
      "index 5910, problems (<rdkit.Chem.rdchem._cppAtomValenceException object at 0x7f78cb5e0dd0>, <rdkit.Chem.rdchem._cppAtomValenceException object at 0x7f78cb501c80>)\n"
     ]
    },
    {
     "name": "stderr",
     "output_type": "stream",
     "text": [
      "==============================\n",
      "*** Open Babel Error  in TetStereoToWedgeHash\n",
      "  Failed to set stereochemistry as unable to find an available bond\n"
     ]
    },
    {
     "name": "stdout",
     "output_type": "stream",
     "text": [
      "index 5969, problems (<rdkit.Chem.rdchem._cppAtomValenceException object at 0x7f78cb5e0b30>, <rdkit.Chem.rdchem._cppAtomValenceException object at 0x7f78cb501c80>)\n",
      "index 5972, problems (<rdkit.Chem.rdchem._cppAtomValenceException object at 0x7f78cb501040>, <rdkit.Chem.rdchem._cppAtomValenceException object at 0x7f78cb501dd0>, <rdkit.Chem.rdchem._cppAtomValenceException object at 0x7f78cb5010b0>, <rdkit.Chem.rdchem._cppAtomValenceException object at 0x7f78cb501200>, <rdkit.Chem.rdchem._cppAtomValenceException object at 0x7f78cb501d60>, <rdkit.Chem.rdchem._cppAtomValenceException object at 0x7f78cb501a50>)\n",
      "index 5982, problems (<rdkit.Chem.rdchem._cppAtomValenceException object at 0x7f78cb5e0c10>, <rdkit.Chem.rdchem._cppAtomValenceException object at 0x7f78cb501040>)\n",
      "index 5986, problems (<rdkit.Chem.rdchem._cppAtomValenceException object at 0x7f78cb5e0dd0>, <rdkit.Chem.rdchem._cppAtomValenceException object at 0x7f78cb501040>)\n",
      "index 6028, problems (<rdkit.Chem.rdchem._cppAtomValenceException object at 0x7f78cb5e0ba0>,)\n",
      "index 6029, problems (<rdkit.Chem.rdchem._cppAtomValenceException object at 0x7f78cb5e0ba0>,)\n",
      "index 6040, problems (<rdkit.Chem.rdchem._cppAtomValenceException object at 0x7f78cb501040>, <rdkit.Chem.rdchem._cppAtomValenceException object at 0x7f78cb501dd0>)\n",
      "index 6042, problems (<rdkit.Chem.rdchem._cppAtomValenceException object at 0x7f78cb501040>, <rdkit.Chem.rdchem._cppAtomValenceException object at 0x7f78cb501dd0>)\n",
      "index 6048, problems (<rdkit.Chem.rdchem._cppAtomValenceException object at 0x7f78cb501040>, <rdkit.Chem.rdchem._cppAtomValenceException object at 0x7f78cb501dd0>)\n",
      "index 6051, problems (<rdkit.Chem.rdchem._cppAtomValenceException object at 0x7f78cb501ba0>, <rdkit.Chem.rdchem._cppAtomValenceException object at 0x7f78cb501820>, <rdkit.Chem.rdchem._cppAtomValenceException object at 0x7f78cb501430>, <rdkit.Chem.rdchem._cppAtomValenceException object at 0x7f78cb5016d0>, <rdkit.Chem.rdchem._cppAtomValenceException object at 0x7f78cb5017b0>, <rdkit.Chem.rdchem._cppAtomValenceException object at 0x7f78cb501740>, <rdkit.Chem.rdchem._cppAtomValenceException object at 0x7f78cb501cf0>, <rdkit.Chem.rdchem._cppAtomValenceException object at 0x7f78cb501f20>, <rdkit.Chem.rdchem._cppAtomValenceException object at 0x7f78cb5019e0>, <rdkit.Chem.rdchem._cppAtomValenceException object at 0x7f78cb5015f0>)\n",
      "index 6052, problems (<rdkit.Chem.rdchem._cppAtomValenceException object at 0x7f78cb5e0b30>,)\n",
      "index 6053, problems (<rdkit.Chem.rdchem._cppAtomValenceException object at 0x7f78cb5e0b30>, <rdkit.Chem.rdchem._cppAtomValenceException object at 0x7f78cb5016d0>, <rdkit.Chem.rdchem._cppAtomValenceException object at 0x7f78cb5017b0>, <rdkit.Chem.rdchem._cppAtomValenceException object at 0x7f78cb501740>)\n"
     ]
    },
    {
     "name": "stderr",
     "output_type": "stream",
     "text": [
      "==============================\n",
      "*** Open Babel Error  in TetStereoToWedgeHash\n",
      "  Failed to set stereochemistry as unable to find an available bond\n",
      "==============================\n",
      "*** Open Babel Warning  in PerceiveBondOrders\n",
      "  Failed to kekulize aromatic bonds in OBMol::PerceiveBondOrders\n",
      "\n",
      "==============================\n",
      "*** Open Babel Error  in TetStereoToWedgeHash\n",
      "  Failed to set stereochemistry as unable to find an available bond\n",
      "==============================\n",
      "*** Open Babel Warning  in PerceiveBondOrders\n",
      "  Failed to kekulize aromatic bonds in OBMol::PerceiveBondOrders\n",
      "\n",
      "==============================\n",
      "*** Open Babel Warning  in PerceiveBondOrders\n",
      "  Failed to kekulize aromatic bonds in OBMol::PerceiveBondOrders\n",
      "\n",
      "==============================\n",
      "*** Open Babel Warning  in PerceiveBondOrders\n",
      "  Failed to kekulize aromatic bonds in OBMol::PerceiveBondOrders\n",
      "\n",
      "==============================\n",
      "*** Open Babel Warning  in PerceiveBondOrders\n",
      "  Failed to kekulize aromatic bonds in OBMol::PerceiveBondOrders\n",
      "\n",
      "==============================\n",
      "*** Open Babel Warning  in PerceiveBondOrders\n",
      "  Failed to kekulize aromatic bonds in OBMol::PerceiveBondOrders\n",
      "\n",
      "==============================\n",
      "*** Open Babel Warning  in PerceiveBondOrders\n",
      "  Failed to kekulize aromatic bonds in OBMol::PerceiveBondOrders\n",
      "\n",
      "==============================\n",
      "*** Open Babel Warning  in PerceiveBondOrders\n",
      "  Failed to kekulize aromatic bonds in OBMol::PerceiveBondOrders\n",
      "\n",
      "==============================\n",
      "*** Open Babel Warning  in PerceiveBondOrders\n",
      "  Failed to kekulize aromatic bonds in OBMol::PerceiveBondOrders\n",
      "\n",
      "==============================\n",
      "*** Open Babel Warning  in PerceiveBondOrders\n",
      "  Failed to kekulize aromatic bonds in OBMol::PerceiveBondOrders\n",
      "\n",
      "==============================\n",
      "*** Open Babel Warning  in PerceiveBondOrders\n",
      "  Failed to kekulize aromatic bonds in OBMol::PerceiveBondOrders\n",
      "\n"
     ]
    },
    {
     "name": "stdout",
     "output_type": "stream",
     "text": [
      "index 6351, problems (<rdkit.Chem.rdchem._cppAtomValenceException object at 0x7f78cb5e0b30>,)\n",
      "index 6425, problems (<rdkit.Chem.rdchem._cppAtomValenceException object at 0x7f78cb5e0ba0>, <rdkit.Chem.rdchem._cppAtomValenceException object at 0x7f78cb5e0dd0>)\n",
      "index 6440, problems (<rdkit.Chem.rdchem._cppAtomValenceException object at 0x7f78cb5e0c10>, <rdkit.Chem.rdchem._cppAtomValenceException object at 0x7f78cb5016d0>)\n",
      "index 6462, problems (<rdkit.Chem.rdchem._cppAtomValenceException object at 0x7f78cb501dd0>, <rdkit.Chem.rdchem._cppAtomValenceException object at 0x7f78cb5010b0>, <rdkit.Chem.rdchem._cppAtomValenceException object at 0x7f78cb501200>, <rdkit.Chem.rdchem._cppAtomValenceException object at 0x7f78cb501d60>, <rdkit.Chem.rdchem._cppAtomValenceException object at 0x7f78cb501a50>, <rdkit.Chem.rdchem._cppAtomValenceException object at 0x7f78cb501c80>, <rdkit.Chem.rdchem._cppAtomValenceException object at 0x7f78cb501120>, <rdkit.Chem.rdchem._cppAtomValenceException object at 0x7f78cb5013c0>, <rdkit.Chem.rdchem._cppAtomValenceException object at 0x7f78cb501350>, <rdkit.Chem.rdchem._cppAtomValenceException object at 0x7f78cb501c10>, <rdkit.Chem.rdchem._cppAtomValenceException object at 0x7f78cb501ac0>, <rdkit.Chem.rdchem._cppAtomValenceException object at 0x7f78cb501f90>)\n"
     ]
    },
    {
     "name": "stderr",
     "output_type": "stream",
     "text": [
      "==============================\n",
      "*** Open Babel Error  in TetStereoToWedgeHash\n",
      "  Failed to set stereochemistry as unable to find an available bond\n",
      "==============================\n",
      "*** Open Babel Error  in TetStereoToWedgeHash\n",
      "  Failed to set stereochemistry as unable to find an available bond\n",
      "==============================\n",
      "*** Open Babel Error  in TetStereoToWedgeHash\n",
      "  Failed to set stereochemistry as unable to find an available bond\n"
     ]
    },
    {
     "name": "stdout",
     "output_type": "stream",
     "text": [
      "index 6643, problems (<rdkit.Chem.rdchem._cppAtomValenceException object at 0x7f78cb5e0c10>,)\n",
      "index 6697, problems (<rdkit.Chem.rdchem._cppAtomValenceException object at 0x7f78cb501dd0>, <rdkit.Chem.rdchem._cppAtomValenceException object at 0x7f78cb5010b0>)\n",
      "index 6699, problems (<rdkit.Chem.rdchem._cppAtomValenceException object at 0x7f78cb501a50>, <rdkit.Chem.rdchem._cppAtomValenceException object at 0x7f78cb501c80>, <rdkit.Chem.rdchem._cppAtomValenceException object at 0x7f78cb501120>, <rdkit.Chem.rdchem._cppAtomValenceException object at 0x7f78cb5013c0>, <rdkit.Chem.rdchem._cppAtomValenceException object at 0x7f78cb501350>, <rdkit.Chem.rdchem._cppAtomValenceException object at 0x7f78cb501c10>)\n",
      "index 6703, problems (<rdkit.Chem.rdchem._cppAtomValenceException object at 0x7f78cb5016d0>, <rdkit.Chem.rdchem._cppAtomValenceException object at 0x7f78cb5017b0>, <rdkit.Chem.rdchem._cppAtomValenceException object at 0x7f78cb501740>, <rdkit.Chem.rdchem._cppAtomValenceException object at 0x7f78cb501ba0>, <rdkit.Chem.rdchem._cppAtomValenceException object at 0x7f78cb501820>, <rdkit.Chem.rdchem._cppAtomValenceException object at 0x7f78cb501430>, <rdkit.Chem.rdchem._cppAtomValenceException object at 0x7f78cb501cf0>, <rdkit.Chem.rdchem._cppAtomValenceException object at 0x7f78cb501f20>, <rdkit.Chem.rdchem._cppAtomValenceException object at 0x7f78cb5019e0>, <rdkit.Chem.rdchem._cppAtomValenceException object at 0x7f78cb5015f0>, <rdkit.Chem.rdchem._cppAtomValenceException object at 0x7f78cb501040>, <rdkit.Chem.rdchem._cppAtomValenceException object at 0x7f78cb5014a0>, <rdkit.Chem.rdchem._cppAtomValenceException object at 0x7f78cb501e40>, <rdkit.Chem.rdchem._cppAtomValenceException object at 0x7f78cb5012e0>)\n"
     ]
    },
    {
     "name": "stderr",
     "output_type": "stream",
     "text": [
      "==============================\n",
      "*** Open Babel Error  in TetStereoToWedgeHash\n",
      "  Failed to set stereochemistry as unable to find an available bond\n",
      "==============================\n",
      "*** Open Babel Error  in TetStereoToWedgeHash\n",
      "  Failed to set stereochemistry as unable to find an available bond\n"
     ]
    },
    {
     "name": "stdout",
     "output_type": "stream",
     "text": [
      "index 6705, problems (<rdkit.Chem.rdchem._cppAtomValenceException object at 0x7f78cb5017b0>, <rdkit.Chem.rdchem._cppAtomValenceException object at 0x7f78cb501740>, <rdkit.Chem.rdchem._cppAtomValenceException object at 0x7f78cb501ba0>, <rdkit.Chem.rdchem._cppAtomValenceException object at 0x7f78cb501820>)\n",
      "index 6707, problems (<rdkit.Chem.rdchem._cppAtomValenceException object at 0x7f78cb501cf0>, <rdkit.Chem.rdchem._cppAtomValenceException object at 0x7f78cb501f20>, <rdkit.Chem.rdchem._cppAtomValenceException object at 0x7f78cb5019e0>, <rdkit.Chem.rdchem._cppAtomValenceException object at 0x7f78cb5015f0>, <rdkit.Chem.rdchem._cppAtomValenceException object at 0x7f78cb501040>, <rdkit.Chem.rdchem._cppAtomValenceException object at 0x7f78cb5014a0>, <rdkit.Chem.rdchem._cppAtomValenceException object at 0x7f78cb501e40>, <rdkit.Chem.rdchem._cppAtomValenceException object at 0x7f78cb5012e0>)\n",
      "index 6709, problems (<rdkit.Chem.rdchem._cppAtomValenceException object at 0x7f78cb501040>, <rdkit.Chem.rdchem._cppAtomValenceException object at 0x7f78cb5014a0>, <rdkit.Chem.rdchem._cppAtomValenceException object at 0x7f78cb501e40>, <rdkit.Chem.rdchem._cppAtomValenceException object at 0x7f78cb5012e0>, <rdkit.Chem.rdchem._cppAtomValenceException object at 0x7f78cb5017b0>, <rdkit.Chem.rdchem._cppAtomValenceException object at 0x7f78cb501740>)\n",
      "index 6712, problems (<rdkit.Chem.rdchem._cppAtomValenceException object at 0x7f78cb5e0dd0>, <rdkit.Chem.rdchem._cppAtomValenceException object at 0x7f78cb501040>)\n",
      "index 6714, problems (<rdkit.Chem.rdchem._cppAtomValenceException object at 0x7f78cb48a820>, <rdkit.Chem.rdchem._cppAtomValenceException object at 0x7f78cb48a890>, <rdkit.Chem.rdchem._cppAtomValenceException object at 0x7f78cb48a900>, <rdkit.Chem.rdchem._cppAtomValenceException object at 0x7f78cb48a970>, <rdkit.Chem.rdchem._cppAtomValenceException object at 0x7f78cb48a9e0>, <rdkit.Chem.rdchem._cppAtomValenceException object at 0x7f78cb48aa50>, <rdkit.Chem.rdchem._cppAtomValenceException object at 0x7f78cb48aac0>, <rdkit.Chem.rdchem._cppAtomValenceException object at 0x7f78cb48ab30>, <rdkit.Chem.rdchem._cppAtomValenceException object at 0x7f78cb48aba0>, <rdkit.Chem.rdchem._cppAtomValenceException object at 0x7f78cb48ac10>, <rdkit.Chem.rdchem._cppAtomValenceException object at 0x7f78cb48ac80>, <rdkit.Chem.rdchem._cppAtomValenceException object at 0x7f78cb48acf0>, <rdkit.Chem.rdchem._cppAtomValenceException object at 0x7f78cb48ad60>, <rdkit.Chem.rdchem._cppAtomValenceException object at 0x7f78cb48add0>, <rdkit.Chem.rdchem._cppAtomValenceException object at 0x7f78cb48ae40>, <rdkit.Chem.rdchem._cppAtomValenceException object at 0x7f78cb48aeb0>, <rdkit.Chem.rdchem._cppAtomValenceException object at 0x7f78cb48af20>, <rdkit.Chem.rdchem._cppAtomValenceException object at 0x7f78cb48af90>, <rdkit.Chem.rdchem._cppAtomValenceException object at 0x7f78cb469040>, <rdkit.Chem.rdchem._cppAtomValenceException object at 0x7f78cb4690b0>, <rdkit.Chem.rdchem._cppAtomValenceException object at 0x7f78cb469120>, <rdkit.Chem.rdchem._cppAtomValenceException object at 0x7f78cb469190>, <rdkit.Chem.rdchem._cppAtomValenceException object at 0x7f78cb469200>, <rdkit.Chem.rdchem._cppAtomValenceException object at 0x7f78cb469270>, <rdkit.Chem.rdchem._cppAtomValenceException object at 0x7f78cb4692e0>, <rdkit.Chem.rdchem._cppAtomValenceException object at 0x7f78cb469350>, <rdkit.Chem.rdchem._cppAtomValenceException object at 0x7f78cb4693c0>, <rdkit.Chem.rdchem._cppAtomValenceException object at 0x7f78cb469430>, <rdkit.Chem.rdchem._cppAtomValenceException object at 0x7f78cb4694a0>, <rdkit.Chem.rdchem._cppAtomValenceException object at 0x7f78cb469510>, <rdkit.Chem.rdchem._cppAtomValenceException object at 0x7f78cb469580>, <rdkit.Chem.rdchem._cppAtomValenceException object at 0x7f78cb4695f0>, <rdkit.Chem.rdchem._cppAtomValenceException object at 0x7f78cb469660>, <rdkit.Chem.rdchem._cppAtomValenceException object at 0x7f78cb4696d0>, <rdkit.Chem.rdchem._cppAtomValenceException object at 0x7f78cb469740>, <rdkit.Chem.rdchem._cppAtomValenceException object at 0x7f78cb4697b0>, <rdkit.Chem.rdchem._cppAtomValenceException object at 0x7f78cb469820>, <rdkit.Chem.rdchem._cppAtomValenceException object at 0x7f78cb469890>, <rdkit.Chem.rdchem._cppAtomValenceException object at 0x7f78cb469900>, <rdkit.Chem.rdchem._cppAtomValenceException object at 0x7f78cb469970>, <rdkit.Chem.rdchem._cppAtomValenceException object at 0x7f78cb4699e0>, <rdkit.Chem.rdchem._cppAtomValenceException object at 0x7f78cb469a50>, <rdkit.Chem.rdchem._cppAtomValenceException object at 0x7f78cb469ac0>, <rdkit.Chem.rdchem._cppAtomValenceException object at 0x7f78cb469b30>, <rdkit.Chem.rdchem._cppAtomValenceException object at 0x7f78cb469ba0>, <rdkit.Chem.rdchem._cppAtomValenceException object at 0x7f78cb469c10>, <rdkit.Chem.rdchem._cppAtomValenceException object at 0x7f78cb469c80>, <rdkit.Chem.rdchem._cppAtomValenceException object at 0x7f78cb469cf0>, <rdkit.Chem.rdchem._cppAtomValenceException object at 0x7f78cb469d60>, <rdkit.Chem.rdchem._cppAtomValenceException object at 0x7f78cb469dd0>)\n",
      "index 6715, problems (<rdkit.Chem.rdchem._cppAtomValenceException object at 0x7f78cb5e0c10>, <rdkit.Chem.rdchem._cppAtomValenceException object at 0x7f78cb501040>)\n",
      "index 6718, problems (<rdkit.Chem.rdchem._cppAtomValenceException object at 0x7f78cb5014a0>, <rdkit.Chem.rdchem._cppAtomValenceException object at 0x7f78cb501e40>, <rdkit.Chem.rdchem._cppAtomValenceException object at 0x7f78cb5012e0>, <rdkit.Chem.rdchem._cppAtomValenceException object at 0x7f78cb5017b0>)\n",
      "index 6719, problems (<rdkit.Chem.rdchem._cppAtomValenceException object at 0x7f78cb5e0ba0>, <rdkit.Chem.rdchem._cppAtomValenceException object at 0x7f78cb5014a0>)\n",
      "index 6720, problems (<rdkit.Chem.rdchem._cppAtomValenceException object at 0x7f78cb5e0ba0>, <rdkit.Chem.rdchem._cppAtomValenceException object at 0x7f78cb5014a0>, <rdkit.Chem.rdchem._cppAtomValenceException object at 0x7f78cb501200>, <rdkit.Chem.rdchem._cppAtomValenceException object at 0x7f78cb501d60>, <rdkit.Chem.rdchem._cppAtomValenceException object at 0x7f78cb501ac0>, <rdkit.Chem.rdchem._cppAtomValenceException object at 0x7f78cb501f90>, <rdkit.Chem.rdchem._cppAtomValenceException object at 0x7f78cb501510>, <rdkit.Chem.rdchem._cppAtomValenceException object at 0x7f78cb501b30>, <rdkit.Chem.rdchem._cppAtomValenceException object at 0x7f78cb501eb0>, <rdkit.Chem.rdchem._cppAtomValenceException object at 0x7f78cb9d4040>, <rdkit.Chem.rdchem._cppAtomValenceException object at 0x7f78cb9d40b0>, <rdkit.Chem.rdchem._cppAtomValenceException object at 0x7f78cb9d4120>, <rdkit.Chem.rdchem._cppAtomValenceException object at 0x7f78cb9d4190>, <rdkit.Chem.rdchem._cppAtomValenceException object at 0x7f78cb9d4200>, <rdkit.Chem.rdchem._cppAtomValenceException object at 0x7f78cb9d4270>, <rdkit.Chem.rdchem._cppAtomValenceException object at 0x7f78cb9d42e0>, <rdkit.Chem.rdchem._cppAtomValenceException object at 0x7f78cb9d4350>, <rdkit.Chem.rdchem._cppAtomValenceException object at 0x7f78cb9d43c0>, <rdkit.Chem.rdchem._cppAtomValenceException object at 0x7f78cb9d4430>, <rdkit.Chem.rdchem._cppAtomValenceException object at 0x7f78cb9d44a0>, <rdkit.Chem.rdchem._cppAtomValenceException object at 0x7f78cb9d4510>, <rdkit.Chem.rdchem._cppAtomValenceException object at 0x7f78cb9d4580>, <rdkit.Chem.rdchem._cppAtomValenceException object at 0x7f78cb9d45f0>)\n"
     ]
    },
    {
     "name": "stderr",
     "output_type": "stream",
     "text": [
      "==============================\n",
      "*** Open Babel Error  in TetStereoToWedgeHash\n",
      "  Failed to set stereochemistry as unable to find an available bond\n",
      "==============================\n",
      "*** Open Babel Warning  in PerceiveBondOrders\n",
      "  Failed to kekulize aromatic bonds in OBMol::PerceiveBondOrders\n",
      "\n",
      "==============================\n",
      "*** Open Babel Error  in TetStereoToWedgeHash\n",
      "  Failed to set stereochemistry as unable to find an available bond\n"
     ]
    },
    {
     "name": "stdout",
     "output_type": "stream",
     "text": [
      "index 6723, problems (<rdkit.Chem.rdchem._cppAtomValenceException object at 0x7f78cb501ac0>, <rdkit.Chem.rdchem._cppAtomValenceException object at 0x7f78cb501f90>, <rdkit.Chem.rdchem._cppAtomValenceException object at 0x7f78cb501510>, <rdkit.Chem.rdchem._cppAtomValenceException object at 0x7f78cb501b30>, <rdkit.Chem.rdchem._cppAtomValenceException object at 0x7f78cb501eb0>, <rdkit.Chem.rdchem._cppAtomValenceException object at 0x7f78cb501e40>)\n",
      "index 6724, problems (<rdkit.Chem.rdchem._cppAtomValenceException object at 0x7f78cb501ac0>, <rdkit.Chem.rdchem._cppAtomValenceException object at 0x7f78cb501f90>, <rdkit.Chem.rdchem._cppAtomValenceException object at 0x7f78cb501510>, <rdkit.Chem.rdchem._cppAtomValenceException object at 0x7f78cb501b30>, <rdkit.Chem.rdchem._cppAtomValenceException object at 0x7f78cb501eb0>, <rdkit.Chem.rdchem._cppAtomValenceException object at 0x7f78cb501e40>, <rdkit.Chem.rdchem._cppAtomValenceException object at 0x7f78cb501820>, <rdkit.Chem.rdchem._cppAtomValenceException object at 0x7f78cb5016d0>, <rdkit.Chem.rdchem._cppAtomValenceException object at 0x7f78cb501430>, <rdkit.Chem.rdchem._cppAtomValenceException object at 0x7f78cb501a50>, <rdkit.Chem.rdchem._cppAtomValenceException object at 0x7f78cb501c80>, <rdkit.Chem.rdchem._cppAtomValenceException object at 0x7f78cb501120>, <rdkit.Chem.rdchem._cppAtomValenceException object at 0x7f78cb5013c0>, <rdkit.Chem.rdchem._cppAtomValenceException object at 0x7f78cb501350>)\n",
      "index 6729, problems (<rdkit.Chem.rdchem._cppAtomValenceException object at 0x7f78cb5e0dd0>,)\n",
      "index 6736, problems (<rdkit.Chem.rdchem._cppAtomValenceException object at 0x7f78cb501f90>, <rdkit.Chem.rdchem._cppAtomValenceException object at 0x7f78cb501510>, <rdkit.Chem.rdchem._cppAtomValenceException object at 0x7f78cb501b30>)\n",
      "index 6738, problems (<rdkit.Chem.rdchem._cppAtomValenceException object at 0x7f78cb501b30>, <rdkit.Chem.rdchem._cppAtomValenceException object at 0x7f78cb501ac0>, <rdkit.Chem.rdchem._cppAtomValenceException object at 0x7f78cb501eb0>, <rdkit.Chem.rdchem._cppAtomValenceException object at 0x7f78cb501e40>)\n",
      "index 6810, problems (<rdkit.Chem.rdchem._cppAtomValenceException object at 0x7f78cb5e0dd0>,)\n",
      "index 6836, problems (<rdkit.Chem.rdchem._cppAtomValenceException object at 0x7f78cb501ac0>, <rdkit.Chem.rdchem._cppAtomValenceException object at 0x7f78cb501eb0>, <rdkit.Chem.rdchem._cppAtomValenceException object at 0x7f78cb501e40>)\n",
      "index 6851, problems (<rdkit.Chem.rdchem._cppAtomValenceException object at 0x7f78cb5e0ba0>,)\n"
     ]
    },
    {
     "name": "stderr",
     "output_type": "stream",
     "text": [
      "==============================\n",
      "*** Open Babel Error  in TetStereoToWedgeHash\n",
      "  Failed to set stereochemistry as unable to find an available bond\n",
      "==============================\n",
      "*** Open Babel Error  in TetStereoToWedgeHash\n",
      "  Failed to set stereochemistry as unable to find an available bond\n"
     ]
    },
    {
     "name": "stdout",
     "output_type": "stream",
     "text": [
      "index 6884, problems (<rdkit.Chem.rdchem._cppAtomValenceException object at 0x7f78cb5e0dd0>,)\n",
      "index 6923, problems (<rdkit.Chem.rdchem._cppAtomValenceException object at 0x7f78cb501eb0>,)\n",
      "index 6926, problems (<rdkit.Chem.rdchem._cppAtomValenceException object at 0x7f78cb501f90>, <rdkit.Chem.rdchem._cppAtomValenceException object at 0x7f78cb501510>, <rdkit.Chem.rdchem._cppAtomValenceException object at 0x7f78cb501820>, <rdkit.Chem.rdchem._cppAtomValenceException object at 0x7f78cb5016d0>, <rdkit.Chem.rdchem._cppAtomValenceException object at 0x7f78cb501430>, <rdkit.Chem.rdchem._cppAtomValenceException object at 0x7f78cb501a50>)\n"
     ]
    },
    {
     "name": "stderr",
     "output_type": "stream",
     "text": [
      "==============================\n",
      "*** Open Babel Error  in TetStereoToWedgeHash\n",
      "  Failed to set stereochemistry as unable to find an available bond\n",
      "==============================\n",
      "*** Open Babel Error  in TetStereoToWedgeHash\n",
      "  Failed to set stereochemistry as unable to find an available bond\n",
      "==============================\n",
      "*** Open Babel Error  in TetStereoToWedgeHash\n",
      "  Failed to set stereochemistry as unable to find an available bond\n",
      "==============================\n",
      "*** Open Babel Warning  in PerceiveBondOrders\n",
      "  Failed to kekulize aromatic bonds in OBMol::PerceiveBondOrders\n",
      "\n",
      "==============================\n",
      "*** Open Babel Warning  in PerceiveBondOrders\n",
      "  Failed to kekulize aromatic bonds in OBMol::PerceiveBondOrders\n",
      "\n",
      "==============================\n",
      "*** Open Babel Warning  in PerceiveBondOrders\n",
      "  Failed to kekulize aromatic bonds in OBMol::PerceiveBondOrders\n",
      "\n",
      "==============================\n",
      "*** Open Babel Error  in TetStereoToWedgeHash\n",
      "  Failed to set stereochemistry as unable to find an available bond\n",
      "==============================\n",
      "*** Open Babel Error  in TetStereoToWedgeHash\n",
      "  Failed to set stereochemistry as unable to find an available bond\n",
      "==============================\n",
      "*** Open Babel Error  in TetStereoToWedgeHash\n",
      "  Failed to set stereochemistry as unable to find an available bond\n"
     ]
    },
    {
     "name": "stdout",
     "output_type": "stream",
     "text": [
      "index 6960, problems (<rdkit.Chem.rdchem._cppAtomValenceException object at 0x7f78cb501510>, <rdkit.Chem.rdchem._cppAtomValenceException object at 0x7f78cb501820>, <rdkit.Chem.rdchem._cppAtomValenceException object at 0x7f78cb5016d0>, <rdkit.Chem.rdchem._cppAtomValenceException object at 0x7f78cb501430>)\n",
      "index 6963, problems (<rdkit.Chem.rdchem._cppAtomValenceException object at 0x7f78cb5013c0>, <rdkit.Chem.rdchem._cppAtomValenceException object at 0x7f78cb501350>, <rdkit.Chem.rdchem._cppAtomValenceException object at 0x7f78cb5014a0>, <rdkit.Chem.rdchem._cppAtomValenceException object at 0x7f78cb501200>, <rdkit.Chem.rdchem._cppAtomValenceException object at 0x7f78cb501d60>, <rdkit.Chem.rdchem._cppAtomValenceException object at 0x7f78cb5012e0>, <rdkit.Chem.rdchem._cppAtomValenceException object at 0x7f78cb5017b0>, <rdkit.Chem.rdchem._cppAtomValenceException object at 0x7f78cb501040>, <rdkit.Chem.rdchem._cppAtomValenceException object at 0x7f78cb501740>, <rdkit.Chem.rdchem._cppAtomValenceException object at 0x7f78cb501cf0>, <rdkit.Chem.rdchem._cppAtomValenceException object at 0x7f78cb501f20>, <rdkit.Chem.rdchem._cppAtomValenceException object at 0x7f78cb5019e0>, <rdkit.Chem.rdchem._cppAtomValenceException object at 0x7f78cb5015f0>, <rdkit.Chem.rdchem._cppAtomValenceException object at 0x7f78cb501ba0>)\n",
      "index 7000, problems (<rdkit.Chem.rdchem._cppAtomValenceException object at 0x7f78cb501350>, <rdkit.Chem.rdchem._cppAtomValenceException object at 0x7f78cb5014a0>, <rdkit.Chem.rdchem._cppAtomValenceException object at 0x7f78cb501200>, <rdkit.Chem.rdchem._cppAtomValenceException object at 0x7f78cb501d60>)\n",
      "index 7019, problems (<rdkit.Chem.rdchem._cppAtomValenceException object at 0x7f78cb501350>, <rdkit.Chem.rdchem._cppAtomValenceException object at 0x7f78cb5014a0>, <rdkit.Chem.rdchem._cppAtomValenceException object at 0x7f78cb501200>, <rdkit.Chem.rdchem._cppAtomValenceException object at 0x7f78cb501d60>)\n",
      "index 7025, problems (<rdkit.Chem.rdchem._cppAtomValenceException object at 0x7f78cb5014a0>, <rdkit.Chem.rdchem._cppAtomValenceException object at 0x7f78cb501200>, <rdkit.Chem.rdchem._cppAtomValenceException object at 0x7f78cb501d60>, <rdkit.Chem.rdchem._cppAtomValenceException object at 0x7f78cb5013c0>)\n",
      "index 7027, problems (<rdkit.Chem.rdchem._cppAtomValenceException object at 0x7f78cb5e0b30>, <rdkit.Chem.rdchem._cppAtomValenceException object at 0x7f78cb5014a0>)\n",
      "index 7028, problems (<rdkit.Chem.rdchem._cppAtomValenceException object at 0x7f78cb5e0b30>, <rdkit.Chem.rdchem._cppAtomValenceException object at 0x7f78cb5014a0>)\n",
      "index 7030, problems (<rdkit.Chem.rdchem._cppAtomValenceException object at 0x7f78cb5e0dd0>,)\n",
      "index 7031, problems (<rdkit.Chem.rdchem._cppAtomValenceException object at 0x7f78cb5e0dd0>, <rdkit.Chem.rdchem._cppAtomValenceException object at 0x7f78cb501d60>, <rdkit.Chem.rdchem._cppAtomValenceException object at 0x7f78cb5013c0>, <rdkit.Chem.rdchem._cppAtomValenceException object at 0x7f78cb501350>)\n"
     ]
    },
    {
     "name": "stderr",
     "output_type": "stream",
     "text": [
      "==============================\n",
      "*** Open Babel Error  in TetStereoToWedgeHash\n",
      "  Failed to set stereochemistry as unable to find an available bond\n"
     ]
    },
    {
     "name": "stdout",
     "output_type": "stream",
     "text": [
      "index 7119, problems (<rdkit.Chem.rdchem._cppAtomValenceException object at 0x7f78cb5e0b30>, <rdkit.Chem.rdchem._cppAtomValenceException object at 0x7f78cb5e0c10>)\n",
      "index 7162, problems (<rdkit.Chem.rdchem._cppAtomValenceException object at 0x7f78cb501d60>, <rdkit.Chem.rdchem._cppAtomValenceException object at 0x7f78cb5013c0>)\n"
     ]
    },
    {
     "name": "stderr",
     "output_type": "stream",
     "text": [
      "==============================\n",
      "*** Open Babel Error  in TetStereoToWedgeHash\n",
      "  Failed to set stereochemistry as unable to find an available bond\n"
     ]
    },
    {
     "name": "stdout",
     "output_type": "stream",
     "text": [
      "index 7208, problems (<rdkit.Chem.rdchem._cppAtomValenceException object at 0x7f78cb5e0dd0>, <rdkit.Chem.rdchem._cppAtomValenceException object at 0x7f78cb5e0c10>)\n",
      "index 7212, problems (<rdkit.Chem.rdchem._cppAtomValenceException object at 0x7f78cb501350>, <rdkit.Chem.rdchem._cppAtomValenceException object at 0x7f78cb5014a0>, <rdkit.Chem.rdchem._cppAtomValenceException object at 0x7f78cb501200>, <rdkit.Chem.rdchem._cppAtomValenceException object at 0x7f78cb5012e0>, <rdkit.Chem.rdchem._cppAtomValenceException object at 0x7f78cb5017b0>)\n"
     ]
    },
    {
     "name": "stderr",
     "output_type": "stream",
     "text": [
      "==============================\n",
      "*** Open Babel Warning  in PerceiveBondOrders\n",
      "  Failed to kekulize aromatic bonds in OBMol::PerceiveBondOrders\n",
      "\n",
      "==============================\n",
      "*** Open Babel Warning  in PerceiveBondOrders\n",
      "  Failed to kekulize aromatic bonds in OBMol::PerceiveBondOrders\n",
      "\n",
      "==============================\n",
      "*** Open Babel Warning  in PerceiveBondOrders\n",
      "  Failed to kekulize aromatic bonds in OBMol::PerceiveBondOrders\n",
      "\n",
      "==============================\n",
      "*** Open Babel Warning  in PerceiveBondOrders\n",
      "  Failed to kekulize aromatic bonds in OBMol::PerceiveBondOrders\n",
      "\n",
      "==============================\n",
      "*** Open Babel Warning  in PerceiveBondOrders\n",
      "  Failed to kekulize aromatic bonds in OBMol::PerceiveBondOrders\n",
      "\n",
      "==============================\n",
      "*** Open Babel Warning  in PerceiveBondOrders\n",
      "  Failed to kekulize aromatic bonds in OBMol::PerceiveBondOrders\n",
      "\n",
      "==============================\n",
      "*** Open Babel Warning  in PerceiveBondOrders\n",
      "  Failed to kekulize aromatic bonds in OBMol::PerceiveBondOrders\n",
      "\n",
      "==============================\n",
      "*** Open Babel Warning  in PerceiveBondOrders\n",
      "  Failed to kekulize aromatic bonds in OBMol::PerceiveBondOrders\n",
      "\n",
      "==============================\n",
      "*** Open Babel Warning  in PerceiveBondOrders\n",
      "  Failed to kekulize aromatic bonds in OBMol::PerceiveBondOrders\n",
      "\n",
      "==============================\n",
      "*** Open Babel Warning  in PerceiveBondOrders\n",
      "  Failed to kekulize aromatic bonds in OBMol::PerceiveBondOrders\n",
      "\n",
      "==============================\n",
      "*** Open Babel Warning  in PerceiveBondOrders\n",
      "  Failed to kekulize aromatic bonds in OBMol::PerceiveBondOrders\n",
      "\n",
      "==============================\n",
      "*** Open Babel Warning  in PerceiveBondOrders\n",
      "  Failed to kekulize aromatic bonds in OBMol::PerceiveBondOrders\n",
      "\n",
      "==============================\n",
      "*** Open Babel Warning  in PerceiveBondOrders\n",
      "  Failed to kekulize aromatic bonds in OBMol::PerceiveBondOrders\n",
      "\n",
      "==============================\n",
      "*** Open Babel Warning  in PerceiveBondOrders\n",
      "  Failed to kekulize aromatic bonds in OBMol::PerceiveBondOrders\n",
      "\n",
      "==============================\n",
      "*** Open Babel Warning  in PerceiveBondOrders\n",
      "  Failed to kekulize aromatic bonds in OBMol::PerceiveBondOrders\n",
      "\n",
      "==============================\n",
      "*** Open Babel Warning  in PerceiveBondOrders\n",
      "  Failed to kekulize aromatic bonds in OBMol::PerceiveBondOrders\n",
      "\n",
      "==============================\n",
      "*** Open Babel Error  in TetStereoToWedgeHash\n",
      "  Failed to set stereochemistry as unable to find an available bond\n",
      "==============================\n",
      "*** Open Babel Error  in TetStereoToWedgeHash\n",
      "  Failed to set stereochemistry as unable to find an available bond\n"
     ]
    },
    {
     "name": "stdout",
     "output_type": "stream",
     "text": [
      "index 7415, problems (<rdkit.Chem.rdchem._cppAtomValenceException object at 0x7f78cb5e0c10>,)\n",
      "index 7420, problems (<rdkit.Chem.rdchem._cppAtomValenceException object at 0x7f78cb501350>, <rdkit.Chem.rdchem._cppAtomValenceException object at 0x7f78cb5014a0>)\n",
      "index 7489, problems (<rdkit.Chem.rdchem._cppAtomValenceException object at 0x7f78cb5e0c10>,)\n",
      "index 7491, problems (<rdkit.Chem.rdchem._cppAtomValenceException object at 0x7f78cb5012e0>, <rdkit.Chem.rdchem._cppAtomValenceException object at 0x7f78cb5017b0>, <rdkit.Chem.rdchem._cppAtomValenceException object at 0x7f78cb501d60>, <rdkit.Chem.rdchem._cppAtomValenceException object at 0x7f78cb5013c0>)\n",
      "index 7620, problems (<rdkit.Chem.rdchem._cppAtomValenceException object at 0x7f78cb5e0dd0>,)\n",
      "index 7629, problems (<rdkit.Chem.rdchem._cppAtomValenceException object at 0x7f78cb501d60>, <rdkit.Chem.rdchem._cppAtomValenceException object at 0x7f78cb5013c0>, <rdkit.Chem.rdchem._cppAtomValenceException object at 0x7f78cb5014a0>, <rdkit.Chem.rdchem._cppAtomValenceException object at 0x7f78cb501200>, <rdkit.Chem.rdchem._cppAtomValenceException object at 0x7f78cb501040>, <rdkit.Chem.rdchem._cppAtomValenceException object at 0x7f78cb501740>)\n",
      "index 7677, problems (<rdkit.Chem.rdchem._cppAtomValenceException object at 0x7f78cb501d60>, <rdkit.Chem.rdchem._cppAtomValenceException object at 0x7f78cb5013c0>)\n"
     ]
    },
    {
     "name": "stderr",
     "output_type": "stream",
     "text": [
      "==============================\n",
      "*** Open Babel Error  in TetStereoToWedgeHash\n",
      "  Failed to set stereochemistry as unable to find an available bond\n",
      "==============================\n",
      "*** Open Babel Error  in TetStereoToWedgeHash\n",
      "  Failed to set stereochemistry as unable to find an available bond\n",
      "==============================\n",
      "*** Open Babel Error  in TetStereoToWedgeHash\n",
      "  Failed to set stereochemistry as unable to find an available bond\n"
     ]
    },
    {
     "name": "stdout",
     "output_type": "stream",
     "text": [
      "index 7678, problems (<rdkit.Chem.rdchem._cppAtomValenceException object at 0x7f78cb501d60>, <rdkit.Chem.rdchem._cppAtomValenceException object at 0x7f78cb5013c0>)\n",
      "index 7680, problems (<rdkit.Chem.rdchem._cppAtomValenceException object at 0x7f78cb5014a0>, <rdkit.Chem.rdchem._cppAtomValenceException object at 0x7f78cb501200>, <rdkit.Chem.rdchem._cppAtomValenceException object at 0x7f78cb501040>, <rdkit.Chem.rdchem._cppAtomValenceException object at 0x7f78cb501740>)\n",
      "index 7682, problems (<rdkit.Chem.rdchem._cppAtomValenceException object at 0x7f78cb5014a0>, <rdkit.Chem.rdchem._cppAtomValenceException object at 0x7f78cb501200>)\n",
      "index 7686, problems (<rdkit.Chem.rdchem._cppAtomValenceException object at 0x7f78cb501d60>, <rdkit.Chem.rdchem._cppAtomValenceException object at 0x7f78cb5013c0>, <rdkit.Chem.rdchem._cppAtomValenceException object at 0x7f78cb501350>, <rdkit.Chem.rdchem._cppAtomValenceException object at 0x7f78cb5012e0>, <rdkit.Chem.rdchem._cppAtomValenceException object at 0x7f78cb5017b0>, <rdkit.Chem.rdchem._cppAtomValenceException object at 0x7f78cb501cf0>)\n",
      "index 7689, problems (<rdkit.Chem.rdchem._cppAtomValenceException object at 0x7f78cb501d60>, <rdkit.Chem.rdchem._cppAtomValenceException object at 0x7f78cb5013c0>)\n",
      "index 7690, problems (<rdkit.Chem.rdchem._cppAtomValenceException object at 0x7f78cb501d60>, <rdkit.Chem.rdchem._cppAtomValenceException object at 0x7f78cb5013c0>)\n",
      "index 7693, problems (<rdkit.Chem.rdchem._cppAtomValenceException object at 0x7f78cb5017b0>, <rdkit.Chem.rdchem._cppAtomValenceException object at 0x7f78cb501cf0>, <rdkit.Chem.rdchem._cppAtomValenceException object at 0x7f78cb5014a0>, <rdkit.Chem.rdchem._cppAtomValenceException object at 0x7f78cb501200>, <rdkit.Chem.rdchem._cppAtomValenceException object at 0x7f78cb501040>, <rdkit.Chem.rdchem._cppAtomValenceException object at 0x7f78cb501740>)\n",
      "index 7696, problems (<rdkit.Chem.rdchem._cppAtomValenceException object at 0x7f78cb5e0c10>, <rdkit.Chem.rdchem._cppAtomValenceException object at 0x7f78cb5017b0>)\n"
     ]
    },
    {
     "name": "stderr",
     "output_type": "stream",
     "text": [
      "==============================\n",
      "*** Open Babel Error  in TetStereoToWedgeHash\n",
      "  Failed to set stereochemistry as unable to find an available bond\n",
      "==============================\n",
      "*** Open Babel Error  in TetStereoToWedgeHash\n",
      "  Failed to set stereochemistry as unable to find an available bond\n",
      "==============================\n",
      "*** Open Babel Error  in TetStereoToWedgeHash\n",
      "  Failed to set stereochemistry as unable to find an available bond\n"
     ]
    },
    {
     "name": "stdout",
     "output_type": "stream",
     "text": [
      "index 7700, problems (<rdkit.Chem.rdchem._cppAtomValenceException object at 0x7f78cb5e0ba0>, <rdkit.Chem.rdchem._cppAtomValenceException object at 0x7f78cb5017b0>)\n",
      "index 7703, problems (<rdkit.Chem.rdchem._cppAtomValenceException object at 0x7f78cb5017b0>, <rdkit.Chem.rdchem._cppAtomValenceException object at 0x7f78cb501cf0>)\n",
      "index 7705, problems (<rdkit.Chem.rdchem._cppAtomValenceException object at 0x7f78cb5017b0>, <rdkit.Chem.rdchem._cppAtomValenceException object at 0x7f78cb501cf0>)\n",
      "index 7709, problems (<rdkit.Chem.rdchem._cppAtomValenceException object at 0x7f78cb501350>, <rdkit.Chem.rdchem._cppAtomValenceException object at 0x7f78cb5012e0>, <rdkit.Chem.rdchem._cppAtomValenceException object at 0x7f78cb501f20>, <rdkit.Chem.rdchem._cppAtomValenceException object at 0x7f78cb5019e0>, <rdkit.Chem.rdchem._cppAtomValenceException object at 0x7f78cb5015f0>, <rdkit.Chem.rdchem._cppAtomValenceException object at 0x7f78cb501ba0>, <rdkit.Chem.rdchem._cppAtomValenceException object at 0x7f78cb501510>, <rdkit.Chem.rdchem._cppAtomValenceException object at 0x7f78cb501820>, <rdkit.Chem.rdchem._cppAtomValenceException object at 0x7f78cb5016d0>, <rdkit.Chem.rdchem._cppAtomValenceException object at 0x7f78cb501430>)\n",
      "index 7712, problems (<rdkit.Chem.rdchem._cppAtomValenceException object at 0x7f78cb501510>, <rdkit.Chem.rdchem._cppAtomValenceException object at 0x7f78cb501820>, <rdkit.Chem.rdchem._cppAtomValenceException object at 0x7f78cb5016d0>, <rdkit.Chem.rdchem._cppAtomValenceException object at 0x7f78cb501430>, <rdkit.Chem.rdchem._cppAtomValenceException object at 0x7f78cb5017b0>, <rdkit.Chem.rdchem._cppAtomValenceException object at 0x7f78cb501cf0>, <rdkit.Chem.rdchem._cppAtomValenceException object at 0x7f78cb5014a0>, <rdkit.Chem.rdchem._cppAtomValenceException object at 0x7f78cb501200>)\n",
      "index 7745, problems (<rdkit.Chem.rdchem._cppAtomValenceException object at 0x7f78cb5e0dd0>,)\n"
     ]
    },
    {
     "name": "stderr",
     "output_type": "stream",
     "text": [
      "==============================\n",
      "*** Open Babel Error  in TetStereoToWedgeHash\n",
      "  Failed to set stereochemistry as unable to find an available bond\n",
      "==============================\n",
      "*** Open Babel Error  in TetStereoToWedgeHash\n",
      "  Failed to set stereochemistry as unable to find an available bond\n",
      "==============================\n",
      "*** Open Babel Error  in TetStereoToWedgeHash\n",
      "  Failed to set stereochemistry as unable to find an available bond\n",
      "==============================\n",
      "*** Open Babel Error  in TetStereoToWedgeHash\n",
      "  Failed to set stereochemistry as unable to find an available bond\n",
      "==============================\n",
      "*** Open Babel Error  in TetStereoToWedgeHash\n",
      "  Failed to set stereochemistry as unable to find an available bond\n"
     ]
    },
    {
     "name": "stdout",
     "output_type": "stream",
     "text": [
      "index 7789, problems (<rdkit.Chem.rdchem._cppAtomValenceException object at 0x7f78cb501510>,)\n",
      "index 7792, problems (<rdkit.Chem.rdchem._cppAtomValenceException object at 0x7f78cb501510>, <rdkit.Chem.rdchem._cppAtomValenceException object at 0x7f78cb501820>)\n",
      "index 7798, problems (<rdkit.Chem.rdchem._cppAtomValenceException object at 0x7f78cb501510>, <rdkit.Chem.rdchem._cppAtomValenceException object at 0x7f78cb501820>)\n",
      "index 7803, problems (<rdkit.Chem.rdchem._cppAtomValenceException object at 0x7f78cb5016d0>, <rdkit.Chem.rdchem._cppAtomValenceException object at 0x7f78cb501430>, <rdkit.Chem.rdchem._cppAtomValenceException object at 0x7f78cb5017b0>, <rdkit.Chem.rdchem._cppAtomValenceException object at 0x7f78cb501cf0>)\n",
      "index 7829, problems (<rdkit.Chem.rdchem._cppAtomValenceException object at 0x7f78cb501430>, <rdkit.Chem.rdchem._cppAtomValenceException object at 0x7f78cb5017b0>, <rdkit.Chem.rdchem._cppAtomValenceException object at 0x7f78cb501cf0>)\n",
      "index 7838, problems (<rdkit.Chem.rdchem._cppAtomValenceException object at 0x7f78cb5017b0>, <rdkit.Chem.rdchem._cppAtomValenceException object at 0x7f78cb501cf0>, <rdkit.Chem.rdchem._cppAtomValenceException object at 0x7f78cb5016d0>)\n",
      "index 7846, problems (<rdkit.Chem.rdchem._cppAtomValenceException object at 0x7f78cb501510>, <rdkit.Chem.rdchem._cppAtomValenceException object at 0x7f78cb501820>, <rdkit.Chem.rdchem._cppAtomValenceException object at 0x7f78cb5014a0>, <rdkit.Chem.rdchem._cppAtomValenceException object at 0x7f78cb501200>, <rdkit.Chem.rdchem._cppAtomValenceException object at 0x7f78cb501350>, <rdkit.Chem.rdchem._cppAtomValenceException object at 0x7f78cb5012e0>)\n",
      "index 7854, problems (<rdkit.Chem.rdchem._cppAtomValenceException object at 0x7f78cb5e0ba0>,)\n"
     ]
    },
    {
     "name": "stderr",
     "output_type": "stream",
     "text": [
      "==============================\n",
      "*** Open Babel Error  in TetStereoToWedgeHash\n",
      "  Failed to set stereochemistry as unable to find an available bond\n",
      "==============================\n",
      "*** Open Babel Error  in TetStereoToWedgeHash\n",
      "  Failed to set stereochemistry as unable to find an available bond\n"
     ]
    },
    {
     "name": "stdout",
     "output_type": "stream",
     "text": [
      "index 7876, problems (<rdkit.Chem.rdchem._cppAtomValenceException object at 0x7f78cb5e0c10>, <rdkit.Chem.rdchem._cppAtomValenceException object at 0x7f78cb501510>)\n",
      "index 7896, problems (<rdkit.Chem.rdchem._cppAtomValenceException object at 0x7f78cb501510>, <rdkit.Chem.rdchem._cppAtomValenceException object at 0x7f78cb501820>)\n",
      "index 7898, problems (<rdkit.Chem.rdchem._cppAtomValenceException object at 0x7f78cb5014a0>, <rdkit.Chem.rdchem._cppAtomValenceException object at 0x7f78cb501200>, <rdkit.Chem.rdchem._cppAtomValenceException object at 0x7f78cb501350>, <rdkit.Chem.rdchem._cppAtomValenceException object at 0x7f78cb5012e0>)\n"
     ]
    },
    {
     "name": "stderr",
     "output_type": "stream",
     "text": [
      "==============================\n",
      "*** Open Babel Error  in TetStereoToWedgeHash\n",
      "  Failed to set stereochemistry as unable to find an available bond\n"
     ]
    },
    {
     "name": "stdout",
     "output_type": "stream",
     "text": [
      "index 7927, problems (<rdkit.Chem.rdchem._cppAtomValenceException object at 0x7f78cb5e0dd0>,)\n",
      "index 7942, problems (<rdkit.Chem.rdchem._cppAtomValenceException object at 0x7f78cb5e0ba0>, <rdkit.Chem.rdchem._cppAtomValenceException object at 0x7f78cb5014a0>)\n"
     ]
    },
    {
     "name": "stderr",
     "output_type": "stream",
     "text": [
      "==============================\n",
      "*** Open Babel Error  in TetStereoToWedgeHash\n",
      "  Failed to set stereochemistry as unable to find an available bond\n",
      "==============================\n",
      "*** Open Babel Error  in TetStereoToWedgeHash\n",
      "  Failed to set stereochemistry as unable to find an available bond\n"
     ]
    },
    {
     "name": "stdout",
     "output_type": "stream",
     "text": [
      "index 7954, problems (<rdkit.Chem.rdchem._cppAtomValenceException object at 0x7f78cb5e0dd0>, <rdkit.Chem.rdchem._cppAtomValenceException object at 0x7f78cb5014a0>)\n",
      "index 7956, problems (<rdkit.Chem.rdchem._cppAtomValenceException object at 0x7f78cb501350>, <rdkit.Chem.rdchem._cppAtomValenceException object at 0x7f78cb5012e0>, <rdkit.Chem.rdchem._cppAtomValenceException object at 0x7f78cb501510>, <rdkit.Chem.rdchem._cppAtomValenceException object at 0x7f78cb501820>)\n",
      "index 7958, problems (<rdkit.Chem.rdchem._cppAtomValenceException object at 0x7f78cb501200>, <rdkit.Chem.rdchem._cppAtomValenceException object at 0x7f78cb5017b0>, <rdkit.Chem.rdchem._cppAtomValenceException object at 0x7f78cb501cf0>, <rdkit.Chem.rdchem._cppAtomValenceException object at 0x7f78cb5016d0>, <rdkit.Chem.rdchem._cppAtomValenceException object at 0x7f78cb501430>, <rdkit.Chem.rdchem._cppAtomValenceException object at 0x7f78cb501f20>, <rdkit.Chem.rdchem._cppAtomValenceException object at 0x7f78cb5019e0>)\n",
      "index 7961, problems (<rdkit.Chem.rdchem._cppAtomValenceException object at 0x7f78cb5017b0>, <rdkit.Chem.rdchem._cppAtomValenceException object at 0x7f78cb501cf0>, <rdkit.Chem.rdchem._cppAtomValenceException object at 0x7f78cb5016d0>)\n",
      "index 7962, problems (<rdkit.Chem.rdchem._cppAtomValenceException object at 0x7f78cb5e0b30>,)\n",
      "index 7965, problems (<rdkit.Chem.rdchem._cppAtomValenceException object at 0x7f78cb5017b0>, <rdkit.Chem.rdchem._cppAtomValenceException object at 0x7f78cb501cf0>)\n",
      "index 7967, problems (<rdkit.Chem.rdchem._cppAtomValenceException object at 0x7f78cb501430>, <rdkit.Chem.rdchem._cppAtomValenceException object at 0x7f78cb501f20>, <rdkit.Chem.rdchem._cppAtomValenceException object at 0x7f78cb5019e0>, <rdkit.Chem.rdchem._cppAtomValenceException object at 0x7f78cb501350>, <rdkit.Chem.rdchem._cppAtomValenceException object at 0x7f78cb5012e0>, <rdkit.Chem.rdchem._cppAtomValenceException object at 0x7f78cb501510>)\n",
      "index 7969, problems (<rdkit.Chem.rdchem._cppAtomValenceException object at 0x7f78cb501f20>, <rdkit.Chem.rdchem._cppAtomValenceException object at 0x7f78cb5019e0>, <rdkit.Chem.rdchem._cppAtomValenceException object at 0x7f78cb501350>, <rdkit.Chem.rdchem._cppAtomValenceException object at 0x7f78cb5012e0>)\n",
      "index 7989, problems (<rdkit.Chem.rdchem._cppAtomValenceException object at 0x7f78cb5e0ba0>,)\n",
      "index 7995, problems (<rdkit.Chem.rdchem._cppAtomValenceException object at 0x7f78cb5e0ba0>,)\n"
     ]
    },
    {
     "name": "stderr",
     "output_type": "stream",
     "text": [
      "==============================\n",
      "*** Open Babel Error  in TetStereoToWedgeHash\n",
      "  Failed to set stereochemistry as unable to find an available bond\n"
     ]
    },
    {
     "name": "stdout",
     "output_type": "stream",
     "text": [
      "index 8038, problems (<rdkit.Chem.rdchem._cppAtomValenceException object at 0x7f78cb501f20>, <rdkit.Chem.rdchem._cppAtomValenceException object at 0x7f78cb5019e0>, <rdkit.Chem.rdchem._cppAtomValenceException object at 0x7f78cb501350>, <rdkit.Chem.rdchem._cppAtomValenceException object at 0x7f78cb5012e0>)\n",
      "index 8087, problems (<rdkit.Chem.rdchem._cppAtomValenceException object at 0x7f78cb5e0c10>,)\n",
      "index 8090, problems (<rdkit.Chem.rdchem._cppAtomValenceException object at 0x7f78cb501f20>, <rdkit.Chem.rdchem._cppAtomValenceException object at 0x7f78cb5019e0>)\n"
     ]
    },
    {
     "name": "stderr",
     "output_type": "stream",
     "text": [
      "==============================\n",
      "*** Open Babel Warning  in PerceiveBondOrders\n",
      "  Failed to kekulize aromatic bonds in OBMol::PerceiveBondOrders\n",
      "\n"
     ]
    },
    {
     "name": "stdout",
     "output_type": "stream",
     "text": [
      "index 8179, problems (<rdkit.Chem.rdchem._cppAtomValenceException object at 0x7f78cb5e0b30>, <rdkit.Chem.rdchem._cppAtomValenceException object at 0x7f78cb5e0dd0>)\n",
      "index 8195, problems (<rdkit.Chem.rdchem._cppAtomValenceException object at 0x7f78cb5e0dd0>,)\n",
      "index 8257, problems (<rdkit.Chem.rdchem._cppAtomValenceException object at 0x7f78cb5e0dd0>, <rdkit.Chem.rdchem._cppAtomValenceException object at 0x7f78cb5e0b30>)\n",
      "index 8322, problems (<rdkit.Chem.rdchem._cppAtomValenceException object at 0x7f78cb5e0ba0>, <rdkit.Chem.rdchem._cppAtomValenceException object at 0x7f78cb501f20>)\n"
     ]
    },
    {
     "name": "stderr",
     "output_type": "stream",
     "text": [
      "==============================\n",
      "*** Open Babel Warning  in PerceiveBondOrders\n",
      "  Failed to kekulize aromatic bonds in OBMol::PerceiveBondOrders\n",
      "\n",
      "==============================\n",
      "*** Open Babel Warning  in PerceiveBondOrders\n",
      "  Failed to kekulize aromatic bonds in OBMol::PerceiveBondOrders\n",
      "\n",
      "==============================\n",
      "*** Open Babel Warning  in PerceiveBondOrders\n",
      "  Failed to kekulize aromatic bonds in OBMol::PerceiveBondOrders\n",
      "\n",
      "==============================\n",
      "*** Open Babel Warning  in PerceiveBondOrders\n",
      "  Failed to kekulize aromatic bonds in OBMol::PerceiveBondOrders\n",
      "\n",
      "==============================\n",
      "*** Open Babel Warning  in PerceiveBondOrders\n",
      "  Failed to kekulize aromatic bonds in OBMol::PerceiveBondOrders\n",
      "\n",
      "==============================\n",
      "*** Open Babel Warning  in PerceiveBondOrders\n",
      "  Failed to kekulize aromatic bonds in OBMol::PerceiveBondOrders\n",
      "\n",
      "==============================\n",
      "*** Open Babel Warning  in PerceiveBondOrders\n",
      "  Failed to kekulize aromatic bonds in OBMol::PerceiveBondOrders\n",
      "\n",
      "==============================\n",
      "*** Open Babel Warning  in PerceiveBondOrders\n",
      "  Failed to kekulize aromatic bonds in OBMol::PerceiveBondOrders\n",
      "\n",
      "==============================\n",
      "*** Open Babel Warning  in PerceiveBondOrders\n",
      "  Failed to kekulize aromatic bonds in OBMol::PerceiveBondOrders\n",
      "\n",
      "==============================\n",
      "*** Open Babel Error  in TetStereoToWedgeHash\n",
      "  Failed to set stereochemistry as unable to find an available bond\n",
      "==============================\n",
      "*** Open Babel Error  in TetStereoToWedgeHash\n",
      "  Failed to set stereochemistry as unable to find an available bond\n",
      "==============================\n",
      "*** Open Babel Error  in TetStereoToWedgeHash\n",
      "  Failed to set stereochemistry as unable to find an available bond\n"
     ]
    },
    {
     "name": "stdout",
     "output_type": "stream",
     "text": [
      "index 8633, problems (<rdkit.Chem.rdchem._cppAtomValenceException object at 0x7f78cb5e0b30>, <rdkit.Chem.rdchem._cppAtomValenceException object at 0x7f78cb501f20>)\n",
      "index 8634, problems (<rdkit.Chem.rdchem._cppAtomValenceException object at 0x7f78cb5e0b30>, <rdkit.Chem.rdchem._cppAtomValenceException object at 0x7f78cb501f20>, <rdkit.Chem.rdchem._cppAtomValenceException object at 0x7f78cb501430>, <rdkit.Chem.rdchem._cppAtomValenceException object at 0x7f78cb501510>)\n",
      "index 8637, problems (<rdkit.Chem.rdchem._cppAtomValenceException object at 0x7f78cb501510>, <rdkit.Chem.rdchem._cppAtomValenceException object at 0x7f78cb5019e0>, <rdkit.Chem.rdchem._cppAtomValenceException object at 0x7f78cb501350>, <rdkit.Chem.rdchem._cppAtomValenceException object at 0x7f78cb5012e0>)\n",
      "index 8650, problems (<rdkit.Chem.rdchem._cppAtomValenceException object at 0x7f78cb5e0c10>,)\n",
      "index 8653, problems (<rdkit.Chem.rdchem._cppAtomValenceException object at 0x7f78cb5e0b30>, <rdkit.Chem.rdchem._cppAtomValenceException object at 0x7f78cb5e0ba0>)\n",
      "index 8661, problems (<rdkit.Chem.rdchem._cppAtomValenceException object at 0x7f78cb501430>, <rdkit.Chem.rdchem._cppAtomValenceException object at 0x7f78cb5017b0>, <rdkit.Chem.rdchem._cppAtomValenceException object at 0x7f78cb501cf0>, <rdkit.Chem.rdchem._cppAtomValenceException object at 0x7f78cb5016d0>, <rdkit.Chem.rdchem._cppAtomValenceException object at 0x7f78cb501200>, <rdkit.Chem.rdchem._cppAtomValenceException object at 0x7f78cb501820>, <rdkit.Chem.rdchem._cppAtomValenceException object at 0x7f78cb5014a0>, <rdkit.Chem.rdchem._cppAtomValenceException object at 0x7f78cb5015f0>)\n",
      "index 8662, problems (<rdkit.Chem.rdchem._cppAtomValenceException object at 0x7f78cb501430>, <rdkit.Chem.rdchem._cppAtomValenceException object at 0x7f78cb5017b0>, <rdkit.Chem.rdchem._cppAtomValenceException object at 0x7f78cb501cf0>, <rdkit.Chem.rdchem._cppAtomValenceException object at 0x7f78cb5016d0>, <rdkit.Chem.rdchem._cppAtomValenceException object at 0x7f78cb501200>, <rdkit.Chem.rdchem._cppAtomValenceException object at 0x7f78cb501820>, <rdkit.Chem.rdchem._cppAtomValenceException object at 0x7f78cb5014a0>, <rdkit.Chem.rdchem._cppAtomValenceException object at 0x7f78cb5015f0>, <rdkit.Chem.rdchem._cppAtomValenceException object at 0x7f78cb5013c0>, <rdkit.Chem.rdchem._cppAtomValenceException object at 0x7f78cb501f90>, <rdkit.Chem.rdchem._cppAtomValenceException object at 0x7f78cb501a50>, <rdkit.Chem.rdchem._cppAtomValenceException object at 0x7f78cb501eb0>)\n",
      "index 8669, problems (<rdkit.Chem.rdchem._cppAtomValenceException object at 0x7f78cb501200>, <rdkit.Chem.rdchem._cppAtomValenceException object at 0x7f78cb501820>, <rdkit.Chem.rdchem._cppAtomValenceException object at 0x7f78cb5014a0>, <rdkit.Chem.rdchem._cppAtomValenceException object at 0x7f78cb5015f0>, <rdkit.Chem.rdchem._cppAtomValenceException object at 0x7f78cb5013c0>, <rdkit.Chem.rdchem._cppAtomValenceException object at 0x7f78cb501f90>)\n",
      "index 8686, problems (<rdkit.Chem.rdchem._cppAtomValenceException object at 0x7f78cb5013c0>, <rdkit.Chem.rdchem._cppAtomValenceException object at 0x7f78cb501f90>, <rdkit.Chem.rdchem._cppAtomValenceException object at 0x7f78cb501430>, <rdkit.Chem.rdchem._cppAtomValenceException object at 0x7f78cb5017b0>, <rdkit.Chem.rdchem._cppAtomValenceException object at 0x7f78cb501cf0>, <rdkit.Chem.rdchem._cppAtomValenceException object at 0x7f78cb5016d0>)\n"
     ]
    },
    {
     "name": "stderr",
     "output_type": "stream",
     "text": [
      "==============================\n",
      "*** Open Babel Error  in TetStereoToWedgeHash\n",
      "  Failed to set stereochemistry as unable to find an available bond\n",
      "==============================\n",
      "*** Open Babel Error  in TetStereoToWedgeHash\n",
      "  Failed to set stereochemistry as unable to find an available bond\n",
      "==============================\n",
      "*** Open Babel Error  in TetStereoToWedgeHash\n",
      "  Failed to set stereochemistry as unable to find an available bond\n",
      "==============================\n",
      "*** Open Babel Error  in TetStereoToWedgeHash\n",
      "  Failed to set stereochemistry as unable to find an available bond\n",
      "==============================\n",
      "*** Open Babel Error  in TetStereoToWedgeHash\n",
      "  Failed to set stereochemistry as unable to find an available bond\n",
      "==============================\n",
      "*** Open Babel Warning  in PerceiveBondOrders\n",
      "  Failed to kekulize aromatic bonds in OBMol::PerceiveBondOrders\n",
      "\n",
      "==============================\n",
      "*** Open Babel Error  in TetStereoToWedgeHash\n",
      "  Failed to set stereochemistry as unable to find an available bond\n",
      "==============================\n",
      "*** Open Babel Error  in TetStereoToWedgeHash\n",
      "  Failed to set stereochemistry as unable to find an available bond\n",
      "==============================\n",
      "*** Open Babel Error  in TetStereoToWedgeHash\n",
      "  Failed to set stereochemistry as unable to find an available bond\n",
      "==============================\n",
      "*** Open Babel Error  in TetStereoToWedgeHash\n",
      "  Failed to set stereochemistry as unable to find an available bond\n",
      "==============================\n",
      "*** Open Babel Error  in TetStereoToWedgeHash\n",
      "  Failed to set stereochemistry as unable to find an available bond\n",
      "==============================\n",
      "*** Open Babel Error  in TetStereoToWedgeHash\n",
      "  Failed to set stereochemistry as unable to find an available bond\n",
      "==============================\n",
      "*** Open Babel Error  in TetStereoToWedgeHash\n",
      "  Failed to set stereochemistry as unable to find an available bond\n"
     ]
    },
    {
     "name": "stdout",
     "output_type": "stream",
     "text": [
      "index 8705, problems (<rdkit.Chem.rdchem._cppAtomValenceException object at 0x7f78cb5e0dd0>, <rdkit.Chem.rdchem._cppAtomValenceException object at 0x7f78cb5013c0>)\n",
      "index 8763, problems (<rdkit.Chem.rdchem._cppAtomValenceException object at 0x7f78cb5013c0>, <rdkit.Chem.rdchem._cppAtomValenceException object at 0x7f78cb501f90>)\n",
      "index 8798, problems (<rdkit.Chem.rdchem._cppAtomValenceException object at 0x7f78cb501350>, <rdkit.Chem.rdchem._cppAtomValenceException object at 0x7f78cb5012e0>, <rdkit.Chem.rdchem._cppAtomValenceException object at 0x7f78cb501f20>, <rdkit.Chem.rdchem._cppAtomValenceException object at 0x7f78cb501ba0>, <rdkit.Chem.rdchem._cppAtomValenceException object at 0x7f78cb501040>, <rdkit.Chem.rdchem._cppAtomValenceException object at 0x7f78cb501740>, <rdkit.Chem.rdchem._cppAtomValenceException object at 0x7f78cb501d60>, <rdkit.Chem.rdchem._cppAtomValenceException object at 0x7f78cb501ac0>, <rdkit.Chem.rdchem._cppAtomValenceException object at 0x7f78cb501e40>, <rdkit.Chem.rdchem._cppAtomValenceException object at 0x7f78cb501b30>, <rdkit.Chem.rdchem._cppAtomValenceException object at 0x7f78cb501c80>, <rdkit.Chem.rdchem._cppAtomValenceException object at 0x7f78cb501120>, <rdkit.Chem.rdchem._cppAtomValenceException object at 0x7f78cb501c10>, <rdkit.Chem.rdchem._cppAtomValenceException object at 0x7f78cb501dd0>, <rdkit.Chem.rdchem._cppAtomValenceException object at 0x7f78cb5010b0>, <rdkit.Chem.rdchem._cppAtomValenceException object at 0x7f78cb4f5040>, <rdkit.Chem.rdchem._cppAtomValenceException object at 0x7f78cb4f50b0>, <rdkit.Chem.rdchem._cppAtomValenceException object at 0x7f78cb4f5120>)\n",
      "index 8801, problems (<rdkit.Chem.rdchem._cppAtomValenceException object at 0x7f78cb501350>, <rdkit.Chem.rdchem._cppAtomValenceException object at 0x7f78cb5012e0>)\n",
      "index 8818, problems (<rdkit.Chem.rdchem._cppAtomValenceException object at 0x7f78cb501040>, <rdkit.Chem.rdchem._cppAtomValenceException object at 0x7f78cb501740>, <rdkit.Chem.rdchem._cppAtomValenceException object at 0x7f78cb501d60>, <rdkit.Chem.rdchem._cppAtomValenceException object at 0x7f78cb501ac0>, <rdkit.Chem.rdchem._cppAtomValenceException object at 0x7f78cb501e40>, <rdkit.Chem.rdchem._cppAtomValenceException object at 0x7f78cb501b30>)\n",
      "index 8830, problems (<rdkit.Chem.rdchem._cppAtomValenceException object at 0x7f78cb5e0c10>,)\n",
      "index 8835, problems (<rdkit.Chem.rdchem._cppAtomValenceException object at 0x7f78cb501d60>, <rdkit.Chem.rdchem._cppAtomValenceException object at 0x7f78cb501ac0>, <rdkit.Chem.rdchem._cppAtomValenceException object at 0x7f78cb501e40>, <rdkit.Chem.rdchem._cppAtomValenceException object at 0x7f78cb501b30>)\n",
      "index 8848, problems (<rdkit.Chem.rdchem._cppAtomValenceException object at 0x7f78cb501e40>, <rdkit.Chem.rdchem._cppAtomValenceException object at 0x7f78cb501b30>, <rdkit.Chem.rdchem._cppAtomValenceException object at 0x7f78cb501040>, <rdkit.Chem.rdchem._cppAtomValenceException object at 0x7f78cb501740>)\n"
     ]
    },
    {
     "name": "stderr",
     "output_type": "stream",
     "text": [
      "==============================\n",
      "*** Open Babel Error  in TetStereoToWedgeHash\n",
      "  Failed to set stereochemistry as unable to find an available bond\n",
      "==============================\n",
      "*** Open Babel Error  in TetStereoToWedgeHash\n",
      "  Failed to set stereochemistry as unable to find an available bond\n"
     ]
    },
    {
     "name": "stdout",
     "output_type": "stream",
     "text": [
      "index 8851, problems (<rdkit.Chem.rdchem._cppAtomValenceException object at 0x7f78cb501e40>, <rdkit.Chem.rdchem._cppAtomValenceException object at 0x7f78cb501b30>, <rdkit.Chem.rdchem._cppAtomValenceException object at 0x7f78cb501040>, <rdkit.Chem.rdchem._cppAtomValenceException object at 0x7f78cb501740>)\n",
      "index 8889, problems (<rdkit.Chem.rdchem._cppAtomValenceException object at 0x7f78cb5e0b30>, <rdkit.Chem.rdchem._cppAtomValenceException object at 0x7f78cb501e40>)\n",
      "index 8890, problems (<rdkit.Chem.rdchem._cppAtomValenceException object at 0x7f78cb5e0b30>, <rdkit.Chem.rdchem._cppAtomValenceException object at 0x7f78cb501e40>, <rdkit.Chem.rdchem._cppAtomValenceException object at 0x7f78cb501740>, <rdkit.Chem.rdchem._cppAtomValenceException object at 0x7f78cb501d60>)\n",
      "index 8953, problems (<rdkit.Chem.rdchem._cppAtomValenceException object at 0x7f78cb5e0ba0>,)\n",
      "index 9068, problems (<rdkit.Chem.rdchem._cppAtomValenceException object at 0x7f78cb5e0ba0>, <rdkit.Chem.rdchem._cppAtomValenceException object at 0x7f78cb5e0c10>)\n",
      "index 9121, problems (<rdkit.Chem.rdchem._cppAtomValenceException object at 0x7f78cb5e0c10>,)\n"
     ]
    },
    {
     "name": "stderr",
     "output_type": "stream",
     "text": [
      "==============================\n",
      "*** Open Babel Error  in TetStereoToWedgeHash\n",
      "  Failed to set stereochemistry as unable to find an available bond\n"
     ]
    },
    {
     "name": "stdout",
     "output_type": "stream",
     "text": [
      "index 9152, problems (<rdkit.Chem.rdchem._cppAtomValenceException object at 0x7f78cb5e0b30>, <rdkit.Chem.rdchem._cppAtomValenceException object at 0x7f78cb501e40>)\n",
      "index 9172, problems (<rdkit.Chem.rdchem._cppAtomValenceException object at 0x7f78cb5e0ba0>,)\n"
     ]
    },
    {
     "name": "stderr",
     "output_type": "stream",
     "text": [
      "==============================\n",
      "*** Open Babel Warning  in PerceiveBondOrders\n",
      "  Failed to kekulize aromatic bonds in OBMol::PerceiveBondOrders\n",
      "\n",
      "==============================\n",
      "*** Open Babel Warning  in PerceiveBondOrders\n",
      "  Failed to kekulize aromatic bonds in OBMol::PerceiveBondOrders\n",
      "\n",
      "==============================\n",
      "*** Open Babel Warning  in PerceiveBondOrders\n",
      "  Failed to kekulize aromatic bonds in OBMol::PerceiveBondOrders\n",
      "\n",
      "==============================\n",
      "*** Open Babel Warning  in PerceiveBondOrders\n",
      "  Failed to kekulize aromatic bonds in OBMol::PerceiveBondOrders\n",
      "\n",
      "==============================\n",
      "*** Open Babel Warning  in PerceiveBondOrders\n",
      "  Failed to kekulize aromatic bonds in OBMol::PerceiveBondOrders\n",
      "\n",
      "==============================\n",
      "*** Open Babel Warning  in PerceiveBondOrders\n",
      "  Failed to kekulize aromatic bonds in OBMol::PerceiveBondOrders\n",
      "\n",
      "==============================\n",
      "*** Open Babel Warning  in PerceiveBondOrders\n",
      "  Failed to kekulize aromatic bonds in OBMol::PerceiveBondOrders\n",
      "\n",
      "==============================\n",
      "*** Open Babel Warning  in PerceiveBondOrders\n",
      "  Failed to kekulize aromatic bonds in OBMol::PerceiveBondOrders\n",
      "\n",
      "==============================\n",
      "*** Open Babel Warning  in PerceiveBondOrders\n",
      "  Failed to kekulize aromatic bonds in OBMol::PerceiveBondOrders\n",
      "\n",
      "==============================\n",
      "*** Open Babel Warning  in PerceiveBondOrders\n",
      "  Failed to kekulize aromatic bonds in OBMol::PerceiveBondOrders\n",
      "\n",
      "==============================\n",
      "*** Open Babel Warning  in PerceiveBondOrders\n",
      "  Failed to kekulize aromatic bonds in OBMol::PerceiveBondOrders\n",
      "\n",
      "==============================\n",
      "*** Open Babel Warning  in PerceiveBondOrders\n",
      "  Failed to kekulize aromatic bonds in OBMol::PerceiveBondOrders\n",
      "\n",
      "==============================\n",
      "*** Open Babel Warning  in PerceiveBondOrders\n",
      "  Failed to kekulize aromatic bonds in OBMol::PerceiveBondOrders\n",
      "\n",
      "==============================\n",
      "*** Open Babel Error  in TetStereoToWedgeHash\n",
      "  Failed to set stereochemistry as unable to find an available bond\n"
     ]
    },
    {
     "name": "stdout",
     "output_type": "stream",
     "text": [
      "index 9568, problems (<rdkit.Chem.rdchem._cppAtomValenceException object at 0x7f78cb5e0b30>, <rdkit.Chem.rdchem._cppAtomValenceException object at 0x7f78cb5e0ba0>)\n",
      "index 9583, problems (<rdkit.Chem.rdchem._cppAtomValenceException object at 0x7f78cb501740>, <rdkit.Chem.rdchem._cppAtomValenceException object at 0x7f78cb501d60>, <rdkit.Chem.rdchem._cppAtomValenceException object at 0x7f78cb501b30>, <rdkit.Chem.rdchem._cppAtomValenceException object at 0x7f78cb501040>)\n",
      "index 9585, problems (<rdkit.Chem.rdchem._cppAtomValenceException object at 0x7f78cb501d60>, <rdkit.Chem.rdchem._cppAtomValenceException object at 0x7f78cb501b30>, <rdkit.Chem.rdchem._cppAtomValenceException object at 0x7f78cb501040>)\n",
      "index 9597, problems (<rdkit.Chem.rdchem._cppAtomValenceException object at 0x7f78cb501d60>, <rdkit.Chem.rdchem._cppAtomValenceException object at 0x7f78cb501b30>)\n",
      "index 9598, problems (<rdkit.Chem.rdchem._cppAtomValenceException object at 0x7f78cb501d60>, <rdkit.Chem.rdchem._cppAtomValenceException object at 0x7f78cb501b30>, <rdkit.Chem.rdchem._cppAtomValenceException object at 0x7f78cb501e40>, <rdkit.Chem.rdchem._cppAtomValenceException object at 0x7f78cb501ac0>)\n",
      "index 9607, problems (<rdkit.Chem.rdchem._cppAtomValenceException object at 0x7f78cb501f90>, <rdkit.Chem.rdchem._cppAtomValenceException object at 0x7f78cb501430>, <rdkit.Chem.rdchem._cppAtomValenceException object at 0x7f78cb5017b0>, <rdkit.Chem.rdchem._cppAtomValenceException object at 0x7f78cb501cf0>, <rdkit.Chem.rdchem._cppAtomValenceException object at 0x7f78cb5016d0>, <rdkit.Chem.rdchem._cppAtomValenceException object at 0x7f78cb501200>, <rdkit.Chem.rdchem._cppAtomValenceException object at 0x7f78cb501820>, <rdkit.Chem.rdchem._cppAtomValenceException object at 0x7f78cb5014a0>, <rdkit.Chem.rdchem._cppAtomValenceException object at 0x7f78cb5015f0>, <rdkit.Chem.rdchem._cppAtomValenceException object at 0x7f78cb501a50>, <rdkit.Chem.rdchem._cppAtomValenceException object at 0x7f78cb501eb0>, <rdkit.Chem.rdchem._cppAtomValenceException object at 0x7f78cb501510>, <rdkit.Chem.rdchem._cppAtomValenceException object at 0x7f78cb5019e0>, <rdkit.Chem.rdchem._cppAtomValenceException object at 0x7f78cb4d3040>, <rdkit.Chem.rdchem._cppAtomValenceException object at 0x7f78cb4d30b0>, <rdkit.Chem.rdchem._cppAtomValenceException object at 0x7f78cb4d3120>, <rdkit.Chem.rdchem._cppAtomValenceException object at 0x7f78cb4d3190>, <rdkit.Chem.rdchem._cppAtomValenceException object at 0x7f78cb4d3200>)\n",
      "index 9612, problems (<rdkit.Chem.rdchem._cppAtomValenceException object at 0x7f78cb5015f0>, <rdkit.Chem.rdchem._cppAtomValenceException object at 0x7f78cb501a50>, <rdkit.Chem.rdchem._cppAtomValenceException object at 0x7f78cb501eb0>, <rdkit.Chem.rdchem._cppAtomValenceException object at 0x7f78cb501510>, <rdkit.Chem.rdchem._cppAtomValenceException object at 0x7f78cb5019e0>, <rdkit.Chem.rdchem._cppAtomValenceException object at 0x7f78cb501d60>, <rdkit.Chem.rdchem._cppAtomValenceException object at 0x7f78cb501b30>, <rdkit.Chem.rdchem._cppAtomValenceException object at 0x7f78cb501e40>, <rdkit.Chem.rdchem._cppAtomValenceException object at 0x7f78cb501ac0>, <rdkit.Chem.rdchem._cppAtomValenceException object at 0x7f78cb501040>)\n",
      "index 9614, problems (<rdkit.Chem.rdchem._cppAtomValenceException object at 0x7f78cb501eb0>, <rdkit.Chem.rdchem._cppAtomValenceException object at 0x7f78cb501510>, <rdkit.Chem.rdchem._cppAtomValenceException object at 0x7f78cb5019e0>, <rdkit.Chem.rdchem._cppAtomValenceException object at 0x7f78cb501d60>)\n"
     ]
    },
    {
     "name": "stderr",
     "output_type": "stream",
     "text": [
      "==============================\n",
      "*** Open Babel Error  in TetStereoToWedgeHash\n",
      "  Failed to set stereochemistry as unable to find an available bond\n",
      "==============================\n",
      "*** Open Babel Error  in TetStereoToWedgeHash\n",
      "  Failed to set stereochemistry as unable to find an available bond\n",
      "==============================\n",
      "*** Open Babel Error  in TetStereoToWedgeHash\n",
      "  Failed to set stereochemistry as unable to find an available bond\n"
     ]
    },
    {
     "name": "stdout",
     "output_type": "stream",
     "text": [
      "index 9616, problems (<rdkit.Chem.rdchem._cppAtomValenceException object at 0x7f78cb501430>, <rdkit.Chem.rdchem._cppAtomValenceException object at 0x7f78cb5017b0>, <rdkit.Chem.rdchem._cppAtomValenceException object at 0x7f78cb501cf0>, <rdkit.Chem.rdchem._cppAtomValenceException object at 0x7f78cb5016d0>, <rdkit.Chem.rdchem._cppAtomValenceException object at 0x7f78cb501200>, <rdkit.Chem.rdchem._cppAtomValenceException object at 0x7f78cb501820>, <rdkit.Chem.rdchem._cppAtomValenceException object at 0x7f78cb5014a0>, <rdkit.Chem.rdchem._cppAtomValenceException object at 0x7f78cb501740>, <rdkit.Chem.rdchem._cppAtomValenceException object at 0x7f78cb501350>, <rdkit.Chem.rdchem._cppAtomValenceException object at 0x7f78cb5012e0>, <rdkit.Chem.rdchem._cppAtomValenceException object at 0x7f78cb501f20>, <rdkit.Chem.rdchem._cppAtomValenceException object at 0x7f78cb501ba0>, <rdkit.Chem.rdchem._cppAtomValenceException object at 0x7f78cb501c80>, <rdkit.Chem.rdchem._cppAtomValenceException object at 0x7f78cb501120>)\n",
      "index 9618, problems (<rdkit.Chem.rdchem._cppAtomValenceException object at 0x7f78cb5017b0>, <rdkit.Chem.rdchem._cppAtomValenceException object at 0x7f78cb501cf0>, <rdkit.Chem.rdchem._cppAtomValenceException object at 0x7f78cb5016d0>, <rdkit.Chem.rdchem._cppAtomValenceException object at 0x7f78cb501200>)\n",
      "index 9645, problems (<rdkit.Chem.rdchem._cppAtomValenceException object at 0x7f78cb5016d0>, <rdkit.Chem.rdchem._cppAtomValenceException object at 0x7f78cb501200>, <rdkit.Chem.rdchem._cppAtomValenceException object at 0x7f78cb501430>, <rdkit.Chem.rdchem._cppAtomValenceException object at 0x7f78cb501820>)\n"
     ]
    },
    {
     "name": "stderr",
     "output_type": "stream",
     "text": [
      "==============================\n",
      "*** Open Babel Error  in TetStereoToWedgeHash\n",
      "  Failed to set stereochemistry as unable to find an available bond\n",
      "==============================\n",
      "*** Open Babel Error  in TetStereoToWedgeHash\n",
      "  Failed to set stereochemistry as unable to find an available bond\n",
      "==============================\n",
      "*** Open Babel Warning  in PerceiveBondOrders\n",
      "  Failed to kekulize aromatic bonds in OBMol::PerceiveBondOrders\n",
      "\n",
      "==============================\n",
      "*** Open Babel Error  in TetStereoToWedgeHash\n",
      "  Failed to set stereochemistry as unable to find an available bond\n",
      "==============================\n",
      "*** Open Babel Error  in TetStereoToWedgeHash\n",
      "  Failed to set stereochemistry as unable to find an available bond\n",
      "==============================\n",
      "*** Open Babel Error  in TetStereoToWedgeHash\n",
      "  Failed to set stereochemistry as unable to find an available bond\n",
      "==============================\n",
      "*** Open Babel Error  in TetStereoToWedgeHash\n",
      "  Failed to set stereochemistry as unable to find an available bond\n"
     ]
    },
    {
     "name": "stdout",
     "output_type": "stream",
     "text": [
      "index 9689, problems (<rdkit.Chem.rdchem._cppAtomValenceException object at 0x7f78cb5e0b30>,)\n",
      "index 9717, problems (<rdkit.Chem.rdchem._cppAtomValenceException object at 0x7f78cb501200>, <rdkit.Chem.rdchem._cppAtomValenceException object at 0x7f78cb501430>, <rdkit.Chem.rdchem._cppAtomValenceException object at 0x7f78cb501820>, <rdkit.Chem.rdchem._cppAtomValenceException object at 0x7f78cb5017b0>)\n",
      "index 9719, problems (<rdkit.Chem.rdchem._cppAtomValenceException object at 0x7f78cb501430>, <rdkit.Chem.rdchem._cppAtomValenceException object at 0x7f78cb501820>, <rdkit.Chem.rdchem._cppAtomValenceException object at 0x7f78cb5017b0>, <rdkit.Chem.rdchem._cppAtomValenceException object at 0x7f78cb5016d0>)\n",
      "index 9720, problems (<rdkit.Chem.rdchem._cppAtomValenceException object at 0x7f78cb501430>, <rdkit.Chem.rdchem._cppAtomValenceException object at 0x7f78cb501820>, <rdkit.Chem.rdchem._cppAtomValenceException object at 0x7f78cb5017b0>, <rdkit.Chem.rdchem._cppAtomValenceException object at 0x7f78cb5016d0>)\n",
      "index 9727, problems (<rdkit.Chem.rdchem._cppAtomValenceException object at 0x7f78cb501820>, <rdkit.Chem.rdchem._cppAtomValenceException object at 0x7f78cb5017b0>, <rdkit.Chem.rdchem._cppAtomValenceException object at 0x7f78cb5016d0>, <rdkit.Chem.rdchem._cppAtomValenceException object at 0x7f78cb501200>)\n",
      "index 9737, problems (<rdkit.Chem.rdchem._cppAtomValenceException object at 0x7f78cb501820>, <rdkit.Chem.rdchem._cppAtomValenceException object at 0x7f78cb5017b0>, <rdkit.Chem.rdchem._cppAtomValenceException object at 0x7f78cb5016d0>)\n",
      "index 9739, problems (<rdkit.Chem.rdchem._cppAtomValenceException object at 0x7f78cb5017b0>, <rdkit.Chem.rdchem._cppAtomValenceException object at 0x7f78cb5016d0>, <rdkit.Chem.rdchem._cppAtomValenceException object at 0x7f78cb501200>, <rdkit.Chem.rdchem._cppAtomValenceException object at 0x7f78cb501430>)\n"
     ]
    },
    {
     "name": "stderr",
     "output_type": "stream",
     "text": [
      "==============================\n",
      "*** Open Babel Error  in TetStereoToWedgeHash\n",
      "  Failed to set stereochemistry as unable to find an available bond\n",
      "==============================\n",
      "*** Open Babel Error  in TetStereoToWedgeHash\n",
      "  Failed to set stereochemistry as unable to find an available bond\n",
      "==============================\n",
      "*** Open Babel Error  in TetStereoToWedgeHash\n",
      "  Failed to set stereochemistry as unable to find an available bond\n"
     ]
    },
    {
     "name": "stdout",
     "output_type": "stream",
     "text": [
      "index 9782, problems (<rdkit.Chem.rdchem._cppAtomValenceException object at 0x7f78cb501740>, <rdkit.Chem.rdchem._cppAtomValenceException object at 0x7f78cb501350>, <rdkit.Chem.rdchem._cppAtomValenceException object at 0x7f78cb5012e0>, <rdkit.Chem.rdchem._cppAtomValenceException object at 0x7f78cb501f20>, <rdkit.Chem.rdchem._cppAtomValenceException object at 0x7f78cb501ba0>, <rdkit.Chem.rdchem._cppAtomValenceException object at 0x7f78cb501c80>, <rdkit.Chem.rdchem._cppAtomValenceException object at 0x7f78cb501120>, <rdkit.Chem.rdchem._cppAtomValenceException object at 0x7f78cb501eb0>, <rdkit.Chem.rdchem._cppAtomValenceException object at 0x7f78cb501510>, <rdkit.Chem.rdchem._cppAtomValenceException object at 0x7f78cb5019e0>)\n",
      "index 9800, problems (<rdkit.Chem.rdchem._cppAtomValenceException object at 0x7f78cb5012e0>, <rdkit.Chem.rdchem._cppAtomValenceException object at 0x7f78cb501f20>, <rdkit.Chem.rdchem._cppAtomValenceException object at 0x7f78cb501ba0>, <rdkit.Chem.rdchem._cppAtomValenceException object at 0x7f78cb501c80>)\n",
      "index 9816, problems (<rdkit.Chem.rdchem._cppAtomValenceException object at 0x7f78cb5e0b30>,)\n"
     ]
    },
    {
     "name": "stderr",
     "output_type": "stream",
     "text": [
      "==============================\n",
      "*** Open Babel Warning  in PerceiveBondOrders\n",
      "  Failed to kekulize aromatic bonds in OBMol::PerceiveBondOrders\n",
      "\n",
      "==============================\n",
      "*** Open Babel Error  in TetStereoToWedgeHash\n",
      "  Failed to set stereochemistry as unable to find an available bond\n"
     ]
    },
    {
     "name": "stdout",
     "output_type": "stream",
     "text": [
      "index 9896, problems (<rdkit.Chem.rdchem._cppAtomValenceException object at 0x7f78cb5e0dd0>, <rdkit.Chem.rdchem._cppAtomValenceException object at 0x7f78cb5e0ba0>)\n",
      "index 9904, problems (<rdkit.Chem.rdchem._cppAtomValenceException object at 0x7f78cb5e0ba0>,)\n",
      "index 9929, problems (<rdkit.Chem.rdchem._cppAtomValenceException object at 0x7f78cb501c80>, <rdkit.Chem.rdchem._cppAtomValenceException object at 0x7f78cb501740>, <rdkit.Chem.rdchem._cppAtomValenceException object at 0x7f78cb501350>, <rdkit.Chem.rdchem._cppAtomValenceException object at 0x7f78cb501120>, <rdkit.Chem.rdchem._cppAtomValenceException object at 0x7f78cb501eb0>, <rdkit.Chem.rdchem._cppAtomValenceException object at 0x7f78cb501510>)\n",
      "index 9949, problems (<rdkit.Chem.rdchem._cppAtomValenceException object at 0x7f78cb5e0b30>, <rdkit.Chem.rdchem._cppAtomValenceException object at 0x7f78cb5e0ba0>)\n",
      "index 10032, problems (<rdkit.Chem.rdchem._cppAtomValenceException object at 0x7f78cb5e0ba0>,)\n",
      "index 10033, problems (<rdkit.Chem.rdchem._cppAtomValenceException object at 0x7f78cb5e0ba0>, <rdkit.Chem.rdchem._cppAtomValenceException object at 0x7f78cb501c80>)\n",
      "index 10034, problems (<rdkit.Chem.rdchem._cppAtomValenceException object at 0x7f78cb5e0ba0>, <rdkit.Chem.rdchem._cppAtomValenceException object at 0x7f78cb501c80>)\n",
      "index 10042, problems (<rdkit.Chem.rdchem._cppAtomValenceException object at 0x7f78cb5e0dd0>, <rdkit.Chem.rdchem._cppAtomValenceException object at 0x7f78cb501c80>)\n",
      "index 10062, problems (<rdkit.Chem.rdchem._cppAtomValenceException object at 0x7f78cb5e0c10>,)\n"
     ]
    },
    {
     "name": "stderr",
     "output_type": "stream",
     "text": [
      "==============================\n",
      "*** Open Babel Warning  in PerceiveBondOrders\n",
      "  Failed to kekulize aromatic bonds in OBMol::PerceiveBondOrders\n",
      "\n"
     ]
    },
    {
     "name": "stdout",
     "output_type": "stream",
     "text": [
      "index 10106, problems (<rdkit.Chem.rdchem._cppAtomValenceException object at 0x7f78cb5e0ba0>, <rdkit.Chem.rdchem._cppAtomValenceException object at 0x7f78cb5e0b30>)\n"
     ]
    },
    {
     "name": "stderr",
     "output_type": "stream",
     "text": [
      "==============================\n",
      "*** Open Babel Warning  in PerceiveBondOrders\n",
      "  Failed to kekulize aromatic bonds in OBMol::PerceiveBondOrders\n",
      "\n"
     ]
    },
    {
     "name": "stdout",
     "output_type": "stream",
     "text": [
      "index 10188, problems (<rdkit.Chem.rdchem._cppAtomValenceException object at 0x7f78cb5e0dd0>, <rdkit.Chem.rdchem._cppAtomValenceException object at 0x7f78cb501c80>)\n",
      "index 10305, problems (<rdkit.Chem.rdchem._cppAtomValenceException object at 0x7f78cb5e0c10>,)\n",
      "index 10330, problems (<rdkit.Chem.rdchem._cppAtomValenceException object at 0x7f78cb5e0b30>,)\n"
     ]
    },
    {
     "name": "stderr",
     "output_type": "stream",
     "text": [
      "==============================\n",
      "*** Open Babel Warning  in PerceiveBondOrders\n",
      "  Failed to kekulize aromatic bonds in OBMol::PerceiveBondOrders\n",
      "\n",
      "==============================\n",
      "*** Open Babel Warning  in PerceiveBondOrders\n",
      "  Failed to kekulize aromatic bonds in OBMol::PerceiveBondOrders\n",
      "\n",
      "==============================\n",
      "*** Open Babel Warning  in PerceiveBondOrders\n",
      "  Failed to kekulize aromatic bonds in OBMol::PerceiveBondOrders\n",
      "\n",
      "==============================\n",
      "*** Open Babel Warning  in PerceiveBondOrders\n",
      "  Failed to kekulize aromatic bonds in OBMol::PerceiveBondOrders\n",
      "\n",
      "==============================\n",
      "*** Open Babel Warning  in PerceiveBondOrders\n",
      "  Failed to kekulize aromatic bonds in OBMol::PerceiveBondOrders\n",
      "\n",
      "==============================\n",
      "*** Open Babel Warning  in PerceiveBondOrders\n",
      "  Failed to kekulize aromatic bonds in OBMol::PerceiveBondOrders\n",
      "\n",
      "==============================\n",
      "*** Open Babel Warning  in PerceiveBondOrders\n",
      "  Failed to kekulize aromatic bonds in OBMol::PerceiveBondOrders\n",
      "\n",
      "==============================\n",
      "*** Open Babel Warning  in PerceiveBondOrders\n",
      "  Failed to kekulize aromatic bonds in OBMol::PerceiveBondOrders\n",
      "\n",
      "==============================\n",
      "*** Open Babel Warning  in PerceiveBondOrders\n",
      "  Failed to kekulize aromatic bonds in OBMol::PerceiveBondOrders\n",
      "\n",
      "==============================\n",
      "*** Open Babel Warning  in PerceiveBondOrders\n",
      "  Failed to kekulize aromatic bonds in OBMol::PerceiveBondOrders\n",
      "\n"
     ]
    },
    {
     "name": "stdout",
     "output_type": "stream",
     "text": [
      "index 10544, problems (<rdkit.Chem.rdchem._cppAtomValenceException object at 0x7f78cb5e0dd0>, <rdkit.Chem.rdchem._cppAtomValenceException object at 0x7f78cb5e0ba0>)\n",
      "index 10576, problems (<rdkit.Chem.rdchem._cppAtomValenceException object at 0x7f78cb5e0c10>,)\n",
      "index 10583, problems (<rdkit.Chem.rdchem._cppAtomValenceException object at 0x7f78cb501200>, <rdkit.Chem.rdchem._cppAtomValenceException object at 0x7f78cb501430>, <rdkit.Chem.rdchem._cppAtomValenceException object at 0x7f78cb501820>, <rdkit.Chem.rdchem._cppAtomValenceException object at 0x7f78cb501cf0>, <rdkit.Chem.rdchem._cppAtomValenceException object at 0x7f78cb5014a0>, <rdkit.Chem.rdchem._cppAtomValenceException object at 0x7f78cb501d60>, <rdkit.Chem.rdchem._cppAtomValenceException object at 0x7f78cb5015f0>, <rdkit.Chem.rdchem._cppAtomValenceException object at 0x7f78cb501a50>, <rdkit.Chem.rdchem._cppAtomValenceException object at 0x7f78cb501b30>, <rdkit.Chem.rdchem._cppAtomValenceException object at 0x7f78cb501e40>, <rdkit.Chem.rdchem._cppAtomValenceException object at 0x7f78cb501ac0>, <rdkit.Chem.rdchem._cppAtomValenceException object at 0x7f78cb501040>, <rdkit.Chem.rdchem._cppAtomValenceException object at 0x7f78cb501f90>, <rdkit.Chem.rdchem._cppAtomValenceException object at 0x7f78cb501c10>)\n",
      "index 10585, problems (<rdkit.Chem.rdchem._cppAtomValenceException object at 0x7f78cb501200>, <rdkit.Chem.rdchem._cppAtomValenceException object at 0x7f78cb501430>)\n",
      "index 10587, problems (<rdkit.Chem.rdchem._cppAtomValenceException object at 0x7f78cb501200>, <rdkit.Chem.rdchem._cppAtomValenceException object at 0x7f78cb501430>)\n"
     ]
    },
    {
     "name": "stderr",
     "output_type": "stream",
     "text": [
      "==============================\n",
      "*** Open Babel Error  in TetStereoToWedgeHash\n",
      "  Failed to set stereochemistry as unable to find an available bond\n"
     ]
    },
    {
     "name": "stdout",
     "output_type": "stream",
     "text": [
      "index 10592, problems (<rdkit.Chem.rdchem._cppAtomValenceException object at 0x7f78cb461040>, <rdkit.Chem.rdchem._cppAtomValenceException object at 0x7f78cb4610b0>, <rdkit.Chem.rdchem._cppAtomValenceException object at 0x7f78cb461120>, <rdkit.Chem.rdchem._cppAtomValenceException object at 0x7f78cb461190>, <rdkit.Chem.rdchem._cppAtomValenceException object at 0x7f78cb461200>, <rdkit.Chem.rdchem._cppAtomValenceException object at 0x7f78cb461270>, <rdkit.Chem.rdchem._cppAtomValenceException object at 0x7f78cb4612e0>, <rdkit.Chem.rdchem._cppAtomValenceException object at 0x7f78cb461350>, <rdkit.Chem.rdchem._cppAtomValenceException object at 0x7f78cb4613c0>, <rdkit.Chem.rdchem._cppAtomValenceException object at 0x7f78cb461430>, <rdkit.Chem.rdchem._cppAtomValenceException object at 0x7f78cb4614a0>, <rdkit.Chem.rdchem._cppAtomValenceException object at 0x7f78cb461510>, <rdkit.Chem.rdchem._cppAtomValenceException object at 0x7f78cb461580>, <rdkit.Chem.rdchem._cppAtomValenceException object at 0x7f78cb4615f0>, <rdkit.Chem.rdchem._cppAtomValenceException object at 0x7f78cb461660>, <rdkit.Chem.rdchem._cppAtomValenceException object at 0x7f78cb4616d0>, <rdkit.Chem.rdchem._cppAtomValenceException object at 0x7f78cb461740>, <rdkit.Chem.rdchem._cppAtomValenceException object at 0x7f78cb4617b0>, <rdkit.Chem.rdchem._cppAtomValenceException object at 0x7f78cb461820>, <rdkit.Chem.rdchem._cppAtomValenceException object at 0x7f78cb461890>, <rdkit.Chem.rdchem._cppAtomValenceException object at 0x7f78cb461900>, <rdkit.Chem.rdchem._cppAtomValenceException object at 0x7f78cb461970>, <rdkit.Chem.rdchem._cppAtomValenceException object at 0x7f78cb4619e0>, <rdkit.Chem.rdchem._cppAtomValenceException object at 0x7f78cb461a50>, <rdkit.Chem.rdchem._cppAtomValenceException object at 0x7f78cb461ac0>, <rdkit.Chem.rdchem._cppAtomValenceException object at 0x7f78cb461b30>, <rdkit.Chem.rdchem._cppAtomValenceException object at 0x7f78cb461ba0>, <rdkit.Chem.rdchem._cppAtomValenceException object at 0x7f78cb461c10>, <rdkit.Chem.rdchem._cppAtomValenceException object at 0x7f78cb461c80>, <rdkit.Chem.rdchem._cppAtomValenceException object at 0x7f78cb461cf0>, <rdkit.Chem.rdchem._cppAtomValenceException object at 0x7f78cb461d60>, <rdkit.Chem.rdchem._cppAtomValenceException object at 0x7f78cb461dd0>)\n",
      "index 10596, problems (<rdkit.Chem.rdchem._cppAtomValenceException object at 0x7f78cb501820>, <rdkit.Chem.rdchem._cppAtomValenceException object at 0x7f78cb501cf0>, <rdkit.Chem.rdchem._cppAtomValenceException object at 0x7f78cb5014a0>, <rdkit.Chem.rdchem._cppAtomValenceException object at 0x7f78cb501d60>)\n",
      "index 10598, problems (<rdkit.Chem.rdchem._cppAtomValenceException object at 0x7f78cb4d09e0>, <rdkit.Chem.rdchem._cppAtomValenceException object at 0x7f78cb4d0a50>, <rdkit.Chem.rdchem._cppAtomValenceException object at 0x7f78cb4d0ac0>, <rdkit.Chem.rdchem._cppAtomValenceException object at 0x7f78cb4d0b30>, <rdkit.Chem.rdchem._cppAtomValenceException object at 0x7f78cb4d0ba0>, <rdkit.Chem.rdchem._cppAtomValenceException object at 0x7f78cb4d0c10>, <rdkit.Chem.rdchem._cppAtomValenceException object at 0x7f78cb4d0c80>, <rdkit.Chem.rdchem._cppAtomValenceException object at 0x7f78cb4d0cf0>, <rdkit.Chem.rdchem._cppAtomValenceException object at 0x7f78cb4d0d60>, <rdkit.Chem.rdchem._cppAtomValenceException object at 0x7f78cb4d0dd0>, <rdkit.Chem.rdchem._cppAtomValenceException object at 0x7f78cb4d0e40>, <rdkit.Chem.rdchem._cppAtomValenceException object at 0x7f78cb4d0eb0>, <rdkit.Chem.rdchem._cppAtomValenceException object at 0x7f78cb4d0f20>, <rdkit.Chem.rdchem._cppAtomValenceException object at 0x7f78cb4d0f90>, <rdkit.Chem.rdchem._cppAtomValenceException object at 0x7f78cb4c5040>, <rdkit.Chem.rdchem._cppAtomValenceException object at 0x7f78cb4c50b0>, <rdkit.Chem.rdchem._cppAtomValenceException object at 0x7f78cb4c5120>, <rdkit.Chem.rdchem._cppAtomValenceException object at 0x7f78cb4c5190>, <rdkit.Chem.rdchem._cppAtomValenceException object at 0x7f78cb4c5200>, <rdkit.Chem.rdchem._cppAtomValenceException object at 0x7f78cb4c5270>, <rdkit.Chem.rdchem._cppAtomValenceException object at 0x7f78cb4c52e0>, <rdkit.Chem.rdchem._cppAtomValenceException object at 0x7f78cb4c5350>, <rdkit.Chem.rdchem._cppAtomValenceException object at 0x7f78cb4c53c0>, <rdkit.Chem.rdchem._cppAtomValenceException object at 0x7f78cb4c5430>, <rdkit.Chem.rdchem._cppAtomValenceException object at 0x7f78cb4c54a0>, <rdkit.Chem.rdchem._cppAtomValenceException object at 0x7f78cb4c5510>, <rdkit.Chem.rdchem._cppAtomValenceException object at 0x7f78cb4c5580>, <rdkit.Chem.rdchem._cppAtomValenceException object at 0x7f78cb4c55f0>, <rdkit.Chem.rdchem._cppAtomValenceException object at 0x7f78cb4c5660>, <rdkit.Chem.rdchem._cppAtomValenceException object at 0x7f78cb4c56d0>, <rdkit.Chem.rdchem._cppAtomValenceException object at 0x7f78cb4c5740>, <rdkit.Chem.rdchem._cppAtomValenceException object at 0x7f78cb4c57b0>, <rdkit.Chem.rdchem._cppAtomValenceException object at 0x7f78cb4c5820>, <rdkit.Chem.rdchem._cppAtomValenceException object at 0x7f78cb4c5890>, <rdkit.Chem.rdchem._cppAtomValenceException object at 0x7f78cb4c5900>, <rdkit.Chem.rdchem._cppAtomValenceException object at 0x7f78cb4c5970>, <rdkit.Chem.rdchem._cppAtomValenceException object at 0x7f78cb4c59e0>, <rdkit.Chem.rdchem._cppAtomValenceException object at 0x7f78cb4c5a50>, <rdkit.Chem.rdchem._cppAtomValenceException object at 0x7f78cb4c5ac0>, <rdkit.Chem.rdchem._cppAtomValenceException object at 0x7f78cb4c5b30>, <rdkit.Chem.rdchem._cppAtomValenceException object at 0x7f78cb4c5ba0>, <rdkit.Chem.rdchem._cppAtomValenceException object at 0x7f78cb4c5c10>, <rdkit.Chem.rdchem._cppAtomValenceException object at 0x7f78cb4c5c80>, <rdkit.Chem.rdchem._cppAtomValenceException object at 0x7f78cb4c5cf0>, <rdkit.Chem.rdchem._cppAtomValenceException object at 0x7f78cb4c5d60>, <rdkit.Chem.rdchem._cppAtomValenceException object at 0x7f78cb4c5dd0>, <rdkit.Chem.rdchem._cppAtomValenceException object at 0x7f78cb4c5e40>, <rdkit.Chem.rdchem._cppAtomValenceException object at 0x7f78cb4c5eb0>, <rdkit.Chem.rdchem._cppAtomValenceException object at 0x7f78cb4c5f20>, <rdkit.Chem.rdchem._cppAtomValenceException object at 0x7f78cb4c5f90>, <rdkit.Chem.rdchem._cppAtomValenceException object at 0x7f78cb4c3040>, <rdkit.Chem.rdchem._cppAtomValenceException object at 0x7f78cb4c30b0>, <rdkit.Chem.rdchem._cppAtomValenceException object at 0x7f78cb4c3120>, <rdkit.Chem.rdchem._cppAtomValenceException object at 0x7f78cb4c3190>)\n",
      "index 10605, problems (<rdkit.Chem.rdchem._cppAtomValenceException object at 0x7f78cb501820>, <rdkit.Chem.rdchem._cppAtomValenceException object at 0x7f78cb501cf0>)\n",
      "index 10613, problems (<rdkit.Chem.rdchem._cppAtomValenceException object at 0x7f78cb5015f0>, <rdkit.Chem.rdchem._cppAtomValenceException object at 0x7f78cb501a50>, <rdkit.Chem.rdchem._cppAtomValenceException object at 0x7f78cb501b30>, <rdkit.Chem.rdchem._cppAtomValenceException object at 0x7f78cb501e40>, <rdkit.Chem.rdchem._cppAtomValenceException object at 0x7f78cb501ac0>, <rdkit.Chem.rdchem._cppAtomValenceException object at 0x7f78cb501040>, <rdkit.Chem.rdchem._cppAtomValenceException object at 0x7f78cb501f90>, <rdkit.Chem.rdchem._cppAtomValenceException object at 0x7f78cb501c10>)\n",
      "index 10626, problems (<rdkit.Chem.rdchem._cppAtomValenceException object at 0x7f78cb5015f0>, <rdkit.Chem.rdchem._cppAtomValenceException object at 0x7f78cb501a50>)\n"
     ]
    },
    {
     "name": "stderr",
     "output_type": "stream",
     "text": [
      "==============================\n",
      "*** Open Babel Error  in TetStereoToWedgeHash\n",
      "  Failed to set stereochemistry as unable to find an available bond\n",
      "==============================\n",
      "*** Open Babel Error  in TetStereoToWedgeHash\n",
      "  Failed to set stereochemistry as unable to find an available bond\n",
      "==============================\n",
      "*** Open Babel Error  in TetStereoToWedgeHash\n",
      "  Failed to set stereochemistry as unable to find an available bond\n",
      "==============================\n",
      "*** Open Babel Error  in TetStereoToWedgeHash\n",
      "  Failed to set stereochemistry as unable to find an available bond\n",
      "==============================\n",
      "*** Open Babel Error  in TetStereoToWedgeHash\n",
      "  Failed to set stereochemistry as unable to find an available bond\n",
      "==============================\n",
      "*** Open Babel Warning  in PerceiveBondOrders\n",
      "  Failed to kekulize aromatic bonds in OBMol::PerceiveBondOrders\n",
      "\n",
      "==============================\n",
      "*** Open Babel Error  in TetStereoToWedgeHash\n",
      "  Failed to set stereochemistry as unable to find an available bond\n",
      "==============================\n",
      "*** Open Babel Error  in TetStereoToWedgeHash\n",
      "  Failed to set stereochemistry as unable to find an available bond\n",
      "==============================\n",
      "*** Open Babel Error  in TetStereoToWedgeHash\n",
      "  Failed to set stereochemistry as unable to find an available bond\n",
      "==============================\n",
      "*** Open Babel Error  in TetStereoToWedgeHash\n",
      "  Failed to set stereochemistry as unable to find an available bond\n"
     ]
    },
    {
     "name": "stdout",
     "output_type": "stream",
     "text": [
      "index 10639, problems (<rdkit.Chem.rdchem._cppAtomValenceException object at 0x7f78cb501a50>, <rdkit.Chem.rdchem._cppAtomValenceException object at 0x7f78cb501b30>, <rdkit.Chem.rdchem._cppAtomValenceException object at 0x7f78cb501e40>, <rdkit.Chem.rdchem._cppAtomValenceException object at 0x7f78cb501ac0>)\n"
     ]
    },
    {
     "name": "stderr",
     "output_type": "stream",
     "text": [
      "==============================\n",
      "*** Open Babel Error  in TetStereoToWedgeHash\n",
      "  Failed to set stereochemistry as unable to find an available bond\n",
      "==============================\n",
      "*** Open Babel Error  in TetStereoToWedgeHash\n",
      "  Failed to set stereochemistry as unable to find an available bond\n",
      "==============================\n",
      "*** Open Babel Error  in TetStereoToWedgeHash\n",
      "  Failed to set stereochemistry as unable to find an available bond\n",
      "==============================\n",
      "*** Open Babel Error  in TetStereoToWedgeHash\n",
      "  Failed to set stereochemistry as unable to find an available bond\n",
      "==============================\n",
      "*** Open Babel Error  in TetStereoToWedgeHash\n",
      "  Failed to set stereochemistry as unable to find an available bond\n"
     ]
    },
    {
     "name": "stdout",
     "output_type": "stream",
     "text": [
      "index 10691, problems (<rdkit.Chem.rdchem._cppAtomValenceException object at 0x7f78cb501b30>, <rdkit.Chem.rdchem._cppAtomValenceException object at 0x7f78cb501e40>, <rdkit.Chem.rdchem._cppAtomValenceException object at 0x7f78cb501ac0>, <rdkit.Chem.rdchem._cppAtomValenceException object at 0x7f78cb5015f0>)\n",
      "index 10692, problems (<rdkit.Chem.rdchem._cppAtomValenceException object at 0x7f78cb501b30>, <rdkit.Chem.rdchem._cppAtomValenceException object at 0x7f78cb501e40>)\n",
      "index 10704, problems (<rdkit.Chem.rdchem._cppAtomValenceException object at 0x7f78cb501ac0>, <rdkit.Chem.rdchem._cppAtomValenceException object at 0x7f78cb5015f0>, <rdkit.Chem.rdchem._cppAtomValenceException object at 0x7f78cb501a50>, <rdkit.Chem.rdchem._cppAtomValenceException object at 0x7f78cb501040>)\n",
      "index 10719, problems (<rdkit.Chem.rdchem._cppAtomValenceException object at 0x7f78cb5e0ba0>,)\n",
      "index 10739, problems (<rdkit.Chem.rdchem._cppAtomValenceException object at 0x7f78cb5012e0>, <rdkit.Chem.rdchem._cppAtomValenceException object at 0x7f78cb501f20>, <rdkit.Chem.rdchem._cppAtomValenceException object at 0x7f78cb501ba0>, <rdkit.Chem.rdchem._cppAtomValenceException object at 0x7f78cb5019e0>, <rdkit.Chem.rdchem._cppAtomValenceException object at 0x7f78cb5017b0>, <rdkit.Chem.rdchem._cppAtomValenceException object at 0x7f78cb5016d0>, <rdkit.Chem.rdchem._cppAtomValenceException object at 0x7f78cb501dd0>, <rdkit.Chem.rdchem._cppAtomValenceException object at 0x7f78cb5010b0>, <rdkit.Chem.rdchem._cppAtomValenceException object at 0x7f78cb5013c0>, <rdkit.Chem.rdchem._cppAtomValenceException object at 0x7f78cb4fa040>, <rdkit.Chem.rdchem._cppAtomValenceException object at 0x7f78cb4fa0b0>, <rdkit.Chem.rdchem._cppAtomValenceException object at 0x7f78cb4fa120>, <rdkit.Chem.rdchem._cppAtomValenceException object at 0x7f78cb4fa190>, <rdkit.Chem.rdchem._cppAtomValenceException object at 0x7f78cb4fa200>, <rdkit.Chem.rdchem._cppAtomValenceException object at 0x7f78cb4fa270>, <rdkit.Chem.rdchem._cppAtomValenceException object at 0x7f78cb4fa2e0>, <rdkit.Chem.rdchem._cppAtomValenceException object at 0x7f78cb4fa350>, <rdkit.Chem.rdchem._cppAtomValenceException object at 0x7f78cb4fa3c0>, <rdkit.Chem.rdchem._cppAtomValenceException object at 0x7f78cb4fa430>, <rdkit.Chem.rdchem._cppAtomValenceException object at 0x7f78cb4fa4a0>, <rdkit.Chem.rdchem._cppAtomValenceException object at 0x7f78cb4fa510>, <rdkit.Chem.rdchem._cppAtomValenceException object at 0x7f78cb4fa580>)\n"
     ]
    },
    {
     "name": "stderr",
     "output_type": "stream",
     "text": [
      "==============================\n",
      "*** Open Babel Error  in TetStereoToWedgeHash\n",
      "  Failed to set stereochemistry as unable to find an available bond\n"
     ]
    },
    {
     "name": "stdout",
     "output_type": "stream",
     "text": [
      "index 10773, problems (<rdkit.Chem.rdchem._cppAtomValenceException object at 0x7f78cb5e0c10>,)\n",
      "index 10781, problems (<rdkit.Chem.rdchem._cppAtomValenceException object at 0x7f78cb501ba0>, <rdkit.Chem.rdchem._cppAtomValenceException object at 0x7f78cb5019e0>, <rdkit.Chem.rdchem._cppAtomValenceException object at 0x7f78cb5017b0>, <rdkit.Chem.rdchem._cppAtomValenceException object at 0x7f78cb5016d0>)\n"
     ]
    },
    {
     "name": "stderr",
     "output_type": "stream",
     "text": [
      "==============================\n",
      "*** Open Babel Error  in TetStereoToWedgeHash\n",
      "  Failed to set stereochemistry as unable to find an available bond\n",
      "==============================\n",
      "*** Open Babel Error  in TetStereoToWedgeHash\n",
      "  Failed to set stereochemistry as unable to find an available bond\n"
     ]
    },
    {
     "name": "stdout",
     "output_type": "stream",
     "text": [
      "index 10788, problems (<rdkit.Chem.rdchem._cppAtomValenceException object at 0x7f78cb5e0dd0>,)\n",
      "index 10789, problems (<rdkit.Chem.rdchem._cppAtomValenceException object at 0x7f78cb5e0dd0>, <rdkit.Chem.rdchem._cppAtomValenceException object at 0x7f78cb501f20>, <rdkit.Chem.rdchem._cppAtomValenceException object at 0x7f78cb501dd0>, <rdkit.Chem.rdchem._cppAtomValenceException object at 0x7f78cb5010b0>, <rdkit.Chem.rdchem._cppAtomValenceException object at 0x7f78cb5013c0>, <rdkit.Chem.rdchem._cppAtomValenceException object at 0x7f78cb501ac0>)\n",
      "index 10802, problems (<rdkit.Chem.rdchem._cppAtomValenceException object at 0x7f78cb5e0b30>,)\n",
      "index 10815, problems (<rdkit.Chem.rdchem._cppAtomValenceException object at 0x7f78cb501f20>, <rdkit.Chem.rdchem._cppAtomValenceException object at 0x7f78cb501dd0>)\n",
      "index 10818, problems (<rdkit.Chem.rdchem._cppAtomValenceException object at 0x7f78cb5016d0>, <rdkit.Chem.rdchem._cppAtomValenceException object at 0x7f78cb5012e0>, <rdkit.Chem.rdchem._cppAtomValenceException object at 0x7f78cb5015f0>, <rdkit.Chem.rdchem._cppAtomValenceException object at 0x7f78cb501a50>, <rdkit.Chem.rdchem._cppAtomValenceException object at 0x7f78cb501040>, <rdkit.Chem.rdchem._cppAtomValenceException object at 0x7f78cb501b30>, <rdkit.Chem.rdchem._cppAtomValenceException object at 0x7f78cb501e40>, <rdkit.Chem.rdchem._cppAtomValenceException object at 0x7f78cb501f90>, <rdkit.Chem.rdchem._cppAtomValenceException object at 0x7f78cb501c10>, <rdkit.Chem.rdchem._cppAtomValenceException object at 0x7f78cb501820>)\n",
      "index 10822, problems (<rdkit.Chem.rdchem._cppAtomValenceException object at 0x7f78cb501ba0>, <rdkit.Chem.rdchem._cppAtomValenceException object at 0x7f78cb5019e0>, <rdkit.Chem.rdchem._cppAtomValenceException object at 0x7f78cb5017b0>, <rdkit.Chem.rdchem._cppAtomValenceException object at 0x7f78cb501cf0>, <rdkit.Chem.rdchem._cppAtomValenceException object at 0x7f78cb5014a0>, <rdkit.Chem.rdchem._cppAtomValenceException object at 0x7f78cb501d60>, <rdkit.Chem.rdchem._cppAtomValenceException object at 0x7f78cb501200>, <rdkit.Chem.rdchem._cppAtomValenceException object at 0x7f78cb501430>, <rdkit.Chem.rdchem._cppAtomValenceException object at 0x7f78cb501c80>, <rdkit.Chem.rdchem._cppAtomValenceException object at 0x7f78cb501740>, <rdkit.Chem.rdchem._cppAtomValenceException object at 0x7f78cb501350>, <rdkit.Chem.rdchem._cppAtomValenceException object at 0x7f78cb501120>, <rdkit.Chem.rdchem._cppAtomValenceException object at 0x7f78cb501eb0>, <rdkit.Chem.rdchem._cppAtomValenceException object at 0x7f78cb501510>, <rdkit.Chem.rdchem._cppAtomValenceException object at 0x7f78cb9d2040>, <rdkit.Chem.rdchem._cppAtomValenceException object at 0x7f78cb9d20b0>, <rdkit.Chem.rdchem._cppAtomValenceException object at 0x7f78cb9d2120>, <rdkit.Chem.rdchem._cppAtomValenceException object at 0x7f78cb9d2190>)\n"
     ]
    },
    {
     "ename": "KeyboardInterrupt",
     "evalue": "",
     "output_type": "error",
     "traceback": [
      "\u001b[0;31m---------------------------------------------------------------------------\u001b[0m",
      "\u001b[0;31mKeyboardInterrupt\u001b[0m                         Traceback (most recent call last)",
      "\u001b[1;32m/home/harold/epfl/chem-ml-repr/code/rdkit.ipynb Cell 4\u001b[0m in \u001b[0;36m<cell line: 6>\u001b[0;34m()\u001b[0m\n\u001b[1;32m     <a href='vscode-notebook-cell:/home/harold/epfl/chem-ml-repr/code/rdkit.ipynb#W4sZmlsZQ%3D%3D?line=12'>13</a>\u001b[0m \u001b[39m#ideally, we would like to give the correct 3D coordinates to the molecule, so we use .mol file\u001b[39;00m\n\u001b[1;32m     <a href='vscode-notebook-cell:/home/harold/epfl/chem-ml-repr/code/rdkit.ipynb#W4sZmlsZQ%3D%3D?line=13'>14</a>\u001b[0m mol_file \u001b[39m=\u001b[39m adaptor\u001b[39m.\u001b[39mwrite(\u001b[39m'\u001b[39m\u001b[39mmol\u001b[39m\u001b[39m'\u001b[39m)\n\u001b[0;32m---> <a href='vscode-notebook-cell:/home/harold/epfl/chem-ml-repr/code/rdkit.ipynb#W4sZmlsZQ%3D%3D?line=15'>16</a>\u001b[0m new_mol \u001b[39m=\u001b[39m Chem\u001b[39m.\u001b[39;49mMolFromMolBlock(mol_file, sanitize\u001b[39m=\u001b[39;49m\u001b[39mFalse\u001b[39;49;00m)\n\u001b[1;32m     <a href='vscode-notebook-cell:/home/harold/epfl/chem-ml-repr/code/rdkit.ipynb#W4sZmlsZQ%3D%3D?line=16'>17</a>\u001b[0m problems \u001b[39m=\u001b[39m Chem\u001b[39m.\u001b[39mDetectChemistryProblems(new_mol)\n\u001b[1;32m     <a href='vscode-notebook-cell:/home/harold/epfl/chem-ml-repr/code/rdkit.ipynb#W4sZmlsZQ%3D%3D?line=17'>18</a>\u001b[0m len_problems\u001b[39m=\u001b[39m\u001b[39mlen\u001b[39m(problems)\n",
      "\u001b[0;31mKeyboardInterrupt\u001b[0m: "
     ]
    }
   ],
   "source": [
    "from utils import from_structure_to_molecule\n",
    "from pymatgen.io.babel import BabelMolAdaptor\n",
    "\n",
    "from pymatgen.core.lattice import Lattice\n",
    "\n",
    "for i in range(len(data[\"data\"])):\n",
    "    struct = Structure.from_dict(data[\"data\"][i][0])\n",
    "\n",
    "\n",
    "    #then the following conversion : pymatgen.Structure -> pymatgen.Molecule -> pybel_mol -> mol file (to retain 3D information) ->  rdkit molecule\n",
    "    mol = Molecule(species=struct.species, coords=struct.cart_coords)\n",
    "    adaptor = BabelMolAdaptor(mol).pybel_mol\n",
    "    #ideally, we would like to give the correct 3D coordinates to the molecule, so we use .mol file\n",
    "    mol_file = adaptor.write('mol')\n",
    "\n",
    "    new_mol = Chem.MolFromMolBlock(mol_file, sanitize=False)\n",
    "    problems = Chem.DetectChemistryProblems(new_mol)\n",
    "    len_problems=len(problems)\n",
    "    \n",
    "    new_mol.UpdatePropertyCache(strict=False)\n",
    "    Chem.SanitizeMol(new_mol,Chem.SanitizeFlags.SANITIZE_FINDRADICALS|Chem.SanitizeFlags.SANITIZE_KEKULIZE|Chem.SanitizeFlags.SANITIZE_SETAROMATICITY|Chem.SanitizeFlags.SANITIZE_SETCONJUGATION|Chem.SanitizeFlags.SANITIZE_SETHYBRIDIZATION|Chem.SanitizeFlags.SANITIZE_SYMMRINGS,catchErrors=True)\n",
    "    problems = Chem.DetectChemistryProblems(new_mol)\n",
    "    len_problems=len(problems)\n",
    "    if len_problems > 0:\n",
    "        print(f\"index {i}, problems {problems}\")"
   ]
  }
 ],
 "metadata": {
  "kernelspec": {
   "display_name": "Python 3.9.13 ('chem')",
   "language": "python",
   "name": "python3"
  },
  "language_info": {
   "codemirror_mode": {
    "name": "ipython",
    "version": 3
   },
   "file_extension": ".py",
   "mimetype": "text/x-python",
   "name": "python",
   "nbconvert_exporter": "python",
   "pygments_lexer": "ipython3",
   "version": "3.9.13"
  },
  "orig_nbformat": 4,
  "vscode": {
   "interpreter": {
    "hash": "7714f10ba7f32b0912814c8c283dbc5dfa6a42586c1e0dc83a479c0f665feca8"
   }
  }
 },
 "nbformat": 4,
 "nbformat_minor": 2
}
