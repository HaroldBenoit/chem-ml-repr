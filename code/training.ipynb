{
 "cells": [
  {
   "cell_type": "code",
   "execution_count": 1,
   "metadata": {},
   "outputs": [],
   "source": [
    "\n",
    "%load_ext autoreload\n",
    "%autoreload 2"
   ]
  },
  {
   "cell_type": "code",
   "execution_count": 1,
   "metadata": {},
   "outputs": [],
   "source": [
    "from pytorch_lightning.cli import LightningCLI"
   ]
  },
  {
   "cell_type": "markdown",
   "metadata": {},
   "source": [
    "## Testing SmilesDataset"
   ]
  },
  {
   "cell_type": "code",
   "execution_count": 1,
   "metadata": {},
   "outputs": [
    {
     "name": "stderr",
     "output_type": "stream",
     "text": [
      "Global seed set to 42\n",
      "Global seed set to 42\n",
      "Using bfloat16 Automatic Mixed Precision (AMP)\n",
      "GPU available: True (cuda), used: False\n",
      "TPU available: False, using: 0 TPU cores\n",
      "IPU available: False, using: 0 IPUs\n",
      "HPU available: False, using: 0 HPUs\n",
      "/home/harold/miniconda3/envs/chem/lib/python3.9/site-packages/pytorch_lightning/trainer/trainer.py:1764: PossibleUserWarning: GPU available but not used. Set `accelerator` and `devices` using `Trainer(accelerator='gpu', devices=1)`.\n",
      "  rank_zero_warn(\n"
     ]
    }
   ],
   "source": [
    "from smiles_dataset import SmilesDataset\n",
    "from smiles_lightning_data_module import SmilesDataModule\n",
    "from lightning_model import LightningClassicGNN\n",
    "import pytorch_lightning as pl\n",
    "from torch_geometric.transforms import distance\n",
    "from torch_geometric.loader import DataLoader\n",
    "import os\n",
    "import torch\n",
    "# making sure we are as determinstic as possibe\n",
    "torch.use_deterministic_algorithms(True)\n",
    "import numpy as np\n",
    "\n",
    "from torch_geometric.data import Data\n",
    "from typing import List, Callable\n",
    "from functools import partial\n",
    "from smiles_dataset import SmilesDataset\n",
    "from torch_geometric.transforms import Compose, distance\n",
    "from datasets import BaceDataset\n",
    "\n",
    "%load_ext autoreload\n",
    "%autoreload 2\n",
    "\n",
    "def filter_target(target_names:List[str], target:str)-> Callable[[Data],Data]:\n",
    "    \"\"\" Transform to be given to SmilesDataset, has the effect of filtering out all irelevant targets in the Data objects in the dataset at runtime\n",
    "    Example: for BACE, target_names=['Class', 'PIC50'], we want to train a classifier => target='Class'\n",
    "    \"\"\"\n",
    "    target_idx = target_names.index(target)\n",
    "\n",
    "    return partial(filter_target_with_idx, target_idx=target_idx)\n",
    "\n",
    "def filter_target_with_idx(graph:Data, target_idx:int) -> Data:\n",
    "    new_graph = Data(x=graph.x, edge_index=graph.edge_index, edge_attr=graph.edge_attr, pos=graph.pos ,y=graph.y[:,target_idx:target_idx+1], z=graph.z, name=graph.name, idx=graph.idx) \n",
    "\n",
    "    return new_graph\n",
    "\n",
    "\n",
    "root= \"../data/bace\"\n",
    "filename=\"bace.csv\"\n",
    "seed=42\n",
    "## pytorch lighting takes of seeding everything\n",
    "pl.seed_everything(seed=seed, workers=True)\n",
    "\n",
    "\n",
    "#! rm -rf ../data/bace/processed\n",
    "\n",
    "data,target_names = BaceDataset(root=root)\n",
    "del data\n",
    "transforms=Compose([filter_target(target_names=target_names, target='Class'), distance.Distance()])\n",
    "dataset = SmilesDataset(root=root,filename=\"bace.csv\", transform=transforms)\n",
    "\n",
    "# from torch dataset, create lightning data module to make sure training splits are always done the same ways\n",
    "data_module = SmilesDataModule(dataset=dataset, seed=seed)\n",
    "\n",
    "num_node_features = data_module.num_node_features\n",
    "num_edge_features= data_module.num_edge_features\n",
    "\n",
    "gnn_model = LightningClassicGNN(classification=True, num_classes=2, dropout_p=0.5,num_hidden_features=32,  num_node_features=num_node_features, num_edge_features=num_edge_features)\n",
    "\n",
    "num_epochs=1\n",
    "\n",
    "\n",
    "# from pytorch_ligthing import loggers\n",
    "# logger = loggers.WandbLogger()\n",
    "\n",
    "# default root dir is where the logs and weights are logged\n",
    "# useful when debugging is limit_train_batches\n",
    "# by default uses TensorBoardLogger, can be configured \n",
    "# Plugins allows us to connect to arbitrary cluster\n",
    "# can set max_epochs\n",
    "# can use precision to specify number of bit floating points to reduce memory footprint ()\n",
    "# can use accumulate_grad_batches to speed-up training too\n",
    "trainer = pl.Trainer(deterministic=True, default_root_dir=os.getcwd(), precision=\"bf16\", max_epochs=num_epochs)\n",
    "\n"
   ]
  },
  {
   "cell_type": "code",
   "execution_count": 48,
   "metadata": {},
   "outputs": [],
   "source": [
    "# tune to find the learning rate\n",
    "trainer.tune(gnn_model,datamodule=data_module)"
   ]
  },
  {
   "cell_type": "code",
   "execution_count": 11,
   "metadata": {},
   "outputs": [
    {
     "name": "stderr",
     "output_type": "stream",
     "text": [
      "\n",
      "  | Name  | Type              | Params\n",
      "--------------------------------------------\n",
      "0 | model | Sequential_01044e | 4.9 K \n",
      "--------------------------------------------\n",
      "4.9 K     Trainable params\n",
      "0         Non-trainable params\n",
      "4.9 K     Total params\n",
      "0.020     Total estimated model params size (MB)\n"
     ]
    },
    {
     "data": {
      "application/vnd.jupyter.widget-view+json": {
       "model_id": "",
       "version_major": 2,
       "version_minor": 0
      },
      "text/plain": [
       "Sanity Checking: 0it [00:00, ?it/s]"
      ]
     },
     "metadata": {},
     "output_type": "display_data"
    },
    {
     "name": "stdout",
     "output_type": "stream",
     "text": [
      "x_out torch.BFloat16Tensor\n",
      "batch torch.DoubleTensor\n",
      "x_out torch.BFloat16Tensor\n",
      "batch torch.DoubleTensor\n"
     ]
    },
    {
     "data": {
      "application/vnd.jupyter.widget-view+json": {
       "model_id": "1a9d6e2a11da4db88e192f0a28445dd2",
       "version_major": 2,
       "version_minor": 0
      },
      "text/plain": [
       "Training: 0it [00:00, ?it/s]"
      ]
     },
     "metadata": {},
     "output_type": "display_data"
    },
    {
     "data": {
      "application/vnd.jupyter.widget-view+json": {
       "model_id": "",
       "version_major": 2,
       "version_minor": 0
      },
      "text/plain": [
       "Validation: 0it [00:00, ?it/s]"
      ]
     },
     "metadata": {},
     "output_type": "display_data"
    },
    {
     "name": "stdout",
     "output_type": "stream",
     "text": [
      "x_out torch.BFloat16Tensor\n",
      "batch torch.DoubleTensor\n",
      "x_out torch.BFloat16Tensor\n",
      "batch torch.DoubleTensor\n",
      "x_out torch.BFloat16Tensor\n",
      "batch torch.DoubleTensor\n"
     ]
    },
    {
     "name": "stderr",
     "output_type": "stream",
     "text": [
      "/home/harold/miniconda3/envs/chem/lib/python3.9/site-packages/pytorch_lightning/utilities/data.py:98: UserWarning: Trying to infer the `batch_size` from an ambiguous collection. The batch size we found is 1078. To avoid any miscalculations, use `self.log(..., batch_size=batch_size)`.\n",
      "  warning_cache.warn(\n"
     ]
    },
    {
     "name": "stdout",
     "output_type": "stream",
     "text": [
      "x_out torch.BFloat16Tensor\n",
      "batch torch.DoubleTensor\n"
     ]
    },
    {
     "name": "stderr",
     "output_type": "stream",
     "text": [
      "/home/harold/miniconda3/envs/chem/lib/python3.9/site-packages/pytorch_lightning/utilities/data.py:98: UserWarning: Trying to infer the `batch_size` from an ambiguous collection. The batch size we found is 1036. To avoid any miscalculations, use `self.log(..., batch_size=batch_size)`.\n",
      "  warning_cache.warn(\n",
      "/home/harold/miniconda3/envs/chem/lib/python3.9/site-packages/pytorch_lightning/utilities/data.py:98: UserWarning: Trying to infer the `batch_size` from an ambiguous collection. The batch size we found is 811. To avoid any miscalculations, use `self.log(..., batch_size=batch_size)`.\n",
      "  warning_cache.warn(\n",
      "`Trainer.fit` stopped: `max_epochs=1` reached.\n"
     ]
    },
    {
     "name": "stdout",
     "output_type": "stream",
     "text": [
      "x_out torch.BFloat16Tensor\n",
      "batch torch.DoubleTensor\n"
     ]
    }
   ],
   "source": [
    "\n",
    "# we can resume from a checkpoint using trainer.fit(ckpth_path=\"some/path/to/my_checkpoint.ckpt\")\n",
    "trainer.fit(gnn_model, datamodule=data_module)"
   ]
  },
  {
   "cell_type": "code",
   "execution_count": 12,
   "metadata": {},
   "outputs": [
    {
     "data": {
      "application/vnd.jupyter.widget-view+json": {
       "model_id": "4920fc66099c4bf580663aac646df0ff",
       "version_major": 2,
       "version_minor": 0
      },
      "text/plain": [
       "Validation: 0it [00:00, ?it/s]"
      ]
     },
     "metadata": {},
     "output_type": "display_data"
    },
    {
     "name": "stdout",
     "output_type": "stream",
     "text": [
      "batch_size 32\n",
      "batch_size 32\n",
      "batch_size 32\n",
      "batch_size 32\n",
      "batch_size 23\n",
      "────────────────────────────────────────────────────────────────────────────────────────────────────────────────────────\n",
      "     Validate metric           DataLoader 0\n",
      "────────────────────────────────────────────────────────────────────────────────────────────────────────────────────────\n",
      "     accuracy/valid         15.602648735046387\n",
      "       loss/valid              96459.4453125\n",
      "────────────────────────────────────────────────────────────────────────────────────────────────────────────────────────\n"
     ]
    },
    {
     "data": {
      "text/plain": [
       "[{'loss/valid': 96459.4453125, 'accuracy/valid': 15.602648735046387}]"
      ]
     },
     "execution_count": 12,
     "metadata": {},
     "output_type": "execute_result"
    }
   ],
   "source": [
    "trainer.validate(gnn_model, datamodule=data_module)"
   ]
  }
 ],
 "metadata": {
  "kernelspec": {
   "display_name": "Python 3 (ipykernel)",
   "language": "python",
   "name": "python3"
  },
  "language_info": {
   "codemirror_mode": {
    "name": "ipython",
    "version": 3
   },
   "file_extension": ".py",
   "mimetype": "text/x-python",
   "name": "python",
   "nbconvert_exporter": "python",
   "pygments_lexer": "ipython3",
   "version": "3.9.13"
  },
  "vscode": {
   "interpreter": {
    "hash": "7714f10ba7f32b0912814c8c283dbc5dfa6a42586c1e0dc83a479c0f665feca8"
   }
  }
 },
 "nbformat": 4,
 "nbformat_minor": 4
}
