{
 "cells": [
  {
   "cell_type": "code",
   "execution_count": 2,
   "metadata": {},
   "outputs": [
    {
     "data": {
      "text/plain": [
       "312.0805106354346"
      ]
     },
     "execution_count": 2,
     "metadata": {},
     "output_type": "execute_result"
    }
   ],
   "source": [
    "from rdkit.Chem import Descriptors\n",
    "from rdkit import Chem\n",
    "from rdkit.Chem import AllChem\n",
    "from rdkit.Chem import rdDistGeom\n",
    "from typing import List, Tuple\n",
    "import numpy as np\n",
    "import rdkit\n",
    "import pandas as pd\n",
    "from pymatgen.core import Structure, Lattice, Molecule\n",
    "\n",
    "%load_ext autoreload\n",
    "%autoreload 2\n",
    "\n",
    "smiles = 'CC(C)C'\n",
    "\n",
    "m = Chem.MolFromSmiles(smiles)\n",
    "# necessary to add hydrogen for consistent conformer generation\n",
    "m = Chem.AddHs(m)\n",
    "\n",
    "\n",
    "Descriptors.Ipc(m)\n",
    "\n"
   ]
  },
  {
   "cell_type": "code",
   "execution_count": 28,
   "metadata": {},
   "outputs": [],
   "source": [
    "import json\n",
    "import gzip\n",
    "\n",
    "from utils import download_url\n",
    "\n",
    "#raw_url= \"https://ml.materialsproject.org/projects/matbench_mp_is_metal.json.gz\"\n",
    "#raw_dir= \"../data/matbench/mp_is_metal\"\n",
    "#download_url(raw_url, raw_dir)\n",
    "\n",
    "\n",
    "json_filename = \"../data/matbench/mp_is_metal/matbench_mp_is_metal.json.gz\"\n",
    "\n",
    "\n",
    "with gzip.open(json_filename, 'r') as fin:        # 4. gzip\n",
    "    json_bytes = fin.read()                      # 3. bytes (i.e. UTF-8)\n",
    "\n",
    "json_str = json_bytes.decode('utf-8')            # 2. string (i.e. JSON)\n",
    "data = json.loads(json_str) \n",
    "\n",
    "\n",
    "from pymatgen.core.structure import Structure, Molecule\n",
    "\n",
    "df = pd.DataFrame({\"struct\":[data_list[0] for data_list in data[\"data\"]], \"target\":[data_list[1] for data_list in data[\"data\"]]})\n",
    "\n",
    "df.set_index(\"struct\")\n",
    "\n",
    "struct= Structure.from_dict(data[\"data\"][0][0])"
   ]
  },
  {
   "cell_type": "code",
   "execution_count": 43,
   "metadata": {},
   "outputs": [
    {
     "data": {
      "text/plain": [
       "True"
      ]
     },
     "execution_count": 43,
     "metadata": {},
     "output_type": "execute_result"
    }
   ],
   "source": [
    "\"json.gz\" in json_filename"
   ]
  },
  {
   "cell_type": "code",
   "execution_count": 3,
   "metadata": {},
   "outputs": [],
   "source": [
    "from pymatgen.core.lattice import Lattice\n",
    "\n",
    "structure = Structure(\n",
    "    Lattice.cubic(4.2),\n",
    "    [\"Na\", \"K\", \"K\"],\n",
    "    [[0, 0, 0], [0.5, 0.5, 0.5], [0,0,0.5]],\n",
    "    site_properties={\"magmom\": [-2, 2,2]},\n",
    ")"
   ]
  },
  {
   "cell_type": "code",
   "execution_count": 23,
   "metadata": {},
   "outputs": [
    {
     "data": {
      "text/plain": [
       "'K2 Na1'"
      ]
     },
     "execution_count": 23,
     "metadata": {},
     "output_type": "execute_result"
    }
   ],
   "source": [
    "structure.formula"
   ]
  },
  {
   "cell_type": "code",
   "execution_count": 3,
   "metadata": {},
   "outputs": [
    {
     "data": {
      "text/plain": [
       "Structure Summary\n",
       "Lattice\n",
       "    abc : 4.2 4.2 4.2\n",
       " angles : 90.0 90.0 90.0\n",
       " volume : 74.08800000000001\n",
       "      A : 4.2 0.0 0.0\n",
       "      B : 0.0 4.2 0.0\n",
       "      C : 0.0 0.0 4.2\n",
       "    pbc : True True True\n",
       "PeriodicSite: Na (0.0000, 0.0000, 0.0000) [0.0000, 0.0000, 0.0000]\n",
       "PeriodicSite: K (2.1000, 2.1000, 2.1000) [0.5000, 0.5000, 0.5000]\n",
       "PeriodicSite: K (0.0000, 0.0000, 2.1000) [0.0000, 0.0000, 0.5000]"
      ]
     },
     "execution_count": 3,
     "metadata": {},
     "output_type": "execute_result"
    }
   ],
   "source": [
    "from torch_geometric.data import Data\n",
    "\n",
    "\n",
    "d = Data(x=[1,1], struct= structure)\n",
    "\n",
    "d.struct"
   ]
  },
  {
   "cell_type": "code",
   "execution_count": 24,
   "metadata": {},
   "outputs": [
    {
     "data": {
      "text/plain": [
       "array([[0.        , 3.6373067 , 2.1       ],\n",
       "       [3.6373067 , 0.        , 2.96984848],\n",
       "       [2.1       , 2.96984848, 0.        ]])"
      ]
     },
     "execution_count": 24,
     "metadata": {},
     "output_type": "execute_result"
    }
   ],
   "source": [
    "structure.distance_matrix"
   ]
  },
  {
   "cell_type": "code",
   "execution_count": 26,
   "metadata": {},
   "outputs": [],
   "source": [
    "a = np.array([0,0,1,1,2,2])\n",
    "b = np.array([1,2,0,2,0,1])\n",
    "\n",
    "structure.distance_matrix[a,b]"
   ]
  },
  {
   "cell_type": "code",
   "execution_count": 12,
   "metadata": {},
   "outputs": [],
   "source": [
    "from utils import  Distance, from_structure_to_molecule, from_molecule_to_graph\n",
    "import torch\n",
    "\n",
    "atom_number_to_radius = torch.load(\"../important_data/atom_number_to_radius.pt\")\n",
    "    \n",
    "distance = Distance(atom_number_to_radius=atom_number_to_radius)\n",
    "\n",
    "from datasets_classes import BaceDataset\n",
    "\n",
    "dataset = BaceDataset(root=\"../data/bace/\")\n",
    "graph = dataset[0]\n",
    "\n",
    "\n",
    "#mol = from_structure_to_molecule(struct=structure,add_hydrogen=False)\n",
    "#graph = from_molecule_to_graph(mol=mol, y=None, )\n",
    "\n",
    "## given the pos, we need to see what dist is computed, maybe just give struct.frac_coords, need to check the format with real smiles molecule\n",
    "\n",
    "(row, col), pos, pseudo = graph.edge_index, graph.pos, graph.edge_attr\n",
    "dist = torch.norm(pos[col] - pos[row], p=2, dim=-1).view(-1, 1)"
   ]
  }
 ],
 "metadata": {
  "kernelspec": {
   "display_name": "Python 3.9.13 ('chem')",
   "language": "python",
   "name": "python3"
  },
  "language_info": {
   "codemirror_mode": {
    "name": "ipython",
    "version": 3
   },
   "file_extension": ".py",
   "mimetype": "text/x-python",
   "name": "python",
   "nbconvert_exporter": "python",
   "pygments_lexer": "ipython3",
   "version": "3.9.13"
  },
  "orig_nbformat": 4,
  "vscode": {
   "interpreter": {
    "hash": "7714f10ba7f32b0912814c8c283dbc5dfa6a42586c1e0dc83a479c0f665feca8"
   }
  }
 },
 "nbformat": 4,
 "nbformat_minor": 2
}
