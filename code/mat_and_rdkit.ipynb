{
 "cells": [
  {
   "cell_type": "code",
   "execution_count": 2,
   "metadata": {},
   "outputs": [
    {
     "data": {
      "text/plain": [
       "312.0805106354346"
      ]
     },
     "execution_count": 2,
     "metadata": {},
     "output_type": "execute_result"
    }
   ],
   "source": [
    "from rdkit.Chem import Descriptors\n",
    "from rdkit import Chem\n",
    "from rdkit.Chem import AllChem\n",
    "from rdkit.Chem import rdDistGeom\n",
    "from typing import List, Tuple\n",
    "import numpy as np\n",
    "import rdkit\n",
    "import pandas as pd\n",
    "from pymatgen.core import Structure, Lattice, Molecule\n",
    "\n",
    "%load_ext autoreload\n",
    "%autoreload 2\n",
    "\n",
    "smiles = 'CC(C)C'\n",
    "\n",
    "m = Chem.MolFromSmiles(smiles)\n",
    "# necessary to add hydrogen for consistent conformer generation\n",
    "m = Chem.AddHs(m)\n",
    "\n",
    "\n",
    "Descriptors.Ipc(m)\n",
    "\n"
   ]
  },
  {
   "cell_type": "code",
   "execution_count": 28,
   "metadata": {},
   "outputs": [],
   "source": [
    "import json\n",
    "import gzip\n",
    "from pymatgen.core.structure import Structure, Molecule\n",
    "\n",
    "from utils import download_url\n",
    "\n",
    "#raw_url= \"https://ml.materialsproject.org/projects/matbench_mp_is_metal.json.gz\"\n",
    "#raw_dir= \"../data/matbench/mp_is_metal\"\n",
    "#download_url(raw_url, raw_dir)\n",
    "\n",
    "\n",
    "json_filename = \"../data/matbench/mp_is_metal/matbench_mp_is_metal.json.gz\"\n",
    "\n",
    "\n",
    "with gzip.open(json_filename, 'r') as fin:        # 4. gzip\n",
    "    json_bytes = fin.read()                      # 3. bytes (i.e. UTF-8)\n",
    "\n",
    "json_str = json_bytes.decode('utf-8')            # 2. string (i.e. JSON)\n",
    "data = json.loads(json_str) \n",
    "\n",
    "\n",
    "\n",
    "df = pd.DataFrame({\"struct\":[data_list[0] for data_list in data[\"data\"]], \"target\":[data_list[1] for data_list in data[\"data\"]]})\n",
    "\n",
    "df.set_index(\"struct\")\n",
    "\n",
    "struct= Structure.from_dict(data[\"data\"][0][0])"
   ]
  },
  {
   "cell_type": "code",
   "execution_count": 45,
   "metadata": {},
   "outputs": [],
   "source": [
    "df.to_csv(\"test.csv\")"
   ]
  },
  {
   "cell_type": "code",
   "execution_count": 47,
   "metadata": {},
   "outputs": [
    {
     "data": {
      "text/plain": [
       "0         {'@module': 'pymatgen.core.structure', '@class...\n",
       "1         {'@module': 'pymatgen.core.structure', '@class...\n",
       "2         {'@module': 'pymatgen.core.structure', '@class...\n",
       "3         {'@module': 'pymatgen.core.structure', '@class...\n",
       "4         {'@module': 'pymatgen.core.structure', '@class...\n",
       "                                ...                        \n",
       "106108    {'@module': 'pymatgen.core.structure', '@class...\n",
       "106109    {'@module': 'pymatgen.core.structure', '@class...\n",
       "106110    {'@module': 'pymatgen.core.structure', '@class...\n",
       "106111    {'@module': 'pymatgen.core.structure', '@class...\n",
       "106112    {'@module': 'pymatgen.core.structure', '@class...\n",
       "Name: struct, Length: 106113, dtype: object"
      ]
     },
     "execution_count": 47,
     "metadata": {},
     "output_type": "execute_result"
    }
   ],
   "source": [
    "pd.read_csv(\"test.csv\")[\"struct\"]"
   ]
  },
  {
   "cell_type": "code",
   "execution_count": 43,
   "metadata": {},
   "outputs": [
    {
     "data": {
      "text/plain": [
       "True"
      ]
     },
     "execution_count": 43,
     "metadata": {},
     "output_type": "execute_result"
    }
   ],
   "source": [
    "\"json.gz\" in json_filename"
   ]
  },
  {
   "cell_type": "code",
   "execution_count": 3,
   "metadata": {},
   "outputs": [],
   "source": [
    "from pymatgen.core.lattice import Lattice\n",
    "\n",
    "structure = Structure(\n",
    "    Lattice.cubic(4.2),\n",
    "    [\"Na\", \"K\", \"K\"],\n",
    "    [[0, 0, 0], [0.5, 0.5, 0.5], [0,0,0.5]],\n",
    "    site_properties={\"magmom\": [-2, 2,2]},\n",
    ")"
   ]
  },
  {
   "cell_type": "code",
   "execution_count": 4,
   "metadata": {},
   "outputs": [
    {
     "data": {
      "text/plain": [
       "'K2 Na1'"
      ]
     },
     "execution_count": 4,
     "metadata": {},
     "output_type": "execute_result"
    }
   ],
   "source": [
    "structure.formula"
   ]
  },
  {
   "cell_type": "code",
   "execution_count": 6,
   "metadata": {},
   "outputs": [],
   "source": [
    "from utils import from_structure_to_molecule\n",
    "\n",
    "\n",
    "mol = from_structure_to_molecule(struct=structure, add_hydrogen=False)\n",
    "\n",
    "\n",
    "\n",
    "\n"
   ]
  },
  {
   "cell_type": "code",
   "execution_count": 26,
   "metadata": {},
   "outputs": [],
   "source": [
    "a = np.array([0,0,1,1,2,2])\n",
    "b = np.array([1,2,0,2,0,1])\n",
    "\n",
    "structure.distance_matrix[a,b]"
   ]
  },
  {
   "cell_type": "code",
   "execution_count": 12,
   "metadata": {},
   "outputs": [],
   "source": [
    "from utils import  Distance, from_structure_to_molecule, from_molecule_to_graph\n",
    "import torch\n",
    "\n",
    "atom_number_to_radius = torch.load(\"../important_data/atom_number_to_radius.pt\")\n",
    "    \n",
    "distance = Distance(atom_number_to_radius=atom_number_to_radius)\n",
    "\n",
    "from datasets_classes import BaceDataset\n",
    "\n",
    "dataset = BaceDataset(root=\"../data/bace/\")\n",
    "graph = dataset[0]\n",
    "\n",
    "\n",
    "#mol = from_structure_to_molecule(struct=structure,add_hydrogen=False)\n",
    "#graph = from_molecule_to_graph(mol=mol, y=None, )\n",
    "\n",
    "## given the pos, we need to see what dist is computed, maybe just give struct.frac_coords, need to check the format with real smiles molecule\n",
    "\n",
    "(row, col), pos, pseudo = graph.edge_index, graph.pos, graph.edge_attr\n",
    "dist = torch.norm(pos[col] - pos[row], p=2, dim=-1).view(-1, 1)"
   ]
  },
  {
   "cell_type": "code",
   "execution_count": 17,
   "metadata": {},
   "outputs": [],
   "source": [
    "from datasets_classes import MatBenchMpIsMetal\n",
    "\n",
    "dataset = MatBenchMpIsMetal(root=\"../data/matbench/mp_is_metal/\")"
   ]
  },
  {
   "cell_type": "code",
   "execution_count": 20,
   "metadata": {},
   "outputs": [
    {
     "data": {
      "text/plain": [
       "tensor([[1., 0., 0., 0., 0.],\n",
       "        [1., 0., 0., 0., 0.],\n",
       "        [1., 0., 0., 0., 0.],\n",
       "        ...,\n",
       "        [1., 0., 0., 0., 0.],\n",
       "        [1., 0., 0., 0., 0.],\n",
       "        [1., 0., 0., 0., 0.]])"
      ]
     },
     "execution_count": 20,
     "metadata": {},
     "output_type": "execute_result"
    }
   ],
   "source": [
    "dataset[100].edge_attr"
   ]
  },
  {
   "cell_type": "code",
   "execution_count": 13,
   "metadata": {},
   "outputs": [
    {
     "data": {
      "text/plain": [
       "{'old_data_len': 106113,\n",
       " 'step': 2122,\n",
       " 0: {'begin': 0, 'end': 2010},\n",
       " 1: {'begin': 2010, 'end': 4041},\n",
       " 2: {'begin': 4041, 'end': 6074},\n",
       " 3: {'begin': 6074, 'end': 8105},\n",
       " 4: {'begin': 8105, 'end': 10159},\n",
       " 5: {'begin': 10159, 'end': 12200},\n",
       " 6: {'begin': 12200, 'end': 14240},\n",
       " 7: {'begin': 14240, 'end': 16312},\n",
       " 8: {'begin': 16312, 'end': 18363},\n",
       " 9: {'begin': 18363, 'end': 20429},\n",
       " 10: {'begin': 20429, 'end': 22470},\n",
       " 11: {'begin': 22470, 'end': 24517},\n",
       " 12: {'begin': 24517, 'end': 26548},\n",
       " 13: {'begin': 26548, 'end': 28580},\n",
       " 14: {'begin': 28580, 'end': 30637},\n",
       " 15: {'begin': 30637, 'end': 32708},\n",
       " 16: {'begin': 32708, 'end': 34776},\n",
       " 17: {'begin': 34776, 'end': 36829},\n",
       " 18: {'begin': 36829, 'end': 38871},\n",
       " 19: {'begin': 38871, 'end': 40901},\n",
       " 20: {'begin': 40901, 'end': 42938},\n",
       " 21: {'begin': 42938, 'end': 44989},\n",
       " 22: {'begin': 44989, 'end': 47034},\n",
       " 23: {'begin': 47034, 'end': 49054},\n",
       " 24: {'begin': 49054, 'end': 51099},\n",
       " 25: {'begin': 51099, 'end': 53161},\n",
       " 26: {'begin': 53161, 'end': 55198},\n",
       " 27: {'begin': 55198, 'end': 57215},\n",
       " 28: {'begin': 57215, 'end': 59225},\n",
       " 29: {'begin': 59225, 'end': 61234},\n",
       " 30: {'begin': 61234, 'end': 63239},\n",
       " 31: {'begin': 63239, 'end': 65243},\n",
       " 32: {'begin': 65243, 'end': 67283},\n",
       " 33: {'begin': 67283, 'end': 69288},\n",
       " 34: {'begin': 69288, 'end': 71273},\n",
       " 35: {'begin': 71273, 'end': 73243},\n",
       " 36: {'begin': 73243, 'end': 75232},\n",
       " 37: {'begin': 75232, 'end': 77204},\n",
       " 38: {'begin': 77204, 'end': 79261},\n",
       " 39: {'begin': 79261, 'end': 81291},\n",
       " 40: {'begin': 81291, 'end': 83323},\n",
       " 41: {'begin': 83323, 'end': 85347},\n",
       " 42: {'begin': 85347, 'end': 87363},\n",
       " 43: {'begin': 87363, 'end': 89377},\n",
       " 44: {'begin': 89377, 'end': 91406},\n",
       " 45: {'begin': 91406, 'end': 93433},\n",
       " 46: {'begin': 93433, 'end': 95452},\n",
       " 47: {'begin': 95452, 'end': 97475},\n",
       " 48: {'begin': 97475, 'end': 99480},\n",
       " 49: {'begin': 99480, 'end': 101487},\n",
       " 'total_num_skipped': 4626}"
      ]
     },
     "execution_count": 13,
     "metadata": {},
     "output_type": "execute_result"
    }
   ],
   "source": [
    "dataset.aux_data()"
   ]
  }
 ],
 "metadata": {
  "kernelspec": {
   "display_name": "Python 3.9.13 ('chem')",
   "language": "python",
   "name": "python3"
  },
  "language_info": {
   "codemirror_mode": {
    "name": "ipython",
    "version": 3
   },
   "file_extension": ".py",
   "mimetype": "text/x-python",
   "name": "python",
   "nbconvert_exporter": "python",
   "pygments_lexer": "ipython3",
   "version": "3.9.13"
  },
  "orig_nbformat": 4,
  "vscode": {
   "interpreter": {
    "hash": "7714f10ba7f32b0912814c8c283dbc5dfa6a42586c1e0dc83a479c0f665feca8"
   }
  }
 },
 "nbformat": 4,
 "nbformat_minor": 2
}
