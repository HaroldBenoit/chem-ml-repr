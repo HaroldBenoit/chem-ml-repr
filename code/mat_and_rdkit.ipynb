{
 "cells": [
  {
   "cell_type": "code",
   "execution_count": 1,
   "metadata": {},
   "outputs": [],
   "source": [
    "from rdkit import Chem\n",
    "from rdkit.Chem import AllChem\n",
    "from rdkit.Chem import rdDistGeom\n",
    "from typing import List, Tuple\n",
    "import numpy as np\n",
    "import rdkit\n",
    "import pandas as pd\n",
    "from pymatgen.core import Structure, Lattice, Molecule, Element, Species\n",
    "\n",
    "%load_ext autoreload\n",
    "%autoreload 2\n",
    "\n",
    "smiles = 'CC(C)C'\n",
    "\n",
    "m = Chem.MolFromSmiles(smiles)\n",
    "# necessary to add hydrogen for consistent conformer generation\n",
    "m = Chem.AddHs(m)\n",
    "\n",
    "\n",
    "\n"
   ]
  },
  {
   "cell_type": "code",
   "execution_count": 1,
   "metadata": {},
   "outputs": [
    {
     "name": "stderr",
     "output_type": "stream",
     "text": [
      "Using existing file matbench_mp_e_form.json.gz\n"
     ]
    }
   ],
   "source": [
    "import json\n",
    "import gzip\n",
    "from pymatgen.core.structure import Structure, Molecule\n",
    "\n",
    "from utils import download_url\n",
    "\n",
    "raw_url= \"https://ml.materialsproject.org/projects/matbench_mp_e_form.json.gz\"\n",
    "raw_dir= \"../old_data/matbench/mp_e_form\"\n",
    "download_url(raw_url, raw_dir)\n",
    "\n",
    "\n",
    "json_filename = \"../old_data/matbench/mp_e_form/matbench_mp_e_form.json.gz\"\n",
    "\n",
    "\n",
    "with gzip.open(json_filename, 'r') as fin:        # 4. gzip\n",
    "    json_bytes = fin.read()                      # 3. bytes (i.e. UTF-8)\n",
    "\n",
    "json_str = json_bytes.decode('utf-8')            # 2. string (i.e. JSON)\n",
    "data = json.loads(json_str) \n",
    "\n",
    "\n",
    "\n",
    "#df = pd.DataFrame({\"struct\":[data_list[0] for data_list in data[\"data\"]], \"target\":[data_list[1] for data_list in data[\"data\"]]})\n",
    "#\n",
    "#df.set_index(\"struct\")\n",
    "\n",
    "struct= Structure.from_dict(data[\"data\"][0][0])"
   ]
  },
  {
   "cell_type": "code",
   "execution_count": 4,
   "metadata": {},
   "outputs": [
    {
     "data": {
      "text/plain": [
       "['structure', 'e_form']"
      ]
     },
     "execution_count": 4,
     "metadata": {},
     "output_type": "execute_result"
    }
   ],
   "source": [
    "data['columns']"
   ]
  },
  {
   "cell_type": "code",
   "execution_count": 15,
   "metadata": {},
   "outputs": [
    {
     "data": {
      "text/plain": [
       "[PeriodicSite: Na (0.0000, 0.0000, 0.0000) [0.0000, 0.0000, 0.0000],\n",
       " PeriodicSite: K (2.1000, 2.1000, 2.1000) [0.5000, 0.5000, 0.5000],\n",
       " PeriodicSite: K (0.0000, 0.0000, 2.1000) [0.0000, 0.0000, 0.5000]]"
      ]
     },
     "execution_count": 15,
     "metadata": {},
     "output_type": "execute_result"
    }
   ],
   "source": [
    "struct.sites"
   ]
  },
  {
   "cell_type": "markdown",
   "metadata": {},
   "source": [
    "## Figuring out whether bond information is available, if no, how we will compute it"
   ]
  },
  {
   "cell_type": "code",
   "execution_count": 3,
   "metadata": {},
   "outputs": [
    {
     "name": "stdout",
     "output_type": "stream",
     "text": [
      "[PeriodicSite: C (0.0000, 0.0000, 0.0000) [0.0000, 0.0000, 0.0000], PeriodicSite: C (2.1000, 2.1000, 2.1000) [0.5000, 0.5000, 0.5000], PeriodicSite: C (0.0000, 0.0000, 2.1000) [0.0000, 0.0000, 0.5000]]\n",
      "is_bond True\n",
      "No data\n",
      "is_bond True\n",
      "No data\n",
      "is_bond True\n",
      "No data\n"
     ]
    }
   ],
   "source": [
    "from pymatgen.io.babel import BabelMolAdaptor\n",
    "from pymatgen.core.bonds import CovalentBond\n",
    "\n",
    "from pymatgen.core.lattice import Lattice\n",
    "\n",
    "struct = Structure(\n",
    "    Lattice.cubic(4.2),\n",
    "    [\"C\", \"C\", \"C\"],\n",
    "    [[0, 0, 0], [0.5, 0.5, 0.5], [0,0,0.5]],\n",
    "    site_properties={\"magmom\": [-2, 2,2]},\n",
    ")\n",
    "\n",
    "#struct= Structure.from_dict(data[\"data\"][0][0])\n",
    "\n",
    "print(struct.sites)\n",
    "\n",
    "for species1 in struct.sites:\n",
    "    # bond = CovalentBond(site1=species1, site2=species2)\n",
    "    try:\n",
    "        print(\"is_bond\",CovalentBond.is_bonded(site1=species1, site2=species1))\n",
    "        print(\"bond_order\",CovalentBond.get_bond_order(site1=species1, site2=species1))\n",
    "        print(\"bond length\", CovalentBond.get_bond_length(sp1= species1, sp2=species1))\n",
    "    except:\n",
    "        print(\"No data\")\n",
    "        "
   ]
  },
  {
   "cell_type": "code",
   "execution_count": 34,
   "metadata": {},
   "outputs": [
    {
     "data": {
      "text/plain": [
       "PeriodicSite: K (-2.8598, 0.0025, -2.0168) [0.4965, 0.4985, 0.4933]"
      ]
     },
     "execution_count": 34,
     "metadata": {},
     "output_type": "execute_result"
    },
    {
     "ename": "",
     "evalue": "",
     "output_type": "error",
     "traceback": [
      "\u001b[1;31mThe Kernel crashed while executing code in the the current cell or a previous cell. Please review the code in the cell(s) to identify a possible cause of the failure. Click <a href='https://aka.ms/vscodeJupyterKernelCrash'>here</a> for more info. View Jupyter <a href='command:jupyter.viewOutput'>log</a> for further details."
     ]
    }
   ],
   "source": [
    "struct.sites[2]"
   ]
  },
  {
   "cell_type": "markdown",
   "metadata": {},
   "source": [
    "## Using Element featurization "
   ]
  },
  {
   "cell_type": "code",
   "execution_count": 63,
   "metadata": {},
   "outputs": [
    {
     "name": "stdout",
     "output_type": "stream",
     "text": [
      "[8, 6, 6, 6, 7, 6, 8, 6, 6, 6, 6, 6, 6, 6, 6, 6, 6, 7, 6, 7, 6, 6, 6, 6, 6, 6, 6, 6, 6, 6, 6, 6]\n"
     ]
    }
   ],
   "source": [
    "from utils import from_smiles_to_molecule_and_coordinates\n",
    "\n",
    "smiles = 'O1CC[C@@H](NC(=O)[C@@H](Cc2cc3cc(ccc3nc2N)-c2ccccc2C)C)CC1(C)C'\n",
    "\n",
    "m,pos = from_smiles_to_molecule_and_coordinates(smile=smiles, add_hydrogen=False, seed=12)\n",
    "\n",
    "from pymatgen.io.babel import BabelMolAdaptor\n",
    "\n",
    "mol_file = Chem.MolToMolBlock(m)\n",
    "\n",
    "pymatgen_mol = BabelMolAdaptor.from_string(string_data=mol_file, file_format=\"mol\").pymatgen_mol\n",
    "\n",
    "print([atom.GetAtomicNum() for atom in m.GetAtoms()])\n",
    "\n",
    "## need to check atom ordering\n",
    "elem = pymatgen_mol.species[0]\n",
    "elem1 = pymatgen_mol.species[1]\n",
    "\n",
    "#print(pymatgen_mol.species[1].__dict__)"
   ]
  },
  {
   "cell_type": "markdown",
   "metadata": {},
   "source": [
    "# Testing exsitence of node features for all elements"
   ]
  },
  {
   "cell_type": "code",
   "execution_count": 16,
   "metadata": {},
   "outputs": [
    {
     "name": "stdout",
     "output_type": "stream",
     "text": [
      "1\n",
      "0\n",
      "1\n",
      "2\n",
      "3\n",
      "4\n",
      "5\n",
      "2\n",
      "-1\n",
      "0\n",
      "1\n",
      "2\n",
      "3\n",
      "4\n",
      "5\n",
      "6\n",
      "7\n",
      "0\n",
      "1\n",
      "2\n",
      "3\n",
      "4\n",
      "5\n",
      "6\n",
      "7\n",
      "6\n",
      "5\n",
      "4\n",
      "4\n",
      "2\n",
      "3\n",
      "4\n",
      "5\n",
      "6\n",
      "7\n",
      "0\n",
      "1\n",
      "2\n",
      "3\n",
      "4\n",
      "5\n",
      "6\n",
      "7\n",
      "8\n",
      "6\n",
      "4\n",
      "3\n",
      "2\n",
      "3\n",
      "4\n",
      "5\n",
      "6\n",
      "7\n",
      "0\n",
      "1\n",
      "2\n",
      "3\n",
      "4\n",
      "4\n",
      "3\n",
      "3\n",
      "3\n",
      "3\n",
      "3\n",
      "4\n",
      "3\n",
      "3\n",
      "3\n",
      "3\n",
      "3\n",
      "3\n",
      "4\n",
      "5\n",
      "6\n",
      "7\n",
      "8\n",
      "6\n",
      "6\n",
      "5\n",
      "4\n",
      "3\n",
      "4\n",
      "5\n",
      "6\n",
      "5\n",
      "0\n",
      "1\n",
      "2\n",
      "3\n",
      "4\n",
      "5\n",
      "6\n",
      "7\n",
      "7\n",
      "6\n",
      "4\n",
      "4\n",
      "4\n",
      "3\n",
      "3\n",
      "3\n",
      "3\n",
      "3\n",
      "0\n",
      "0\n",
      "0\n",
      "0\n",
      "0\n",
      "0\n",
      "0\n",
      "0\n",
      "0\n",
      "0\n",
      "0\n",
      "0\n",
      "0\n",
      "0\n"
     ]
    },
    {
     "name": "stderr",
     "output_type": "stream",
     "text": [
      "<>:14: SyntaxWarning: \"is\" with a literal. Did you mean \"==\"?\n",
      "<>:14: SyntaxWarning: \"is\" with a literal. Did you mean \"==\"?\n",
      "/tmp/ipykernel_8184/2323022572.py:14: SyntaxWarning: \"is\" with a literal. Did you mean \"==\"?\n",
      "  if feature is \"max_oxidation_state\":\n"
     ]
    }
   ],
   "source": [
    "from collections import defaultdict\n",
    "features = [\"atomic_radius\",\"atomic_mass\",\"average_ionic_radius\", \"average_cationic_radius\", \"average_anionic_radius\", \"max_oxidation_state\",\n",
    "            \"min_oxidation_state\", \"row\",\"group\", \"is_noble_gas\", \"is_post_transition_metal\", \"is_rare_earth_metal\", \"is_metal\", \"is_metalloid\",\n",
    "            \"is_alkali\", \"is_alkaline\", \"is_halogen\",\"is_chalcogen\", \"is_lanthanoid\",\"is_actinoid\", \"is_quadrupolar\"] \n",
    "\n",
    "feature_none_count = defaultdict(list)\n",
    "\n",
    "for i in range(1,118):\n",
    "    elem = Element.from_Z(i)\n",
    "    for feature in features:\n",
    "        try:\n",
    "            attr = getattr(elem, feature)\n",
    "            \n",
    "            if feature is \"max_oxidation_state\":\n",
    "                print(attr)\n",
    "            \n",
    "            if attr is None:\n",
    "                feature_none_count[feature].append(i)\n",
    "                \n",
    "        except:\n",
    "            raise ValueError(f\"{feature}\")\n",
    "        \n",
    "        "
   ]
  },
  {
   "cell_type": "code",
   "execution_count": 10,
   "metadata": {},
   "outputs": [
    {
     "data": {
      "text/plain": [
       "[2,\n",
       " 10,\n",
       " 36,\n",
       " 54,\n",
       " 85,\n",
       " 86,\n",
       " 87,\n",
       " 96,\n",
       " 97,\n",
       " 98,\n",
       " 99,\n",
       " 100,\n",
       " 101,\n",
       " 102,\n",
       " 103,\n",
       " 104,\n",
       " 105,\n",
       " 106,\n",
       " 107,\n",
       " 108,\n",
       " 109,\n",
       " 110,\n",
       " 111,\n",
       " 112,\n",
       " 113,\n",
       " 114,\n",
       " 115,\n",
       " 116,\n",
       " 117]"
      ]
     },
     "execution_count": 10,
     "metadata": {},
     "output_type": "execute_result"
    }
   ],
   "source": [
    "feature_none_count['atomic_radius']"
   ]
  },
  {
   "cell_type": "code",
   "execution_count": 5,
   "metadata": {},
   "outputs": [
    {
     "name": "stdout",
     "output_type": "stream",
     "text": [
      "0.25 ang\n",
      "None\n",
      "1.45 ang\n",
      "1.05 ang\n",
      "0.85 ang\n",
      "0.7 ang\n",
      "0.65 ang\n",
      "0.6 ang\n",
      "0.5 ang\n",
      "None\n",
      "1.8 ang\n",
      "1.5 ang\n",
      "1.25 ang\n",
      "1.1 ang\n",
      "1.0 ang\n",
      "1.0 ang\n",
      "1.0 ang\n",
      "0.71 ang\n",
      "2.2 ang\n",
      "1.8 ang\n",
      "1.6 ang\n",
      "1.4 ang\n",
      "1.35 ang\n",
      "1.4 ang\n",
      "1.4 ang\n",
      "1.4 ang\n",
      "1.35 ang\n",
      "1.35 ang\n",
      "1.35 ang\n",
      "1.35 ang\n",
      "1.3 ang\n",
      "1.25 ang\n",
      "1.15 ang\n",
      "1.15 ang\n",
      "1.15 ang\n",
      "None\n",
      "2.35 ang\n",
      "2.0 ang\n",
      "1.8 ang\n",
      "1.55 ang\n",
      "1.45 ang\n",
      "1.45 ang\n",
      "1.35 ang\n",
      "1.3 ang\n",
      "1.35 ang\n",
      "1.4 ang\n",
      "1.6 ang\n",
      "1.55 ang\n",
      "1.55 ang\n",
      "1.45 ang\n",
      "1.45 ang\n",
      "1.4 ang\n",
      "1.4 ang\n",
      "None\n",
      "2.6 ang\n",
      "2.15 ang\n",
      "1.95 ang\n",
      "1.85 ang\n",
      "1.85 ang\n",
      "1.85 ang\n",
      "1.85 ang\n",
      "1.85 ang\n",
      "1.85 ang\n",
      "1.8 ang\n",
      "1.75 ang\n",
      "1.75 ang\n",
      "1.75 ang\n",
      "1.75 ang\n",
      "1.75 ang\n",
      "1.75 ang\n",
      "1.75 ang\n",
      "1.55 ang\n",
      "1.45 ang\n",
      "1.35 ang\n",
      "1.35 ang\n",
      "1.3 ang\n",
      "1.35 ang\n",
      "1.35 ang\n",
      "1.35 ang\n",
      "1.5 ang\n",
      "1.9 ang\n",
      "1.8 ang\n",
      "1.6 ang\n",
      "1.9 ang\n",
      "None\n",
      "None\n",
      "None\n",
      "2.15 ang\n",
      "1.95 ang\n",
      "1.8 ang\n",
      "1.8 ang\n",
      "1.75 ang\n",
      "1.75 ang\n",
      "1.75 ang\n",
      "1.75 ang\n",
      "None\n",
      "None\n",
      "None\n",
      "None\n",
      "None\n",
      "None\n",
      "None\n",
      "None\n",
      "None\n",
      "None\n",
      "None\n",
      "None\n",
      "None\n",
      "None\n",
      "None\n",
      "None\n",
      "None\n",
      "None\n",
      "None\n",
      "None\n",
      "None\n",
      "None\n"
     ]
    }
   ],
   "source": [
    "\n",
    "for i in range(1,118):\n",
    "    elem = Element.from_Z(i)\n",
    "    print(elem.atomic_radius)"
   ]
  },
  {
   "cell_type": "code",
   "execution_count": 58,
   "metadata": {},
   "outputs": [
    {
     "name": "stdout",
     "output_type": "stream",
     "text": [
      "[0.6, 15.9994, 1.26, 0.0, 1.26, 2, -2, 2, 16, False, False, False, False, False, False, False, False, True, False, False, True]\n",
      "[0.7, 12.0107, 0.3, 0.3, 0.0, 4, -4, 2, 14, False, False, False, False, False, False, False, False, False, False, False, True]\n",
      "[0.7, 12.0107, 0.3, 0.3, 0.0, 4, -4, 2, 14, False, False, False, False, False, False, False, False, False, False, False, True]\n",
      "[0.7, 12.0107, 0.3, 0.3, 0.0, 4, -4, 2, 14, False, False, False, False, False, False, False, False, False, False, False, True]\n",
      "[0.65, 14.0067, 0.63, 0.28500000000000003, 1.32, 5, -3, 2, 15, False, False, False, False, False, False, False, False, False, False, False, True]\n",
      "[0.7, 12.0107, 0.3, 0.3, 0.0, 4, -4, 2, 14, False, False, False, False, False, False, False, False, False, False, False, True]\n",
      "[0.6, 15.9994, 1.26, 0.0, 1.26, 2, -2, 2, 16, False, False, False, False, False, False, False, False, True, False, False, True]\n",
      "[0.7, 12.0107, 0.3, 0.3, 0.0, 4, -4, 2, 14, False, False, False, False, False, False, False, False, False, False, False, True]\n",
      "[0.7, 12.0107, 0.3, 0.3, 0.0, 4, -4, 2, 14, False, False, False, False, False, False, False, False, False, False, False, True]\n",
      "[0.7, 12.0107, 0.3, 0.3, 0.0, 4, -4, 2, 14, False, False, False, False, False, False, False, False, False, False, False, True]\n"
     ]
    }
   ],
   "source": [
    "\n",
    "\n",
    "for elem in pymatgen_mol.species[:10]:\n",
    "    print([getattr(elem, key) for key in features])"
   ]
  },
  {
   "cell_type": "code",
   "execution_count": 56,
   "metadata": {},
   "outputs": [
    {
     "data": {
      "text/plain": [
       "(0.6,\n",
       " 15.9994,\n",
       " {'Atomic mass': 15.9994,\n",
       "  'Atomic no': 8,\n",
       "  'Atomic orbitals': {'1s': -18.758245, '2p': -0.338381, '2s': -0.871362},\n",
       "  'Atomic radius': 0.6,\n",
       "  'Atomic radius calculated': 0.48,\n",
       "  'Boiling point': '90.2 K',\n",
       "  'Brinell hardness': 'no data MN m<sup>-2</sup>',\n",
       "  'Bulk modulus': 'no data GPa',\n",
       "  'Coefficient of linear thermal expansion': 'no data x10<sup>-6</sup>K<sup>-1</sup>',\n",
       "  'Common oxidation states': [-2],\n",
       "  'Critical temperature': '154.6 K',\n",
       "  'Density of solid': 'no data kg m<sup>-3</sup>',\n",
       "  'Electrical resistivity': 'no data 10<sup>-8</sup> &Omega; m',\n",
       "  'Electronic structure': '[He].2s<sup>2</sup>.2p<sup>4</sup>',\n",
       "  'ICSD oxidation states': [-2],\n",
       "  'Ionic radii': {'-2': 1.26},\n",
       "  'Liquid range': '35.4 K',\n",
       "  'Melting point': '54.8 K',\n",
       "  'Mendeleev no': 101,\n",
       "  'Mineral hardness': 'no data',\n",
       "  'Molar volume': '17.36 cm<sup>3</sup>',\n",
       "  'Name': 'Oxygen',\n",
       "  'Oxidation states': [-2, -1, 1, 2],\n",
       "  'Poissons ratio': 'no data',\n",
       "  'Reflectivity': 'no data %',\n",
       "  'Refractive index': '1.000271 (gas; liquid 1.221)(no units)',\n",
       "  'Rigidity modulus': 'no data GPa',\n",
       "  'Shannon radii': {'-2': {'II': {'': {'crystal_radius': 1.21,\n",
       "      'ionic_radius': 1.35}},\n",
       "    'III': {'': {'crystal_radius': 1.22, 'ionic_radius': 1.36}},\n",
       "    'IV': {'': {'crystal_radius': 1.24, 'ionic_radius': 1.38}},\n",
       "    'VI': {'': {'crystal_radius': 1.26, 'ionic_radius': 1.4}},\n",
       "    'VIII': {'': {'crystal_radius': 1.28, 'ionic_radius': 1.42}}}},\n",
       "  'Superconduction temperature': 'no data K',\n",
       "  'Thermal conductivity': '0.02658 W m<sup>-1</sup> K<sup>-1</sup>',\n",
       "  'Van der waals radius': 1.52,\n",
       "  'Velocity of sound': '317.5 m s<sup>-1</sup>',\n",
       "  'Vickers hardness': 'no data MN m<sup>-2</sup>',\n",
       "  'X': 3.44,\n",
       "  'Youngs modulus': 'no data GPa',\n",
       "  'NMR Quadrupole Moment': {'O-17': -25.58},\n",
       "  'Metallic radius': 'no data',\n",
       "  'iupac_ordering': 97,\n",
       "  'IUPAC ordering': 97,\n",
       "  'Ground level': '3P2',\n",
       "  'Ionization energies': [13.618055,\n",
       "   35.12112,\n",
       "   54.93554,\n",
       "   77.4135,\n",
       "   113.899,\n",
       "   138.1189,\n",
       "   739.32683,\n",
       "   871.409883],\n",
       "  'Electron affinity': 1.4611053})"
      ]
     },
     "execution_count": 56,
     "metadata": {},
     "output_type": "execute_result"
    }
   ],
   "source": [
    "elem.atomic_radius, elem.atomic_mass, elem.data"
   ]
  },
  {
   "cell_type": "code",
   "execution_count": 34,
   "metadata": {},
   "outputs": [
    {
     "name": "stdout",
     "output_type": "stream",
     "text": [
      "H                                                                   He \n",
      "Li  Be                                          B   C   N   O   F   Ne \n",
      "Na  Mg                                          Al  Si  P   S   Cl  Ar \n",
      "K   Ca  Sc  Ti  V   Cr  Mn  Fe  Co  Ni  Cu  Zn  Ga  Ge  As  Se  Br  Kr \n",
      "Rb  Sr  Y   Zr  Nb  Mo  Tc  Ru  Rh  Pd  Ag  Cd  In  Sn  Sb  Te  I   Xe \n",
      "Cs  Ba      Hf  Ta  W   Re  Os  Ir  Pt  Au  Hg  Tl  Pb  Bi  Po  At  Rn \n",
      "Fr  Ra      Rf  Db  Sg  Bh  Hs  Mt  Ds  Rg  Cn  Nh  Fl  Mc  Lv  Ts  Og \n",
      "        La  Ce  Pr  Nd  Pm  Sm  Eu  Gd  Tb  Dy  Ho  Er  Tm  Yb  Lu     \n",
      "        Ac  Th  Pa  U   Np  Pu  Am  Cm  Bk  Cf  Es  Fm  Md  No  Lr     \n"
     ]
    }
   ],
   "source": [
    "Element.print_periodic_table()"
   ]
  }
 ],
 "metadata": {
  "kernelspec": {
   "display_name": "Python 3.9.13 ('chem')",
   "language": "python",
   "name": "python3"
  },
  "language_info": {
   "codemirror_mode": {
    "name": "ipython",
    "version": 3
   },
   "file_extension": ".py",
   "mimetype": "text/x-python",
   "name": "python",
   "nbconvert_exporter": "python",
   "pygments_lexer": "ipython3",
   "version": "3.9.13"
  },
  "orig_nbformat": 4,
  "vscode": {
   "interpreter": {
    "hash": "7714f10ba7f32b0912814c8c283dbc5dfa6a42586c1e0dc83a479c0f665feca8"
   }
  }
 },
 "nbformat": 4,
 "nbformat_minor": 2
}
