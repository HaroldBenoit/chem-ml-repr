{
 "cells": [
  {
   "cell_type": "code",
   "execution_count": 6,
   "metadata": {},
   "outputs": [
    {
     "data": {
      "text/plain": [
       "312.0805106354346"
      ]
     },
     "execution_count": 6,
     "metadata": {},
     "output_type": "execute_result"
    }
   ],
   "source": [
    "from rdkit.Chem import Descriptors\n",
    "from rdkit import Chem\n",
    "from rdkit.Chem import AllChem\n",
    "from rdkit.Chem import rdDistGeom\n",
    "from typing import List, Tuple\n",
    "import numpy as np\n",
    "import rdkit\n",
    "import pandas as pd\n",
    "from pymatgen.core import Structure, Lattice, Molecule\n",
    "\n",
    "smiles = 'CC(C)C'\n",
    "\n",
    "m = Chem.MolFromSmiles(smiles)\n",
    "# necessary to add hydrogen for consistent conformer generation\n",
    "m = Chem.AddHs(m)\n",
    "\n",
    "\n",
    "Descriptors.Ipc(m)\n",
    "\n"
   ]
  },
  {
   "cell_type": "code",
   "execution_count": 2,
   "metadata": {},
   "outputs": [],
   "source": [
    "import json\n",
    "import gzip\n",
    "\n",
    "from utils import download_url\n",
    "\n",
    "#raw_url= \"https://ml.materialsproject.org/projects/matbench_mp_is_metal.json.gz\"\n",
    "#raw_dir= \"../data/matbench/mp_is_metal\"\n",
    "#download_url(raw_url, raw_dir)\n",
    "\n",
    "\n",
    "json_filename = \"../data/matbench/mp_is_metal/matbench_mp_is_metal.json.gz\"\n",
    "\n",
    "\n",
    "with gzip.open(json_filename, 'r') as fin:        # 4. gzip\n",
    "    json_bytes = fin.read()                      # 3. bytes (i.e. UTF-8)\n",
    "\n",
    "json_str = json_bytes.decode('utf-8')            # 2. string (i.e. JSON)\n",
    "data = json.loads(json_str) \n",
    "\n",
    "\n",
    "from pymatgen.core.structure import Structure, Molecule\n",
    "\n",
    "\n",
    "struct= Structure.from_dict(data[\"data\"][0][0])"
   ]
  },
  {
   "cell_type": "code",
   "execution_count": 12,
   "metadata": {},
   "outputs": [],
   "source": [
    "from pymatgen.core.lattice import Lattice\n",
    "\n",
    "structure = Structure(\n",
    "    Lattice.cubic(4.2),\n",
    "    [\"Na\", \"K\", \"K\"],\n",
    "    [[0, 0, 0], [0.5, 0.5, 0.5], [0,0,0.5]],\n",
    "    site_properties={\"magmom\": [-2, 2,2]},\n",
    ")"
   ]
  },
  {
   "cell_type": "code",
   "execution_count": 13,
   "metadata": {},
   "outputs": [],
   "source": [
    "from pymatgen.io.babel import BabelMolAdaptor\n",
    "\n",
    "# we will compute distances directly using the pymatgen structure\n",
    "\n",
    "#then the following conversion : pymatgen.Structure -> pymatgen.Molecule -> pybel_mol -> mol file (to retain 3D information) ->  rdkit molecule\n",
    "mol = Molecule(species=structure.species, coords=structure.cart_coords)\n",
    "adaptor = BabelMolAdaptor(mol).pybel_mol\n",
    "\n",
    "#ideally, we would like to give the correct 3D coordinates to the molecule, so we use .mol file\n",
    "mol_file = adaptor.write('mol')\n",
    "\n",
    "\n",
    "new_mol = Chem.MolFromMolBlock(mol_file)"
   ]
  },
  {
   "cell_type": "code",
   "execution_count": 14,
   "metadata": {},
   "outputs": [
    {
     "data": {
      "image/png": "[encoded data removed]",
      "text/plain": [
       "<rdkit.Chem.rdchem.Mol at 0x7f27a71c8580>"
      ]
     },
     "execution_count": 14,
     "metadata": {},
     "output_type": "execute_result"
    }
   ],
   "source": [
    "new_mol"
   ]
  },
  {
   "cell_type": "code",
   "execution_count": 9,
   "metadata": {},
   "outputs": [
    {
     "data": {
      "text/plain": [
       "Structure Summary\n",
       "Lattice\n",
       "    abc : 4.2 4.2 4.2\n",
       " angles : 90.0 90.0 90.0\n",
       " volume : 74.08800000000001\n",
       "      A : 4.2 0.0 0.0\n",
       "      B : 0.0 4.2 0.0\n",
       "      C : 0.0 0.0 4.2\n",
       "    pbc : True True True\n",
       "PeriodicSite: Na (0.0000, 0.0000, 0.0000) [0.0000, 0.0000, 0.0000]\n",
       "PeriodicSite: K (2.1000, 2.1000, 2.1000) [0.5000, 0.5000, 0.5000]"
      ]
     },
     "execution_count": 9,
     "metadata": {},
     "output_type": "execute_result"
    }
   ],
   "source": [
    "structure"
   ]
  }
 ],
 "metadata": {
  "kernelspec": {
   "display_name": "Python 3.9.13 ('chem')",
   "language": "python",
   "name": "python3"
  },
  "language_info": {
   "codemirror_mode": {
    "name": "ipython",
    "version": 3
   },
   "file_extension": ".py",
   "mimetype": "text/x-python",
   "name": "python",
   "nbconvert_exporter": "python",
   "pygments_lexer": "ipython3",
   "version": "3.9.13"
  },
  "orig_nbformat": 4,
  "vscode": {
   "interpreter": {
    "hash": "7714f10ba7f32b0912814c8c283dbc5dfa6a42586c1e0dc83a479c0f665feca8"
   }
  }
 },
 "nbformat": 4,
 "nbformat_minor": 2
}
