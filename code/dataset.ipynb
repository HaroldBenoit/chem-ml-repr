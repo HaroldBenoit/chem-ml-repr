{
 "cells": [
  {
   "cell_type": "code",
   "execution_count": 1,
   "metadata": {},
   "outputs": [],
   "source": [
    "\n",
    "%load_ext autoreload\n",
    "%autoreload 2"
   ]
  },
  {
   "cell_type": "code",
   "execution_count": 45,
   "metadata": {},
   "outputs": [],
   "source": [
    "data = QM9(r\"../data/qm9/\")"
   ]
  },
  {
   "cell_type": "code",
   "execution_count": 53,
   "metadata": {},
   "outputs": [],
   "source": [
    "from rdkit import Chem\n",
    "\n",
    "import pandas as pd\n",
    "import numpy as np\n",
    "\n",
    "path = \"qm9_smiles.csv\"\n",
    "\n",
    "suppl = Chem.SmilesMolSupplier(path)\n",
    "\n",
    "df = pd.read_csv(path)\n",
    "\n",
    "df[\"target1\"] = np.random.randn((len(df)))\n",
    "df[\"target2\"] = np.random.randn((len(df)))\n",
    "\n",
    "df.set_index(\"smiles\",inplace=True)\n",
    "\n",
    "df.to_csv(\"qm9_target.csv\")"
   ]
  },
  {
   "cell_type": "markdown",
   "metadata": {},
   "source": [
    "## Testing SmilesDataset"
   ]
  },
  {
   "cell_type": "code",
   "execution_count": 7,
   "metadata": {},
   "outputs": [
    {
     "name": "stderr",
     "output_type": "stream",
     "text": [
      "Global seed set to 42\n",
      "Processing...\n",
      "100%|██████████| 100/100 [00:00<00:00, 105.91it/s]\n",
      "Done!\n",
      "Global seed set to 42\n",
      "Using bfloat16 Automatic Mixed Precision (AMP)\n",
      "GPU available: True (cuda), used: False\n",
      "TPU available: False, using: 0 TPU cores\n",
      "IPU available: False, using: 0 IPUs\n",
      "HPU available: False, using: 0 HPUs\n",
      "/home/harold/miniconda3/envs/chem/lib/python3.9/site-packages/pytorch_lightning/trainer/trainer.py:1764: PossibleUserWarning: GPU available but not used. Set `accelerator` and `devices` using `Trainer(accelerator='gpu', devices=1)`.\n",
      "  rank_zero_warn(\n"
     ]
    }
   ],
   "source": [
    "from smiles_dataset import SmilesDataset\n",
    "from smiles_lightning_data_module import SmilesDataModule\n",
    "from lightning_model import LightningClassicGNN\n",
    "import pytorch_lightning as pl\n",
    "from torch_geometric.transforms import distance\n",
    "from torch_geometric.loader import DataLoader\n",
    "import os\n",
    "import torch\n",
    "# making sure we are as determinstic as possibe\n",
    "torch.use_deterministic_algorithms(True)\n",
    "import numpy as np\n",
    "\n",
    "! rm -rf ../data/test/processed\n",
    "! rm -rf ../data/test_hydrogen/processed\n",
    "\n",
    "\n",
    "seed=42\n",
    "## pytorch lighting takes of seeding everything\n",
    "pl.seed_everything(seed=seed, workers=True)\n",
    "# create from csv a pytorch dataset\n",
    "dataset = SmilesDataset(root=r\"../data/test\", filename=\"qm9_target.csv\", add_hydrogen=True, transform=distance.Distance())\n",
    "# from torch dataset, create lightning data module to make sure training splits are always done the same ways\n",
    "data_module = SmilesDataModule(dataset=dataset, seed=seed)\n",
    "\n",
    "\n",
    "num_node_features = data_module.num_node_features\n",
    "num_edge_features= data_module.num_edge_features\n",
    "\n",
    "gnn_model = LightningClassicGNN(classification=False, output_dim=2, num_node_features=num_node_features, num_edge_features=num_edge_features)\n",
    "\n",
    "num_epochs=1\n",
    "\n",
    "\n",
    "# from pytorch_ligthing import loggers\n",
    "# logger = loggers.WandbLogger()\n",
    "\n",
    "# default root dir is where the logs and weights are logged\n",
    "# useful when debugging is limit_train_batches\n",
    "# by default uses TensorBoardLogger, can be configured \n",
    "# Plugins allows us to connect to arbitrary cluster\n",
    "# can set max_epochs\n",
    "# can use precision to specify number of bit floating points to reduce memory footprint ()\n",
    "# can use accumulate_grad_batches to speed-up training too\n",
    "trainer = pl.Trainer(deterministic=True, auto_lr_find=True, default_root_dir=os.getcwd(), precision=\"bf16\", max_epochs=num_epochs)\n",
    "\n"
   ]
  },
  {
   "cell_type": "code",
   "execution_count": 8,
   "metadata": {},
   "outputs": [
    {
     "name": "stderr",
     "output_type": "stream",
     "text": [
      "/home/harold/miniconda3/envs/chem/lib/python3.9/site-packages/torch_geometric/deprecation.py:12: UserWarning: 'data.DataLoader' is deprecated, use 'loader.DataLoader' instead\n",
      "  warnings.warn(out)\n",
      "/home/harold/miniconda3/envs/chem/lib/python3.9/site-packages/pytorch_lightning/trainer/trainer.py:1892: PossibleUserWarning: The number of training batches (2) is smaller than the logging interval Trainer(log_every_n_steps=50). Set a lower value for log_every_n_steps if you want to see logs for the training epoch.\n",
      "  rank_zero_warn(\n"
     ]
    },
    {
     "data": {
      "application/vnd.jupyter.widget-view+json": {
       "model_id": "dd1495266d09400c84f1593bc4670a59",
       "version_major": 2,
       "version_minor": 0
      },
      "text/plain": [
       "Finding best initial lr:   0%|          | 0/100 [00:00<?, ?it/s]"
      ]
     },
     "metadata": {},
     "output_type": "display_data"
    },
    {
     "name": "stderr",
     "output_type": "stream",
     "text": [
      "`Trainer.fit` stopped: `max_epochs=1` reached.\n",
      "LR finder stopped early after 2 steps due to diverging loss.\n",
      "Failed to compute suggestion for learning rate because there are not enough points. Increase the loop iteration limits or the size of your dataset/dataloader.\n",
      "Restoring states from the checkpoint path at /home/harold/epfl/chem-ml-repr/code/.lr_find_ef32d5bb-2f32-433c-adc9-58cebf7beeee.ckpt\n"
     ]
    },
    {
     "data": {
      "text/plain": [
       "{'lr_find': <pytorch_lightning.tuner.lr_finder._LRFinder at 0x7fcce733e460>}"
      ]
     },
     "execution_count": 8,
     "metadata": {},
     "output_type": "execute_result"
    }
   ],
   "source": [
    "# tune to find the learning rate\n",
    "trainer.tune(gnn_model,datamodule=data_module)"
   ]
  },
  {
   "cell_type": "code",
   "execution_count": 5,
   "metadata": {},
   "outputs": [
    {
     "data": {
      "text/plain": [
       "(5, 5)"
      ]
     },
     "execution_count": 5,
     "metadata": {},
     "output_type": "execute_result"
    }
   ],
   "source": [
    "\n",
    "# we can resume from a checkpoint using trainer.fit(ckpth_path=\"some/path/to/my_checkpoint.ckpt\")\n",
    "trainer.fit(gnn_model, datamodule=data_module)"
   ]
  },
  {
   "cell_type": "code",
   "execution_count": 6,
   "metadata": {},
   "outputs": [
    {
     "data": {
      "text/plain": [
       "[1, 2, 3]"
      ]
     },
     "execution_count": 6,
     "metadata": {},
     "output_type": "execute_result"
    }
   ],
   "source": [
    "a = [1,2,3]\n",
    "\n",
    "end_index = len(a) -1 + 1\n",
    "\n",
    "a[:end_index]"
   ]
  },
  {
   "cell_type": "code",
   "execution_count": 11,
   "metadata": {},
   "outputs": [
    {
     "name": "stdout",
     "output_type": "stream",
     "text": [
      "The autoreload extension is already loaded. To reload it, use:\n",
      "  %reload_ext autoreload\n"
     ]
    },
    {
     "name": "stderr",
     "output_type": "stream",
     "text": [
      "Processing...\n",
      "  3%|█▏                                       | 42/1513 [00:14<08:42,  2.81it/s]"
     ]
    },
    {
     "name": "stdout",
     "output_type": "stream",
     "text": [
      "Unexpected exception formatting exception. Falling back to standard exception\n"
     ]
    },
    {
     "name": "stderr",
     "output_type": "stream",
     "text": [
      "\n",
      "Traceback (most recent call last):\n",
      "  File \"/home/harold/miniconda3/envs/chem/lib/python3.9/site-packages/IPython/core/interactiveshell.py\", line 3398, in run_code\n",
      "    exec(code_obj, self.user_global_ns, self.user_ns)\n",
      "  File \"/tmp/ipykernel_19613/1858521360.py\", line 10, in <cell line: 10>\n",
      "    data = BaceDataset(root=root)\n",
      "  File \"/home/harold/epfl/chem-ml-repr/code/datasets.py\", line 138, in BaceDataset\n",
      "    dataset = SmilesDataset(root=root, filename=filename, add_hydrogen=add_hydrogen, seed=seed, begin_index=begin_index, end_index=end_index,\n",
      "  File \"/home/harold/epfl/chem-ml-repr/code/smiles_dataset.py\", line 62, in __init__\n",
      "    super().__init__(root, transform, pre_transform, pre_filter)\n",
      "  File \"/home/harold/miniconda3/envs/chem/lib/python3.9/site-packages/torch_geometric/data/in_memory_dataset.py\", line 50, in __init__\n",
      "    super().__init__(root, transform, pre_transform, pre_filter)\n",
      "  File \"/home/harold/miniconda3/envs/chem/lib/python3.9/site-packages/torch_geometric/data/dataset.py\", line 87, in __init__\n",
      "    self._process()\n",
      "  File \"/home/harold/miniconda3/envs/chem/lib/python3.9/site-packages/torch_geometric/data/dataset.py\", line 170, in _process\n",
      "    self.process()\n",
      "  File \"/home/harold/epfl/chem-ml-repr/code/smiles_dataset.py\", line 173, in process\n",
      "    mol, pos = self.get_molecule_and_coordinates(smile)\n",
      "  File \"/home/harold/epfl/chem-ml-repr/code/smiles_dataset.py\", line 112, in get_molecule_and_coordinates\n",
      "    err = AllChem.EmbedMolecule(m,ps)\n",
      "KeyboardInterrupt\n",
      "\n",
      "During handling of the above exception, another exception occurred:\n",
      "\n",
      "Traceback (most recent call last):\n",
      "  File \"/home/harold/miniconda3/envs/chem/lib/python3.9/site-packages/IPython/core/interactiveshell.py\", line 1993, in showtraceback\n",
      "    stb = self.InteractiveTB.structured_traceback(\n",
      "  File \"/home/harold/miniconda3/envs/chem/lib/python3.9/site-packages/IPython/core/ultratb.py\", line 1118, in structured_traceback\n",
      "    return FormattedTB.structured_traceback(\n",
      "  File \"/home/harold/miniconda3/envs/chem/lib/python3.9/site-packages/IPython/core/ultratb.py\", line 1012, in structured_traceback\n",
      "    return VerboseTB.structured_traceback(\n",
      "  File \"/home/harold/miniconda3/envs/chem/lib/python3.9/site-packages/IPython/core/ultratb.py\", line 865, in structured_traceback\n",
      "    formatted_exception = self.format_exception_as_a_whole(etype, evalue, etb, number_of_lines_of_context,\n",
      "  File \"/home/harold/miniconda3/envs/chem/lib/python3.9/site-packages/IPython/core/ultratb.py\", line 818, in format_exception_as_a_whole\n",
      "    frames.append(self.format_record(r))\n",
      "  File \"/home/harold/miniconda3/envs/chem/lib/python3.9/site-packages/IPython/core/ultratb.py\", line 736, in format_record\n",
      "    result += ''.join(_format_traceback_lines(frame_info.lines, Colors, self.has_colors, lvals))\n",
      "  File \"/home/harold/miniconda3/envs/chem/lib/python3.9/site-packages/stack_data/utils.py\", line 145, in cached_property_wrapper\n",
      "    value = obj.__dict__[self.func.__name__] = self.func(obj)\n",
      "  File \"/home/harold/miniconda3/envs/chem/lib/python3.9/site-packages/stack_data/core.py\", line 698, in lines\n",
      "    pieces = self.included_pieces\n",
      "  File \"/home/harold/miniconda3/envs/chem/lib/python3.9/site-packages/stack_data/utils.py\", line 145, in cached_property_wrapper\n",
      "    value = obj.__dict__[self.func.__name__] = self.func(obj)\n",
      "  File \"/home/harold/miniconda3/envs/chem/lib/python3.9/site-packages/stack_data/core.py\", line 649, in included_pieces\n",
      "    pos = scope_pieces.index(self.executing_piece)\n",
      "  File \"/home/harold/miniconda3/envs/chem/lib/python3.9/site-packages/stack_data/utils.py\", line 145, in cached_property_wrapper\n",
      "    value = obj.__dict__[self.func.__name__] = self.func(obj)\n",
      "  File \"/home/harold/miniconda3/envs/chem/lib/python3.9/site-packages/stack_data/core.py\", line 628, in executing_piece\n",
      "    return only(\n",
      "  File \"/home/harold/miniconda3/envs/chem/lib/python3.9/site-packages/executing/executing.py\", line 164, in only\n",
      "    raise NotOneValueFound('Expected one value, found 0')\n",
      "executing.executing.NotOneValueFound: Expected one value, found 0\n"
     ]
    }
   ],
   "source": [
    "from datasets import BaceDataset\n",
    "\n",
    "\n",
    "%load_ext autoreload\n",
    "%autoreload 2\n",
    "\n",
    "root= \"../data/bace\"\n",
    "! rm -rf ../data/bace/processed\n",
    "\n",
    "data = BaceDataset(root=root)"
   ]
  },
  {
   "cell_type": "code",
   "execution_count": 1,
   "metadata": {},
   "outputs": [
    {
     "data": {
      "text/plain": [
       "tensor([[1.0000, 9.1549],\n",
       "        [1.0000, 8.8539],\n",
       "        [1.0000, 8.6990],\n",
       "        ...,\n",
       "        [0.0000, 2.9531],\n",
       "        [0.0000, 2.7333],\n",
       "        [0.0000, 2.5445]], dtype=torch.float64)"
      ]
     },
     "execution_count": 1,
     "metadata": {},
     "output_type": "execute_result"
    }
   ],
   "source": [
    "import pandas as pd\n",
    "import torch\n",
    "\n",
    "\n",
    "%load_ext autoreload\n",
    "%autoreload 2\n",
    "\n",
    "df = pd.read_csv(\"../data/bace/raw/bace.csv\")\n",
    "\n",
    "BACE_REGRESSION_TASKS = \"pIC50\"\n",
    "BACE_CLASSIFICATION_TASKS = \"Class\"\n",
    "\n",
    "df = df[[\"mol\", BACE_CLASSIFICATION_TASKS, BACE_REGRESSION_TASKS]]\n",
    "df.set_index(\"mol\", drop=True, inplace=True)\n",
    "\n",
    "torch.tensor(df.values)"
   ]
  },
  {
   "cell_type": "code",
   "execution_count": 3,
   "metadata": {},
   "outputs": [
    {
     "data": {
      "text/plain": [
       "array([[1.       , 9.1549015],\n",
       "       [1.       , 8.8538723],\n",
       "       [1.       , 8.6989698],\n",
       "       ...,\n",
       "       [0.       , 2.9531147],\n",
       "       [0.       , 2.7332981],\n",
       "       [0.       , 2.5445461]])"
      ]
     },
     "execution_count": 3,
     "metadata": {},
     "output_type": "execute_result"
    }
   ],
   "source": []
  },
  {
   "cell_type": "code",
   "execution_count": 7,
   "metadata": {},
   "outputs": [
    {
     "data": {
      "text/plain": [
       "(array([0, 0, 0, ..., 1, 1, 1]), Int64Index([1, 0], dtype='int64'))"
      ]
     },
     "execution_count": 7,
     "metadata": {},
     "output_type": "execute_result"
    }
   ],
   "source": [
    "df.Class.factorize()"
   ]
  }
 ],
 "metadata": {
  "kernelspec": {
   "display_name": "Python 3 (ipykernel)",
   "language": "python",
   "name": "python3"
  },
  "language_info": {
   "codemirror_mode": {
    "name": "ipython",
    "version": 3
   },
   "file_extension": ".py",
   "mimetype": "text/x-python",
   "name": "python",
   "nbconvert_exporter": "python",
   "pygments_lexer": "ipython3",
   "version": "3.9.13"
  },
  "vscode": {
   "interpreter": {
    "hash": "7714f10ba7f32b0912814c8c283dbc5dfa6a42586c1e0dc83a479c0f665feca8"
   }
  }
 },
 "nbformat": 4,
 "nbformat_minor": 4
}
