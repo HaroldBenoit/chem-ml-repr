{
 "cells": [
  {
   "cell_type": "code",
   "execution_count": 1,
   "metadata": {},
   "outputs": [],
   "source": [
    "\n",
    "%load_ext autoreload\n",
    "%autoreload 2"
   ]
  },
  {
   "cell_type": "code",
   "execution_count": 45,
   "metadata": {},
   "outputs": [],
   "source": [
    "data = QM9(r\"../data/qm9/\")"
   ]
  },
  {
   "cell_type": "code",
   "execution_count": 53,
   "metadata": {},
   "outputs": [],
   "source": [
    "from rdkit import Chem\n",
    "\n",
    "import pandas as pd\n",
    "import numpy as np\n",
    "\n",
    "path = \"qm9_smiles.csv\"\n",
    "\n",
    "suppl = Chem.SmilesMolSupplier(path)\n",
    "\n",
    "df = pd.read_csv(path)\n",
    "\n",
    "df[\"target1\"] = np.random.randn((len(df)))\n",
    "df[\"target2\"] = np.random.randn((len(df)))\n",
    "\n",
    "df.set_index(\"smiles\",inplace=True)\n",
    "\n",
    "df.to_csv(\"qm9_target.csv\")"
   ]
  },
  {
   "cell_type": "markdown",
   "metadata": {},
   "source": [
    "## Testing SmilesDataset"
   ]
  },
  {
   "cell_type": "code",
   "execution_count": 7,
   "metadata": {},
   "outputs": [
    {
     "name": "stderr",
     "output_type": "stream",
     "text": [
      "Global seed set to 42\n",
      "Processing...\n",
      "100%|██████████| 100/100 [00:00<00:00, 105.91it/s]\n",
      "Done!\n",
      "Global seed set to 42\n",
      "Using bfloat16 Automatic Mixed Precision (AMP)\n",
      "GPU available: True (cuda), used: False\n",
      "TPU available: False, using: 0 TPU cores\n",
      "IPU available: False, using: 0 IPUs\n",
      "HPU available: False, using: 0 HPUs\n",
      "/home/harold/miniconda3/envs/chem/lib/python3.9/site-packages/pytorch_lightning/trainer/trainer.py:1764: PossibleUserWarning: GPU available but not used. Set `accelerator` and `devices` using `Trainer(accelerator='gpu', devices=1)`.\n",
      "  rank_zero_warn(\n"
     ]
    }
   ],
   "source": [
    "from smiles_dataset import SmilesDataset\n",
    "from smiles_lightning_data_module import SmilesDataModule\n",
    "from lightning_model import LightningClassicGNN\n",
    "import pytorch_lightning as pl\n",
    "from torch_geometric.transforms import distance\n",
    "from torch_geometric.loader import DataLoader\n",
    "import os\n",
    "import torch\n",
    "# making sure we are as determinstic as possibe\n",
    "torch.use_deterministic_algorithms(True)\n",
    "import numpy as np\n",
    "\n",
    "! rm -rf ../data/test/processed\n",
    "! rm -rf ../data/test_hydrogen/processed\n",
    "\n",
    "\n",
    "seed=42\n",
    "## pytorch lighting takes of seeding everything\n",
    "pl.seed_everything(seed=seed, workers=True)\n",
    "# create from csv a pytorch dataset\n",
    "dataset = SmilesDataset(root=r\"../data/test\", filename=\"qm9_target.csv\", add_hydrogen=True, transform=distance.Distance())\n",
    "# from torch dataset, create lightning data module to make sure training splits are always done the same ways\n",
    "data_module = SmilesDataModule(dataset=dataset, seed=seed)\n",
    "\n",
    "\n",
    "num_node_features = data_module.num_node_features\n",
    "num_edge_features= data_module.num_edge_features\n",
    "\n",
    "gnn_model = LightningClassicGNN(classification=False, output_dim=2, num_node_features=num_node_features, num_edge_features=num_edge_features)\n",
    "\n",
    "num_epochs=1\n",
    "\n",
    "\n",
    "# from pytorch_ligthing import loggers\n",
    "# logger = loggers.WandbLogger()\n",
    "\n",
    "# default root dir is where the logs and weights are logged\n",
    "# useful when debugging is limit_train_batches\n",
    "# by default uses TensorBoardLogger, can be configured \n",
    "# Plugins allows us to connect to arbitrary cluster\n",
    "# can set max_epochs\n",
    "# can use precision to specify number of bit floating points to reduce memory footprint ()\n",
    "# can use accumulate_grad_batches to speed-up training too\n",
    "trainer = pl.Trainer(deterministic=True, auto_lr_find=True, default_root_dir=os.getcwd(), precision=\"bf16\", max_epochs=num_epochs)\n",
    "\n"
   ]
  },
  {
   "cell_type": "code",
   "execution_count": 8,
   "metadata": {},
   "outputs": [
    {
     "name": "stderr",
     "output_type": "stream",
     "text": [
      "/home/harold/miniconda3/envs/chem/lib/python3.9/site-packages/torch_geometric/deprecation.py:12: UserWarning: 'data.DataLoader' is deprecated, use 'loader.DataLoader' instead\n",
      "  warnings.warn(out)\n",
      "/home/harold/miniconda3/envs/chem/lib/python3.9/site-packages/pytorch_lightning/trainer/trainer.py:1892: PossibleUserWarning: The number of training batches (2) is smaller than the logging interval Trainer(log_every_n_steps=50). Set a lower value for log_every_n_steps if you want to see logs for the training epoch.\n",
      "  rank_zero_warn(\n"
     ]
    },
    {
     "data": {
      "application/vnd.jupyter.widget-view+json": {
       "model_id": "dd1495266d09400c84f1593bc4670a59",
       "version_major": 2,
       "version_minor": 0
      },
      "text/plain": [
       "Finding best initial lr:   0%|          | 0/100 [00:00<?, ?it/s]"
      ]
     },
     "metadata": {},
     "output_type": "display_data"
    },
    {
     "name": "stderr",
     "output_type": "stream",
     "text": [
      "`Trainer.fit` stopped: `max_epochs=1` reached.\n",
      "LR finder stopped early after 2 steps due to diverging loss.\n",
      "Failed to compute suggestion for learning rate because there are not enough points. Increase the loop iteration limits or the size of your dataset/dataloader.\n",
      "Restoring states from the checkpoint path at /home/harold/epfl/chem-ml-repr/code/.lr_find_ef32d5bb-2f32-433c-adc9-58cebf7beeee.ckpt\n"
     ]
    },
    {
     "data": {
      "text/plain": [
       "{'lr_find': <pytorch_lightning.tuner.lr_finder._LRFinder at 0x7fcce733e460>}"
      ]
     },
     "execution_count": 8,
     "metadata": {},
     "output_type": "execute_result"
    }
   ],
   "source": [
    "# tune to find the learning rate\n",
    "trainer.tune(gnn_model,datamodule=data_module)"
   ]
  },
  {
   "cell_type": "code",
   "execution_count": 5,
   "metadata": {},
   "outputs": [
    {
     "data": {
      "text/plain": [
       "(5, 5)"
      ]
     },
     "execution_count": 5,
     "metadata": {},
     "output_type": "execute_result"
    }
   ],
   "source": [
    "\n",
    "# we can resume from a checkpoint using trainer.fit(ckpth_path=\"some/path/to/my_checkpoint.ckpt\")\n",
    "trainer.fit(gnn_model, datamodule=data_module)"
   ]
  },
  {
   "cell_type": "code",
   "execution_count": 3,
   "metadata": {},
   "outputs": [
    {
     "name": "stderr",
     "output_type": "stream",
     "text": [
      "Processing...\n"
     ]
    },
    {
     "name": "stdout",
     "output_type": "stream",
     "text": [
      "Index(['A', 'B', 'C', 'mu', 'alpha', 'homo', 'lumo', 'gap', 'r2', 'zpve', 'u0',\n",
      "       'u298', 'h298', 'g298', 'cv', 'u0_atom', 'u298_atom', 'h298_atom',\n",
      "       'g298_atom'],\n",
      "      dtype='object')\n"
     ]
    },
    {
     "name": "stderr",
     "output_type": "stream",
     "text": [
      "6it [00:00, 53.69it/s]"
     ]
    },
    {
     "name": "stdout",
     "output_type": "stream",
     "text": [
      "100000 CCC(C)(C)C(C)C=O\n",
      "100001 CCC(C)(C)C(O)C=O\n",
      "100002 CCC(C)(C)N(C)C=O\n",
      "100003 CCC(C)(O)C(C)C=O\n",
      "100004 CCC(C)(O)C(O)C=O\n",
      "100005 CC(C)(CO)N(C)C=O\n",
      "100006 COC(C)(C)C(C)C=O\n",
      "100007 COC(C)(C)C(O)C=O\n",
      "100008 CC1(CC1)C(C)(C)CO\n",
      "100009 CC(C)(CO)C1(C)CO1\n",
      "100010 CC(C)(CO)C1(CC1)O\n",
      "100011 CC(O)(CO)C1(C)CC1\n",
      "100012 CC(O)(CO)C1(C)CN1\n"
     ]
    },
    {
     "name": "stderr",
     "output_type": "stream",
     "text": [
      "23it [00:00, 75.43it/s]"
     ]
    },
    {
     "name": "stdout",
     "output_type": "stream",
     "text": [
      "100013 CC(O)(CO)C1(C)CO1\n",
      "100014 CC(O)(CO)C1(O)CC1\n",
      "100015 CCC(C)(C)C1(CC1)C\n",
      "100016 CCC(C)(C)C1(C)CO1\n",
      "100017 CCC(C)(C)C1(CC1)O\n",
      "100018 CCC(C)(O)C1(C)CC1\n",
      "100019 CCC(C)(O)C1(C)CN1\n",
      "100020 CCC(C)(O)C1(C)CO1\n",
      "100021 CCC(C)(O)C1(O)CC1\n",
      "100022 CC1(CC1)C(C)(C)OC\n",
      "100023 COC(C)(C)C1(C)CN1\n",
      "100024 COC(C)(C)C1(C)CO1\n",
      "100025 CC(C)(C1(CC1)O)OC\n",
      "100026 CC(C)(CO)C1CC1O\n",
      "100027 CC(O)(CO)C1CC1O\n",
      "100028 CC1CC1C(C)(C)CO\n",
      "100029 CC1CC1C(C)(O)CO\n",
      "100030 CC1CN1C(C)(C)CO\n"
     ]
    },
    {
     "name": "stderr",
     "output_type": "stream",
     "text": [
      "42it [00:00, 72.04it/s]"
     ]
    },
    {
     "name": "stdout",
     "output_type": "stream",
     "text": [
      "100031 CC1NC1C(C)(O)CO\n",
      "100032 CC1OC1C(C)(C)CO\n",
      "100033 CC1OC1C(C)(O)CO\n",
      "100034 CCC(C)(C)C1CC1C\n",
      "100035 CCC(C)(C)C1CC1O\n",
      "100036 CCC(C)(C)C1CN1C\n",
      "100037 CCC(C)(C)C1OC1C\n",
      "100038 CCC(C)(O)C1CC1C\n",
      "100039 CCC(C)(O)C1CC1O\n",
      "100040 CCC(C)(O)C1CN1C\n",
      "100041 CCC(C)(O)C1NC1C\n",
      "100042 CCC(C)(O)C1OC1C\n",
      "100043 CN1CC1C(C)(C)CO\n"
     ]
    },
    {
     "name": "stderr",
     "output_type": "stream",
     "text": [
      "50it [00:00, 67.22it/s]"
     ]
    },
    {
     "name": "stdout",
     "output_type": "stream",
     "text": [
      "100044 CN1CC1C(C)(O)CO\n",
      "100045 COC(C)(C)C1CC1C\n",
      "100046 COC(C)(C)C1CC1O\n",
      "100047 COC(C)(C)C1CN1C\n",
      "100048 COC(C)(C)C1NC1C\n",
      "100049 COC(C)(C)C1OC1C\n",
      "100050 CC(C)(CO)C1CCC1\n",
      "100051 CC(C)(CO)C1CCO1\n",
      "100052 CC(C)(CO)C1COC1\n",
      "100053 CC(O)(CO)C1CCC1\n",
      "100054 CC(O)(CO)C1CCO1\n",
      "100055 CC(O)(CO)C1COC1\n",
      "100056 CCC(C)(C)C1CCC1\n"
     ]
    },
    {
     "name": "stderr",
     "output_type": "stream",
     "text": [
      "66it [00:00, 72.30it/s]"
     ]
    },
    {
     "name": "stdout",
     "output_type": "stream",
     "text": [
      "100057 CCC(C)(C)C1CCO1\n",
      "100058 CCC(C)(C)C1COC1\n",
      "100059 CCC(C)(O)C1CCC1\n",
      "100060 CCC(C)(O)C1CCO1\n",
      "100061 CCC(C)(O)C1COC1\n",
      "100062 CC(C)(C1CCC1)OC\n",
      "100063 COC(C)(C)C1CCO1\n",
      "100064 CC(C)(C1COC1)OC\n",
      "100065 CC#CCC(C)(C)CO\n",
      "100066 CC#CCC(C)(O)CO\n",
      "100067 CCC(C)(C)CC#CC\n",
      "100068 CCC(C)(O)CC#CC\n",
      "100069 CC#CCC(C)(C)OC\n",
      "100070 CC(=N)OC(C)(C)CO\n",
      "100071 CC(=O)CC(C)(C)CO\n",
      "100072 CC(=O)CC(C)(O)CO\n",
      "100073 CC(=O)NC(C)(C)CO\n",
      "100074 CC(=O)OC(C)(C)CO\n"
     ]
    },
    {
     "name": "stderr",
     "output_type": "stream",
     "text": [
      "84it [00:01, 78.02it/s]"
     ]
    },
    {
     "name": "stdout",
     "output_type": "stream",
     "text": [
      "100075 CC(C)(C[NH3+])CC([O-])=O\n",
      "100076 CC(C)(CC(=O)N)CO\n",
      "100077 CC(C)(CO)NC(=O)N\n",
      "100078 CC(C)(CO)OC(=O)N\n",
      "100079 CC([NH3+])(CO)CC([O-])=O\n",
      "100080 CC(O)(C[NH3+])CC([O-])=O\n",
      "100081 CC(O)(CO)CC(N)=O\n",
      "100082 CCC(C)(C)CC(=O)C\n",
      "100083 CCC(C)(C)CC(=O)N\n",
      "100084 CCC(C)(C)NC(=O)C\n",
      "100085 CCC(C)(C)NC(=O)N\n",
      "100086 CCC(C)(C)OC(=O)C\n",
      "100087 CCC(C)(C)OC(=O)N\n",
      "100088 CCC(C)([NH3+])CC([O-])=O\n",
      "100089 CCC(C)(O)CC(C)=O\n",
      "100090 CCC(C)(O)CC(N)=O\n",
      "100091 C[NH2+]C(C)(C)CC([O-])=O\n"
     ]
    },
    {
     "name": "stderr",
     "output_type": "stream",
     "text": [
      "102it [00:01, 79.39it/s]"
     ]
    },
    {
     "name": "stdout",
     "output_type": "stream",
     "text": [
      "100092 CC(=O)CC(C)(C)OC\n",
      "100093 CC(C)(CC(=O)N)OC\n",
      "100094 CC(C)CC(C)(C)CO\n",
      "100095 CC(C)CC(C)(O)CO\n",
      "100096 CC(C)OC(C)(C)CO\n",
      "100097 CC(O)CC(C)(C)CO\n",
      "100098 CC(O)CC(C)(O)CO\n",
      "100099 CCC(C)(C)CC(C)C\n",
      "100100 CCC(C)(C)CC(C)O\n",
      "100101 CCC(C)(C)OC(C)C\n",
      "100102 CCC(C)(O)CC(C)C\n",
      "100103 CCC(C)(O)CC(C)O\n",
      "100104 CC(C)CC(C)(C)OC\n",
      "100105 COC(C)(C)CC(C)O\n",
      "100106 CC(C)(CC1CC1)CO\n",
      "100107 CC(C)(CO)CC1CO1\n",
      "100108 CC(C)(CN1CC1)CO\n"
     ]
    },
    {
     "name": "stderr",
     "output_type": "stream",
     "text": [
      "120it [00:01, 79.67it/s]"
     ]
    },
    {
     "name": "stdout",
     "output_type": "stream",
     "text": [
      "100109 CC(C)(CO)OC1CC1\n",
      "100110 CC(O)(CO)CC1CC1\n",
      "100111 CC(O)(CO)CC1CN1\n",
      "100112 CC(O)(CO)CC1CO1\n",
      "100113 CC(O)(CO)CN1CC1\n",
      "100114 CCC(C)(C)CC1CC1\n",
      "100115 CCC(C)(C)CC1CO1\n",
      "100116 CCC(C)(C)CN1CC1\n",
      "100117 CCC(C)(C)OC1CC1\n",
      "100118 CCC(C)(O)CC1CC1\n",
      "100119 CCC(C)(O)CC1CO1\n",
      "100120 CCC(C)(O)CN1CC1\n",
      "100121 CC(C)(CC1CC1)OC\n",
      "100122 COC(C)(C)CC1CO1\n",
      "100123 CC(C)(CN1CC1)OC\n",
      "100124 CCC(C)(C)OC=NC\n",
      "100125 CC(C)(CO)OC=NC\n",
      "100126 CC(C)(CCC#C)CO\n"
     ]
    },
    {
     "name": "stderr",
     "output_type": "stream",
     "text": [
      "139it [00:01, 79.39it/s]"
     ]
    },
    {
     "name": "stdout",
     "output_type": "stream",
     "text": [
      "100127 CC(C)(CCC#N)CO\n",
      "100128 CC(C)(CO)NCC#N\n",
      "100129 CC(C)(CO)OCC#C\n",
      "100130 CC(C)(CO)OCC#N\n",
      "100131 CC(O)(CO)CCC#C\n",
      "100132 CC(O)(CO)CCC#N\n",
      "100133 CCC(C)(C)CCC#C\n",
      "100134 CCC(C)(C)CCC#N\n",
      "100135 CCC(C)(C)NCC#N\n",
      "100136 CCC(C)(C)OCC#C\n",
      "100137 CCC(C)(C)OCC#N\n",
      "100138 CCC(C)(O)CCC#C\n",
      "100139 CCC(C)(O)CCC#N\n",
      "100140 CC(C)(CCC#C)OC\n",
      "100141 CC(C)(CCC#N)OC\n"
     ]
    },
    {
     "name": "stderr",
     "output_type": "stream",
     "text": [
      "161it [00:02, 92.09it/s]"
     ]
    },
    {
     "name": "stdout",
     "output_type": "stream",
     "text": [
      "100142 CC(C)(CCC=O)CO\n",
      "100143 CC(C)(CNC=O)CO\n",
      "100144 CC(C)(CO)COC=O\n",
      "100145 CC(C)(CO)OCC=O\n",
      "100146 CC(O)(CO)CCC=O\n",
      "100147 CC(O)(CO)CNC=O\n",
      "100148 CC(O)(CO)COC=N\n",
      "100149 CC(O)(CO)COC=O\n",
      "100150 CCC(C)(C)CCC=O\n",
      "100151 CCC(C)(C)CNC=O\n",
      "100152 CCC(C)(C)COC=O\n",
      "100153 CCC(C)(C)OCC=O\n",
      "100154 CCC(C)(O)CCC=O\n",
      "100155 CCC(C)(O)CNC=O\n",
      "100156 CCC(C)(O)COC=O\n",
      "100157 CC(C)(CCC=O)OC\n",
      "100158 CC(C)(CNC=O)OC\n",
      "100159 CC(C)(COC=O)OC\n",
      "100160 CC#CC(C)(CO)C=O\n",
      "100161 CC#CC(O)(CO)C=O\n",
      "100162 CCC(C)(C=O)C#CC\n",
      "100163 CCC(O)(C=O)C#CC\n",
      "100164 CNC(C)(C=O)C#CC\n"
     ]
    },
    {
     "name": "stderr",
     "output_type": "stream",
     "text": [
      "186it [00:02, 106.84it/s]"
     ]
    },
    {
     "name": "stdout",
     "output_type": "stream",
     "text": [
      "100165 COC(C)(C=O)C#CC\n",
      "100166 CC(=O)C(C)(CO)C=O\n",
      "100167 CC(=O)C(O)(CO)C=O\n",
      "100168 CC(CO)(C=O)C(N)=O\n",
      "100169 CCC(C)(C=O)C(C)=O\n",
      "100170 CCC(C)(C=O)C(N)=O\n",
      "100171 CCC(O)(C=O)C(C)=O\n",
      "100172 CCC(O)(C=O)C(N)=O\n",
      "100173 CNC(C)(C=O)C(C)=O\n",
      "100174 CNC(C)(C=O)C(N)=O\n",
      "100175 COC(C)(C=O)C(C)=O\n",
      "100176 COC(C)(C=O)C(N)=O\n",
      "100177 NC(=O)C(O)(CO)C=O\n",
      "100178 CC(C)C(C)(CO)C=O\n",
      "100179 CC(C)C(O)(CO)C=O\n",
      "100180 CC(O)C(C)(CO)C=O\n",
      "100181 CC(O)C(O)(CO)C=O\n",
      "100182 CCC(C)(C=O)C(C)C\n",
      "100183 CCC(C)(C=O)C(C)O\n",
      "100184 CCC(O)(C=O)C(C)C\n",
      "100185 CCC(O)(C=O)C(C)O\n",
      "100186 CN(C)C(C)(CO)C=O\n",
      "100187 COC(C)(C=O)C(C)C\n",
      "100188 COC(C)(C=O)C(C)O\n",
      "100189 CC(CO)(C=O)C1CC1\n",
      "100190 CC(CO)(C=O)C1CN1\n"
     ]
    },
    {
     "name": "stderr",
     "output_type": "stream",
     "text": [
      "211it [00:02, 115.28it/s]"
     ]
    },
    {
     "name": "stdout",
     "output_type": "stream",
     "text": [
      "100191 CC(CO)(C=O)C1CO1\n",
      "100192 CC(CO)(C=O)N1CC1\n",
      "100193 CCC(C)(C=O)C1CC1\n",
      "100194 CCC(C)(C=O)C1CO1\n",
      "100195 CCC(C)(C=O)N1CC1\n",
      "100196 CCC(O)(C=O)C1CC1\n",
      "100197 CCC(O)(C=O)C1CN1\n",
      "100198 CCC(O)(C=O)C1CO1\n",
      "100199 COC(C)(C=O)C1CC1\n",
      "100200 COC(C)(C=O)C1CN1\n",
      "100201 COC(C)(C=O)C1CO1\n",
      "100202 OCC(O)(C=O)C1CC1\n",
      "100203 OCC(O)(C=O)C1CN1\n",
      "100204 OCC(O)(C=O)C1CO1\n",
      "100205 CC(CN)(CC#N)C#N\n",
      "100206 CC(CO)(CC#C)C#C\n",
      "100207 CC(CO)(CC#C)C#N\n",
      "100208 CC(CO)(CC#N)C#C\n",
      "100209 CC(CO)(CC#N)C#N\n",
      "100210 CCC(C)(CC#C)C#C\n",
      "100211 CCC(C)(CC#C)C#N\n",
      "100212 CCC(C)(CC#N)C#C\n",
      "100213 CCC(C)(CC#N)C#N\n"
     ]
    },
    {
     "name": "stderr",
     "output_type": "stream",
     "text": [
      "223it [00:02, 98.56it/s] "
     ]
    },
    {
     "name": "stdout",
     "output_type": "stream",
     "text": [
      "100214 CCC(N)(CC#C)C#N\n",
      "100215 CCC(N)(CC#N)C#C\n",
      "100216 CCC(N)(CC#N)C#N\n",
      "100217 CCC(O)(CC#C)C#C\n",
      "100218 CCC(O)(CC#C)C#N\n",
      "100219 CCC(O)(CC#N)C#C\n",
      "100220 CCC(O)(CC#N)C#N\n",
      "100221 CNC(C)(CC#C)C#N\n",
      "100222 CNC(C)(CC#N)C#C\n",
      "100223 CNC(C)(CC#N)C#N\n",
      "100224 COC(C)(CC#C)C#C\n",
      "100225 COC(C)(CC#C)C#N\n",
      "100226 COC(C)(CC#N)C#C\n",
      "100227 COC(C)(CC#N)C#N\n",
      "100228 NC(CO)(CC#C)C#N\n",
      "100229 NC(CO)(CC#N)C#C\n",
      "100230 NC(CO)(CC#N)C#N\n",
      "100231 NCC(N)(CC#C)C#N\n",
      "100232 NCC(N)(CC#N)C#N\n",
      "100233 NCC(O)(CC#C)C#N\n",
      "100234 NCC(O)(CC#N)C#N\n"
     ]
    },
    {
     "name": "stderr",
     "output_type": "stream",
     "text": [
      "246it [00:02, 103.62it/s]"
     ]
    },
    {
     "name": "stdout",
     "output_type": "stream",
     "text": [
      "100235 OCC(O)(CC#C)C#C\n",
      "100236 OCC(O)(CC#C)C#N\n",
      "100237 OCC(O)(CC#N)C#C\n",
      "100238 OCC(O)(CC#N)C#N\n",
      "100239 CC(CO)(CC#C)C=O\n",
      "100240 CC(CO)(CC#N)C=O\n",
      "100241 CCC(C)(CC#C)C=O\n",
      "100242 CCC(C)(CC#N)C=O\n",
      "100243 CCC(O)(CC#C)C=O\n",
      "100244 CCC(O)(CC#N)C=O\n",
      "100245 CNC(C)(CC#N)C=O\n",
      "100246 COC(C)(CC#C)C=O\n",
      "100247 COC(C)(CC#N)C=O\n",
      "100248 OCC(O)(CC#C)C=O\n",
      "100249 OCC(O)(CC#N)C=O\n",
      "100250 CC#CC(C)(CO)CO\n",
      "100251 CC#CC(CO)(CO)O\n",
      "100252 CCC(C)(CC)C#CC\n",
      "100253 CCC(C)(CO)C#CC\n",
      "100254 CCC(C)(OC)C#CC\n",
      "100255 CCC(CC)(C#CC)O\n"
     ]
    },
    {
     "name": "stderr",
     "output_type": "stream",
     "text": [
      "269it [00:03, 104.68it/s]"
     ]
    },
    {
     "name": "stdout",
     "output_type": "stream",
     "text": [
      "100256 CCC(O)(CO)C#CC\n",
      "100257 COC(C)(CO)C#CC\n",
      "100258 CC(=O)C(C)(CO)CO\n",
      "100259 CC(=O)C(CO)(CO)O\n",
      "100260 CC(C[NH3+])(CO)C([O-])=O\n",
      "100261 CC(CO)(CO)C(=O)N\n",
      "100262 CCC(C)(CC)C(=O)C\n",
      "100263 CCC(C)(CC)C(=O)N\n",
      "100264 CCC(C)(C[NH3+])C([O-])=O\n",
      "100265 CCC(C)(CO)C(C)=O\n",
      "100266 CCC(C)(CO)C(N)=O\n",
      "100267 CCC(C)([NH2+]C)C([O-])=O\n",
      "100268 CCC(C)(OC)C(C)=O\n",
      "100269 CCC(C)(OC)C(N)=O\n",
      "100270 CCC([NH3+])(CC)C([O-])=O\n",
      "100271 CCC(N)(C[NH3+])C([O-])=O\n",
      "100272 CCC([NH3+])(CO)C([O-])=O\n",
      "100273 CCC(CC)(C(=O)C)O\n",
      "100274 CCC(CC)(C(=O)N)O\n",
      "100275 CCC(O)(C[NH3+])C([O-])=O\n",
      "100276 CCC(O)(CO)C(C)=O\n",
      "100277 CCC(O)(CO)C(N)=O\n",
      "100278 C[NH2+]C(C)(CO)C([O-])=O\n",
      "100279 COC(C)(C[NH3+])C([O-])=O\n"
     ]
    },
    {
     "name": "stderr",
     "output_type": "stream",
     "text": [
      "294it [00:03, 109.38it/s]"
     ]
    },
    {
     "name": "stdout",
     "output_type": "stream",
     "text": [
      "100280 COC(C)(CO)C(C)=O\n",
      "100281 COC(C)(CO)C(N)=O\n",
      "100282 C(C(CO)(C(=O)N)O)O\n",
      "100283 [NH3+]C(CO)(CO)C([O-])=O\n",
      "100284 NC(C[NH3+])(CO)C([O-])=O\n",
      "100285 [NH3+]CC(O)(CO)C([O-])=O\n",
      "100286 CC(C)C(C)(CO)CO\n",
      "100287 CC(C)C(CO)(CO)O\n",
      "100288 CC(O)C(C)(CO)CO\n",
      "100289 CC(O)C(O)(CO)CO\n",
      "100290 CCC(C)(CC)C(C)C\n",
      "100291 CCC(C)(CC)C(C)O\n",
      "100292 CCC(C)(CO)C(C)C\n",
      "100293 CCC(C)(CO)C(C)O\n",
      "100294 CCC(C)(OC)C(C)C\n",
      "100295 CCC(C)(OC)C(C)O\n",
      "100296 CCC(CC)(C(C)C)O\n",
      "100297 CCC(O)(CC)C(C)O\n",
      "100298 CCC(O)(CO)C(C)C\n",
      "100299 CCC(O)(CO)C(C)O\n",
      "100300 COC(C)(CO)C(C)C\n"
     ]
    },
    {
     "name": "stderr",
     "output_type": "stream",
     "text": [
      "317it [00:03, 105.74it/s]"
     ]
    },
    {
     "name": "stdout",
     "output_type": "stream",
     "text": [
      "100301 COC(C)(CO)C(C)O\n",
      "100302 CC(CO)(CO)C1CC1\n",
      "100303 CC(CO)(CO)C1CN1\n",
      "100304 CC(CO)(CO)C1CO1\n",
      "100305 CC(CO)(CO)N1CC1\n",
      "100306 CCC(C)(CC)C1CC1\n",
      "100307 CCC(C)(CC)C1CO1\n",
      "100308 CCC(C)(CO)C1CC1\n",
      "100309 CCC(C)(CO)C1CO1\n",
      "100310 CCC(C)(CO)N1CC1\n",
      "100311 CCC(C)(OC)C1CC1\n",
      "100312 CCC(C)(OC)C1CN1\n",
      "100313 CCC(C)(OC)C1CO1\n",
      "100314 CCC(CC)(C1CC1)O\n",
      "100315 CCC(O)(CC)C1CO1\n",
      "100316 CCC(O)(CO)C1CC1\n",
      "100317 CCC(O)(CO)C1CN1\n",
      "100318 CCC(O)(CO)C1CO1\n",
      "100319 COC(C)(CO)C1CC1\n",
      "100320 COC(C)(CO)C1CN1\n",
      "100321 COC(C)(CO)C1CO1\n",
      "100322 C1CC1C(CO)(CO)O\n",
      "100323 OCC(O)(CO)C1CN1\n"
     ]
    },
    {
     "name": "stderr",
     "output_type": "stream",
     "text": [
      "340it [00:03, 101.53it/s]"
     ]
    },
    {
     "name": "stdout",
     "output_type": "stream",
     "text": [
      "100324 OCC(O)(CO)C1CO1\n",
      "100325 CC(CC#C)(CO)CO\n",
      "100326 CC(CC#N)(CO)CO\n",
      "100327 CCC(C)(CC#C)OC\n",
      "100328 CCC(C)(CC#N)OC\n",
      "100329 CCC(C)(CC)CC#C\n",
      "100330 CCC(C)(CC)CC#N\n",
      "100331 CCC(C)(CO)CC#C\n",
      "100332 CCC(C)(CO)CC#N\n",
      "100333 CCC(CC)(CC#C)O\n",
      "100334 CCC(CC)(CC#N)O\n",
      "100335 CCC(O)(CO)CC#C\n",
      "100336 CCC(O)(CO)CC#N\n",
      "100337 COC(C)(CO)CC#C\n",
      "100338 COC(C)(CO)CC#N\n",
      "100339 C(C#N)C(CO)(CO)N\n",
      "100340 C#CCC(CO)(CO)O\n",
      "100341 C(C#N)C(CO)(CO)O\n",
      "100342 CC(CC=O)(CO)CO\n"
     ]
    },
    {
     "name": "stderr",
     "output_type": "stream",
     "text": [
      "365it [00:03, 109.55it/s]"
     ]
    },
    {
     "name": "stdout",
     "output_type": "stream",
     "text": [
      "100343 CC(CO)(CO)NC=O\n",
      "100344 CC(CO)(CO)OC=N\n",
      "100345 CC(CO)(CO)OC=O\n",
      "100346 CCC(C)(CC)CC=O\n",
      "100347 CCC(C)(CC)NC=O\n",
      "100348 CCC(C)(CC)OC=O\n",
      "100349 CCC(C)(CC=O)OC\n",
      "100350 CCC(C)(CO)CC=O\n",
      "100351 CCC(C)(CO)NC=O\n",
      "100352 CCC(C)(CO)OC=N\n",
      "100353 CCC(C)(CO)OC=O\n",
      "100354 CCC(CC)(CC=O)O\n",
      "100355 CCC(O)(CO)CC=O\n",
      "100356 COC(C)(CO)CC=O\n",
      "100357 C(C=O)C(CO)(CO)O\n",
      "100358 CC(CN)(NC=O)C#N\n",
      "100359 CC(CN)(OC=N)C#N\n",
      "100360 CC(CN)(OC=O)C#N\n",
      "100361 CC(CO)(CC=O)C#C\n",
      "100362 CC(CO)(CC=O)C#N\n",
      "100363 CC(CO)(NC=O)C#C\n",
      "100364 CC(CO)(NC=O)C#N\n",
      "100365 CC(CO)(OC=N)C#C\n",
      "100366 CC(CO)(OC=N)C#N\n"
     ]
    },
    {
     "name": "stderr",
     "output_type": "stream",
     "text": [
      "391it [00:04, 114.81it/s]"
     ]
    },
    {
     "name": "stdout",
     "output_type": "stream",
     "text": [
      "100367 CC(CO)(OC=O)C#C\n",
      "100368 CC(CO)(OC=O)C#N\n",
      "100369 CCC(C)(CC=O)C#C\n",
      "100370 CCC(C)(CC=O)C#N\n",
      "100371 CCC(C)(NC=O)C#C\n",
      "100372 CCC(C)(NC=O)C#N\n",
      "100373 CCC(C)(OC=N)C#C\n",
      "100374 CCC(C)(OC=N)C#N\n",
      "100375 CCC(C)(OC=O)C#C\n",
      "100376 CCC(C)(OC=O)C#N\n",
      "100377 CCC(O)(CC=O)C#C\n",
      "100378 CCC(O)(CC=O)C#N\n",
      "100379 CNC(C)(CC=O)C#N\n",
      "100380 COC(C)(CC=O)C#C\n",
      "100381 COC(C)(CC=O)C#N\n",
      "100382 OCC(O)(CC=O)C#C\n",
      "100383 OCC(O)(CC=O)C#N\n",
      "100384 CC(CO)(CC=O)C=O\n",
      "100385 CC(CO)(NC=O)C=O\n",
      "100386 CC(CO)(OC=N)C=O\n",
      "100387 CC(CO)(OC=O)C=O\n",
      "100388 CCC(C)(CC=O)C=O\n",
      "100389 CCC(C)(NC=O)C=O\n",
      "100390 CCC(C)(OC=N)C=O\n"
     ]
    },
    {
     "name": "stderr",
     "output_type": "stream",
     "text": [
      "403it [00:04, 110.58it/s]"
     ]
    },
    {
     "name": "stdout",
     "output_type": "stream",
     "text": [
      "100391 CCC(C)(OC=O)C=O\n",
      "100392 CCC(O)(CC=O)C=O\n",
      "100393 COC(C)(CC=O)C=O\n",
      "100394 OCC(O)(CC=O)C=O\n",
      "100395 CC(=NC(C)(C)C)OC\n",
      "100396 CC(N=C(N)CO)C#C\n",
      "100397 CC(N=C(N)CO)C#N\n",
      "100398 COC(C)=NC(C)C#C\n",
      "100399 COC(C)=NC(C)C#N\n",
      "100400 COC(N)=NC(C)C#C\n",
      "100401 COC(N)=NC(C)C#N\n",
      "100402 CC(C=O)N=C(N)CO\n",
      "100403 COC(C)=NC(C)C=O\n",
      "100404 COC(N)=NC(C)C=O\n",
      "100405 CC(=NC1(CC1)C)OC\n",
      "100406 COC(C)=NC1CC1C\n",
      "100407 COC(C)=NC1CC1O\n",
      "100408 COC(N)=NC1CC1O\n",
      "100409 CC(=NC1CCC1)OC\n",
      "100410 CC(=NC1COC1)OC\n",
      "100411 COC(=NC1COC1)N\n",
      "100412 C1C(CO1)N=C(CO)N\n"
     ]
    },
    {
     "name": "stderr",
     "output_type": "stream",
     "text": [
      "428it [00:04, 115.07it/s]"
     ]
    },
    {
     "name": "stdout",
     "output_type": "stream",
     "text": [
      "100413 CC#CCN=C(CO)N\n",
      "100414 CC#CCN=C(C)OC\n",
      "100415 CC#CCN=C(N)OC\n",
      "100416 CC(=O)CN=C(CO)N\n",
      "100417 CCC(N)=[NH+]CC([O-])=O\n",
      "100418 CNC(C)=[NH+]CC([O-])=O\n",
      "100419 CNC(N)=[NH+]CC([O-])=O\n",
      "100420 CC(=O)CN=C(C)OC\n",
      "100421 CC(=NCC(=O)N)OC\n",
      "100422 CC(=O)CN=C(N)OC\n",
      "100423 COC(=NCC(=O)N)N\n",
      "100424 COC(N)=[NH+]CC([O-])=O\n",
      "100425 C(C(=O)N)N=C(CO)N\n",
      "100426 NC(CO)=[NH+]CC([O-])=O\n",
      "100427 NCC(N)=[NH+]CC([O-])=O\n",
      "100428 CC(C)CN=C(C)OC\n",
      "100429 COC(C)=NCC(C)O\n",
      "100430 CC(=NCC1CC1)OC\n",
      "100431 COC(C)=NCC1CN1\n",
      "100432 COC(C)=NCC1CO1\n",
      "100433 CC(=NCCC#C)OC\n",
      "100434 CC(=NCCC#N)OC\n",
      "100435 CC(=NCCC=O)OC\n"
     ]
    },
    {
     "name": "stderr",
     "output_type": "stream",
     "text": [
      "451it [00:04, 103.33it/s]"
     ]
    },
    {
     "name": "stdout",
     "output_type": "stream",
     "text": [
      "100436 CC#CC#CC(C)CO\n",
      "100437 CC#CC#CC(O)CO\n",
      "100438 CCC(C)C#CC#CC\n",
      "100439 CCC(O)C#CC#CC\n",
      "100440 COC(C)C#CC#CC\n",
      "100441 CC(=O)C#CC(O)CO\n",
      "100442 CC(C[NH3+])C#CC([O-])=O\n",
      "100443 CC(CO)C#CC(C)=O\n",
      "100444 CC(CO)C#CC(N)=O\n",
      "100445 CCC(C)C#CC(C)=O\n",
      "100446 CCC(C)C#CC(N)=O\n",
      "100447 CCC([NH3+])C#CC([O-])=O\n",
      "100448 CCC(O)C#CC(C)=O\n",
      "100449 CCC(O)C#CC(N)=O\n",
      "100450 C[NH2+]C(C)C#CC([O-])=O\n",
      "100451 COC(C)C#CC(C)=O\n",
      "100452 COC(C)C#CC(N)=O\n",
      "100453 NC(=O)C#CC(O)CO\n",
      "100454 [NH3+]C(CO)C#CC([O-])=O\n"
     ]
    },
    {
     "name": "stderr",
     "output_type": "stream",
     "text": [
      "462it [00:04, 100.50it/s]"
     ]
    },
    {
     "name": "stdout",
     "output_type": "stream",
     "text": [
      "100455 NC(C[NH3+])C#CC([O-])=O\n",
      "100456 [NH3+]CC(O)C#CC([O-])=O\n",
      "100457 CC(C)C#CC(C)CO\n",
      "100458 CC(C)C#CC(O)CO\n",
      "100459 CC(O)C#CC(C)CO\n",
      "100460 CC(O)C#CC(O)CO\n",
      "100461 CCC(C)C#CC(C)C\n",
      "100462 CCC(C)C#CC(C)O\n",
      "100463 CCC(O)C#CC(C)C\n",
      "100464 CCC(O)C#CC(C)O\n",
      "100465 COC(C)C#CC(C)C\n",
      "100466 COC(C)C#CC(C)O\n",
      "100467 CC(CO)C#CC1CC1\n",
      "100468 CC(CO)C#CC1CN1\n",
      "100469 CC(CO)C#CC1CO1\n",
      "100470 CCC(C)C#CC1CC1\n",
      "100471 CCC(C)C#CC1CN1\n",
      "100472 CCC(C)C#CC1CO1\n"
     ]
    },
    {
     "name": "stderr",
     "output_type": "stream",
     "text": [
      "483it [00:05, 96.02it/s] "
     ]
    },
    {
     "name": "stdout",
     "output_type": "stream",
     "text": [
      "100473 CCC(O)C#CC1CC1\n",
      "100474 CCC(O)C#CC1CN1\n",
      "100475 CCC(O)C#CC1CO1\n",
      "100476 COC(C)C#CC1CC1\n",
      "100477 COC(C)C#CC1CN1\n",
      "100478 COC(C)C#CC1CO1\n",
      "100479 OCC(O)C#CC1CC1\n",
      "100480 OCC(O)C#CC1CN1\n",
      "100481 OCC(O)C#CC1CO1\n",
      "100482 CC(CO)C#CCC#C\n",
      "100483 CC(CO)C#CCC#N\n",
      "100484 CCC(C)C#CCC#C\n",
      "100485 CCC(C)C#CCC#N\n",
      "100486 CCC(O)C#CCC#C\n",
      "100487 CCC(O)C#CCC#N\n",
      "100488 COC(C)C#CCC#C\n",
      "100489 COC(C)C#CCC#N\n",
      "100490 OCC(O)C#CCC#C\n",
      "100491 OCC(O)C#CCC#N\n",
      "100492 CC(CO)C#CCC=O\n"
     ]
    },
    {
     "name": "stderr",
     "output_type": "stream",
     "text": [
      "504it [00:05, 99.82it/s]"
     ]
    },
    {
     "name": "stdout",
     "output_type": "stream",
     "text": [
      "100493 CCC(C)C#CCC=O\n",
      "100494 CCC(O)C#CCC=O\n",
      "100495 COC(C)C#CCC=O\n",
      "100496 OCC(O)C#CCC=O\n",
      "100497 CC#CC(=O)C(C)CO\n",
      "100498 CC#CC(=O)C(O)CO\n",
      "100499 CCC(C)C(=O)C#CC\n",
      "100500 CCC(O)C(=O)C#CC\n",
      "100501 CCN(C)C(=O)C#CC\n",
      "100502 COC(C)C(=O)C#CC\n",
      "100503 CC(=O)C(=O)C(O)CO\n",
      "100504 CC(CO)C(=O)C(C)=O\n",
      "100505 CC(CO)C(=O)C(N)=N\n",
      "100506 CC(CO)C(=O)C(N)=O\n",
      "100507 CCC(C)C(=O)C(C)=O\n",
      "100508 CCC(C)C(=O)C(N)=N\n",
      "100509 CCC(C)C(=O)C(N)=O\n",
      "100510 CCC(O)C(=O)C(C)=O\n",
      "100511 CCC(O)C(=O)C(N)=N\n",
      "100512 CCC(O)C(=O)C(N)=O\n",
      "100513 CCN(C)C(=N)C(=O)C\n",
      "100514 CCN(C)C(=[NH2+])C([O-])=O\n",
      "100515 CCN(C)C(=O)C(=O)C\n",
      "100516 CCN(C)C(=O)C(=N)N\n",
      "100517 CCN(C)C(=O)C(=O)N\n"
     ]
    },
    {
     "name": "stderr",
     "output_type": "stream",
     "text": [
      "531it [00:05, 114.76it/s]"
     ]
    },
    {
     "name": "stdout",
     "output_type": "stream",
     "text": [
      "100518 C[NH2+]C(C)C(=O)C([O-])=O\n",
      "100519 COC(C)C(=O)C(C)=O\n",
      "100520 COC(C)C(=O)C(N)=N\n",
      "100521 COC(C)C(=O)C(N)=O\n",
      "100522 NC(=N)C(=O)C(O)CO\n",
      "100523 NC(=O)C(=O)C(O)CO\n",
      "100524 CC(C)C(=O)C(C)CO\n",
      "100525 CC(C)C(=O)C(O)CO\n",
      "100526 CC(CO)C(=O)N(C)C\n",
      "100527 CC(O)C(=O)C(C)CO\n",
      "100528 CC(O)C(=O)C(O)CO\n",
      "100529 CCC(C)C(=O)C(C)C\n",
      "100530 CCC(C)C(=O)C(C)O\n",
      "100531 CCC(C)C(=O)N(C)C\n",
      "100532 CCC(O)C(=O)C(C)C\n",
      "100533 CCC(O)C(=O)C(C)O\n",
      "100534 CCC(O)C(=O)N(C)C\n",
      "100535 CCN(C)C(=O)C(C)C\n",
      "100536 CCN(C)C(=O)C(C)O\n",
      "100537 CCN(C)C(=O)N(C)C\n",
      "100538 CN(C)C(=O)C(O)CO\n",
      "100539 COC(C)C(=O)C(C)C\n",
      "100540 COC(C)C(=O)C(C)O\n",
      "100541 COC(C)C(=O)N(C)C\n"
     ]
    },
    {
     "name": "stderr",
     "output_type": "stream",
     "text": [
      "555it [00:05, 113.57it/s]"
     ]
    },
    {
     "name": "stdout",
     "output_type": "stream",
     "text": [
      "100542 CC(CO)C(=O)C1CC1\n",
      "100543 CC(CO)C(=O)C1CN1\n",
      "100544 CC(CO)C(=O)C1CO1\n",
      "100545 CC(CO)C(=O)N1CC1\n",
      "100546 CCC(C)C(=O)C1CC1\n",
      "100547 CCC(C)C(=O)C1CN1\n",
      "100548 CCC(C)C(=O)C1CO1\n",
      "100549 CCC(C)C(=O)N1CC1\n",
      "100550 CCC(O)C(=O)C1CC1\n",
      "100551 CCC(O)C(=O)C1CN1\n",
      "100552 CCC(O)C(=O)C1CO1\n",
      "100553 CCC(O)C(=O)N1CC1\n",
      "100554 CCN(C)C(=O)C1CC1\n",
      "100555 CCN(C)C(=O)C1CN1\n",
      "100556 CCN(C)C(=O)C1CO1\n",
      "100557 CCN(C)C(=O)N1CC1\n",
      "100558 COC(C)C(=O)C1CC1\n",
      "100559 COC(C)C(=O)C1CN1\n",
      "100560 COC(C)C(=O)C1CO1\n",
      "100561 COC(C)C(=O)N1CC1\n",
      "100562 OCC(O)C(=O)C1CC1\n",
      "100563 OCC(O)C(=O)C1CN1\n",
      "100564 OCC(O)C(=O)C1CO1\n",
      "100565 OCC(O)C(=O)N1CC1\n",
      "100566 CC(CO)C(=O)CC#C\n"
     ]
    },
    {
     "name": "stderr",
     "output_type": "stream",
     "text": [
      "581it [00:05, 115.16it/s]"
     ]
    },
    {
     "name": "stdout",
     "output_type": "stream",
     "text": [
      "100567 CC(CO)C(=O)CC#N\n",
      "100568 CCC(C)C(=O)CC#C\n",
      "100569 CCC(C)C(=O)CC#N\n",
      "100570 CCC(O)C(=O)CC#C\n",
      "100571 CCC(O)C(=O)CC#N\n",
      "100572 CCN(C)C(=O)CC#C\n",
      "100573 CCN(C)C(=O)CC#N\n",
      "100574 COC(C)C(=O)CC#C\n",
      "100575 COC(C)C(=O)CC#N\n",
      "100576 OCC(O)C(=O)CC#C\n",
      "100577 OCC(O)C(=O)CC#N\n",
      "100578 CC(CO)C(=N)NC=O\n",
      "100579 CC(CO)C(=O)CC=O\n",
      "100580 CC(CO)C(=O)NC=N\n",
      "100581 CC(CO)C(=O)NC=O\n",
      "100582 CC(CO)C(=O)OC=N\n",
      "100583 CCC(C)C(=N)NC=O\n",
      "100584 CCC(C)C(=O)CC=O\n",
      "100585 CCC(C)C(=O)NC=N\n",
      "100586 CCC(C)C(=O)NC=O\n",
      "100587 CCC(C)C(=O)OC=N\n",
      "100588 CCC(N)C(=O)NC=O\n"
     ]
    },
    {
     "name": "stderr",
     "output_type": "stream",
     "text": [
      "608it [00:06, 123.04it/s]"
     ]
    },
    {
     "name": "stdout",
     "output_type": "stream",
     "text": [
      "100589 CCC(N)C(=O)OC=N\n",
      "100590 CCC(O)C(=N)NC=O\n",
      "100591 CCC(O)C(=O)CC=O\n",
      "100592 CCC(O)C(=O)NC=N\n",
      "100593 CCC(O)C(=O)NC=O\n",
      "100594 CCC(O)C(=O)OC=N\n",
      "100595 CCN(C)C(=O)CC=O\n",
      "100596 CCN(C)C(=O)NC=N\n",
      "100597 CCN(C)C(=O)NC=O\n",
      "100598 CCN(C)C(=O)OC=N\n",
      "100599 CNC(C)C(=O)OC=N\n",
      "100600 COC(C)C(=N)NC=O\n",
      "100601 COC(C)C(=O)CC=O\n",
      "100602 COC(C)C(=O)NC=N\n",
      "100603 COC(C)C(=O)NC=O\n",
      "100604 COC(C)C(=O)OC=N\n",
      "100605 NC(CO)C(=O)NC=O\n",
      "100606 NC(CO)C(=O)OC=N\n",
      "100607 OCC(O)C(=N)NC=O\n",
      "100608 OCC(O)C(=O)CC=O\n",
      "100609 OCC(O)C(=O)NC=N\n",
      "100610 OCC(O)C(=O)NC=O\n",
      "100611 OCC(O)C(=O)OC=N\n",
      "100612 CCN(C)C(=NC)C#N\n",
      "100613 CC(CO)C(C#C)C#C\n",
      "100614 CC(CO)C(C#C)C#N\n",
      "100615 CCC(C)C(C#C)C#C\n"
     ]
    },
    {
     "name": "stderr",
     "output_type": "stream",
     "text": [
      "633it [00:06, 110.94it/s]"
     ]
    },
    {
     "name": "stdout",
     "output_type": "stream",
     "text": [
      "100616 CCC(C)C(C#C)C#N\n",
      "100617 CCC(C)C(C#N)C#N\n",
      "100618 CCC(O)C(C#C)C#C\n",
      "100619 CCC(O)C(C#C)C#N\n",
      "100620 CCN(C)C(C#C)C#N\n",
      "100621 CCN(C)C(C#N)C#N\n",
      "100622 COC(C)C(C#C)C#C\n",
      "100623 COC(C)C(C#C)C#N\n",
      "100624 NC(CO)C(C#C)C#N\n",
      "100625 NC(C[NH3+])[C-](C#N)C#N\n",
      "100626 [NH3+]CC(O)[C-](C#N)C#N\n",
      "100627 OCC(O)C(C#C)C#C\n",
      "100628 OCC(O)C(C#C)C#N\n",
      "100629 CC(C)(C#C)C(O)CO\n",
      "100630 CC(C)(C#N)C(O)CO\n",
      "100631 CC(CO)C(C)(C)C#C\n",
      "100632 CC(CO)C(C)(C)C#N\n",
      "100633 CC(CO)C(C)(N)C#N\n",
      "100634 CC(CO)C(C)(O)C#C\n",
      "100635 CC(CO)C(C)(O)C#N\n",
      "100636 CC(N)(C#N)C(N)CO\n"
     ]
    },
    {
     "name": "stderr",
     "output_type": "stream",
     "text": [
      "645it [00:06, 104.60it/s]"
     ]
    },
    {
     "name": "stdout",
     "output_type": "stream",
     "text": [
      "100637 CC(N)(C#N)C(O)CO\n",
      "100638 CC(O)(C#C)C(O)CO\n",
      "100639 CC(O)(C#N)C(N)CO\n",
      "100640 CC(O)(C#N)C(O)CO\n",
      "100641 CCC(C)C(C)(C)C#C\n",
      "100642 CCC(C)C(C)(C)C#N\n",
      "100643 CCC(C)C(C)(N)C#N\n",
      "100644 CCC(C)C(C)(O)C#C\n",
      "100645 CCC(C)C(C)(O)C#N\n",
      "100646 CCC(O)C(C)(C)C#C\n",
      "100647 CCC(O)C(C)(C)C#N\n",
      "100648 CCC(O)C(C)(N)C#N\n",
      "100649 CCC(O)C(C)(O)C#C\n",
      "100650 CCC(O)C(C)(O)C#N\n",
      "100651 CCN(C)C(C)(C)C#N\n",
      "100652 COC(C)C(C)(C)C#C\n",
      "100653 COC(C)C(C)(C)C#N\n",
      "100654 COC(C)C(C)(N)C#N\n"
     ]
    },
    {
     "name": "stderr",
     "output_type": "stream",
     "text": [
      "668it [00:06, 103.47it/s]"
     ]
    },
    {
     "name": "stdout",
     "output_type": "stream",
     "text": [
      "100655 COC(C)C(C)(O)C#C\n",
      "100656 COC(C)C(C)(O)C#N\n",
      "100657 CC(C)(C=O)C(O)CO\n",
      "100658 CC(CO)C(C)(C)C=O\n",
      "100659 CC(CO)C(C)(O)C=O\n",
      "100660 CC(O)(C=O)C(O)CO\n",
      "100661 CCC(C)C(C)(C)C=O\n",
      "100662 CCC(C)C(C)(O)C=O\n",
      "100663 CCC(O)C(C)(C)C=O\n",
      "100664 CCC(O)C(C)(O)C=O\n",
      "100665 COC(C)C(C)(C)C=O\n",
      "100666 COC(C)C(C)(O)C=O\n",
      "100667 CC(C)(CO)C(O)CO\n",
      "100668 CC(CO)C(C)(C)CO\n",
      "100669 CC(CO)C(C)(O)CO\n",
      "100670 CC(O)(CO)C(O)CO\n",
      "100671 CCC(C)(C)C(C)CO\n",
      "100672 CCC(C)(C)C(C)OC\n",
      "100673 CCC(C)(C)C(O)CO\n",
      "100674 CCC(C)(O)C(C)CO\n",
      "100675 CCC(C)(O)C(C)OC\n"
     ]
    },
    {
     "name": "stderr",
     "output_type": "stream",
     "text": [
      "689it [00:06, 97.48it/s] "
     ]
    },
    {
     "name": "stdout",
     "output_type": "stream",
     "text": [
      "100676 CCC(C)(O)C(O)CO\n",
      "100677 CCC(C)C(C)(C)CC\n",
      "100678 CCC(C)C(C)(C)CO\n",
      "100679 CCC(C)C(C)(C)OC\n",
      "100680 CCC(C)C(C)(O)CC\n",
      "100681 CCC(C)C(C)(O)CO\n",
      "100682 CCC(O)C(C)(C)CC\n",
      "100683 CCC(O)C(C)(C)CO\n",
      "100684 CCC(O)C(C)(C)OC\n",
      "100685 CCC(O)C(C)(O)CC\n",
      "100686 CCC(O)C(C)(O)CO\n",
      "100687 COC(C)(C)C(C)CO\n",
      "100688 COC(C)(C)C(O)CO\n",
      "100689 COC(C)C(C)(C)CO\n",
      "100690 COC(C)C(C)(C)OC\n",
      "100691 COC(C)C(C)(O)CO\n",
      "100692 CC#CC(C)C(C)CO\n",
      "100693 CC#CC(C)C(O)CO\n",
      "100694 CC#CC(O)C(C)CO\n"
     ]
    },
    {
     "name": "stderr",
     "output_type": "stream",
     "text": [
      "711it [00:07, 98.51it/s]"
     ]
    },
    {
     "name": "stdout",
     "output_type": "stream",
     "text": [
      "100695 CC#CC(O)C(O)CO\n",
      "100696 CCC(C)C(C)C#CC\n",
      "100697 CCC(C)C(O)C#CC\n",
      "100698 CCC(O)C(C)C#CC\n",
      "100699 CCC(O)C(O)C#CC\n",
      "100700 COC(C)C(C)C#CC\n",
      "100701 COC(C)C(O)C#CC\n",
      "100702 CC(=O)C(O)C(O)CO\n",
      "100703 CC(C([NH3+])CN)C([O-])=O\n",
      "100704 CC(C([NH3+])CO)C([O-])=O\n",
      "100705 CC(C(O)C[NH3+])C([O-])=O\n",
      "100706 CC(C(O)CO)C(C)=O\n",
      "100707 CC(C(O)CO)C(N)=O\n",
      "100708 CC(C[NH3+])C(C)C([O-])=O\n",
      "100709 CC(C[NH3+])C(O)C([O-])=O\n",
      "100710 CC(CO)C(C)C(C)=O\n",
      "100711 CC(CO)C(C)C(N)=O\n",
      "100712 CC(CO)C([NH3+])C([O-])=O\n",
      "100713 CC(CO)C(O)C(C)=O\n",
      "100714 CC(CO)C(O)C(N)=O\n",
      "100715 CC(CO)N(C)C(C)=O\n"
     ]
    },
    {
     "name": "stderr",
     "output_type": "stream",
     "text": [
      "734it [00:07, 104.32it/s]"
     ]
    },
    {
     "name": "stdout",
     "output_type": "stream",
     "text": [
      "100716 CC(CO)N(C)C(N)=O\n",
      "100717 CCC(C)C(C)C(C)=O\n",
      "100718 CCC(C)C(C)C(N)=O\n",
      "100719 CCC(C)C([NH3+])C([O-])=O\n",
      "100720 CCC(C)C(O)C(C)=O\n",
      "100721 CCC(C)C(O)C(N)=O\n",
      "100722 CCC(C)N(C)C(C)=O\n",
      "100723 CCC(C)N(C)C(N)=O\n",
      "100724 CCC([NH3+])C(C)C([O-])=O\n",
      "100725 CCC([NH3+])C(N)C([O-])=O\n",
      "100726 CCC([NH3+])C(O)C([O-])=O\n",
      "100727 CCC(O)C(C)C(C)=O\n",
      "100728 CCC(O)C(C)C(N)=O\n",
      "100729 CCC(O)C([NH3+])C([O-])=O\n",
      "100730 CCC(O)C(O)C(C)=O\n",
      "100731 CCC(O)C(O)C(N)=O\n",
      "100732 CC[NH+](C)C(C)C([O-])=O\n",
      "100733 C[NH2+]C(C)C(C)C([O-])=O\n",
      "100734 C[NH2+]C(C)C(N)C([O-])=O\n",
      "100735 C[NH2+]C(C)C(O)C([O-])=O\n",
      "100736 COC(C)C(C)C(C)=O\n",
      "100737 COC(C)C(C)C(N)=O\n",
      "100738 COC(C)C([NH3+])C([O-])=O\n"
     ]
    },
    {
     "name": "stderr",
     "output_type": "stream",
     "text": [
      "748it [00:07, 112.16it/s]"
     ]
    },
    {
     "name": "stdout",
     "output_type": "stream",
     "text": [
      "100739 COC(C)C(O)C(C)=O\n",
      "100740 COC(C)C(O)C(N)=O\n",
      "100741 NC(=O)C(O)C(O)CO\n",
      "100742 [NH3+]C(C(O)CO)C([O-])=O\n",
      "100743 NC(C([NH3+])CO)C([O-])=O\n",
      "100744 [NH3+]C(CO)C(O)C([O-])=O\n",
      "100745 NCC([NH3+])C(O)C([O-])=O\n",
      "100746 [NH3+]CC(O)C(O)C([O-])=O\n",
      "100747 CC(C)C(C)C(C)CO\n",
      "100748 CC(C)C(C)C(O)CO\n",
      "100749 CC(C)C(O)C(C)CO\n",
      "100750 CC(C)C(O)C(O)CO\n",
      "100751 CC(O)C(C)C(C)CO\n",
      "100752 CC(O)C(C)C(O)CO\n",
      "100753 CC(O)C(O)C(C)CO\n",
      "100754 CC(O)C(O)C(O)CO\n",
      "100755 CCC(C)C(C)C(C)C\n",
      "100756 CCC(C)C(C)C(C)O\n",
      "100757 CCC(C)C(O)C(C)C\n",
      "100758 CCC(C)C(O)C(C)O\n",
      "100759 CCC(O)C(C)C(C)C\n"
     ]
    },
    {
     "name": "stderr",
     "output_type": "stream",
     "text": [
      "771it [00:07, 102.05it/s]"
     ]
    },
    {
     "name": "stdout",
     "output_type": "stream",
     "text": [
      "100760 CCC(O)C(C)C(C)O\n",
      "100761 CCC(O)C(O)C(C)C\n",
      "100762 CCC(O)C(O)C(C)O\n",
      "100763 COC(C)C(C)C(C)C\n",
      "100764 COC(C)C(C)C(C)O\n",
      "100765 COC(C)C(O)C(C)C\n",
      "100766 COC(C)C(O)C(C)O\n",
      "100767 CC(C(O)CO)C1CC1\n",
      "100768 CC(C(O)CO)C1CN1\n",
      "100769 CC(C(O)CO)C1CO1\n",
      "100770 CC(C(O)CO)N1CC1\n",
      "100771 CC(CO)C(C)C1CC1\n",
      "100772 CC(CO)C(C)C1CO1\n",
      "100773 CC(CO)C(C)N1CC1\n",
      "100774 CC(CO)C(O)C1CC1\n",
      "100775 CC(CO)C(O)C1CN1\n",
      "100776 CC(CO)C(O)C1CO1\n",
      "100777 CCC(C)C(C)C1CC1\n",
      "100778 CCC(C)C(C)C1CO1\n",
      "100779 CCC(C)C(O)C1CC1\n"
     ]
    },
    {
     "name": "stderr",
     "output_type": "stream",
     "text": [
      "793it [00:07, 102.35it/s]"
     ]
    },
    {
     "name": "stdout",
     "output_type": "stream",
     "text": [
      "100780 CCC(C)C(O)C1CN1\n",
      "100781 CCC(C)C(O)C1CO1\n",
      "100782 CCC(O)C(C)C1CC1\n",
      "100783 CCC(O)C(C)C1CO1\n",
      "100784 CCC(O)C(C)N1CC1\n",
      "100785 CCC(O)C(O)C1CC1\n",
      "100786 CCC(O)C(O)C1CN1\n",
      "100787 CCC(O)C(O)C1CO1\n",
      "100788 COC(C)C(C)C1CC1\n",
      "100789 COC(C)C(C)C1CO1\n",
      "100790 COC(C)C(C)N1CC1\n",
      "100791 COC(C)C(O)C1CC1\n",
      "100792 COC(C)C(O)C1CN1\n",
      "100793 COC(C)C(O)C1CO1\n",
      "100794 OCC(O)C(O)C1CC1\n",
      "100795 OCC(O)C(O)C1CN1\n",
      "100796 OCC(O)C(O)C1CO1\n",
      "100797 CC(CC#C)C(O)CO\n",
      "100798 CC(CC#N)C(O)CO\n",
      "100799 CC(CO)C(C)CC#C\n",
      "100800 CC(CO)C(C)CC#N\n"
     ]
    },
    {
     "name": "stderr",
     "output_type": "stream",
     "text": [
      "815it [00:08, 93.03it/s] "
     ]
    },
    {
     "name": "stdout",
     "output_type": "stream",
     "text": [
      "100801 CC(CO)C(O)CC#C\n",
      "100802 CC(CO)C(O)CC#N\n",
      "100803 CC(CO)N(C)CC#N\n",
      "100804 CCC(C)C(C)CC#C\n",
      "100805 CCC(C)C(C)CC#N\n",
      "100806 CCC(C)C(O)CC#C\n",
      "100807 CCC(C)C(O)CC#N\n",
      "100808 CCC(C)N(C)CC#N\n",
      "100809 CCC(O)C(C)CC#C\n",
      "100810 CCC(O)C(C)CC#N\n",
      "100811 CCC(O)C(O)CC#C\n",
      "100812 CCC(O)C(O)CC#N\n",
      "100813 COC(C)C(C)CC#C\n",
      "100814 COC(C)C(C)CC#N\n",
      "100815 COC(C)C(O)CC#C\n",
      "100816 COC(C)C(O)CC#N\n",
      "100817 NC(CC#N)C(O)CO\n"
     ]
    },
    {
     "name": "stderr",
     "output_type": "stream",
     "text": [
      "839it [00:08, 102.36it/s]"
     ]
    },
    {
     "name": "stdout",
     "output_type": "stream",
     "text": [
      "100818 OCC(O)C(O)CC#C\n",
      "100819 OCC(O)C(O)CC#N\n",
      "100820 CC(CC=O)C(O)CO\n",
      "100821 CC(CO)C(C)CC=O\n",
      "100822 CC(CO)C(C)NC=O\n",
      "100823 CC(CO)C(C)OC=O\n",
      "100824 CC(CO)C(O)CC=O\n",
      "100825 CC(CO)N(C)CC=O\n",
      "100826 CC(NC=O)C(O)CO\n",
      "100827 CC(OC=N)C(O)CO\n",
      "100828 CC(OC=O)C(O)CO\n",
      "100829 CCC(C)C(C)CC=O\n",
      "100830 CCC(C)C(C)NC=O\n",
      "100831 CCC(C)C(C)OC=O\n",
      "100832 CCC(C)C(O)CC=O\n",
      "100833 CCC(O)C(C)CC=O\n",
      "100834 CCC(O)C(C)NC=O\n",
      "100835 CCC(O)C(C)OC=O\n",
      "100836 CCC(O)C(O)CC=O\n",
      "100837 COC(C)C(C)CC=O\n",
      "100838 COC(C)C(C)NC=O\n",
      "100839 COC(C)C(C)OC=O\n",
      "100840 COC(C)C(O)CC=O\n",
      "100841 OCC(O)C(O)CC=O\n"
     ]
    },
    {
     "name": "stderr",
     "output_type": "stream",
     "text": [
      "865it [00:08, 115.09it/s]"
     ]
    },
    {
     "name": "stdout",
     "output_type": "stream",
     "text": [
      "100842 CCN(C)C(=NC)C=O\n",
      "100843 CC(CO)C(C=O)C#C\n",
      "100844 CC(CO)C(C=O)C#N\n",
      "100845 CCC(C)C(C=O)C#C\n",
      "100846 CCC(C)C(C=O)C#N\n",
      "100847 CCC(O)C(C=O)C#C\n",
      "100848 CCC(O)C(C=O)C#N\n",
      "100849 CCN(C)C(C=O)C#C\n",
      "100850 CCN(C)C(C=O)C#N\n",
      "100851 COC(C)C(C=O)C#C\n",
      "100852 COC(C)C(C=O)C#N\n",
      "100853 OCC(O)C(C=O)C#C\n",
      "100854 OCC(O)C(C=O)C#N\n",
      "100855 CC(CO)C(C=O)C=O\n",
      "100856 CC(CO)N(C=N)C=O\n",
      "100857 CC(CO)N(C=O)C=O\n",
      "100858 CCC(C)C(C=O)C=O\n",
      "100859 CCC(C)N(C=N)C=O\n",
      "100860 CCC(C)N(C=O)C=O\n",
      "100861 CCC(O)C(C=O)C=O\n",
      "100862 CCN(C)C(C=O)C=O\n",
      "100863 COC(C)C(C=O)C=O\n",
      "100864 OCC(O)C(C=O)C=O\n",
      "100865 CC(CO)C(CO)C#C\n",
      "100866 CC(CO)C(CO)C#N\n"
     ]
    },
    {
     "name": "stderr",
     "output_type": "stream",
     "text": [
      "877it [00:08, 103.61it/s]"
     ]
    },
    {
     "name": "stdout",
     "output_type": "stream",
     "text": [
      "100867 CCC(C#C)C(C)CO\n",
      "100868 CCC(C#C)C(C)OC\n",
      "100869 CCC(C#C)C(O)CO\n",
      "100870 CCC(C#N)C(C)CO\n",
      "100871 CCC(C#N)C(C)OC\n",
      "100872 CCC(C#N)C(O)CO\n",
      "100873 CCC(C#N)N(C)CC\n",
      "100874 CCC(C)C(CC)C#C\n",
      "100875 CCC(C)C(CC)C#N\n",
      "100876 CCC(C)C(CO)C#C\n",
      "100877 CCC(C)C(CO)C#N\n",
      "100878 CCC(C)C(NC)C#N\n",
      "100879 CCC(C)C(OC)C#C\n",
      "100880 CCC(C)C(OC)C#N\n",
      "100881 CCC(N)C(NC)C#N\n",
      "100882 CCC(O)C(CC)C#C\n",
      "100883 CCC(O)C(CC)C#N\n"
     ]
    },
    {
     "name": "stderr",
     "output_type": "stream",
     "text": [
      "898it [00:09, 94.20it/s] "
     ]
    },
    {
     "name": "stdout",
     "output_type": "stream",
     "text": [
      "100884 CCC(O)C(CO)C#C\n",
      "100885 CCC(O)C(CO)C#N\n",
      "100886 CCC(O)C(NC)C#N\n",
      "100887 CCC(O)C(OC)C#C\n",
      "100888 CCC(O)C(OC)C#N\n",
      "100889 CCN(C)C(CN)C#N\n",
      "100890 CCN(C)C(CO)C#N\n",
      "100891 CNC(C#N)C(C)CO\n",
      "100892 CNC(C#N)C(C)OC\n",
      "100893 CNC(C#N)C(N)CO\n",
      "100894 CNC(C#N)C(O)CO\n",
      "100895 CNC(C)C(NC)C#N\n",
      "100896 CNC(C)C(OC)C#N\n",
      "100897 COC(C#C)C(C)CO\n",
      "100898 COC(C#C)C(O)CO\n",
      "100899 COC(C#N)C(C)CO\n",
      "100900 COC(C#N)C(N)CO\n",
      "100901 COC(C#N)C(O)CO\n"
     ]
    },
    {
     "name": "stderr",
     "output_type": "stream",
     "text": [
      "908it [00:09, 90.07it/s]"
     ]
    },
    {
     "name": "stdout",
     "output_type": "stream",
     "text": [
      "100902 COC(C)C(CO)C#C\n",
      "100903 COC(C)C(CO)C#N\n",
      "100904 COC(C)C(OC)C#C\n",
      "100905 COC(C)C(OC)C#N\n",
      "100906 NC(CO)C(CO)C#N\n",
      "100907 NCC(C#N)C(O)CO\n",
      "100908 OCC(O)C(CO)C#C\n",
      "100909 OCC(O)C(CO)C#N\n",
      "100910 CC(CO)C(CO)C=O\n",
      "100911 CCC(C)C(CC)C=O\n",
      "100912 CCC(C)C(CO)C=O\n",
      "100913 CCC(C)C(OC)C=O\n",
      "100914 CCC(C)N(CC)C=O\n",
      "100915 CCC(C=O)C(C)CO\n",
      "100916 CCC(C=O)C(C)OC\n",
      "100917 CCC(C=O)C(O)CO\n"
     ]
    },
    {
     "name": "stderr",
     "output_type": "stream",
     "text": [
      "927it [00:09, 87.11it/s]"
     ]
    },
    {
     "name": "stdout",
     "output_type": "stream",
     "text": [
      "100918 CCC(O)C(CC)C=O\n",
      "100919 CCC(O)C(CO)C=O\n",
      "100920 CCC(O)C(OC)C=O\n",
      "100921 CCN(C)C(CO)C=O\n",
      "100922 CCN(C=O)C(C)CO\n",
      "100923 COC(C)C(CO)C=O\n",
      "100924 COC(C)C(OC)C=O\n",
      "100925 COC(C=O)C(C)CO\n",
      "100926 COC(C=O)C(O)CO\n",
      "100927 OCC(O)C(CO)C=O\n",
      "100928 CC(CO)C(CO)CO\n",
      "100929 CCC(C)C(CC)CC\n",
      "100930 CCC(C)C(CC)CO\n",
      "100931 CCC(C)C(CC)OC\n",
      "100932 CCC(C)C(CO)CO\n"
     ]
    },
    {
     "name": "stderr",
     "output_type": "stream",
     "text": [
      "944it [00:09, 69.80it/s]"
     ]
    },
    {
     "name": "stdout",
     "output_type": "stream",
     "text": [
      "100933 CCC(C)C(CO)OC\n",
      "100934 CCC(CC)C(C)CO\n",
      "100935 CCC(CC)C(C)OC\n",
      "100936 CCC(CC)C(O)CO\n",
      "100937 CCC(CO)C(C)CO\n",
      "100938 CCC(CO)C(C)OC\n",
      "100939 CCC(CO)C(O)CO\n",
      "100940 CCC(O)C(CC)CC\n",
      "100941 CCC(O)C(CC)CO\n",
      "100942 CCC(O)C(CC)OC\n",
      "100943 CCC(O)C(CO)CO\n",
      "100944 CCC(O)C(CO)OC\n"
     ]
    },
    {
     "name": "stderr",
     "output_type": "stream",
     "text": [
      "952it [00:09, 68.11it/s]"
     ]
    },
    {
     "name": "stdout",
     "output_type": "stream",
     "text": [
      "100945 CCC(OC)C(C)CO\n",
      "100946 CCC(OC)C(C)OC\n",
      "100947 CCC(OC)C(O)CO\n",
      "100948 COC(C)C(CO)CO\n",
      "100949 COC(C)C(CO)OC\n",
      "100950 COC(CO)C(C)CO\n",
      "100951 COC(CO)C(O)CO\n",
      "100952 OCC(O)C(CO)CO\n",
      "100953 CC(CO)C1(C)CC1C\n",
      "100954 CC(CO)C1(C)CC1O\n",
      "100955 CC(CO)C1(C)CN1C\n",
      "100956 CC(CO)C1(C)OC1C\n",
      "100957 CC(CO)C1(O)CC1C\n"
     ]
    },
    {
     "name": "stderr",
     "output_type": "stream",
     "text": [
      "966it [00:10, 65.87it/s]"
     ]
    },
    {
     "name": "stdout",
     "output_type": "stream",
     "text": [
      "100958 CC(CO)C1(O)CC1O\n",
      "100959 CC1(CC1O)C(O)CO\n",
      "100960 CC1CC1(C)C(O)CO\n",
      "100961 CC1CC1(O)C(O)CO\n",
      "100962 CC1NC1(C)C(O)CO\n",
      "100963 CC1OC1(C)C(O)CO\n",
      "100964 CCC(C)C1(C)CC1C\n",
      "100965 CCC(C)C1(C)CC1O\n",
      "100966 CCC(C)C1(C)CN1C\n",
      "100967 CCC(C)C1(C)OC1C\n",
      "100968 CCC(C)C1(O)CC1C\n",
      "100969 CCC(C)C1(O)CC1O\n",
      "100970 CCC(O)C1(C)CC1C\n"
     ]
    },
    {
     "name": "stderr",
     "output_type": "stream",
     "text": [
      "980it [00:10, 64.43it/s]"
     ]
    },
    {
     "name": "stdout",
     "output_type": "stream",
     "text": [
      "100971 CCC(O)C1(C)CC1O\n",
      "100972 CCC(O)C1(C)CN1C\n",
      "100973 CCC(O)C1(C)NC1C\n",
      "100974 CCC(O)C1(C)OC1C\n",
      "100975 CCC(O)C1(O)CC1C\n",
      "100976 CCC(O)C1(O)CC1O\n",
      "100977 CN1CC1(C)C(O)CO\n",
      "100978 COC(C)C1(C)CC1C\n",
      "100979 COC(C)C1(C)CC1O\n",
      "100980 COC(C)C1(C)CN1C\n",
      "100981 COC(C)C1(C)NC1C\n",
      "100982 COC(C)C1(C)OC1C\n",
      "100983 COC(C)C1(O)CC1C\n",
      "100984 COC(C)C1(O)CC1O\n"
     ]
    },
    {
     "name": "stderr",
     "output_type": "stream",
     "text": [
      "995it [00:10, 66.57it/s]"
     ]
    },
    {
     "name": "stdout",
     "output_type": "stream",
     "text": [
      "100985 OCC(O)C1(O)CC1O\n",
      "100986 CC(CO)C1(C)CCC1\n",
      "100987 CC(CO)C1(C)CCO1\n",
      "100988 CC(CO)C1(C)COC1\n",
      "100989 CC(CO)C1(O)CCC1\n",
      "100990 CC(CO)C1(O)COC1\n",
      "100991 CC1(CCC1)C(O)CO\n",
      "100992 CC1(CCO1)C(O)CO\n",
      "100993 CC1(COC1)C(O)CO\n",
      "100994 CCC(C)C1(C)CCC1\n",
      "100995 CCC(C)C1(C)CCO1\n",
      "100996 CCC(C)C1(C)COC1\n",
      "100997 CCC(C)C1(O)CCC1\n",
      "100998 CCC(C)C1(O)COC1\n"
     ]
    },
    {
     "name": "stderr",
     "output_type": "stream",
     "text": [
      "1000it [00:10, 94.68it/s]"
     ]
    },
    {
     "name": "stdout",
     "output_type": "stream",
     "text": [
      "100999 CCC(O)C1(C)CCC1\n",
      "NUM MOLECULES SKIPPED 0, 0.00% of the data\n"
     ]
    },
    {
     "name": "stderr",
     "output_type": "stream",
     "text": [
      "\n",
      "Done!\n"
     ]
    }
   ],
   "source": [
    "from datasets import QM9Dataset\n",
    "import os\n",
    "\n",
    "root= \"../data/qm9\"\n",
    "! rm -rf ../data/qm9/processed\n",
    "\n",
    "data = QM9Dataset(root=root, begin_index=100000, end_index=101000)\n"
   ]
  },
  {
   "cell_type": "code",
   "execution_count": 2,
   "metadata": {},
   "outputs": [
    {
     "name": "stderr",
     "output_type": "stream",
     "text": [
      "Processing...\n"
     ]
    },
    {
     "name": "stdout",
     "output_type": "stream",
     "text": [
      "Index(['Class', 'pIC50'], dtype='object')\n"
     ]
    },
    {
     "name": "stderr",
     "output_type": "stream",
     "text": [
      "0it [00:00, ?it/s]"
     ]
    },
    {
     "name": "stdout",
     "output_type": "stream",
     "text": [
      "NUM MOLECULES SKIPPED 0, 0.00% of the data\n"
     ]
    },
    {
     "name": "stderr",
     "output_type": "stream",
     "text": [
      "\n"
     ]
    },
    {
     "ename": "IndexError",
     "evalue": "list index out of range",
     "output_type": "error",
     "traceback": [
      "\u001b[0;31m---------------------------------------------------------------------------\u001b[0m",
      "\u001b[0;31mIndexError\u001b[0m                                Traceback (most recent call last)",
      "\u001b[1;32m/home/harold/epfl/chem-ml-repr/code/dataset.ipynb Cell 9\u001b[0m in \u001b[0;36m<cell line: 7>\u001b[0;34m()\u001b[0m\n\u001b[1;32m      <a href='vscode-notebook-cell:/home/harold/epfl/chem-ml-repr/code/dataset.ipynb#X11sZmlsZQ%3D%3D?line=3'>4</a>\u001b[0m root\u001b[39m=\u001b[39m \u001b[39m\"\u001b[39m\u001b[39m../data/bace\u001b[39m\u001b[39m\"\u001b[39m\n\u001b[1;32m      <a href='vscode-notebook-cell:/home/harold/epfl/chem-ml-repr/code/dataset.ipynb#X11sZmlsZQ%3D%3D?line=4'>5</a>\u001b[0m get_ipython()\u001b[39m.\u001b[39msystem(\u001b[39m'\u001b[39m\u001b[39m rm -rf ../data/bace/processed\u001b[39m\u001b[39m'\u001b[39m)\n\u001b[0;32m----> <a href='vscode-notebook-cell:/home/harold/epfl/chem-ml-repr/code/dataset.ipynb#X11sZmlsZQ%3D%3D?line=6'>7</a>\u001b[0m data \u001b[39m=\u001b[39m BaceDataset(root\u001b[39m=\u001b[39;49mroot)\n",
      "File \u001b[0;32m~/epfl/chem-ml-repr/code/datasets.py:138\u001b[0m, in \u001b[0;36mBaceDataset\u001b[0;34m(root, add_hydrogen, seed, begin_index, end_index, regression, transform, pre_transform, pre_filter)\u001b[0m\n\u001b[1;32m    135\u001b[0m     df\u001b[39m.\u001b[39mset_index(\u001b[39m\"\u001b[39m\u001b[39mmol\u001b[39m\u001b[39m\"\u001b[39m, drop\u001b[39m=\u001b[39m\u001b[39mTrue\u001b[39;00m, inplace\u001b[39m=\u001b[39m\u001b[39mTrue\u001b[39;00m)\n\u001b[1;32m    136\u001b[0m     df\u001b[39m.\u001b[39mto_csv(complete_path)            \n\u001b[0;32m--> 138\u001b[0m dataset \u001b[39m=\u001b[39m SmilesDataset(root\u001b[39m=\u001b[39;49mroot, filename\u001b[39m=\u001b[39;49mfilename, add_hydrogen\u001b[39m=\u001b[39;49madd_hydrogen, seed\u001b[39m=\u001b[39;49mseed, begin_index\u001b[39m=\u001b[39;49mbegin_index, end_index\u001b[39m=\u001b[39;49mend_index,\n\u001b[1;32m    139\u001b[0m                      transform\u001b[39m=\u001b[39;49mtransform, pre_transform\u001b[39m=\u001b[39;49mpre_transform, pre_filter\u001b[39m=\u001b[39;49mpre_filter)\n\u001b[1;32m    141\u001b[0m \u001b[39mreturn\u001b[39;00m dataset\n",
      "File \u001b[0;32m~/epfl/chem-ml-repr/code/smiles_dataset.py:62\u001b[0m, in \u001b[0;36mSmilesDataset.__init__\u001b[0;34m(self, root, filename, add_hydrogen, seed, begin_index, end_index, transform, pre_transform, pre_filter)\u001b[0m\n\u001b[1;32m     59\u001b[0m \u001b[39mif\u001b[39;00m add_hydrogen:\n\u001b[1;32m     60\u001b[0m     root \u001b[39m=\u001b[39m \u001b[39mf\u001b[39m\u001b[39m\"\u001b[39m\u001b[39m{\u001b[39;00mroot\u001b[39m}\u001b[39;00m\u001b[39m_hydrogen\u001b[39m\u001b[39m\"\u001b[39m\n\u001b[0;32m---> 62\u001b[0m \u001b[39msuper\u001b[39;49m()\u001b[39m.\u001b[39;49m\u001b[39m__init__\u001b[39;49m(root, transform, pre_transform, pre_filter)\n\u001b[1;32m     64\u001b[0m \u001b[39mself\u001b[39m\u001b[39m.\u001b[39mdata, \u001b[39mself\u001b[39m\u001b[39m.\u001b[39mslices \u001b[39m=\u001b[39m torch\u001b[39m.\u001b[39mload(\u001b[39mself\u001b[39m\u001b[39m.\u001b[39mprocessed_paths[\u001b[39m0\u001b[39m])\n",
      "File \u001b[0;32m~/miniconda3/envs/chem/lib/python3.9/site-packages/torch_geometric/data/in_memory_dataset.py:50\u001b[0m, in \u001b[0;36mInMemoryDataset.__init__\u001b[0;34m(self, root, transform, pre_transform, pre_filter)\u001b[0m\n\u001b[1;32m     46\u001b[0m \u001b[39mdef\u001b[39;00m \u001b[39m__init__\u001b[39m(\u001b[39mself\u001b[39m, root: Optional[\u001b[39mstr\u001b[39m] \u001b[39m=\u001b[39m \u001b[39mNone\u001b[39;00m,\n\u001b[1;32m     47\u001b[0m              transform: Optional[Callable] \u001b[39m=\u001b[39m \u001b[39mNone\u001b[39;00m,\n\u001b[1;32m     48\u001b[0m              pre_transform: Optional[Callable] \u001b[39m=\u001b[39m \u001b[39mNone\u001b[39;00m,\n\u001b[1;32m     49\u001b[0m              pre_filter: Optional[Callable] \u001b[39m=\u001b[39m \u001b[39mNone\u001b[39;00m):\n\u001b[0;32m---> 50\u001b[0m     \u001b[39msuper\u001b[39;49m()\u001b[39m.\u001b[39;49m\u001b[39m__init__\u001b[39;49m(root, transform, pre_transform, pre_filter)\n\u001b[1;32m     51\u001b[0m     \u001b[39mself\u001b[39m\u001b[39m.\u001b[39mdata \u001b[39m=\u001b[39m \u001b[39mNone\u001b[39;00m\n\u001b[1;32m     52\u001b[0m     \u001b[39mself\u001b[39m\u001b[39m.\u001b[39mslices \u001b[39m=\u001b[39m \u001b[39mNone\u001b[39;00m\n",
      "File \u001b[0;32m~/miniconda3/envs/chem/lib/python3.9/site-packages/torch_geometric/data/dataset.py:87\u001b[0m, in \u001b[0;36mDataset.__init__\u001b[0;34m(self, root, transform, pre_transform, pre_filter)\u001b[0m\n\u001b[1;32m     84\u001b[0m     \u001b[39mself\u001b[39m\u001b[39m.\u001b[39m_download()\n\u001b[1;32m     86\u001b[0m \u001b[39mif\u001b[39;00m \u001b[39mself\u001b[39m\u001b[39m.\u001b[39mprocess\u001b[39m.\u001b[39m\u001b[39m__qualname__\u001b[39m\u001b[39m.\u001b[39msplit(\u001b[39m'\u001b[39m\u001b[39m.\u001b[39m\u001b[39m'\u001b[39m)[\u001b[39m0\u001b[39m] \u001b[39m!=\u001b[39m \u001b[39m'\u001b[39m\u001b[39mDataset\u001b[39m\u001b[39m'\u001b[39m:\n\u001b[0;32m---> 87\u001b[0m     \u001b[39mself\u001b[39;49m\u001b[39m.\u001b[39;49m_process()\n",
      "File \u001b[0;32m~/miniconda3/envs/chem/lib/python3.9/site-packages/torch_geometric/data/dataset.py:170\u001b[0m, in \u001b[0;36mDataset._process\u001b[0;34m(self)\u001b[0m\n\u001b[1;32m    167\u001b[0m \u001b[39mprint\u001b[39m(\u001b[39m'\u001b[39m\u001b[39mProcessing...\u001b[39m\u001b[39m'\u001b[39m, file\u001b[39m=\u001b[39msys\u001b[39m.\u001b[39mstderr)\n\u001b[1;32m    169\u001b[0m makedirs(\u001b[39mself\u001b[39m\u001b[39m.\u001b[39mprocessed_dir)\n\u001b[0;32m--> 170\u001b[0m \u001b[39mself\u001b[39;49m\u001b[39m.\u001b[39;49mprocess()\n\u001b[1;32m    172\u001b[0m path \u001b[39m=\u001b[39m osp\u001b[39m.\u001b[39mjoin(\u001b[39mself\u001b[39m\u001b[39m.\u001b[39mprocessed_dir, \u001b[39m'\u001b[39m\u001b[39mpre_transform.pt\u001b[39m\u001b[39m'\u001b[39m)\n\u001b[1;32m    173\u001b[0m torch\u001b[39m.\u001b[39msave(_repr(\u001b[39mself\u001b[39m\u001b[39m.\u001b[39mpre_transform), path)\n",
      "File \u001b[0;32m~/epfl/chem-ml-repr/code/smiles_dataset.py:243\u001b[0m, in \u001b[0;36mSmilesDataset.process\u001b[0;34m(self)\u001b[0m\n\u001b[1;32m    237\u001b[0m     data_list\u001b[39m.\u001b[39mappend(data)\n\u001b[1;32m    240\u001b[0m \u001b[39mprint\u001b[39m(\u001b[39mf\u001b[39m\u001b[39m\"\u001b[39m\u001b[39mNUM MOLECULES SKIPPED \u001b[39m\u001b[39m{\u001b[39;00mfailed_counter\u001b[39m}\u001b[39;00m\u001b[39m, \u001b[39m\u001b[39m{\u001b[39;00mfailed_counter\u001b[39m/\u001b[39m\u001b[39mlen\u001b[39m(smiles)\u001b[39m:\u001b[39;00m\u001b[39m.2f\u001b[39m\u001b[39m}\u001b[39;00m\u001b[39m% of the data\u001b[39m\u001b[39m\"\u001b[39m)\n\u001b[0;32m--> 243\u001b[0m torch\u001b[39m.\u001b[39msave(\u001b[39mself\u001b[39;49m\u001b[39m.\u001b[39;49mcollate(data_list), \u001b[39mself\u001b[39m\u001b[39m.\u001b[39mprocessed_paths[\u001b[39m0\u001b[39m])\n",
      "File \u001b[0;32m~/miniconda3/envs/chem/lib/python3.9/site-packages/torch_geometric/data/in_memory_dataset.py:106\u001b[0m, in \u001b[0;36mInMemoryDataset.collate\u001b[0;34m(data_list)\u001b[0m\n\u001b[1;32m    102\u001b[0m \u001b[39mif\u001b[39;00m \u001b[39mlen\u001b[39m(data_list) \u001b[39m==\u001b[39m \u001b[39m1\u001b[39m:\n\u001b[1;32m    103\u001b[0m     \u001b[39mreturn\u001b[39;00m data_list[\u001b[39m0\u001b[39m], \u001b[39mNone\u001b[39;00m\n\u001b[1;32m    105\u001b[0m data, slices, _ \u001b[39m=\u001b[39m collate(\n\u001b[0;32m--> 106\u001b[0m     data_list[\u001b[39m0\u001b[39;49m]\u001b[39m.\u001b[39m\u001b[39m__class__\u001b[39m,\n\u001b[1;32m    107\u001b[0m     data_list\u001b[39m=\u001b[39mdata_list,\n\u001b[1;32m    108\u001b[0m     increment\u001b[39m=\u001b[39m\u001b[39mFalse\u001b[39;00m,\n\u001b[1;32m    109\u001b[0m     add_batch\u001b[39m=\u001b[39m\u001b[39mFalse\u001b[39;00m,\n\u001b[1;32m    110\u001b[0m )\n\u001b[1;32m    112\u001b[0m \u001b[39mreturn\u001b[39;00m data, slices\n",
      "\u001b[0;31mIndexError\u001b[0m: list index out of range"
     ]
    }
   ],
   "source": [
    "from datasets import BaceDataset\n",
    "\n",
    "\n",
    "root= \"../data/bace\"\n",
    "! rm -rf ../data/bace/processed\n",
    "\n",
    "data = BaceDataset(root=root)"
   ]
  },
  {
   "cell_type": "code",
   "execution_count": 1,
   "metadata": {},
   "outputs": [
    {
     "data": {
      "text/plain": [
       "tensor([[1.0000, 9.1549],\n",
       "        [1.0000, 8.8539],\n",
       "        [1.0000, 8.6990],\n",
       "        ...,\n",
       "        [0.0000, 2.9531],\n",
       "        [0.0000, 2.7333],\n",
       "        [0.0000, 2.5445]], dtype=torch.float64)"
      ]
     },
     "execution_count": 1,
     "metadata": {},
     "output_type": "execute_result"
    }
   ],
   "source": [
    "import pandas as pd\n",
    "import torch\n",
    "\n",
    "\n",
    "%load_ext autoreload\n",
    "%autoreload 2\n",
    "\n",
    "df = pd.read_csv(\"../data/bace/raw/bace.csv\")\n",
    "\n",
    "BACE_REGRESSION_TASKS = \"pIC50\"\n",
    "BACE_CLASSIFICATION_TASKS = \"Class\"\n",
    "\n",
    "df = df[[\"mol\", BACE_CLASSIFICATION_TASKS, BACE_REGRESSION_TASKS]]\n",
    "df.set_index(\"mol\", drop=True, inplace=True)\n",
    "\n",
    "torch.tensor(df.values)"
   ]
  },
  {
   "cell_type": "code",
   "execution_count": 3,
   "metadata": {},
   "outputs": [
    {
     "data": {
      "text/plain": [
       "array([[1.       , 9.1549015],\n",
       "       [1.       , 8.8538723],\n",
       "       [1.       , 8.6989698],\n",
       "       ...,\n",
       "       [0.       , 2.9531147],\n",
       "       [0.       , 2.7332981],\n",
       "       [0.       , 2.5445461]])"
      ]
     },
     "execution_count": 3,
     "metadata": {},
     "output_type": "execute_result"
    }
   ],
   "source": []
  },
  {
   "cell_type": "code",
   "execution_count": 7,
   "metadata": {},
   "outputs": [
    {
     "data": {
      "text/plain": [
       "(array([0, 0, 0, ..., 1, 1, 1]), Int64Index([1, 0], dtype='int64'))"
      ]
     },
     "execution_count": 7,
     "metadata": {},
     "output_type": "execute_result"
    }
   ],
   "source": [
    "df.Class.factorize()"
   ]
  }
 ],
 "metadata": {
  "kernelspec": {
   "display_name": "Python 3 (ipykernel)",
   "language": "python",
   "name": "python3"
  },
  "language_info": {
   "codemirror_mode": {
    "name": "ipython",
    "version": 3
   },
   "file_extension": ".py",
   "mimetype": "text/x-python",
   "name": "python",
   "nbconvert_exporter": "python",
   "pygments_lexer": "ipython3",
   "version": "3.9.13"
  },
  "vscode": {
   "interpreter": {
    "hash": "7714f10ba7f32b0912814c8c283dbc5dfa6a42586c1e0dc83a479c0f665feca8"
   }
  }
 },
 "nbformat": 4,
 "nbformat_minor": 4
}
