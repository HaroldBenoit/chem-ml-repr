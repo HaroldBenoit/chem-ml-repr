{
 "cells": [
  {
   "cell_type": "code",
   "execution_count": 1,
   "metadata": {},
   "outputs": [],
   "source": [
    "\n",
    "%load_ext autoreload\n",
    "%autoreload 2"
   ]
  },
  {
   "cell_type": "code",
   "execution_count": 45,
   "metadata": {},
   "outputs": [],
   "source": [
    "data = QM9(r\"../data/qm9/\")"
   ]
  },
  {
   "cell_type": "code",
   "execution_count": 53,
   "metadata": {},
   "outputs": [],
   "source": [
    "from rdkit import Chem\n",
    "\n",
    "import pandas as pd\n",
    "import numpy as np\n",
    "\n",
    "path = \"qm9_smiles.csv\"\n",
    "\n",
    "suppl = Chem.SmilesMolSupplier(path)\n",
    "\n",
    "df = pd.read_csv(path)\n",
    "\n",
    "df[\"target1\"] = np.random.randn((len(df)))\n",
    "df[\"target2\"] = np.random.randn((len(df)))\n",
    "\n",
    "df.set_index(\"smiles\",inplace=True)\n",
    "\n",
    "df.to_csv(\"qm9_target.csv\")"
   ]
  },
  {
   "cell_type": "markdown",
   "metadata": {},
   "source": [
    "## Testing SmilesDataset"
   ]
  },
  {
   "cell_type": "code",
   "execution_count": 7,
   "metadata": {},
   "outputs": [
    {
     "name": "stderr",
     "output_type": "stream",
     "text": [
      "Global seed set to 42\n",
      "Processing...\n",
      "100%|██████████| 100/100 [00:00<00:00, 105.91it/s]\n",
      "Done!\n",
      "Global seed set to 42\n",
      "Using bfloat16 Automatic Mixed Precision (AMP)\n",
      "GPU available: True (cuda), used: False\n",
      "TPU available: False, using: 0 TPU cores\n",
      "IPU available: False, using: 0 IPUs\n",
      "HPU available: False, using: 0 HPUs\n",
      "/home/harold/miniconda3/envs/chem/lib/python3.9/site-packages/pytorch_lightning/trainer/trainer.py:1764: PossibleUserWarning: GPU available but not used. Set `accelerator` and `devices` using `Trainer(accelerator='gpu', devices=1)`.\n",
      "  rank_zero_warn(\n"
     ]
    }
   ],
   "source": [
    "from smiles_dataset import SmilesDataset\n",
    "from smiles_lightning_data_module import SmilesDataModule\n",
    "from lightning_model import LightningClassicGNN\n",
    "import pytorch_lightning as pl\n",
    "from torch_geometric.transforms import distance\n",
    "from torch_geometric.loader import DataLoader\n",
    "import os\n",
    "import torch\n",
    "# making sure we are as determinstic as possibe\n",
    "torch.use_deterministic_algorithms(True)\n",
    "import numpy\n",
    "import random\n",
    "\n",
    "! rm -rf ../data/test/processed\n",
    "! rm -rf ../data/test_hydrogen/processed\n",
    "\n",
    "\n",
    "seed=42\n",
    "## pytorch lighting takes of seeding everything\n",
    "pl.seed_everything(seed=seed, workers=True)\n",
    "# create from csv a pytorch dataset\n",
    "dataset = SmilesDataset(root=r\"../data/test\", filename=\"qm9_target.csv\", add_hydrogen=True, transform=distance.Distance())\n",
    "# from torch dataset, create lightning data module to make sure training splits are always done the same ways\n",
    "data_module = SmilesDataModule(dataset=dataset, seed=seed)\n",
    "\n",
    "\n",
    "num_node_features = data_module.num_node_features\n",
    "num_edge_features= data_module.num_edge_features\n",
    "\n",
    "gnn_model = LightningClassicGNN(classification=False, output_dim=2, num_node_features=num_node_features, num_edge_features=num_edge_features)\n",
    "\n",
    "num_epochs=1\n",
    "\n",
    "\n",
    "# from pytorch_ligthing import loggers\n",
    "# logger = loggers.WandbLogger()\n",
    "\n",
    "# default root dir is where the logs and weights are logged\n",
    "# useful when debugging is limit_train_batches\n",
    "# by default uses TensorBoardLogger, can be configured \n",
    "# Plugins allows us to connect to arbitrary cluster\n",
    "# can set max_epochs\n",
    "# can use precision to specify number of bit floating points to reduce memory footprint ()\n",
    "# can use accumulate_grad_batches to speed-up training too\n",
    "trainer = pl.Trainer(deterministic=True, auto_lr_find=True, default_root_dir=os.getcwd(), precision=\"bf16\", max_epochs=num_epochs)\n",
    "\n"
   ]
  },
  {
   "cell_type": "code",
   "execution_count": 8,
   "metadata": {},
   "outputs": [
    {
     "name": "stderr",
     "output_type": "stream",
     "text": [
      "/home/harold/miniconda3/envs/chem/lib/python3.9/site-packages/torch_geometric/deprecation.py:12: UserWarning: 'data.DataLoader' is deprecated, use 'loader.DataLoader' instead\n",
      "  warnings.warn(out)\n",
      "/home/harold/miniconda3/envs/chem/lib/python3.9/site-packages/pytorch_lightning/trainer/trainer.py:1892: PossibleUserWarning: The number of training batches (2) is smaller than the logging interval Trainer(log_every_n_steps=50). Set a lower value for log_every_n_steps if you want to see logs for the training epoch.\n",
      "  rank_zero_warn(\n"
     ]
    },
    {
     "data": {
      "application/vnd.jupyter.widget-view+json": {
       "model_id": "dd1495266d09400c84f1593bc4670a59",
       "version_major": 2,
       "version_minor": 0
      },
      "text/plain": [
       "Finding best initial lr:   0%|          | 0/100 [00:00<?, ?it/s]"
      ]
     },
     "metadata": {},
     "output_type": "display_data"
    },
    {
     "name": "stderr",
     "output_type": "stream",
     "text": [
      "`Trainer.fit` stopped: `max_epochs=1` reached.\n",
      "LR finder stopped early after 2 steps due to diverging loss.\n",
      "Failed to compute suggestion for learning rate because there are not enough points. Increase the loop iteration limits or the size of your dataset/dataloader.\n",
      "Restoring states from the checkpoint path at /home/harold/epfl/chem-ml-repr/code/.lr_find_ef32d5bb-2f32-433c-adc9-58cebf7beeee.ckpt\n"
     ]
    },
    {
     "data": {
      "text/plain": [
       "{'lr_find': <pytorch_lightning.tuner.lr_finder._LRFinder at 0x7fcce733e460>}"
      ]
     },
     "execution_count": 8,
     "metadata": {},
     "output_type": "execute_result"
    }
   ],
   "source": [
    "# tune to find the learning rate\n",
    "trainer.tune(gnn_model,datamodule=data_module)"
   ]
  },
  {
   "cell_type": "code",
   "execution_count": 5,
   "metadata": {},
   "outputs": [
    {
     "data": {
      "text/plain": [
       "(5, 5)"
      ]
     },
     "execution_count": 5,
     "metadata": {},
     "output_type": "execute_result"
    }
   ],
   "source": [
    "\n",
    "# we can resume from a checkpoint using trainer.fit(ckpth_path=\"some/path/to/my_checkpoint.ckpt\")\n",
    "trainer.fit(gnn_model, datamodule=data_module)"
   ]
  },
  {
   "cell_type": "code",
   "execution_count": 2,
   "metadata": {},
   "outputs": [
    {
     "name": "stderr",
     "output_type": "stream",
     "text": [
      "Processing...\n",
      "  0%|          | 49/133885 [00:00<16:40, 133.77it/s]\n"
     ]
    },
    {
     "ename": "RuntimeError",
     "evalue": "Class values must be smaller than num_classes.",
     "output_type": "error",
     "traceback": [
      "\u001b[0;31m---------------------------------------------------------------------------\u001b[0m",
      "\u001b[0;31mRuntimeError\u001b[0m                              Traceback (most recent call last)",
      "\u001b[1;32m/home/harold/epfl/chem-ml-repr/code/dataset.ipynb Cell 8\u001b[0m in \u001b[0;36m<cell line: 6>\u001b[0;34m()\u001b[0m\n\u001b[1;32m      <a href='vscode-notebook-cell:/home/harold/epfl/chem-ml-repr/code/dataset.ipynb#X10sZmlsZQ%3D%3D?line=1'>2</a>\u001b[0m \u001b[39mimport\u001b[39;00m \u001b[39mos\u001b[39;00m\n\u001b[1;32m      <a href='vscode-notebook-cell:/home/harold/epfl/chem-ml-repr/code/dataset.ipynb#X10sZmlsZQ%3D%3D?line=3'>4</a>\u001b[0m root\u001b[39m=\u001b[39m \u001b[39m\"\u001b[39m\u001b[39m../data/qm9\u001b[39m\u001b[39m\"\u001b[39m\n\u001b[0;32m----> <a href='vscode-notebook-cell:/home/harold/epfl/chem-ml-repr/code/dataset.ipynb#X10sZmlsZQ%3D%3D?line=5'>6</a>\u001b[0m data \u001b[39m=\u001b[39m QM9Dataset(root\u001b[39m=\u001b[39;49mroot)\n",
      "File \u001b[0;32m~/epfl/chem-ml-repr/code/datasets.py:84\u001b[0m, in \u001b[0;36mQM9Dataset\u001b[0;34m(root, add_hydrogen, seed, transform, pre_transform, pre_filter)\u001b[0m\n\u001b[1;32m     81\u001b[0m     df\u001b[39m.\u001b[39mset_index(\u001b[39m\"\u001b[39m\u001b[39msmiles\u001b[39m\u001b[39m\"\u001b[39m, drop\u001b[39m=\u001b[39m\u001b[39mTrue\u001b[39;00m, inplace\u001b[39m=\u001b[39m\u001b[39mTrue\u001b[39;00m)\n\u001b[1;32m     82\u001b[0m     df\u001b[39m.\u001b[39mto_csv(complete_path)            \n\u001b[0;32m---> 84\u001b[0m \u001b[39mreturn\u001b[39;00m SmilesDataset(root\u001b[39m=\u001b[39;49mroot, filename\u001b[39m=\u001b[39;49mfilename, add_hydrogen\u001b[39m=\u001b[39;49madd_hydrogen, seed\u001b[39m=\u001b[39;49mseed, \n\u001b[1;32m     85\u001b[0m                      transform\u001b[39m=\u001b[39;49mtransform, pre_transform\u001b[39m=\u001b[39;49mpre_transform, pre_filter\u001b[39m=\u001b[39;49mpre_filter)\n",
      "File \u001b[0;32m~/epfl/chem-ml-repr/code/smiles_dataset.py:58\u001b[0m, in \u001b[0;36mSmilesDataset.__init__\u001b[0;34m(self, root, filename, add_hydrogen, seed, transform, pre_transform, pre_filter)\u001b[0m\n\u001b[1;32m     55\u001b[0m \u001b[39mif\u001b[39;00m add_hydrogen:\n\u001b[1;32m     56\u001b[0m     root \u001b[39m=\u001b[39m \u001b[39mf\u001b[39m\u001b[39m\"\u001b[39m\u001b[39m{\u001b[39;00mroot\u001b[39m}\u001b[39;00m\u001b[39m_hydrogen\u001b[39m\u001b[39m\"\u001b[39m\n\u001b[0;32m---> 58\u001b[0m \u001b[39msuper\u001b[39;49m()\u001b[39m.\u001b[39;49m\u001b[39m__init__\u001b[39;49m(root, transform, pre_transform, pre_filter)\n\u001b[1;32m     60\u001b[0m \u001b[39mself\u001b[39m\u001b[39m.\u001b[39mdata, \u001b[39mself\u001b[39m\u001b[39m.\u001b[39mslices \u001b[39m=\u001b[39m torch\u001b[39m.\u001b[39mload(\u001b[39mself\u001b[39m\u001b[39m.\u001b[39mprocessed_paths[\u001b[39m0\u001b[39m])\n",
      "File \u001b[0;32m~/miniconda3/envs/chem/lib/python3.9/site-packages/torch_geometric/data/in_memory_dataset.py:50\u001b[0m, in \u001b[0;36mInMemoryDataset.__init__\u001b[0;34m(self, root, transform, pre_transform, pre_filter)\u001b[0m\n\u001b[1;32m     46\u001b[0m \u001b[39mdef\u001b[39;00m \u001b[39m__init__\u001b[39m(\u001b[39mself\u001b[39m, root: Optional[\u001b[39mstr\u001b[39m] \u001b[39m=\u001b[39m \u001b[39mNone\u001b[39;00m,\n\u001b[1;32m     47\u001b[0m              transform: Optional[Callable] \u001b[39m=\u001b[39m \u001b[39mNone\u001b[39;00m,\n\u001b[1;32m     48\u001b[0m              pre_transform: Optional[Callable] \u001b[39m=\u001b[39m \u001b[39mNone\u001b[39;00m,\n\u001b[1;32m     49\u001b[0m              pre_filter: Optional[Callable] \u001b[39m=\u001b[39m \u001b[39mNone\u001b[39;00m):\n\u001b[0;32m---> 50\u001b[0m     \u001b[39msuper\u001b[39;49m()\u001b[39m.\u001b[39;49m\u001b[39m__init__\u001b[39;49m(root, transform, pre_transform, pre_filter)\n\u001b[1;32m     51\u001b[0m     \u001b[39mself\u001b[39m\u001b[39m.\u001b[39mdata \u001b[39m=\u001b[39m \u001b[39mNone\u001b[39;00m\n\u001b[1;32m     52\u001b[0m     \u001b[39mself\u001b[39m\u001b[39m.\u001b[39mslices \u001b[39m=\u001b[39m \u001b[39mNone\u001b[39;00m\n",
      "File \u001b[0;32m~/miniconda3/envs/chem/lib/python3.9/site-packages/torch_geometric/data/dataset.py:87\u001b[0m, in \u001b[0;36mDataset.__init__\u001b[0;34m(self, root, transform, pre_transform, pre_filter)\u001b[0m\n\u001b[1;32m     84\u001b[0m     \u001b[39mself\u001b[39m\u001b[39m.\u001b[39m_download()\n\u001b[1;32m     86\u001b[0m \u001b[39mif\u001b[39;00m \u001b[39mself\u001b[39m\u001b[39m.\u001b[39mprocess\u001b[39m.\u001b[39m\u001b[39m__qualname__\u001b[39m\u001b[39m.\u001b[39msplit(\u001b[39m'\u001b[39m\u001b[39m.\u001b[39m\u001b[39m'\u001b[39m)[\u001b[39m0\u001b[39m] \u001b[39m!=\u001b[39m \u001b[39m'\u001b[39m\u001b[39mDataset\u001b[39m\u001b[39m'\u001b[39m:\n\u001b[0;32m---> 87\u001b[0m     \u001b[39mself\u001b[39;49m\u001b[39m.\u001b[39;49m_process()\n",
      "File \u001b[0;32m~/miniconda3/envs/chem/lib/python3.9/site-packages/torch_geometric/data/dataset.py:170\u001b[0m, in \u001b[0;36mDataset._process\u001b[0;34m(self)\u001b[0m\n\u001b[1;32m    167\u001b[0m \u001b[39mprint\u001b[39m(\u001b[39m'\u001b[39m\u001b[39mProcessing...\u001b[39m\u001b[39m'\u001b[39m, file\u001b[39m=\u001b[39msys\u001b[39m.\u001b[39mstderr)\n\u001b[1;32m    169\u001b[0m makedirs(\u001b[39mself\u001b[39m\u001b[39m.\u001b[39mprocessed_dir)\n\u001b[0;32m--> 170\u001b[0m \u001b[39mself\u001b[39;49m\u001b[39m.\u001b[39;49mprocess()\n\u001b[1;32m    172\u001b[0m path \u001b[39m=\u001b[39m osp\u001b[39m.\u001b[39mjoin(\u001b[39mself\u001b[39m\u001b[39m.\u001b[39mprocessed_dir, \u001b[39m'\u001b[39m\u001b[39mpre_transform.pt\u001b[39m\u001b[39m'\u001b[39m)\n\u001b[1;32m    173\u001b[0m torch\u001b[39m.\u001b[39msave(_repr(\u001b[39mself\u001b[39m\u001b[39m.\u001b[39mpre_transform), path)\n",
      "File \u001b[0;32m~/epfl/chem-ml-repr/code/smiles_dataset.py:193\u001b[0m, in \u001b[0;36mSmilesDataset.process\u001b[0;34m(self)\u001b[0m\n\u001b[1;32m    191\u001b[0m edge_index \u001b[39m=\u001b[39m torch\u001b[39m.\u001b[39mtensor([first_node_index, second_node_index], dtype\u001b[39m=\u001b[39mtorch\u001b[39m.\u001b[39mlong)\n\u001b[1;32m    192\u001b[0m edge_type \u001b[39m=\u001b[39m torch\u001b[39m.\u001b[39mtensor(edge_type, dtype\u001b[39m=\u001b[39mtorch\u001b[39m.\u001b[39mlong)\n\u001b[0;32m--> 193\u001b[0m edge_attr \u001b[39m=\u001b[39m F\u001b[39m.\u001b[39;49mone_hot(edge_type, num_classes\u001b[39m=\u001b[39;49m\u001b[39mlen\u001b[39;49m(bonds))\u001b[39m.\u001b[39mto(torch\u001b[39m.\u001b[39mfloat)\n\u001b[1;32m    196\u001b[0m \u001b[39m#x1 = F.one_hot(torch.tensor(type_idx), num_classes=len(types))\u001b[39;00m\n\u001b[1;32m    197\u001b[0m \n\u001b[1;32m    198\u001b[0m \u001b[39m# 5. Bundling everything into the Data (graph) type\u001b[39;00m\n\u001b[1;32m    200\u001b[0m x \u001b[39m=\u001b[39m torch\u001b[39m.\u001b[39mtensor([atomic_number, aromatic, sp, sp2, sp3],\n\u001b[1;32m    201\u001b[0m                   dtype\u001b[39m=\u001b[39mtorch\u001b[39m.\u001b[39mfloat)\u001b[39m.\u001b[39mt()\u001b[39m.\u001b[39mcontiguous()\n",
      "\u001b[0;31mRuntimeError\u001b[0m: Class values must be smaller than num_classes."
     ]
    }
   ],
   "source": [
    "from datasets import QM9Dataset\n",
    "import os\n",
    "\n",
    "root= \"../data/qm9\"\n",
    "\n",
    "data = QM9Dataset(root=root)\n"
   ]
  }
 ],
 "metadata": {
  "kernelspec": {
   "display_name": "Python 3 (ipykernel)",
   "language": "python",
   "name": "python3"
  },
  "language_info": {
   "codemirror_mode": {
    "name": "ipython",
    "version": 3
   },
   "file_extension": ".py",
   "mimetype": "text/x-python",
   "name": "python",
   "nbconvert_exporter": "python",
   "pygments_lexer": "ipython3",
   "version": "3.9.13"
  },
  "vscode": {
   "interpreter": {
    "hash": "7714f10ba7f32b0912814c8c283dbc5dfa6a42586c1e0dc83a479c0f665feca8"
   }
  }
 },
 "nbformat": 4,
 "nbformat_minor": 4
}
