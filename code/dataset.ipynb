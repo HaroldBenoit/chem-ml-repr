{
 "cells": [
  {
   "cell_type": "code",
   "execution_count": 1,
   "metadata": {},
   "outputs": [],
   "source": [
    "\n",
    "%load_ext autoreload\n",
    "%autoreload 2"
   ]
  },
  {
   "cell_type": "code",
   "execution_count": 45,
   "metadata": {},
   "outputs": [],
   "source": [
    "data = QM9(r\"../data/qm9/\")"
   ]
  },
  {
   "cell_type": "code",
   "execution_count": 53,
   "metadata": {},
   "outputs": [],
   "source": [
    "from rdkit import Chem\n",
    "\n",
    "import pandas as pd\n",
    "import numpy as np\n",
    "\n",
    "path = \"qm9_smiles.csv\"\n",
    "\n",
    "suppl = Chem.SmilesMolSupplier(path)\n",
    "\n",
    "df = pd.read_csv(path)\n",
    "\n",
    "df[\"target1\"] = np.random.randn((len(df)))\n",
    "df[\"target2\"] = np.random.randn((len(df)))\n",
    "\n",
    "df.set_index(\"smiles\",inplace=True)\n",
    "\n",
    "df.to_csv(\"qm9_target.csv\")"
   ]
  },
  {
   "cell_type": "markdown",
   "metadata": {},
   "source": [
    "## Testing SmilesDataset"
   ]
  },
  {
   "cell_type": "code",
   "execution_count": 7,
   "metadata": {},
   "outputs": [
    {
     "name": "stderr",
     "output_type": "stream",
     "text": [
      "Global seed set to 42\n",
      "Processing...\n",
      "100%|██████████| 100/100 [00:00<00:00, 105.91it/s]\n",
      "Done!\n",
      "Global seed set to 42\n",
      "Using bfloat16 Automatic Mixed Precision (AMP)\n",
      "GPU available: True (cuda), used: False\n",
      "TPU available: False, using: 0 TPU cores\n",
      "IPU available: False, using: 0 IPUs\n",
      "HPU available: False, using: 0 HPUs\n",
      "/home/harold/miniconda3/envs/chem/lib/python3.9/site-packages/pytorch_lightning/trainer/trainer.py:1764: PossibleUserWarning: GPU available but not used. Set `accelerator` and `devices` using `Trainer(accelerator='gpu', devices=1)`.\n",
      "  rank_zero_warn(\n"
     ]
    }
   ],
   "source": [
    "from smiles_dataset import SmilesDataset\n",
    "from smiles_lightning_data_module import SmilesDataModule\n",
    "from lightning_model import LightningClassicGNN\n",
    "import pytorch_lightning as pl\n",
    "from torch_geometric.transforms import distance\n",
    "from torch_geometric.loader import DataLoader\n",
    "import os\n",
    "import torch\n",
    "# making sure we are as determinstic as possibe\n",
    "torch.use_deterministic_algorithms(True)\n",
    "import numpybegin_index:int=0, end_index:int = -1\n",
    "\n",
    "! rm -rf ../data/test/processed\n",
    "! rm -rf ../data/test_hydrogen/processed\n",
    "\n",
    "\n",
    "seed=42\n",
    "## pytorch lighting takes of seeding everything\n",
    "pl.seed_everything(seed=seed, workers=True)\n",
    "# create from csv a pytorch dataset\n",
    "dataset = SmilesDataset(root=r\"../data/test\", filename=\"qm9_target.csv\", add_hydrogen=True, transform=distance.Distance())\n",
    "# from torch dataset, create lightning data module to make sure training splits are always done the same ways\n",
    "data_module = SmilesDataModule(dataset=dataset, seed=seed)\n",
    "\n",
    "\n",
    "num_node_features = data_module.num_node_features\n",
    "num_edge_features= data_module.num_edge_features\n",
    "\n",
    "gnn_model = LightningClassicGNN(classification=False, output_dim=2, num_node_features=num_node_features, num_edge_features=num_edge_features)\n",
    "\n",
    "num_epochs=1\n",
    "\n",
    "\n",
    "# from pytorch_ligthing import loggers\n",
    "# logger = loggers.WandbLogger()\n",
    "\n",
    "# default root dir is where the logs and weights are logged\n",
    "# useful when debugging is limit_train_batches\n",
    "# by default uses TensorBoardLogger, can be configured \n",
    "# Plugins allows us to connect to arbitrary cluster\n",
    "# can set max_epochs\n",
    "# can use precision to specify number of bit floating points to reduce memory footprint ()\n",
    "# can use accumulate_grad_batches to speed-up training too\n",
    "trainer = pl.Trainer(deterministic=True, auto_lr_find=True, default_root_dir=os.getcwd(), precision=\"bf16\", max_epochs=num_epochs)\n",
    "\n"
   ]
  },
  {
   "cell_type": "code",
   "execution_count": 8,
   "metadata": {},
   "outputs": [
    {
     "name": "stderr",
     "output_type": "stream",
     "text": [
      "/home/harold/miniconda3/envs/chem/lib/python3.9/site-packages/torch_geometric/deprecation.py:12: UserWarning: 'data.DataLoader' is deprecated, use 'loader.DataLoader' instead\n",
      "  warnings.warn(out)\n",
      "/home/harold/miniconda3/envs/chem/lib/python3.9/site-packages/pytorch_lightning/trainer/trainer.py:1892: PossibleUserWarning: The number of training batches (2) is smaller than the logging interval Trainer(log_every_n_steps=50). Set a lower value for log_every_n_steps if you want to see logs for the training epoch.\n",
      "  rank_zero_warn(\n"
     ]
    },
    {
     "data": {
      "application/vnd.jupyter.widget-view+json": {
       "model_id": "dd1495266d09400c84f1593bc4670a59",
       "version_major": 2,
       "version_minor": 0
      },
      "text/plain": [
       "Finding best initial lr:   0%|          | 0/100 [00:00<?, ?it/s]"
      ]
     },
     "metadata": {},
     "output_type": "display_data"
    },
    {
     "name": "stderr",
     "output_type": "stream",
     "text": [
      "`Trainer.fit` stopped: `max_epochs=1` reached.\n",
      "LR finder stopped early after 2 steps due to diverging loss.\n",
      "Failed to compute suggestion for learning rate because there are not enough points. Increase the loop iteration limits or the size of your dataset/dataloader.\n",
      "Restoring states from the checkpoint path at /home/harold/epfl/chem-ml-repr/code/.lr_find_ef32d5bb-2f32-433c-adc9-58cebf7beeee.ckpt\n"
     ]
    },
    {
     "data": {
      "text/plain": [
       "{'lr_find': <pytorch_lightning.tuner.lr_finder._LRFinder at 0x7fcce733e460>}"
      ]
     },
     "execution_count": 8,
     "metadata": {},
     "output_type": "execute_result"
    }
   ],
   "source": [
    "# tune to find the learning rate\n",
    "trainer.tune(gnn_model,datamodule=data_module)"
   ]
  },
  {
   "cell_type": "code",
   "execution_count": 5,
   "metadata": {},
   "outputs": [
    {
     "data": {
      "text/plain": [
       "(5, 5)"
      ]
     },
     "execution_count": 5,
     "metadata": {},
     "output_type": "execute_result"
    }
   ],
   "source": [
    "\n",
    "# we can resume from a checkpoint using trainer.fit(ckpth_path=\"some/path/to/my_checkpoint.ckpt\")\n",
    "trainer.fit(gnn_model, datamodule=data_module)"
   ]
  },
  {
   "cell_type": "code",
   "execution_count": 7,
   "metadata": {},
   "outputs": [
    {
     "name": "stderr",
     "output_type": "stream",
     "text": [
      "Processing...\n",
      "100%|██████████| 1000/1000 [00:19<00:00, 51.39it/s]"
     ]
    },
    {
     "name": "stdout",
     "output_type": "stream",
     "text": [
      "NUM MOLECULES SKIPPED 0, 0.00% of the data\n"
     ]
    },
    {
     "name": "stderr",
     "output_type": "stream",
     "text": [
      "\n",
      "Done!\n"
     ]
    }
   ],
   "source": [
    "from datasets import QM9Dataset\n",
    "import os\n",
    "\n",
    "root= \"../data/qm9\"\n",
    "! rm -rf ../data/qm9/processed\n",
    "\n",
    "data = QM9Dataset(root=root, begin_index=100000, end_index=101000)\n"
   ]
  }
 ],
 "metadata": {
  "kernelspec": {
   "display_name": "Python 3 (ipykernel)",
   "language": "python",
   "name": "python3"
  },
  "language_info": {
   "codemirror_mode": {
    "name": "ipython",
    "version": 3
   },
   "file_extension": ".py",
   "mimetype": "text/x-python",
   "name": "python",
   "nbconvert_exporter": "python",
   "pygments_lexer": "ipython3",
   "version": "3.9.13"
  },
  "vscode": {
   "interpreter": {
    "hash": "7714f10ba7f32b0912814c8c283dbc5dfa6a42586c1e0dc83a479c0f665feca8"
   }
  }
 },
 "nbformat": 4,
 "nbformat_minor": 4
}
