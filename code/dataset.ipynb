{
 "cells": [
  {
   "cell_type": "code",
   "execution_count": 1,
   "metadata": {},
   "outputs": [],
   "source": [
    "from qm9 import QM9\n",
    "\n",
    "%load_ext autoreload\n",
    "%autoreload 2"
   ]
  },
  {
   "cell_type": "code",
   "execution_count": 45,
   "metadata": {},
   "outputs": [],
   "source": [
    "data = QM9(r\"../data/qm9/\")"
   ]
  },
  {
   "cell_type": "code",
   "execution_count": 53,
   "metadata": {},
   "outputs": [],
   "source": [
    "from rdkit import Chem\n",
    "\n",
    "import pandas as pd\n",
    "import numpy as np\n",
    "\n",
    "path = \"qm9_smiles.csv\"\n",
    "\n",
    "suppl = Chem.SmilesMolSupplier(path)\n",
    "\n",
    "df = pd.read_csv(path)\n",
    "\n",
    "df[\"target1\"] = np.random.randn((len(df)))\n",
    "df[\"target2\"] = np.random.randn((len(df)))\n",
    "\n",
    "df.set_index(\"smiles\",inplace=True)\n",
    "\n",
    "df.to_csv(\"qm9_target.csv\")"
   ]
  },
  {
   "cell_type": "markdown",
   "metadata": {},
   "source": [
    "## Testing SmilesDataset"
   ]
  },
  {
   "cell_type": "code",
   "execution_count": 26,
   "metadata": {},
   "outputs": [
    {
     "name": "stderr",
     "output_type": "stream",
     "text": [
      "Processing...\n",
      "100%|██████████| 100/100 [00:00<00:00, 248.08it/s]\n",
      "Done!\n"
     ]
    }
   ],
   "source": [
    "from smiles_dataset import SmilesDataset\n",
    "\n",
    "from torch_geometric.transforms import distance\n",
    "\n",
    "! rm -rf ../data/test/processed\n",
    "! rm -rf ../data/test_hydrogen/processed\n",
    "\n",
    "\n",
    "data = SmilesDataset(root=r\"../data/test\", filename=\"qm9_target.csv\", add_hydrogen=True, transform=distance.Distance())"
   ]
  },
  {
   "cell_type": "code",
   "execution_count": 27,
   "metadata": {},
   "outputs": [
    {
     "data": {
      "text/plain": [
       "Data(x=[5, 5], edge_index=[2, 20], edge_attr=[20, 5], y=[1, 2], pos=[5, 3], z=[5], name='C', idx=[1])"
      ]
     },
     "execution_count": 27,
     "metadata": {},
     "output_type": "execute_result"
    }
   ],
   "source": [
    "\n",
    "graph = data[0]\n",
    "\n",
    "graph"
   ]
  }
 ],
 "metadata": {
  "kernelspec": {
   "display_name": "Python 3.9.13 ('chem')",
   "language": "python",
   "name": "python3"
  },
  "language_info": {
   "codemirror_mode": {
    "name": "ipython",
    "version": 3
   },
   "file_extension": ".py",
   "mimetype": "text/x-python",
   "name": "python",
   "nbconvert_exporter": "python",
   "pygments_lexer": "ipython3",
   "version": "3.9.13"
  },
  "orig_nbformat": 4,
  "vscode": {
   "interpreter": {
    "hash": "7714f10ba7f32b0912814c8c283dbc5dfa6a42586c1e0dc83a479c0f665feca8"
   }
  }
 },
 "nbformat": 4,
 "nbformat_minor": 2
}
