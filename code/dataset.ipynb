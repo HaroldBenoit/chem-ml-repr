{
 "cells": [
  {
   "cell_type": "code",
   "execution_count": 1,
   "metadata": {},
   "outputs": [],
   "source": [
    "from qm9 import QM9\n",
    "\n",
    "%load_ext autoreload\n",
    "%autoreload 2"
   ]
  },
  {
   "cell_type": "code",
   "execution_count": 45,
   "metadata": {},
   "outputs": [],
   "source": [
    "data = QM9(r\"../data/qm9/\")"
   ]
  },
  {
   "cell_type": "code",
   "execution_count": 53,
   "metadata": {},
   "outputs": [],
   "source": [
    "from rdkit import Chem\n",
    "\n",
    "import pandas as pd\n",
    "import numpy as np\n",
    "\n",
    "path = \"qm9_smiles.csv\"\n",
    "\n",
    "suppl = Chem.SmilesMolSupplier(path)\n",
    "\n",
    "df = pd.read_csv(path)\n",
    "\n",
    "df[\"target1\"] = np.random.randn((len(df)))\n",
    "df[\"target2\"] = np.random.randn((len(df)))\n",
    "\n",
    "df.set_index(\"smiles\",inplace=True)\n",
    "\n",
    "df.to_csv(\"qm9_target.csv\")"
   ]
  },
  {
   "cell_type": "markdown",
   "metadata": {},
   "source": [
    "## Testing SmilesDataset"
   ]
  },
  {
   "cell_type": "code",
   "execution_count": 34,
   "metadata": {},
   "outputs": [
    {
     "name": "stderr",
     "output_type": "stream",
     "text": [
      "Processing...\n",
      "100%|██████████| 100/100 [00:00<00:00, 232.28it/s]\n",
      "Done!\n"
     ]
    }
   ],
   "source": [
    "from smiles_dataset import SmilesDataset\n",
    "\n",
    "! rm -rf ../data/test/processed\n",
    "data = SmilesDataset(root=r\"../data/test\", filename=\"qm9_target.csv\", add_hydrogen=True)"
   ]
  },
  {
   "cell_type": "code",
   "execution_count": 29,
   "metadata": {},
   "outputs": [
    {
     "name": "stdout",
     "output_type": "stream",
     "text": [
      "Data(x=[5, 5], edge_index=[2, 20], edge_attr=[20, 4], y=[1, 2], pos=[5, 3], z=[5], name='C', idx=[1])\n",
      "Data(x=[4, 5], edge_index=[2, 12], edge_attr=[12, 4], y=[1, 2], pos=[4, 3], z=[4], name='N', idx=[1])\n",
      "Data(x=[3, 5], edge_index=[2, 6], edge_attr=[6, 4], y=[1, 2], pos=[3, 3], z=[3], name='O', idx=[1])\n",
      "Data(x=[4, 5], edge_index=[2, 12], edge_attr=[12, 4], y=[1, 2], pos=[4, 3], z=[4], name='C#C', idx=[1])\n",
      "Data(x=[3, 5], edge_index=[2, 6], edge_attr=[6, 4], y=[1, 2], pos=[3, 3], z=[3], name='C#N', idx=[1])\n",
      "Data(x=[4, 5], edge_index=[2, 12], edge_attr=[12, 4], y=[1, 2], pos=[4, 3], z=[4], name='C=O', idx=[1])\n",
      "Data(x=[8, 5], edge_index=[2, 56], edge_attr=[56, 4], y=[1, 2], pos=[8, 3], z=[8], name='CC', idx=[1])\n",
      "Data(x=[6, 5], edge_index=[2, 30], edge_attr=[30, 4], y=[1, 2], pos=[6, 3], z=[6], name='CO', idx=[1])\n",
      "Data(x=[7, 5], edge_index=[2, 42], edge_attr=[42, 4], y=[1, 2], pos=[7, 3], z=[7], name='CC#C', idx=[1])\n",
      "Data(x=[6, 5], edge_index=[2, 30], edge_attr=[30, 4], y=[1, 2], pos=[6, 3], z=[6], name='CC#N', idx=[1])\n",
      "Data(x=[7, 5], edge_index=[2, 42], edge_attr=[42, 4], y=[1, 2], pos=[7, 3], z=[7], name='CC=O', idx=[1])\n",
      "Data(x=[6, 5], edge_index=[2, 30], edge_attr=[30, 4], y=[1, 2], pos=[6, 3], z=[6], name='C(=O)N', idx=[1])\n",
      "Data(x=[11, 5], edge_index=[2, 110], edge_attr=[110, 4], y=[1, 2], pos=[11, 3], z=[11], name='CCC', idx=[1])\n",
      "Data(x=[9, 5], edge_index=[2, 72], edge_attr=[72, 4], y=[1, 2], pos=[9, 3], z=[9], name='CCO', idx=[1])\n",
      "Data(x=[9, 5], edge_index=[2, 72], edge_attr=[72, 4], y=[1, 2], pos=[9, 3], z=[9], name='COC', idx=[1])\n",
      "Data(x=[9, 5], edge_index=[2, 72], edge_attr=[72, 4], y=[1, 2], pos=[9, 3], z=[9], name='C1CC1', idx=[1])\n",
      "Data(x=[7, 5], edge_index=[2, 42], edge_attr=[42, 4], y=[1, 2], pos=[7, 3], z=[7], name='C1CO1', idx=[1])\n",
      "Data(x=[10, 5], edge_index=[2, 90], edge_attr=[90, 4], y=[1, 2], pos=[10, 3], z=[10], name='CC(=O)C', idx=[1])\n",
      "Data(x=[9, 5], edge_index=[2, 72], edge_attr=[72, 4], y=[1, 2], pos=[9, 3], z=[9], name='CC(=O)N', idx=[1])\n",
      "Data(x=[8, 5], edge_index=[2, 56], edge_attr=[56, 4], y=[1, 2], pos=[8, 3], z=[8], name='C(=O)(N)N', idx=[1])\n",
      "Data(x=[14, 5], edge_index=[2, 182], edge_attr=[182, 4], y=[1, 2], pos=[14, 3], z=[14], name='CC(C)C', idx=[1])\n",
      "Data(x=[12, 5], edge_index=[2, 132], edge_attr=[132, 4], y=[1, 2], pos=[12, 3], z=[12], name='CC(C)O', idx=[1])\n",
      "Data(x=[6, 5], edge_index=[2, 30], edge_attr=[30, 4], y=[1, 2], pos=[6, 3], z=[6], name='C#CC#C', idx=[1])\n",
      "Data(x=[5, 5], edge_index=[2, 20], edge_attr=[20, 4], y=[1, 2], pos=[5, 3], z=[5], name='C#CC#N', idx=[1])\n",
      "Data(x=[4, 5], edge_index=[2, 12], edge_attr=[12, 4], y=[1, 2], pos=[4, 3], z=[4], name='C(#N)C#N', idx=[1])\n",
      "Data(x=[6, 5], edge_index=[2, 30], edge_attr=[30, 4], y=[1, 2], pos=[6, 3], z=[6], name='C#CC=O', idx=[1])\n",
      "Data(x=[5, 5], edge_index=[2, 20], edge_attr=[20, 4], y=[1, 2], pos=[5, 3], z=[5], name='C(=O)C#N', idx=[1])\n",
      "Data(x=[6, 5], edge_index=[2, 30], edge_attr=[30, 4], y=[1, 2], pos=[6, 3], z=[6], name='C(=O)C=O', idx=[1])\n",
      "Data(x=[10, 5], edge_index=[2, 90], edge_attr=[90, 4], y=[1, 2], pos=[10, 3], z=[10], name='CC#CC', idx=[1])\n",
      "Data(x=[10, 5], edge_index=[2, 90], edge_attr=[90, 4], y=[1, 2], pos=[10, 3], z=[10], name='CCC#C', idx=[1])\n",
      "Data(x=[9, 5], edge_index=[2, 72], edge_attr=[72, 4], y=[1, 2], pos=[9, 3], z=[9], name='CCC#N', idx=[1])\n",
      "Data(x=[8, 5], edge_index=[2, 56], edge_attr=[56, 4], y=[1, 2], pos=[8, 3], z=[8], name='C(C#N)N', idx=[1])\n",
      "Data(x=[8, 5], edge_index=[2, 56], edge_attr=[56, 4], y=[1, 2], pos=[8, 3], z=[8], name='C#CCO', idx=[1])\n",
      "Data(x=[7, 5], edge_index=[2, 42], edge_attr=[42, 4], y=[1, 2], pos=[7, 3], z=[7], name='C(C#N)O', idx=[1])\n",
      "Data(x=[10, 5], edge_index=[2, 90], edge_attr=[90, 4], y=[1, 2], pos=[10, 3], z=[10], name='CCC=O', idx=[1])\n",
      "Data(x=[9, 5], edge_index=[2, 72], edge_attr=[72, 4], y=[1, 2], pos=[9, 3], z=[9], name='CNC=O', idx=[1])\n",
      "Data(x=[8, 5], edge_index=[2, 56], edge_attr=[56, 4], y=[1, 2], pos=[8, 3], z=[8], name='COC=O', idx=[1])\n",
      "Data(x=[8, 5], edge_index=[2, 56], edge_attr=[56, 4], y=[1, 2], pos=[8, 3], z=[8], name='C(C=O)O', idx=[1])\n",
      "Data(x=[14, 5], edge_index=[2, 182], edge_attr=[182, 4], y=[1, 2], pos=[14, 3], z=[14], name='CCCC', idx=[1])\n",
      "Data(x=[12, 5], edge_index=[2, 132], edge_attr=[132, 4], y=[1, 2], pos=[12, 3], z=[12], name='CCCO', idx=[1])\n",
      "Data(x=[12, 5], edge_index=[2, 132], edge_attr=[132, 4], y=[1, 2], pos=[12, 3], z=[12], name='CCOC', idx=[1])\n",
      "Data(x=[10, 5], edge_index=[2, 90], edge_attr=[90, 4], y=[1, 2], pos=[10, 3], z=[10], name='C(CO)O', idx=[1])\n",
      "Data(x=[12, 5], edge_index=[2, 132], edge_attr=[132, 4], y=[1, 2], pos=[12, 3], z=[12], name='CC1CC1', idx=[1])\n",
      "Data(x=[10, 5], edge_index=[2, 90], edge_attr=[90, 4], y=[1, 2], pos=[10, 3], z=[10], name='CC1CO1', idx=[1])\n",
      "Data(x=[11, 5], edge_index=[2, 110], edge_attr=[110, 4], y=[1, 2], pos=[11, 3], z=[11], name='CN1CC1', idx=[1])\n",
      "Data(x=[10, 5], edge_index=[2, 90], edge_attr=[90, 4], y=[1, 2], pos=[10, 3], z=[10], name='C1CC1O', idx=[1])\n",
      "Data(x=[12, 5], edge_index=[2, 132], edge_attr=[132, 4], y=[1, 2], pos=[12, 3], z=[12], name='C1CCC1', idx=[1])\n",
      "Data(x=[10, 5], edge_index=[2, 90], edge_attr=[90, 4], y=[1, 2], pos=[10, 3], z=[10], name='C1COC1', idx=[1])\n",
      "Data(x=[12, 5], edge_index=[2, 132], edge_attr=[132, 4], y=[1, 2], pos=[12, 3], z=[12], name='CC(=NO)C', idx=[1])\n",
      "Data(x=[10, 5], edge_index=[2, 90], edge_attr=[90, 4], y=[1, 2], pos=[10, 3], z=[10], name='c1cc[nH]c1', idx=[1])\n",
      "Data(x=[9, 5], edge_index=[2, 72], edge_attr=[72, 4], y=[1, 2], pos=[9, 3], z=[9], name='c1cnc[nH]1', idx=[1])\n",
      "Data(x=[9, 5], edge_index=[2, 72], edge_attr=[72, 4], y=[1, 2], pos=[9, 3], z=[9], name='c1ccoc1', idx=[1])\n",
      "Data(x=[8, 5], edge_index=[2, 56], edge_attr=[56, 4], y=[1, 2], pos=[8, 3], z=[8], name='c1cocn1', idx=[1])\n",
      "Data(x=[17, 5], edge_index=[2, 272], edge_attr=[272, 4], y=[1, 2], pos=[17, 3], z=[17], name='CC(C)(C)C', idx=[1])\n",
      "Data(x=[15, 5], edge_index=[2, 210], edge_attr=[210, 4], y=[1, 2], pos=[15, 3], z=[15], name='CC(C)(C)O', idx=[1])\n",
      "Data(x=[9, 5], edge_index=[2, 72], edge_attr=[72, 4], y=[1, 2], pos=[9, 3], z=[9], name='CC(=O)C#C', idx=[1])\n",
      "Data(x=[8, 5], edge_index=[2, 56], edge_attr=[56, 4], y=[1, 2], pos=[8, 3], z=[8], name='CC(=O)C#N', idx=[1])\n",
      "Data(x=[8, 5], edge_index=[2, 56], edge_attr=[56, 4], y=[1, 2], pos=[8, 3], z=[8], name='C(#N)C(=N)N', idx=[1])\n",
      "Data(x=[8, 5], edge_index=[2, 56], edge_attr=[56, 4], y=[1, 2], pos=[8, 3], z=[8], name='C#CC(=O)N', idx=[1])\n",
      "Data(x=[9, 5], edge_index=[2, 72], edge_attr=[72, 4], y=[1, 2], pos=[9, 3], z=[9], name='CC(=O)C=O', idx=[1])\n",
      "Data(x=[9, 5], edge_index=[2, 72], edge_attr=[72, 4], y=[1, 2], pos=[9, 3], z=[9], name='C(=O)C(=N)N', idx=[1])\n",
      "Data(x=[8, 5], edge_index=[2, 56], edge_attr=[56, 4], y=[1, 2], pos=[8, 3], z=[8], name='C(=O)C(=O)N', idx=[1])\n",
      "Data(x=[13, 5], edge_index=[2, 156], edge_attr=[156, 4], y=[1, 2], pos=[13, 3], z=[13], name='CC(C)C#C', idx=[1])\n",
      "Data(x=[12, 5], edge_index=[2, 132], edge_attr=[132, 4], y=[1, 2], pos=[12, 3], z=[12], name='CC(C)C#N', idx=[1])\n",
      "Data(x=[11, 5], edge_index=[2, 110], edge_attr=[110, 4], y=[1, 2], pos=[11, 3], z=[11], name='CC(N)C#N', idx=[1])\n",
      "Data(x=[11, 5], edge_index=[2, 110], edge_attr=[110, 4], y=[1, 2], pos=[11, 3], z=[11], name='CC(O)C#C', idx=[1])\n",
      "Data(x=[10, 5], edge_index=[2, 90], edge_attr=[90, 4], y=[1, 2], pos=[10, 3], z=[10], name='CC(O)C#N', idx=[1])\n",
      "Data(x=[13, 5], edge_index=[2, 156], edge_attr=[156, 4], y=[1, 2], pos=[13, 3], z=[13], name='CC(C)C=O', idx=[1])\n",
      "Data(x=[11, 5], edge_index=[2, 110], edge_attr=[110, 4], y=[1, 2], pos=[11, 3], z=[11], name='CC(O)C=O', idx=[1])\n",
      "Data(x=[12, 5], edge_index=[2, 132], edge_attr=[132, 4], y=[1, 2], pos=[12, 3], z=[12], name='CN(C)C=O', idx=[1])\n",
      "Data(x=[11, 5], edge_index=[2, 110], edge_attr=[110, 4], y=[1, 2], pos=[11, 3], z=[11], name='CC(=O)CO', idx=[1])\n",
      "Data(x=[13, 5], edge_index=[2, 156], edge_attr=[156, 4], y=[1, 2], pos=[13, 3], z=[13], name='CCC(=O)C', idx=[1])\n",
      "Data(x=[12, 5], edge_index=[2, 132], edge_attr=[132, 4], y=[1, 2], pos=[12, 3], z=[12], name='CCC(=O)N', idx=[1])\n",
      "Data(x=[12, 5], edge_index=[2, 132], edge_attr=[132, 4], y=[1, 2], pos=[12, 3], z=[12], name='CC(=O)NC', idx=[1])\n",
      "Data(x=[11, 5], edge_index=[2, 110], edge_attr=[110, 4], y=[1, 2], pos=[11, 3], z=[11], name='CNC(=O)N', idx=[1])\n",
      "Data(x=[12, 5], edge_index=[2, 132], edge_attr=[132, 4], y=[1, 2], pos=[12, 3], z=[12], name='COC(C)=N', idx=[1])\n",
      "Data(x=[11, 5], edge_index=[2, 110], edge_attr=[110, 4], y=[1, 2], pos=[11, 3], z=[11], name='CC(=O)OC', idx=[1])\n",
      "Data(x=[10, 5], edge_index=[2, 90], edge_attr=[90, 4], y=[1, 2], pos=[10, 3], z=[10], name='COC(=O)N', idx=[1])\n",
      "Data(x=[10, 5], edge_index=[2, 90], edge_attr=[90, 4], y=[1, 2], pos=[10, 3], z=[10], name='C(C(=O)N)O', idx=[1])\n",
      "Data(x=[10, 5], edge_index=[2, 90], edge_attr=[90, 4], y=[1, 2], pos=[10, 3], z=[10], name='[NH3+]CC([O-])=O', idx=[1])\n",
      "Data(x=[15, 5], edge_index=[2, 210], edge_attr=[210, 4], y=[1, 2], pos=[15, 3], z=[15], name='CC(C)CO', idx=[1])\n",
      "Data(x=[13, 5], edge_index=[2, 156], edge_attr=[156, 4], y=[1, 2], pos=[13, 3], z=[13], name='CC(O)CO', idx=[1])\n",
      "Data(x=[17, 5], edge_index=[2, 272], edge_attr=[272, 4], y=[1, 2], pos=[17, 3], z=[17], name='CCC(C)C', idx=[1])\n",
      "Data(x=[15, 5], edge_index=[2, 210], edge_attr=[210, 4], y=[1, 2], pos=[15, 3], z=[15], name='CCC(C)O', idx=[1])\n",
      "Data(x=[15, 5], edge_index=[2, 210], edge_attr=[210, 4], y=[1, 2], pos=[15, 3], z=[15], name='CC(C)OC', idx=[1])\n",
      "Data(x=[15, 5], edge_index=[2, 210], edge_attr=[210, 4], y=[1, 2], pos=[15, 3], z=[15], name='CC1(CC1)C', idx=[1])\n",
      "Data(x=[13, 5], edge_index=[2, 156], edge_attr=[156, 4], y=[1, 2], pos=[13, 3], z=[13], name='CC1(CO1)C', idx=[1])\n",
      "Data(x=[13, 5], edge_index=[2, 156], edge_attr=[156, 4], y=[1, 2], pos=[13, 3], z=[13], name='CC1(CC1)O', idx=[1])\n",
      "Data(x=[10, 5], edge_index=[2, 90], edge_attr=[90, 4], y=[1, 2], pos=[10, 3], z=[10], name='N=C1CCO1', idx=[1])\n",
      "Data(x=[11, 5], edge_index=[2, 110], edge_attr=[110, 4], y=[1, 2], pos=[11, 3], z=[11], name='C1CC(=O)C1', idx=[1])\n",
      "Data(x=[10, 5], edge_index=[2, 90], edge_attr=[90, 4], y=[1, 2], pos=[10, 3], z=[10], name='C1CNC1=O', idx=[1])\n",
      "Data(x=[9, 5], edge_index=[2, 72], edge_attr=[72, 4], y=[1, 2], pos=[9, 3], z=[9], name='C1COC1=O', idx=[1])\n",
      "Data(x=[10, 5], edge_index=[2, 90], edge_attr=[90, 4], y=[1, 2], pos=[10, 3], z=[10], name='C1C(=O)CN1', idx=[1])\n",
      "Data(x=[9, 5], edge_index=[2, 72], edge_attr=[72, 4], y=[1, 2], pos=[9, 3], z=[9], name='C1C(=O)CO1', idx=[1])\n",
      "Data(x=[15, 5], edge_index=[2, 210], edge_attr=[210, 4], y=[1, 2], pos=[15, 3], z=[15], name='CC1CCC1', idx=[1])\n",
      "Data(x=[13, 5], edge_index=[2, 156], edge_attr=[156, 4], y=[1, 2], pos=[13, 3], z=[13], name='CC1CCO1', idx=[1])\n",
      "Data(x=[13, 5], edge_index=[2, 156], edge_attr=[156, 4], y=[1, 2], pos=[13, 3], z=[13], name='CC1COC1', idx=[1])\n",
      "Data(x=[13, 5], edge_index=[2, 156], edge_attr=[156, 4], y=[1, 2], pos=[13, 3], z=[13], name='C1CC(C1)O', idx=[1])\n",
      "Data(x=[11, 5], edge_index=[2, 110], edge_attr=[110, 4], y=[1, 2], pos=[11, 3], z=[11], name='C1C(CO1)O', idx=[1])\n",
      "Data(x=[15, 5], edge_index=[2, 210], edge_attr=[210, 4], y=[1, 2], pos=[15, 3], z=[15], name='CC1CC1C', idx=[1])\n"
     ]
    }
   ],
   "source": [
    "for graph in data:\n",
    "    \n",
    "    print(graph)"
   ]
  }
 ],
 "metadata": {
  "kernelspec": {
   "display_name": "Python 3.9.13 ('chem')",
   "language": "python",
   "name": "python3"
  },
  "language_info": {
   "codemirror_mode": {
    "name": "ipython",
    "version": 3
   },
   "file_extension": ".py",
   "mimetype": "text/x-python",
   "name": "python",
   "nbconvert_exporter": "python",
   "pygments_lexer": "ipython3",
   "version": "3.9.13"
  },
  "orig_nbformat": 4,
  "vscode": {
   "interpreter": {
    "hash": "7714f10ba7f32b0912814c8c283dbc5dfa6a42586c1e0dc83a479c0f665feca8"
   }
  }
 },
 "nbformat": 4,
 "nbformat_minor": 2
}
