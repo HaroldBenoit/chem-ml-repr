{
 "cells": [
  {
   "cell_type": "code",
   "execution_count": 1,
   "metadata": {},
   "outputs": [],
   "source": [
    "import json\n",
    "import gzip\n",
    "\n",
    "from utils import download_url\n",
    "\n",
    "#raw_url= \"https://ml.materialsproject.org/projects/matbench_mp_is_metal.json.gz\"\n",
    "#raw_dir= \"../data/matbench/mp_is_metal\"\n",
    "#download_url(raw_url, raw_dir)\n",
    "\n",
    "\n",
    "json_filename = \"../data/matbench/mp_is_metal/matbench_mp_is_metal.json.gz\"\n",
    "\n",
    "\n",
    "with gzip.open(json_filename, 'r') as fin:        # 4. gzip\n",
    "    json_bytes = fin.read()                      # 3. bytes (i.e. UTF-8)\n",
    "\n",
    "json_str = json_bytes.decode('utf-8')            # 2. string (i.e. JSON)\n",
    "data = json.loads(json_str) \n",
    "\n",
    "\n",
    "from pymatgen.core.structure import Structure\n",
    "\n",
    "\n",
    "struct= Structure.from_dict(data[\"data\"][0][0])"
   ]
  },
  {
   "cell_type": "code",
   "execution_count": 18,
   "metadata": {},
   "outputs": [
    {
     "data": {
      "text/html": [
       "<div>\n",
       "<style scoped>\n",
       "    .dataframe tbody tr th:only-of-type {\n",
       "        vertical-align: middle;\n",
       "    }\n",
       "\n",
       "    .dataframe tbody tr th {\n",
       "        vertical-align: top;\n",
       "    }\n",
       "\n",
       "    .dataframe thead th {\n",
       "        text-align: right;\n",
       "    }\n",
       "</style>\n",
       "<table border=\"1\" class=\"dataframe\">\n",
       "  <thead>\n",
       "    <tr style=\"text-align: right;\">\n",
       "      <th></th>\n",
       "      <th>Species</th>\n",
       "      <th>a</th>\n",
       "      <th>b</th>\n",
       "      <th>c</th>\n",
       "      <th>x</th>\n",
       "      <th>y</th>\n",
       "      <th>z</th>\n",
       "      <th>magmom</th>\n",
       "    </tr>\n",
       "  </thead>\n",
       "  <tbody>\n",
       "    <tr>\n",
       "      <th>0</th>\n",
       "      <td>(K)</td>\n",
       "      <td>0.000888</td>\n",
       "      <td>0.002582</td>\n",
       "      <td>0.005358</td>\n",
       "      <td>-0.008126</td>\n",
       "      <td>0.024760</td>\n",
       "      <td>-0.016981</td>\n",
       "      <td>-0.005</td>\n",
       "    </tr>\n",
       "    <tr>\n",
       "      <th>1</th>\n",
       "      <td>(K)</td>\n",
       "      <td>0.504645</td>\n",
       "      <td>0.002727</td>\n",
       "      <td>0.005671</td>\n",
       "      <td>-0.771076</td>\n",
       "      <td>-2.736649</td>\n",
       "      <td>-1.500623</td>\n",
       "      <td>-0.005</td>\n",
       "    </tr>\n",
       "    <tr>\n",
       "      <th>2</th>\n",
       "      <td>(K)</td>\n",
       "      <td>0.496497</td>\n",
       "      <td>0.498521</td>\n",
       "      <td>0.493328</td>\n",
       "      <td>-2.859789</td>\n",
       "      <td>0.002464</td>\n",
       "      <td>-2.016825</td>\n",
       "      <td>-0.005</td>\n",
       "    </tr>\n",
       "    <tr>\n",
       "      <th>3</th>\n",
       "      <td>(K)</td>\n",
       "      <td>0.496657</td>\n",
       "      <td>0.994989</td>\n",
       "      <td>0.493552</td>\n",
       "      <td>-5.684794</td>\n",
       "      <td>-0.001713</td>\n",
       "      <td>-0.557008</td>\n",
       "      <td>-0.005</td>\n",
       "    </tr>\n",
       "    <tr>\n",
       "      <th>4</th>\n",
       "      <td>(Mn)</td>\n",
       "      <td>0.993288</td>\n",
       "      <td>0.493319</td>\n",
       "      <td>0.986797</td>\n",
       "      <td>-2.853450</td>\n",
       "      <td>0.008701</td>\n",
       "      <td>-5.517640</td>\n",
       "      <td>4.039</td>\n",
       "    </tr>\n",
       "    <tr>\n",
       "      <th>5</th>\n",
       "      <td>(Mn)</td>\n",
       "      <td>0.005896</td>\n",
       "      <td>0.005967</td>\n",
       "      <td>0.512019</td>\n",
       "      <td>0.713301</td>\n",
       "      <td>2.801394</td>\n",
       "      <td>-2.099078</td>\n",
       "      <td>4.039</td>\n",
       "    </tr>\n",
       "    <tr>\n",
       "      <th>6</th>\n",
       "      <td>(Mn)</td>\n",
       "      <td>0.005704</td>\n",
       "      <td>0.505997</td>\n",
       "      <td>0.511635</td>\n",
       "      <td>-2.132331</td>\n",
       "      <td>2.795754</td>\n",
       "      <td>-0.625252</td>\n",
       "      <td>4.039</td>\n",
       "    </tr>\n",
       "    <tr>\n",
       "      <th>7</th>\n",
       "      <td>(Mn)</td>\n",
       "      <td>0.493721</td>\n",
       "      <td>0.493503</td>\n",
       "      <td>0.987141</td>\n",
       "      <td>-2.097738</td>\n",
       "      <td>2.750766</td>\n",
       "      <td>-4.048060</td>\n",
       "      <td>4.039</td>\n",
       "    </tr>\n",
       "    <tr>\n",
       "      <th>8</th>\n",
       "      <td>(O)</td>\n",
       "      <td>0.190852</td>\n",
       "      <td>0.749673</td>\n",
       "      <td>0.499250</td>\n",
       "      <td>-3.817505</td>\n",
       "      <td>1.709431</td>\n",
       "      <td>-0.402260</td>\n",
       "      <td>-0.097</td>\n",
       "    </tr>\n",
       "    <tr>\n",
       "      <th>9</th>\n",
       "      <td>(O)</td>\n",
       "      <td>0.749870</td>\n",
       "      <td>0.691083</td>\n",
       "      <td>0.999719</td>\n",
       "      <td>-3.591226</td>\n",
       "      <td>1.413578</td>\n",
       "      <td>-4.272077</td>\n",
       "      <td>-0.097</td>\n",
       "    </tr>\n",
       "    <tr>\n",
       "      <th>10</th>\n",
       "      <td>(O)</td>\n",
       "      <td>0.750076</td>\n",
       "      <td>0.308682</td>\n",
       "      <td>0.000128</td>\n",
       "      <td>-2.891795</td>\n",
       "      <td>-4.116333</td>\n",
       "      <td>-1.299824</td>\n",
       "      <td>-0.097</td>\n",
       "    </tr>\n",
       "    <tr>\n",
       "      <th>11</th>\n",
       "      <td>(O)</td>\n",
       "      <td>0.807914</td>\n",
       "      <td>0.749345</td>\n",
       "      <td>0.498618</td>\n",
       "      <td>-4.750687</td>\n",
       "      <td>-1.678695</td>\n",
       "      <td>-2.216928</td>\n",
       "      <td>-0.097</td>\n",
       "    </tr>\n",
       "    <tr>\n",
       "      <th>12</th>\n",
       "      <td>(O)</td>\n",
       "      <td>0.241545</td>\n",
       "      <td>0.298978</td>\n",
       "      <td>0.983090</td>\n",
       "      <td>-0.615057</td>\n",
       "      <td>4.113322</td>\n",
       "      <td>-3.861708</td>\n",
       "      <td>-0.073</td>\n",
       "    </tr>\n",
       "    <tr>\n",
       "      <th>13</th>\n",
       "      <td>(O)</td>\n",
       "      <td>0.815297</td>\n",
       "      <td>0.257926</td>\n",
       "      <td>0.515695</td>\n",
       "      <td>-1.940284</td>\n",
       "      <td>-1.620187</td>\n",
       "      <td>-3.755014</td>\n",
       "      <td>-0.073</td>\n",
       "    </tr>\n",
       "    <tr>\n",
       "      <th>14</th>\n",
       "      <td>(O)</td>\n",
       "      <td>0.200020</td>\n",
       "      <td>0.257714</td>\n",
       "      <td>0.515284</td>\n",
       "      <td>-1.008274</td>\n",
       "      <td>1.752378</td>\n",
       "      <td>-1.942917</td>\n",
       "      <td>-0.074</td>\n",
       "    </tr>\n",
       "    <tr>\n",
       "      <th>15</th>\n",
       "      <td>(O)</td>\n",
       "      <td>0.241818</td>\n",
       "      <td>0.684193</td>\n",
       "      <td>0.983662</td>\n",
       "      <td>-2.806644</td>\n",
       "      <td>4.111468</td>\n",
       "      <td>-2.731093</td>\n",
       "      <td>-0.074</td>\n",
       "    </tr>\n",
       "  </tbody>\n",
       "</table>\n",
       "</div>"
      ],
      "text/plain": [
       "   Species         a         b         c         x         y         z  magmom\n",
       "0      (K)  0.000888  0.002582  0.005358 -0.008126  0.024760 -0.016981  -0.005\n",
       "1      (K)  0.504645  0.002727  0.005671 -0.771076 -2.736649 -1.500623  -0.005\n",
       "2      (K)  0.496497  0.498521  0.493328 -2.859789  0.002464 -2.016825  -0.005\n",
       "3      (K)  0.496657  0.994989  0.493552 -5.684794 -0.001713 -0.557008  -0.005\n",
       "4     (Mn)  0.993288  0.493319  0.986797 -2.853450  0.008701 -5.517640   4.039\n",
       "5     (Mn)  0.005896  0.005967  0.512019  0.713301  2.801394 -2.099078   4.039\n",
       "6     (Mn)  0.005704  0.505997  0.511635 -2.132331  2.795754 -0.625252   4.039\n",
       "7     (Mn)  0.493721  0.493503  0.987141 -2.097738  2.750766 -4.048060   4.039\n",
       "8      (O)  0.190852  0.749673  0.499250 -3.817505  1.709431 -0.402260  -0.097\n",
       "9      (O)  0.749870  0.691083  0.999719 -3.591226  1.413578 -4.272077  -0.097\n",
       "10     (O)  0.750076  0.308682  0.000128 -2.891795 -4.116333 -1.299824  -0.097\n",
       "11     (O)  0.807914  0.749345  0.498618 -4.750687 -1.678695 -2.216928  -0.097\n",
       "12     (O)  0.241545  0.298978  0.983090 -0.615057  4.113322 -3.861708  -0.073\n",
       "13     (O)  0.815297  0.257926  0.515695 -1.940284 -1.620187 -3.755014  -0.073\n",
       "14     (O)  0.200020  0.257714  0.515284 -1.008274  1.752378 -1.942917  -0.074\n",
       "15     (O)  0.241818  0.684193  0.983662 -2.806644  4.111468 -2.731093  -0.074"
      ]
     },
     "execution_count": 18,
     "metadata": {},
     "output_type": "execute_result"
    }
   ],
   "source": [
    "struct.atomic_numbers, struct.get_space_group_info(), struct.charge, struct.density, struct.distance_matrix\n",
    "\n",
    "struct.as_dataframe()"
   ]
  },
  {
   "cell_type": "markdown",
   "metadata": {},
   "source": [
    "## Matminer"
   ]
  },
  {
   "cell_type": "code",
   "execution_count": 13,
   "metadata": {},
   "outputs": [],
   "source": [
    "\n",
    "\n",
    "%matplotlib inline\n",
    "from matplotlib import pyplot as plt\n",
    "from matminer.datasets import load_dataset\n",
    "from matminer.featurizers.base import MultipleFeaturizer\n",
    "from matminer.featurizers.composition import ElementProperty, Stoichiometry, ValenceOrbital, IonProperty\n",
    "from matminer.featurizers.structure import (SiteStatsFingerprint, StructuralHeterogeneity,\n",
    "                                            ChemicalOrdering, StructureComposition, MaximumPackingEfficiency)\n",
    "from matminer.featurizers.conversions import DictToObject\n",
    "from sklearn.ensemble import RandomForestRegressor\n",
    "from sklearn.model_selection import ShuffleSplit, train_test_split\n",
    "from sklearn.pipeline import Pipeline\n",
    "from sklearn.impute import SimpleImputer\n",
    "from scipy import stats\n",
    "from tqdm import tqdm_notebook as tqdm\n",
    "import numpy as np\n",
    "import pandas as pd"
   ]
  },
  {
   "cell_type": "code",
   "execution_count": 3,
   "metadata": {},
   "outputs": [],
   "source": [
    "\n",
    "\n",
    "featurizer = MultipleFeaturizer([\n",
    "    SiteStatsFingerprint.from_preset(\"CoordinationNumber_ward-prb-2017\"),\n",
    "    StructuralHeterogeneity(),\n",
    "    ChemicalOrdering(),\n",
    "    MaximumPackingEfficiency(),\n",
    "    SiteStatsFingerprint.from_preset(\"LocalPropertyDifference_ward-prb-2017\"),\n",
    "    StructureComposition(Stoichiometry()),\n",
    "    StructureComposition(ElementProperty.from_preset(\"magpie\")),\n",
    "    StructureComposition(ValenceOrbital(props=['frac'])),\n",
    "    StructureComposition(IonProperty(fast=True))\n",
    "])"
   ]
  },
  {
   "cell_type": "code",
   "execution_count": 24,
   "metadata": {},
   "outputs": [
    {
     "data": {
      "text/plain": [
       "array([6.27134027e+00, 9.02101351e+00, 2.74967324e+00, 7.37003555e+00,\n",
       "       8.24896244e-01, 6.08243743e-02, 1.12169330e+00, 9.03899528e-01,\n",
       "       8.92173175e-02, 1.35354787e-01, 4.61374697e-02, 1.12876867e-01,\n",
       "       1.34657734e-02, 1.22116296e-01, 7.83641060e-01, 5.43588854e-01,\n",
       "       3.93978380e-01, 3.88073327e-01, 8.85542642e+00, 1.66635663e+01,\n",
       "       7.80813987e+00, 1.27072763e+01, 1.99832453e+00, 3.54000982e+01,\n",
       "       6.77150510e+01, 3.23149528e+01, 5.25897272e+01, 8.59411696e+00,\n",
       "       1.86753168e+01, 3.82305607e+01, 1.95552440e+01, 2.82486915e+01,\n",
       "       4.99774922e+00, 2.52141982e+02, 1.45507306e+03, 1.20293108e+03,\n",
       "       8.22237900e+02, 3.16398075e+02, 8.90544218e+00, 1.20240124e+01,\n",
       "       3.11857019e+00, 1.06438552e+01, 8.69078145e-01, 1.58320941e+00,\n",
       "       1.93937130e+00, 3.56161891e-01, 1.78364106e+00, 1.00149360e-01,\n",
       "       7.26930476e+01, 1.10046674e+02, 3.73536259e+01, 9.30225835e+01,\n",
       "       1.01642668e+01, 1.85424229e+00, 2.09233539e+00, 2.38093106e-01,\n",
       "       2.00399971e+00, 7.48330844e-02, 2.98183783e-02, 8.16428686e-01,\n",
       "       7.86610307e-01, 4.36245075e-01, 2.03157219e-01, 3.16641881e+00,\n",
       "       3.87874259e+00, 7.12323781e-01, 3.56728212e+00, 2.00298719e-01,\n",
       "       1.23131643e-01, 4.99753374e+00, 4.87440210e+00, 2.41437543e+00,\n",
       "       1.29155974e+00, 0.00000000e+00, 0.00000000e+00, 0.00000000e+00,\n",
       "       0.00000000e+00, 0.00000000e+00, 1.14859592e+00, 4.10685653e+00,\n",
       "       2.95826061e+00, 2.66410046e+00, 7.57474147e-01, 2.98183783e-02,\n",
       "       8.16428686e-01, 7.86610307e-01, 4.36245075e-01, 2.03157219e-01,\n",
       "       1.58320941e+00, 1.93937130e+00, 3.56161891e-01, 1.78364106e+00,\n",
       "       1.00149360e-01, 1.23131643e-01, 4.99753374e+00, 4.87440210e+00,\n",
       "       2.41437543e+00, 1.29155974e+00, 0.00000000e+00, 0.00000000e+00,\n",
       "       0.00000000e+00, 0.00000000e+00, 0.00000000e+00, 8.90121161e-01,\n",
       "       3.02848288e+00, 2.13836172e+00, 1.88487033e+00, 5.71778626e-01,\n",
       "       3.20787343e+00, 5.22186286e+01, 4.90107552e+01, 2.85502842e+01,\n",
       "       1.26677717e+01, 0.00000000e+00, 0.00000000e+00, 0.00000000e+00,\n",
       "       0.00000000e+00, 0.00000000e+00, 7.63713398e-06, 3.09967722e-04,\n",
       "       3.02330588e-04, 1.49749555e-04, 8.01078795e-05, 1.72073770e+02,\n",
       "       1.99143378e+02, 2.70696085e+01, 1.88058150e+02, 7.98474104e+00,\n",
       "       3.00000000e+00, 6.12372436e-01, 5.38608673e-01, 5.06099365e-01,\n",
       "       5.01108669e-01, 5.00097571e-01, 8.00000000e+00, 2.50000000e+01,\n",
       "       1.70000000e+01, 1.50000000e+01, 7.00000000e+00, 8.00000000e+00,\n",
       "       3.00000000e+00, 8.70000000e+01, 8.40000000e+01, 5.72500000e+01,\n",
       "       2.97500000e+01, 8.70000000e+01, 1.59994000e+01, 5.49380450e+01,\n",
       "       3.89386450e+01, 3.15087863e+01, 1.55093863e+01, 1.59994000e+01,\n",
       "       5.48000000e+01, 1.51900000e+03, 1.46420000e+03, 4.91282500e+02,\n",
       "       5.13858750e+02, 5.48000000e+01, 1.00000000e+00, 1.60000000e+01,\n",
       "       1.50000000e+01, 1.00000000e+01, 6.00000000e+00, 1.60000000e+01,\n",
       "       2.00000000e+00, 4.00000000e+00, 2.00000000e+00, 3.00000000e+00,\n",
       "       1.00000000e+00, 2.00000000e+00, 6.60000000e+01, 2.03000000e+02,\n",
       "       1.37000000e+02, 1.18500000e+02, 5.25000000e+01, 6.60000000e+01,\n",
       "       8.20000000e-01, 3.44000000e+00, 2.62000000e+00, 2.31250000e+00,\n",
       "       1.12750000e+00, 3.44000000e+00, 1.00000000e+00, 2.00000000e+00,\n",
       "       1.00000000e+00, 1.75000000e+00, 3.75000000e-01, 2.00000000e+00,\n",
       "       0.00000000e+00, 4.00000000e+00, 4.00000000e+00, 2.00000000e+00,\n",
       "       2.00000000e+00, 4.00000000e+00, 0.00000000e+00, 5.00000000e+00,\n",
       "       5.00000000e+00, 1.25000000e+00, 1.87500000e+00, 0.00000000e+00,\n",
       "       0.00000000e+00, 0.00000000e+00, 0.00000000e+00, 0.00000000e+00,\n",
       "       0.00000000e+00, 0.00000000e+00, 1.00000000e+00, 7.00000000e+00,\n",
       "       6.00000000e+00, 5.00000000e+00, 2.00000000e+00, 6.00000000e+00,\n",
       "       0.00000000e+00, 1.00000000e+00, 1.00000000e+00, 2.50000000e-01,\n",
       "       3.75000000e-01, 0.00000000e+00, 0.00000000e+00, 2.00000000e+00,\n",
       "       2.00000000e+00, 1.00000000e+00, 1.00000000e+00, 2.00000000e+00,\n",
       "       0.00000000e+00, 5.00000000e+00, 5.00000000e+00, 1.25000000e+00,\n",
       "       1.87500000e+00, 0.00000000e+00, 0.00000000e+00, 0.00000000e+00,\n",
       "       0.00000000e+00, 0.00000000e+00, 0.00000000e+00, 0.00000000e+00,\n",
       "       1.00000000e+00, 5.00000000e+00, 4.00000000e+00, 2.50000000e+00,\n",
       "       1.25000000e+00, 2.00000000e+00, 9.10500000e+00, 7.31066667e+01,\n",
       "       6.40016667e+01, 2.54510632e+01, 2.38278017e+01, 9.10500000e+00,\n",
       "       0.00000000e+00, 0.00000000e+00, 0.00000000e+00, 0.00000000e+00,\n",
       "       0.00000000e+00, 0.00000000e+00, 0.00000000e+00, 3.10120690e-04,\n",
       "       3.10120690e-04, 7.75301724e-05, 1.16295259e-04, 0.00000000e+00,\n",
       "       1.20000000e+01, 2.29000000e+02, 2.17000000e+02, 1.17500000e+02,\n",
       "       1.05500000e+02, 1.20000000e+01, 3.50000000e-01, 4.00000000e-01,\n",
       "       2.50000000e-01, 0.00000000e+00, 0.00000000e+00, 8.20234131e-01,\n",
       "       1.84148083e-01])"
      ]
     },
     "execution_count": 24,
     "metadata": {},
     "output_type": "execute_result"
    }
   ],
   "source": [
    "X[0,:]"
   ]
  },
  {
   "cell_type": "code",
   "execution_count": 14,
   "metadata": {},
   "outputs": [],
   "source": [
    "## creating small dataframe\n",
    "\n",
    "structures = []\n",
    "target=[]\n",
    "\n",
    "for i in range(10):\n",
    "    structures.append(Structure.from_dict(data[\"data\"][0][0]))\n",
    "    target.append(data[\"data\"][0][1])\n",
    "    \n",
    "df= pd.DataFrame({\"structure\":structures, \"target\":target})"
   ]
  },
  {
   "cell_type": "code",
   "execution_count": 17,
   "metadata": {},
   "outputs": [
    {
     "data": {
      "application/vnd.jupyter.widget-view+json": {
       "model_id": "b41245000f8043ffac9d9bd22d9858fb",
       "version_major": 2,
       "version_minor": 0
      },
      "text/plain": [
       "DictToObject:   0%|          | 0/10 [00:00<?, ?it/s]"
      ]
     },
     "metadata": {},
     "output_type": "display_data"
    }
   ],
   "source": [
    "\n",
    "\n",
    "dto = DictToObject(target_col_id='structure', overwrite_data=True)\n",
    "data = dto.featurize_dataframe(df, 'structure')\n"
   ]
  },
  {
   "cell_type": "code",
   "execution_count": 18,
   "metadata": {},
   "outputs": [
    {
     "name": "stdout",
     "output_type": "stream",
     "text": [
      "Total number of features: 273\n",
      "Number of sites in structure: 16\n",
      "CPU times: user 1.09 s, sys: 7.25 ms, total: 1.1 s\n",
      "Wall time: 1.12 s\n"
     ]
    }
   ],
   "source": [
    "## featurizing one structure\n",
    "\n",
    "%%time\n",
    "print('Total number of features:', len(featurizer.featurize(data['structure'][0])))\n",
    "print('Number of sites in structure:', len(data['structure'][0]))\n"
   ]
  },
  {
   "cell_type": "code",
   "execution_count": 19,
   "metadata": {},
   "outputs": [
    {
     "data": {
      "application/vnd.jupyter.widget-view+json": {
       "model_id": "b32628fd74f84ba18ee61cade4ebd95c",
       "version_major": 2,
       "version_minor": 0
      },
      "text/plain": [
       "MultipleFeaturizer:   0%|          | 0/10 [00:00<?, ?it/s]"
      ]
     },
     "metadata": {},
     "output_type": "display_data"
    },
    {
     "name": "stdout",
     "output_type": "stream",
     "text": [
      "CPU times: user 39.7 ms, sys: 377 ms, total: 417 ms\n",
      "Wall time: 18 s\n"
     ]
    }
   ],
   "source": [
    "\n",
    "\n",
    "%%time\n",
    "X = featurizer.featurize_many(data['structure'], ignore_errors=True)\n"
   ]
  },
  {
   "cell_type": "code",
   "execution_count": 22,
   "metadata": {},
   "outputs": [
    {
     "data": {
      "text/plain": [
       "(10, 273)"
      ]
     },
     "execution_count": 22,
     "metadata": {},
     "output_type": "execute_result"
    }
   ],
   "source": [
    "X = np.array(X)\n",
    "\n",
    "X.shape"
   ]
  },
  {
   "cell_type": "code",
   "execution_count": 23,
   "metadata": {},
   "outputs": [
    {
     "data": {
      "text/plain": [
       "array([[6.27134027, 9.02101351, 2.74967324, ..., 0.        , 0.82023413,\n",
       "        0.18414808],\n",
       "       [6.27134027, 9.02101351, 2.74967324, ..., 0.        , 0.82023413,\n",
       "        0.18414808],\n",
       "       [6.27134027, 9.02101351, 2.74967324, ..., 0.        , 0.82023413,\n",
       "        0.18414808],\n",
       "       ...,\n",
       "       [6.27134027, 9.02101351, 2.74967324, ..., 0.        , 0.82023413,\n",
       "        0.18414808],\n",
       "       [6.27134027, 9.02101351, 2.74967324, ..., 0.        , 0.82023413,\n",
       "        0.18414808],\n",
       "       [6.27134027, 9.02101351, 2.74967324, ..., 0.        , 0.82023413,\n",
       "        0.18414808]])"
      ]
     },
     "execution_count": 23,
     "metadata": {},
     "output_type": "execute_result"
    }
   ],
   "source": [
    "X"
   ]
  }
 ],
 "metadata": {
  "kernelspec": {
   "display_name": "Python 3.9.13 ('chem')",
   "language": "python",
   "name": "python3"
  },
  "language_info": {
   "codemirror_mode": {
    "name": "ipython",
    "version": 3
   },
   "file_extension": ".py",
   "mimetype": "text/x-python",
   "name": "python",
   "nbconvert_exporter": "python",
   "pygments_lexer": "ipython3",
   "version": "3.9.13"
  },
  "orig_nbformat": 4,
  "vscode": {
   "interpreter": {
    "hash": "7714f10ba7f32b0912814c8c283dbc5dfa6a42586c1e0dc83a479c0f665feca8"
   }
  }
 },
 "nbformat": 4,
 "nbformat_minor": 2
}
