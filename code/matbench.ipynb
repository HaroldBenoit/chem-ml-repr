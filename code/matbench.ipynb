{
 "cells": [
  {
   "cell_type": "code",
   "execution_count": 3,
   "metadata": {},
   "outputs": [],
   "source": [
    "import json\n",
    "import gzip\n",
    "\n",
    "from utils import download_url\n",
    "\n",
    "#raw_url= \"https://ml.materialsproject.org/projects/matbench_mp_is_metal.json.gz\"\n",
    "#raw_dir= \"../data/matbench/mp_is_metal\"\n",
    "#download_url(raw_url, raw_dir)\n",
    "\n",
    "\n",
    "json_filename = \"../old_data/matbench/mp_e_form/matbench_mp_e_form.json.gz\"\n",
    "\n",
    "\n",
    "with gzip.open(json_filename, 'r') as fin:        # 4. gzip\n",
    "    json_bytes = fin.read()                      # 3. bytes (i.e. UTF-8)\n",
    "\n",
    "json_str = json_bytes.decode('utf-8')            # 2. string (i.e. JSON)\n",
    "data = json.loads(json_str) \n",
    "\n",
    "\n",
    "from pymatgen.core.structure import Structure\n",
    "\n",
    "\n",
    "struct= Structure.from_dict(data[\"data\"][0][0])"
   ]
  },
  {
   "cell_type": "code",
   "execution_count": 12,
   "metadata": {},
   "outputs": [
    {
     "data": {
      "text/plain": [
       "(array([[ 0.        , 16.31206896,  2.79059969,  7.90673782],\n",
       "        [16.31206896,  0.        , 17.31558908, 20.0536725 ],\n",
       "        [ 2.79059969, 17.31558908,  0.        ,  5.11613813],\n",
       "        [ 7.90673782, 20.0536725 ,  5.11613813,  0.        ]]),\n",
       " array([[0.        , 1.51575597, 0.27272521, 0.77272521],\n",
       "        [1.51575597, 0.        , 1.44027047, 1.43235953],\n",
       "        [0.27272521, 1.44027047, 0.        , 0.5       ],\n",
       "        [0.77272521, 1.43235953, 0.5       , 0.        ]]))"
      ]
     },
     "execution_count": 12,
     "metadata": {},
     "output_type": "execute_result"
    }
   ],
   "source": [
    "struct= Structure.from_dict(data[\"data\"][100][0])\n",
    "\n",
    "\n",
    "from pymatgen.util.coord import all_distances\n",
    "\n",
    "all_distances(struct.cart_coords, struct.cart_coords), all_distances(struct.frac_coords, struct.frac_coords)"
   ]
  },
  {
   "cell_type": "code",
   "execution_count": 5,
   "metadata": {},
   "outputs": [
    {
     "data": {
      "text/plain": [
       "torch.Size([642, 1])"
      ]
     },
     "execution_count": 5,
     "metadata": {},
     "output_type": "execute_result"
    }
   ],
   "source": [
    "import pandas as pd\n",
    "import torch\n",
    "import json\n",
    "import gzip\n",
    "from pymatgen.core.structure import Structure\n",
    "\n",
    "\n",
    "df = pd.read_csv(\"../old_data/freesolv/raw/freesolv.csv.gz\",index_col=0, encoding=\"utf-8\")\n",
    "original_data = df.index\n",
    "target = torch.tensor(df.values)\n",
    "\n",
    "target.shape"
   ]
  },
  {
   "cell_type": "code",
   "execution_count": 3,
   "metadata": {},
   "outputs": [
    {
     "ename": "NameError",
     "evalue": "name 'Structure' is not defined",
     "output_type": "error",
     "traceback": [
      "\u001b[0;31m---------------------------------------------------------------------------\u001b[0m",
      "\u001b[0;31mNameError\u001b[0m                                 Traceback (most recent call last)",
      "\u001b[1;32m/home/harold/epfl/chem-ml-repr/code/matbench.ipynb Cell 3\u001b[0m in \u001b[0;36m<cell line: 8>\u001b[0;34m()\u001b[0m\n\u001b[1;32m      <a href='vscode-notebook-cell:/home/harold/epfl/chem-ml-repr/code/matbench.ipynb#X25sZmlsZQ%3D%3D?line=4'>5</a>\u001b[0m json_str \u001b[39m=\u001b[39m json_bytes\u001b[39m.\u001b[39mdecode(\u001b[39m'\u001b[39m\u001b[39mutf-8\u001b[39m\u001b[39m'\u001b[39m)            \u001b[39m# string (i.e. JSON)\u001b[39;00m\n\u001b[1;32m      <a href='vscode-notebook-cell:/home/harold/epfl/chem-ml-repr/code/matbench.ipynb#X25sZmlsZQ%3D%3D?line=5'>6</a>\u001b[0m data \u001b[39m=\u001b[39m json\u001b[39m.\u001b[39mloads(json_str) \n\u001b[0;32m----> <a href='vscode-notebook-cell:/home/harold/epfl/chem-ml-repr/code/matbench.ipynb#X25sZmlsZQ%3D%3D?line=7'>8</a>\u001b[0m original_data \u001b[39m=\u001b[39m [Structure\u001b[39m.\u001b[39mfrom_dict(data_list[\u001b[39m0\u001b[39m]) \u001b[39mfor\u001b[39;00m data_list \u001b[39min\u001b[39;00m data[\u001b[39m\"\u001b[39m\u001b[39mdata\u001b[39m\u001b[39m\"\u001b[39m]]\n\u001b[1;32m      <a href='vscode-notebook-cell:/home/harold/epfl/chem-ml-repr/code/matbench.ipynb#X25sZmlsZQ%3D%3D?line=8'>9</a>\u001b[0m target \u001b[39m=\u001b[39m torch\u001b[39m.\u001b[39mtensor([data_list[\u001b[39m1\u001b[39m] \u001b[39mfor\u001b[39;00m data_list \u001b[39min\u001b[39;00m data[\u001b[39m\"\u001b[39m\u001b[39mdata\u001b[39m\u001b[39m\"\u001b[39m]])\n",
      "\u001b[1;32m/home/harold/epfl/chem-ml-repr/code/matbench.ipynb Cell 3\u001b[0m in \u001b[0;36m<listcomp>\u001b[0;34m(.0)\u001b[0m\n\u001b[1;32m      <a href='vscode-notebook-cell:/home/harold/epfl/chem-ml-repr/code/matbench.ipynb#X25sZmlsZQ%3D%3D?line=4'>5</a>\u001b[0m json_str \u001b[39m=\u001b[39m json_bytes\u001b[39m.\u001b[39mdecode(\u001b[39m'\u001b[39m\u001b[39mutf-8\u001b[39m\u001b[39m'\u001b[39m)            \u001b[39m# string (i.e. JSON)\u001b[39;00m\n\u001b[1;32m      <a href='vscode-notebook-cell:/home/harold/epfl/chem-ml-repr/code/matbench.ipynb#X25sZmlsZQ%3D%3D?line=5'>6</a>\u001b[0m data \u001b[39m=\u001b[39m json\u001b[39m.\u001b[39mloads(json_str) \n\u001b[0;32m----> <a href='vscode-notebook-cell:/home/harold/epfl/chem-ml-repr/code/matbench.ipynb#X25sZmlsZQ%3D%3D?line=7'>8</a>\u001b[0m original_data \u001b[39m=\u001b[39m [Structure\u001b[39m.\u001b[39mfrom_dict(data_list[\u001b[39m0\u001b[39m]) \u001b[39mfor\u001b[39;00m data_list \u001b[39min\u001b[39;00m data[\u001b[39m\"\u001b[39m\u001b[39mdata\u001b[39m\u001b[39m\"\u001b[39m]]\n\u001b[1;32m      <a href='vscode-notebook-cell:/home/harold/epfl/chem-ml-repr/code/matbench.ipynb#X25sZmlsZQ%3D%3D?line=8'>9</a>\u001b[0m target \u001b[39m=\u001b[39m torch\u001b[39m.\u001b[39mtensor([data_list[\u001b[39m1\u001b[39m] \u001b[39mfor\u001b[39;00m data_list \u001b[39min\u001b[39;00m data[\u001b[39m\"\u001b[39m\u001b[39mdata\u001b[39m\u001b[39m\"\u001b[39m]])\n",
      "\u001b[0;31mNameError\u001b[0m: name 'Structure' is not defined"
     ]
    }
   ],
   "source": [
    "#exppected behaviour when dealing with matbench dataset\n",
    "complete_path = \"../old_data/matbench/mp_is_metal/raw/matbench_mp_is_metal.json.gz\"\n",
    "with gzip.open(complete_path, 'r') as fin:        #  gzip\n",
    "    json_bytes = fin.read()                      #  bytes (i.e. UTF-\n",
    "json_str = json_bytes.decode('utf-8')            # string (i.e. JSON)\n",
    "data = json.loads(json_str) \n",
    "\n",
    "original_data = [Structure.from_dict(data_list[0]) for data_list in data[\"data\"]]\n",
    "target = torch.tensor([data_list[1] for data_list in data[\"data\"]])"
   ]
  },
  {
   "cell_type": "code",
   "execution_count": 6,
   "metadata": {},
   "outputs": [
    {
     "ename": "KeyboardInterrupt",
     "evalue": "",
     "output_type": "error",
     "traceback": [
      "\u001b[0;31m---------------------------------------------------------------------------\u001b[0m",
      "\u001b[0;31mKeyboardInterrupt\u001b[0m                         Traceback (most recent call last)",
      "\u001b[1;32m/home/harold/epfl/chem-ml-repr/code/matbench.ipynb Cell 4\u001b[0m in \u001b[0;36m<cell line: 1>\u001b[0;34m()\u001b[0m\n\u001b[0;32m----> <a href='vscode-notebook-cell:/home/harold/epfl/chem-ml-repr/code/matbench.ipynb#X26sZmlsZQ%3D%3D?line=0'>1</a>\u001b[0m original_data \u001b[39m=\u001b[39m [Structure\u001b[39m.\u001b[39mfrom_dict(data_list[\u001b[39m0\u001b[39m]) \u001b[39mfor\u001b[39;00m data_list \u001b[39min\u001b[39;00m data[\u001b[39m\"\u001b[39m\u001b[39mdata\u001b[39m\u001b[39m\"\u001b[39m]]\n\u001b[1;32m      <a href='vscode-notebook-cell:/home/harold/epfl/chem-ml-repr/code/matbench.ipynb#X26sZmlsZQ%3D%3D?line=1'>2</a>\u001b[0m target \u001b[39m=\u001b[39m torch\u001b[39m.\u001b[39mtensor([data_list[\u001b[39m1\u001b[39m] \u001b[39mfor\u001b[39;00m data_list \u001b[39min\u001b[39;00m data[\u001b[39m\"\u001b[39m\u001b[39mdata\u001b[39m\u001b[39m\"\u001b[39m]])\n",
      "\u001b[1;32m/home/harold/epfl/chem-ml-repr/code/matbench.ipynb Cell 4\u001b[0m in \u001b[0;36m<listcomp>\u001b[0;34m(.0)\u001b[0m\n\u001b[0;32m----> <a href='vscode-notebook-cell:/home/harold/epfl/chem-ml-repr/code/matbench.ipynb#X26sZmlsZQ%3D%3D?line=0'>1</a>\u001b[0m original_data \u001b[39m=\u001b[39m [Structure\u001b[39m.\u001b[39;49mfrom_dict(data_list[\u001b[39m0\u001b[39;49m]) \u001b[39mfor\u001b[39;00m data_list \u001b[39min\u001b[39;00m data[\u001b[39m\"\u001b[39m\u001b[39mdata\u001b[39m\u001b[39m\"\u001b[39m]]\n\u001b[1;32m      <a href='vscode-notebook-cell:/home/harold/epfl/chem-ml-repr/code/matbench.ipynb#X26sZmlsZQ%3D%3D?line=1'>2</a>\u001b[0m target \u001b[39m=\u001b[39m torch\u001b[39m.\u001b[39mtensor([data_list[\u001b[39m1\u001b[39m] \u001b[39mfor\u001b[39;00m data_list \u001b[39min\u001b[39;00m data[\u001b[39m\"\u001b[39m\u001b[39mdata\u001b[39m\u001b[39m\"\u001b[39m]])\n",
      "File \u001b[0;32m~/miniconda3/envs/chem/lib/python3.9/site-packages/pymatgen/core/structure.py:2409\u001b[0m, in \u001b[0;36mIStructure.from_dict\u001b[0;34m(cls, d, fmt)\u001b[0m\n\u001b[1;32m   2406\u001b[0m     \u001b[39mreturn\u001b[39;00m structure_from_abivars(\u001b[39mcls\u001b[39m\u001b[39m=\u001b[39m\u001b[39mcls\u001b[39m, \u001b[39m*\u001b[39m\u001b[39m*\u001b[39md)\n\u001b[1;32m   2408\u001b[0m lattice \u001b[39m=\u001b[39m Lattice\u001b[39m.\u001b[39mfrom_dict(d[\u001b[39m\"\u001b[39m\u001b[39mlattice\u001b[39m\u001b[39m\"\u001b[39m])\n\u001b[0;32m-> 2409\u001b[0m sites \u001b[39m=\u001b[39m [PeriodicSite\u001b[39m.\u001b[39mfrom_dict(sd, lattice) \u001b[39mfor\u001b[39;00m sd \u001b[39min\u001b[39;00m d[\u001b[39m\"\u001b[39m\u001b[39msites\u001b[39m\u001b[39m\"\u001b[39m]]\n\u001b[1;32m   2410\u001b[0m charge \u001b[39m=\u001b[39m d\u001b[39m.\u001b[39mget(\u001b[39m\"\u001b[39m\u001b[39mcharge\u001b[39m\u001b[39m\"\u001b[39m, \u001b[39mNone\u001b[39;00m)\n\u001b[1;32m   2411\u001b[0m \u001b[39mreturn\u001b[39;00m \u001b[39mcls\u001b[39m\u001b[39m.\u001b[39mfrom_sites(sites, charge\u001b[39m=\u001b[39mcharge)\n",
      "File \u001b[0;32m~/miniconda3/envs/chem/lib/python3.9/site-packages/pymatgen/core/structure.py:2409\u001b[0m, in \u001b[0;36m<listcomp>\u001b[0;34m(.0)\u001b[0m\n\u001b[1;32m   2406\u001b[0m     \u001b[39mreturn\u001b[39;00m structure_from_abivars(\u001b[39mcls\u001b[39m\u001b[39m=\u001b[39m\u001b[39mcls\u001b[39m, \u001b[39m*\u001b[39m\u001b[39m*\u001b[39md)\n\u001b[1;32m   2408\u001b[0m lattice \u001b[39m=\u001b[39m Lattice\u001b[39m.\u001b[39mfrom_dict(d[\u001b[39m\"\u001b[39m\u001b[39mlattice\u001b[39m\u001b[39m\"\u001b[39m])\n\u001b[0;32m-> 2409\u001b[0m sites \u001b[39m=\u001b[39m [PeriodicSite\u001b[39m.\u001b[39;49mfrom_dict(sd, lattice) \u001b[39mfor\u001b[39;00m sd \u001b[39min\u001b[39;00m d[\u001b[39m\"\u001b[39m\u001b[39msites\u001b[39m\u001b[39m\"\u001b[39m]]\n\u001b[1;32m   2410\u001b[0m charge \u001b[39m=\u001b[39m d\u001b[39m.\u001b[39mget(\u001b[39m\"\u001b[39m\u001b[39mcharge\u001b[39m\u001b[39m\"\u001b[39m, \u001b[39mNone\u001b[39;00m)\n\u001b[1;32m   2411\u001b[0m \u001b[39mreturn\u001b[39;00m \u001b[39mcls\u001b[39m\u001b[39m.\u001b[39mfrom_sites(sites, charge\u001b[39m=\u001b[39mcharge)\n",
      "File \u001b[0;32m~/miniconda3/envs/chem/lib/python3.9/site-packages/pymatgen/core/sites.py:660\u001b[0m, in \u001b[0;36mPeriodicSite.from_dict\u001b[0;34m(cls, d, lattice)\u001b[0m\n\u001b[1;32m    658\u001b[0m         props[key] \u001b[39m=\u001b[39m json\u001b[39m.\u001b[39mloads(json\u001b[39m.\u001b[39mdumps(props[key], \u001b[39mcls\u001b[39m\u001b[39m=\u001b[39mMontyEncoder), \u001b[39mcls\u001b[39m\u001b[39m=\u001b[39mMontyDecoder)\n\u001b[1;32m    659\u001b[0m lattice \u001b[39m=\u001b[39m lattice \u001b[39mor\u001b[39;00m Lattice\u001b[39m.\u001b[39mfrom_dict(d[\u001b[39m\"\u001b[39m\u001b[39mlattice\u001b[39m\u001b[39m\"\u001b[39m])\n\u001b[0;32m--> 660\u001b[0m \u001b[39mreturn\u001b[39;00m \u001b[39mcls\u001b[39;49m(species, d[\u001b[39m\"\u001b[39;49m\u001b[39mabc\u001b[39;49m\u001b[39m\"\u001b[39;49m], lattice, properties\u001b[39m=\u001b[39;49mprops)\n",
      "File \u001b[0;32m~/miniconda3/envs/chem/lib/python3.9/site-packages/pymatgen/core/sites.py:341\u001b[0m, in \u001b[0;36mPeriodicSite.__init__\u001b[0;34m(self, species, coords, lattice, to_unit_cell, coords_are_cartesian, properties, skip_checks)\u001b[0m\n\u001b[1;32m    338\u001b[0m     frac_coords \u001b[39m=\u001b[39m [np\u001b[39m.\u001b[39mmod(f, \u001b[39m1\u001b[39m) \u001b[39mif\u001b[39;00m p \u001b[39melse\u001b[39;00m f \u001b[39mfor\u001b[39;00m p, f \u001b[39min\u001b[39;00m \u001b[39mzip\u001b[39m(lattice\u001b[39m.\u001b[39mpbc, frac_coords)]\n\u001b[1;32m    340\u001b[0m \u001b[39mif\u001b[39;00m \u001b[39mnot\u001b[39;00m skip_checks:\n\u001b[0;32m--> 341\u001b[0m     frac_coords \u001b[39m=\u001b[39m np\u001b[39m.\u001b[39;49marray(frac_coords)\n\u001b[1;32m    342\u001b[0m     \u001b[39mif\u001b[39;00m \u001b[39mnot\u001b[39;00m \u001b[39misinstance\u001b[39m(species, Composition):\n\u001b[1;32m    343\u001b[0m         \u001b[39mtry\u001b[39;00m:\n",
      "\u001b[0;31mKeyboardInterrupt\u001b[0m: "
     ]
    }
   ],
   "source": [
    "\n",
    "original_data = [Structure.from_dict(data_list[0]) for data_list in data[\"data\"]]\n",
    "target = torch.tensor([data_list[1] for data_list in data[\"data\"]])"
   ]
  },
  {
   "cell_type": "code",
   "execution_count": 13,
   "metadata": {},
   "outputs": [],
   "source": [
    "target = torch.tensor([data_list[1] for data_list in data[\"data\"]]).view(-1,1)"
   ]
  },
  {
   "cell_type": "code",
   "execution_count": 14,
   "metadata": {},
   "outputs": [
    {
     "data": {
      "text/plain": [
       "torch.Size([106113, 1])"
      ]
     },
     "execution_count": 14,
     "metadata": {},
     "output_type": "execute_result"
    }
   ],
   "source": [
    "target.shape"
   ]
  },
  {
   "cell_type": "code",
   "execution_count": null,
   "metadata": {},
   "outputs": [],
   "source": [
    "struct.atomic_numbers, struct.get_space_group_info(), struct.charge, struct.density, struct.distance_matrix\n",
    "\n",
    "struct.as_dataframe()"
   ]
  },
  {
   "cell_type": "markdown",
   "metadata": {},
   "source": [
    "## Matminer"
   ]
  },
  {
   "cell_type": "code",
   "execution_count": null,
   "metadata": {},
   "outputs": [],
   "source": [
    "\n",
    "\n",
    "%matplotlib inline\n",
    "from matplotlib import pyplot as plt\n",
    "from matminer.datasets import load_dataset\n",
    "from matminer.featurizers.base import MultipleFeaturizer\n",
    "from matminer.featurizers.composition import ElementProperty, Stoichiometry, ValenceOrbital, IonProperty\n",
    "from matminer.featurizers.structure import (SiteStatsFingerprint, StructuralHeterogeneity,\n",
    "                                            ChemicalOrdering, StructureComposition, MaximumPackingEfficiency)\n",
    "from matminer.featurizers.conversions import DictToObject\n",
    "from sklearn.ensemble import RandomForestRegressor\n",
    "from sklearn.model_selection import ShuffleSplit, train_test_split\n",
    "from sklearn.pipeline import Pipeline\n",
    "from sklearn.impute import SimpleImputer\n",
    "from scipy import stats\n",
    "from tqdm import tqdm_notebook as tqdm\n",
    "import numpy as np\n",
    "import pandas as pd"
   ]
  },
  {
   "cell_type": "code",
   "execution_count": null,
   "metadata": {},
   "outputs": [],
   "source": [
    "\n",
    "featurizer = MultipleFeaturizer([\n",
    "    SiteStatsFingerprint.from_preset(\"CoordinationNumber_ward-prb-2017\"),\n",
    "    StructuralHeterogeneity(),\n",
    "    ChemicalOrdering(),\n",
    "    MaximumPackingEfficiency(),\n",
    "    SiteStatsFingerprint.from_preset(\"LocalPropertyDifference_ward-prb-2017\"),\n",
    "    StructureComposition(Stoichiometry()),\n",
    "    StructureComposition(ElementProperty.from_preset(\"magpie\")),\n",
    "    StructureComposition(ValenceOrbital(props=['frac'])),\n",
    "    StructureComposition(IonProperty(fast=True))\n",
    "])"
   ]
  },
  {
   "cell_type": "code",
   "execution_count": null,
   "metadata": {},
   "outputs": [],
   "source": []
  },
  {
   "cell_type": "code",
   "execution_count": 41,
   "metadata": {},
   "outputs": [],
   "source": [
    "## creating small dataframe\n",
    "\n",
    "structures = []\n",
    "target=[]\n",
    "\n",
    "for i in range(20):\n",
    "    structures.append(Structure.from_dict(data[\"data\"][i][0]))\n",
    "    target.append(data[\"data\"][i][1])\n",
    "    \n",
    "df= pd.DataFrame({\"structure\":structures, \"target\":target})"
   ]
  },
  {
   "cell_type": "code",
   "execution_count": null,
   "metadata": {},
   "outputs": [],
   "source": [
    "df_features = featurizer.featurize_dataframe(df, col_id='structure')\n",
    "feature_labels = featurizer.feature_labels()"
   ]
  },
  {
   "cell_type": "code",
   "execution_count": null,
   "metadata": {},
   "outputs": [],
   "source": [
    "feature_labels"
   ]
  },
  {
   "cell_type": "code",
   "execution_count": null,
   "metadata": {},
   "outputs": [],
   "source": [
    "\n",
    "\n",
    "dto = DictToObject(target_col_id='structure', overwrite_data=True)\n",
    "data = dto.featurize_dataframe(df, 'structure')\n"
   ]
  },
  {
   "cell_type": "code",
   "execution_count": null,
   "metadata": {},
   "outputs": [],
   "source": [
    "## featurizing one structure\n",
    "\n",
    "%%time\n",
    "print('Total number of features:', len(featurizer.featurize(data['structure'][0])))\n",
    "print('Number of sites in structure:', len(data['structure'][0]))\n"
   ]
  },
  {
   "cell_type": "code",
   "execution_count": null,
   "metadata": {},
   "outputs": [],
   "source": [
    "\n",
    "\n",
    "%%time\n",
    "X = featurizer.featurize_many(data['structure'], ignore_errors=True)\n"
   ]
  },
  {
   "cell_type": "markdown",
   "metadata": {},
   "source": [
    "# Site featurization"
   ]
  },
  {
   "cell_type": "code",
   "execution_count": 26,
   "metadata": {},
   "outputs": [],
   "source": [
    "## site featurization\n",
    "\n",
    "\n",
    "\n",
    "from matminer.featurizers.site import (\n",
    "    AGNIFingerprints,\n",
    "    AverageBondAngle,\n",
    "    AverageBondLength,\n",
    "    BondOrientationalParameter,\n",
    "    ChemEnvSiteFingerprint,\n",
    "    CoordinationNumber,\n",
    "    CrystalNNFingerprint,\n",
    "    GaussianSymmFunc,\n",
    "    GeneralizedRadialDistributionFunction,\n",
    "    LocalPropertyDifference,\n",
    "    OPSiteFingerprint,\n",
    "    VoronoiFingerprint,\n",
    ")\n",
    "\n",
    "from pymatgen.analysis.local_env import VoronoiNN\n",
    "\n",
    "site_featurizers =[\n",
    "                AGNIFingerprints(),\n",
    "#                AverageBondAngle(VoronoiNN()),\n",
    "#                AverageBondLength(VoronoiNN()),\n",
    "#                BondOrientationalParameter(),\n",
    "#                ChemEnvSiteFingerprint.from_preset(\"simple\"),\n",
    "#                CoordinationNumber(),\n",
    "#                CrystalNNFingerprint.from_preset(\"ops\"),\n",
    "#                GaussianSymmFunc(),\n",
    "#                GeneralizedRadialDistributionFunction.from_preset(\"gaussian\"),\n",
    "#                LocalPropertyDifference(),\n",
    "#                OPSiteFingerprint(),\n",
    "#                VoronoiFingerprint(),\n",
    "]\n"
   ]
  },
  {
   "cell_type": "code",
   "execution_count": 27,
   "metadata": {},
   "outputs": [],
   "source": [
    "from typing import Optional,Dict,Tuple\n",
    "\n",
    "def featurize_site(df: pd.DataFrame, site_featurizers, aliases: Optional[Dict[str, str]] = None) -> pd.DataFrame:\n",
    "        \"\"\"Decorate input `pandas.DataFrame` of structures with site\n",
    "        features, specified by the MODFeaturizer preset.\n",
    "        Arguments:\n",
    "            df: the input dataframe with a `\"structure\"` column\n",
    "                containing `pymatgen.Structure` objects.\n",
    "            aliases: optional dictionary to map matminer output column\n",
    "                names to new aliases, mostly used for\n",
    "                backwards-compatibility.\n",
    "        Returns:\n",
    "            pandas.DataFrame: the decorated DataFrame.\n",
    "        \"\"\"\n",
    "\n",
    "        df = df.copy()\n",
    "        df.columns = [\"Input data|\" + x for x in df.columns]\n",
    "        \n",
    "        site_stats: Tuple[str] = (\"mean\", \"std_dev\")\n",
    "\n",
    "        for fingerprint in site_featurizers:\n",
    "            #site_stats_fingerprint = SiteStatsFingerprint(\n",
    "            #    fingerprint, stats= site_stats\n",
    "            #)\n",
    "            \n",
    "            df = fingerprint.featurize_dataframe(\n",
    "                df, \"Input data|structure\", multiindex=False, ignore_errors=True\n",
    "            )\n",
    "\n",
    "            fingerprint_name = fingerprint.__class__.__name__\n",
    "            if aliases:\n",
    "                fingerprint_name = aliases.get(fingerprint_name, fingerprint_name)\n",
    "            if \"|\" not in fingerprint_name:\n",
    "                fingerprint_name += \"|\"\n",
    "            df.columns = [\n",
    "                f\"{fingerprint_name}{x}\" if \"|\" not in x else x for x in df.columns\n",
    "            ]\n",
    "\n",
    "        return df"
   ]
  },
  {
   "cell_type": "code",
   "execution_count": 28,
   "metadata": {},
   "outputs": [
    {
     "data": {
      "application/vnd.jupyter.widget-view+json": {
       "model_id": "7c1155f9583e474f96a4b59a69f9bf9d",
       "version_major": 2,
       "version_minor": 0
      },
      "text/plain": [
       "AGNIFingerprints:   0%|          | 0/10 [00:00<?, ?it/s]"
      ]
     },
     "metadata": {},
     "output_type": "display_data"
    }
   ],
   "source": [
    "site_df = featurize_site(df=df,site_featurizers=site_featurizers)"
   ]
  },
  {
   "cell_type": "code",
   "execution_count": 48,
   "metadata": {},
   "outputs": [
    {
     "data": {
      "text/plain": [
       "['Voro_index_3',\n",
       " 'Voro_index_4',\n",
       " 'Voro_index_5',\n",
       " 'Voro_index_6',\n",
       " 'Voro_index_7',\n",
       " 'Voro_index_8',\n",
       " 'Voro_index_9',\n",
       " 'Voro_index_10',\n",
       " 'Symmetry_index_3',\n",
       " 'Symmetry_index_4',\n",
       " 'Symmetry_index_5',\n",
       " 'Symmetry_index_6',\n",
       " 'Symmetry_index_7',\n",
       " 'Symmetry_index_8',\n",
       " 'Symmetry_index_9',\n",
       " 'Symmetry_index_10',\n",
       " 'Voro_vol_sum',\n",
       " 'Voro_area_sum',\n",
       " 'Voro_vol_mean',\n",
       " 'Voro_vol_std_dev',\n",
       " 'Voro_vol_minimum',\n",
       " 'Voro_vol_maximum',\n",
       " 'Voro_area_mean',\n",
       " 'Voro_area_std_dev',\n",
       " 'Voro_area_minimum',\n",
       " 'Voro_area_maximum',\n",
       " 'Voro_dist_mean',\n",
       " 'Voro_dist_std_dev',\n",
       " 'Voro_dist_minimum',\n",
       " 'Voro_dist_maximum']"
      ]
     },
     "execution_count": 48,
     "metadata": {},
     "output_type": "execute_result"
    }
   ],
   "source": [
    "fingerprint = VoronoiFingerprint()\n",
    "\n",
    "## consistent length 32 feature\n",
    "\n",
    "fingers = []\n",
    "\n",
    "for i in df.index:\n",
    "    struct = df[\"structure\"][i]\n",
    "    for j in range(len(struct)):\n",
    "        finger = fingerprint.featurize(struct=struct, idx=j)\n",
    "        fingers.append(finger)\n",
    "        \n",
    "fingers = np.array(fingers)\n",
    "\n",
    "fingerprint.feature_labels()"
   ]
  },
  {
   "cell_type": "code",
   "execution_count": 61,
   "metadata": {},
   "outputs": [
    {
     "name": "stderr",
     "output_type": "stream",
     "text": [
      "/home/harold/miniconda3/envs/chem/lib/python3.9/site-packages/numpy/lib/function_base.py:2853: RuntimeWarning: invalid value encountered in divide\n",
      "  c /= stddev[:, None]\n",
      "/home/harold/miniconda3/envs/chem/lib/python3.9/site-packages/numpy/lib/function_base.py:2854: RuntimeWarning: invalid value encountered in divide\n",
      "  c /= stddev[None, :]\n"
     ]
    },
    {
     "data": {
      "text/plain": [
       "0.1044766460688916"
      ]
     },
     "execution_count": 61,
     "metadata": {},
     "output_type": "execute_result"
    },
    {
     "data": {
      "image/png": "[encoded data removed]",
      "text/plain": [
       "<Figure size 640x480 with 2 Axes>"
      ]
     },
     "metadata": {},
     "output_type": "display_data"
    }
   ],
   "source": [
    "import seaborn as sns\n",
    "\n",
    "#voronoi features are not too correlated\n",
    "\n",
    "sns.heatmap(np.corrcoef(fingers.T))\n",
    "\n",
    "np.nanmean(np.corrcoef(fingers.T))"
   ]
  }
 ],
 "metadata": {
  "kernelspec": {
   "display_name": "Python 3.9.13 ('chem')",
   "language": "python",
   "name": "python3"
  },
  "language_info": {
   "codemirror_mode": {
    "name": "ipython",
    "version": 3
   },
   "file_extension": ".py",
   "mimetype": "text/x-python",
   "name": "python",
   "nbconvert_exporter": "python",
   "pygments_lexer": "ipython3",
   "version": "3.9.13"
  },
  "orig_nbformat": 4,
  "vscode": {
   "interpreter": {
    "hash": "7714f10ba7f32b0912814c8c283dbc5dfa6a42586c1e0dc83a479c0f665feca8"
   }
  }
 },
 "nbformat": 4,
 "nbformat_minor": 2
}
