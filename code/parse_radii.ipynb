{
 "cells": [
  {
   "cell_type": "code",
   "execution_count": 29,
   "metadata": {},
   "outputs": [],
   "source": [
    "from bs4 import BeautifulSoup\n",
    "import pandas as pd\n",
    "import numpy as np\n",
    "\n",
    "with open(\"atomic_radii.html\") as fp:\n",
    "    soup = BeautifulSoup(fp, \"html.parser\")\n",
    "    column_names= [\"atomic_number\", \"element\", \"single_bond_1\", \"single_bond_2\", \"double_bond\", \"triple_bond\"]\n",
    "    dataframe = {name:[] for name in column_names}\n",
    "    for row in soup.tbody.find_all(\"tr\"):\n",
    "        for i, data in enumerate(row.findAll(\"td\")):\n",
    "            #print(data[\"data-th\"], data.text)\n",
    "            text = data.text\n",
    "            if text == \"-\":\n",
    "                text = np.nan\n",
    "                \n",
    "            dataframe[column_names[i]].append(text)\n",
    "            \n",
    "df = pd.DataFrame(dataframe)\n",
    "dtype={\"atomic_number\":'int32',\n",
    "                                \"element\":str,\n",
    "                                \"single_bond_1\":'Int64',\n",
    "                                \"single_bond_2\":'Int64',\n",
    "                                \"double_bond\":'Int64',\n",
    "                                \"triple_bond\":'Int64'}\n",
    "\n",
    "df = df.astype(dtype)\n",
    "\n",
    "df.to_csv(\"../important_data/atomic_radius.csv\")"
   ]
  },
  {
   "cell_type": "code",
   "execution_count": null,
   "metadata": {},
   "outputs": [],
   "source": [
    "    "
   ]
  }
 ],
 "metadata": {
  "kernelspec": {
   "display_name": "Python 3.9.13 ('chem')",
   "language": "python",
   "name": "python3"
  },
  "language_info": {
   "codemirror_mode": {
    "name": "ipython",
    "version": 3
   },
   "file_extension": ".py",
   "mimetype": "text/x-python",
   "name": "python",
   "nbconvert_exporter": "python",
   "pygments_lexer": "ipython3",
   "version": "3.9.13"
  },
  "orig_nbformat": 4,
  "vscode": {
   "interpreter": {
    "hash": "7714f10ba7f32b0912814c8c283dbc5dfa6a42586c1e0dc83a479c0f665feca8"
   }
  }
 },
 "nbformat": 4,
 "nbformat_minor": 2
}
