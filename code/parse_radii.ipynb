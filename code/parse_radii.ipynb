{
 "cells": [
  {
   "cell_type": "code",
   "execution_count": 62,
   "metadata": {},
   "outputs": [],
   "source": [
    "from bs4 import BeautifulSoup\n",
    "import pandas as pd\n",
    "import numpy as np\n",
    "import torch\n",
    "\n",
    "with open(\"atomic_radii.html\") as fp:\n",
    "    soup = BeautifulSoup(fp, \"html.parser\")\n",
    "    column_names= [\"atomic_number\", \"element\", \"single_bond_1\", \"single_bond_2\", \"double_bond\", \"triple_bond\"]\n",
    "    dataframe = {name:[] for name in column_names}\n",
    "    for row in soup.tbody.find_all(\"tr\"):\n",
    "        for i, data in enumerate(row.findAll(\"td\")):\n",
    "            #print(data[\"data-th\"], data.text)\n",
    "            text = data.text\n",
    "            if text == \"-\":\n",
    "                text = np.nan\n",
    "                \n",
    "            dataframe[column_names[i]].append(text)\n",
    "            \n",
    "df = pd.DataFrame(dataframe)\n",
    "dtype={\"atomic_number\":'int32',\n",
    "                                \"element\":str,\n",
    "                                \"single_bond_1\":'Int64',\n",
    "                                \"single_bond_2\":'Int64',\n",
    "                                \"double_bond\":'Int64',\n",
    "                                \"triple_bond\":'Int64'}\n",
    "\n",
    "df = df.astype(dtype)\n",
    "\n",
    "df.to_csv(\"../important_data/atomic_radius.csv\")\n",
    "\n",
    "## creating the official mapping from atomic to atomic radius, unit is Angstrom\n",
    "atom_number_to_radius=dict(zip(list(df.atomic_number), list(df.single_bond_2/100)))\n",
    "\n",
    "torch.save(atom_number_to_radius, \"../important_data/atom_number_to_radius.pt\")"
   ]
  },
  {
   "cell_type": "code",
   "execution_count": 22,
   "metadata": {},
   "outputs": [
    {
     "name": "stdout",
     "output_type": "stream",
     "text": [
      "The autoreload extension is already loaded. To reload it, use:\n",
      "  %reload_ext autoreload\n"
     ]
    },
    {
     "data": {
      "text/plain": [
       "(Data(x=[20, 5], edge_index=[2, 380], edge_attr=[380, 5], y=[1, 1], pos=[41, 3], z=[20], name='[Cl].CC(C)NCC(O)COc1cccc2ccccc12', idx=[1]),\n",
       " tensor([[1., 0., 0., 0., 0.],\n",
       "         [1., 0., 0., 0., 0.],\n",
       "         [1., 0., 0., 0., 0.],\n",
       "         ...,\n",
       "         [1., 0., 0., 0., 0.],\n",
       "         [1., 0., 0., 0., 0.],\n",
       "         [0., 0., 0., 0., 1.]]))"
      ]
     },
     "execution_count": 22,
     "metadata": {},
     "output_type": "execute_result"
    }
   ],
   "source": [
    "%load_ext autoreload\n",
    "%autoreload 2\n",
    "\n",
    "from torch_geometric.transforms import Compose, distance\n",
    "from datasets_classes import BBBPDataset\n",
    "\n",
    "dataset_dist = BBBPDataset(root=\"../data/bbbp/\")\n",
    "\n",
    "data = dataset_dist[0]\n",
    "\n",
    "data, data.edge_attr"
   ]
  },
  {
   "cell_type": "code",
   "execution_count": 23,
   "metadata": {},
   "outputs": [],
   "source": [
    "from utils import Distance\n",
    "import torch \n",
    "\n",
    "\n",
    "atom_number_to_radius = torch.load(\"../important_data/atom_number_to_radius.pt\")\n",
    "\n",
    "distance = Distance(weighted=False, atom_number_to_radius=atom_number_to_radius)"
   ]
  }
 ],
 "metadata": {
  "kernelspec": {
   "display_name": "Python 3.9.13 ('chem')",
   "language": "python",
   "name": "python3"
  },
  "language_info": {
   "codemirror_mode": {
    "name": "ipython",
    "version": 3
   },
   "file_extension": ".py",
   "mimetype": "text/x-python",
   "name": "python",
   "nbconvert_exporter": "python",
   "pygments_lexer": "ipython3",
   "version": "3.9.13"
  },
  "orig_nbformat": 4,
  "vscode": {
   "interpreter": {
    "hash": "7714f10ba7f32b0912814c8c283dbc5dfa6a42586c1e0dc83a479c0f665feca8"
   }
  }
 },
 "nbformat": 4,
 "nbformat_minor": 2
}
